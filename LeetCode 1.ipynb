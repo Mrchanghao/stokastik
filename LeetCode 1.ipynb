{
 "cells": [
  {
   "cell_type": "code",
   "execution_count": null,
   "metadata": {
    "collapsed": false
   },
   "outputs": [],
   "source": [
    "import heapq, collections, copy, math\n",
    "\n",
    "class Solution(object):\n",
    "    def maxStudents(self, seats):\n",
    "        good_chairs = []\n",
    "        for i in range(len(seats)):\n",
    "            for j in range(len(seats[0])):\n",
    "                if seats[i][j] == '.':\n",
    "                    good_chairs.append((i, j))\n",
    "        \n",
    "        n, m = len(seats), len(seats[0])\n",
    "                        \n",
    "        heap = []\n",
    "        for k in range(len(good_chairs)):\n",
    "            a = collections.deque([])\n",
    "            if good_chairs[k][1]+1 < m and seats[good_chairs[k][0]][good_chairs[k][1]+1] == '.':\n",
    "                a.append((good_chairs[k][0], good_chairs[k][1]+1))\n",
    "                \n",
    "            b = collections.deque([])\n",
    "            if good_chairs[k][0]+1 < n and good_chairs[k][1]-1 >= 0 and seats[good_chairs[k][0]+1][good_chairs[k][1]-1] == '.':\n",
    "                b.append((good_chairs[k][0]+1, good_chairs[k][1]-1))\n",
    "                \n",
    "            if good_chairs[k][0]+1 < n and good_chairs[k][1]+1 < m and seats[good_chairs[k][0]+1][good_chairs[k][1]+1] == '.':\n",
    "                b.append((good_chairs[k][0]+1, good_chairs[k][1]+1))\n",
    "            \n",
    "            heap.append((-1, k, a, b))\n",
    "            \n",
    "        heapq.heapify(heap)\n",
    "        max_cost = 0\n",
    "    \n",
    "        total = n*m\n",
    "        \n",
    "        while len(heap) > 0:\n",
    "            cost, i, col_f, row_f = heapq.heappop(heap)\n",
    "            cost = -cost\n",
    "            \n",
    "            max_cost = max(max_cost, cost)\n",
    "            \n",
    "            rem = total-(m*good_chairs[i][0]+good_chairs[i][1]+1)\n",
    "            \n",
    "            if cost+int(math.ceil(rem/2.0)) > max_cost:\n",
    "                for j in range(i+1, len(good_chairs)):\n",
    "                    q = (good_chairs[j][0], good_chairs[j][1])\n",
    "                    z = m*q[0]+q[1]+1\n",
    "                    \n",
    "                    new_col_f = collections.deque(col_f)\n",
    "                    new_row_f = collections.deque(row_f)\n",
    "                    \n",
    "                    while len(new_col_f) > 0 and z > m*new_col_f[0][0]+new_col_f[0][1]+1:\n",
    "                        new_col_f.popleft()\n",
    "                    \n",
    "                    while len(new_row_f) > 0 and z > m*new_row_f[0][0]+new_row_f[0][1]+1:\n",
    "                        new_row_f.popleft()\n",
    "                    \n",
    "                    if (len(new_col_f) == 0 or new_col_f[0] != q) and (len(new_row_f) == 0 or new_row_f[0] != q):\n",
    "                        if good_chairs[j][1]+1 < m and seats[good_chairs[j][0]][good_chairs[j][1]+1] == '.':\n",
    "                            new_col_f.append((good_chairs[j][0], good_chairs[j][1]+1))\n",
    "                        \n",
    "                        if good_chairs[j][0]+1 < n and good_chairs[j][1]-1 >= 0 and seats[good_chairs[j][0]+1][good_chairs[j][1]-1] == '.':\n",
    "                            new_row_f.append((good_chairs[j][0]+1, good_chairs[j][1]-1))\n",
    "\n",
    "                        if good_chairs[j][0]+1 < n and good_chairs[j][1]+1 < m and seats[good_chairs[j][0]+1][good_chairs[j][1]+1] == '.':\n",
    "                            new_row_f.append((good_chairs[j][0]+1, good_chairs[j][1]+1))\n",
    "                            \n",
    "                        new_cost = cost+1\n",
    "                        heapq.heappush(heap, (-new_cost, j, new_col_f, new_row_f))\n",
    "\n",
    "        return max_cost"
   ]
  },
  {
   "cell_type": "code",
   "execution_count": null,
   "metadata": {
    "collapsed": false
   },
   "outputs": [],
   "source": [
    "sol = Solution()\n",
    "print sol.maxStudents([[\"#\",\"#\",\"#\",\".\",\"#\"],\n",
    " [\".\",\".\",\"#\",\".\",\".\"],\n",
    " [\"#\",\".\",\"#\",\".\",\"#\"],\n",
    " [\".\",\".\",\".\",\".\",\".\"],\n",
    " [\".\",\".\",\".\",\"#\",\".\"]])"
   ]
  },
  {
   "cell_type": "code",
   "execution_count": null,
   "metadata": {
    "collapsed": true
   },
   "outputs": [],
   "source": [
    "class Solution(object):\n",
    "    def bfs(self, adj_map, i, distanceThreshold):\n",
    "        heap = [(0, i)]\n",
    "        cache = {i:0}\n",
    "        out = set()\n",
    "        \n",
    "        while len(heap) > 0:\n",
    "            dist, j = heapq.heappop(heap)\n",
    "            \n",
    "            if 0 < dist <=  distanceThreshold:\n",
    "                out.add(j)\n",
    "            \n",
    "            if j in adj_map:\n",
    "                for x, d in adj_map[j]:\n",
    "                    if x not in cache or cache[x] > d+dist:\n",
    "                        heapq.heappush(heap, (d+dist, x))\n",
    "                        cache[x] = d+dist\n",
    "        return out\n",
    "            \n",
    "    def findTheCity(self, n, edges, distanceThreshold):\n",
    "        adj_map = {}\n",
    "        for x, y, z in edges:\n",
    "            if x not in adj_map:\n",
    "                adj_map[x] = []\n",
    "            adj_map[x].append((y, z))\n",
    "            \n",
    "            if y not in adj_map:\n",
    "                adj_map[y] = []\n",
    "            adj_map[y].append((x, z))\n",
    "        \n",
    "        heap = []\n",
    "        for i in range(n):\n",
    "            out = self.bfs(adj_map, i, distanceThreshold)\n",
    "            heap.append(((len(out), -i), i))\n",
    "        heapq.heapify(heap)\n",
    "        \n",
    "        return heap[0][1]"
   ]
  },
  {
   "cell_type": "code",
   "execution_count": null,
   "metadata": {
    "collapsed": false
   },
   "outputs": [],
   "source": [
    "sol = Solution()\n",
    "sol.findTheCity(4, [[0,1,3],[1,2,1],[1,3,4],[2,3,1]], 4)"
   ]
  },
  {
   "cell_type": "code",
   "execution_count": null,
   "metadata": {
    "collapsed": true
   },
   "outputs": [],
   "source": [
    "def dfs(N, K, cache):\n",
    "    if N == 1:\n",
    "        return 0\n",
    "    \n",
    "    if N > 0:\n",
    "        if N % 2 == 0 and K-1 >= 0:\n",
    "            a = dfs(N/2, K-1, cache) if (N/2, K-1) not in cache else cache[(N/2, K-1)]\n",
    "        else:\n",
    "            a = dfs(N-1, K, cache) if (N-1, K) not in cache else cache[(N-1, K)]\n",
    "        \n",
    "        cache[(N, K)] = 1+a\n",
    "        return 1+a\n",
    "    \n",
    "def solution(N, K):\n",
    "    return dfs(N, K, {})"
   ]
  },
  {
   "cell_type": "code",
   "execution_count": null,
   "metadata": {
    "collapsed": false
   },
   "outputs": [],
   "source": [
    "solution(2147483647, 100)"
   ]
  },
  {
   "cell_type": "code",
   "execution_count": null,
   "metadata": {
    "collapsed": true
   },
   "outputs": [],
   "source": [
    "10\n",
    "1 2 4 5 10\n"
   ]
  },
  {
   "cell_type": "code",
   "execution_count": null,
   "metadata": {
    "collapsed": false
   },
   "outputs": [],
   "source": [
    "import math\n",
    "math.log(2147483647/65535.0)/math.log(2.0)"
   ]
  },
  {
   "cell_type": "code",
   "execution_count": null,
   "metadata": {
    "collapsed": false
   },
   "outputs": [],
   "source": [
    "(134217727-1)/2"
   ]
  },
  {
   "cell_type": "code",
   "execution_count": null,
   "metadata": {
    "collapsed": false
   },
   "outputs": [],
   "source": [
    "2**31"
   ]
  },
  {
   "cell_type": "code",
   "execution_count": null,
   "metadata": {
    "collapsed": false
   },
   "outputs": [],
   "source": [
    "2147483648-2130706432"
   ]
  },
  {
   "cell_type": "code",
   "execution_count": null,
   "metadata": {
    "collapsed": false
   },
   "outputs": [],
   "source": [
    "32768*2-1"
   ]
  },
  {
   "cell_type": "code",
   "execution_count": null,
   "metadata": {
    "collapsed": false
   },
   "outputs": [],
   "source": [
    "1.0/500"
   ]
  },
  {
   "cell_type": "code",
   "execution_count": null,
   "metadata": {
    "collapsed": false
   },
   "outputs": [],
   "source": [
    "(1.0/6)**5*499/500.0"
   ]
  },
  {
   "cell_type": "code",
   "execution_count": null,
   "metadata": {
    "collapsed": false
   },
   "outputs": [],
   "source": [
    "(1.0/500)/(1.0/500+(1.0/6)**5*499/500.0)"
   ]
  },
  {
   "cell_type": "code",
   "execution_count": null,
   "metadata": {
    "collapsed": false
   },
   "outputs": [],
   "source": [
    "105*2.0/9"
   ]
  },
  {
   "cell_type": "code",
   "execution_count": null,
   "metadata": {
    "collapsed": false
   },
   "outputs": [],
   "source": [
    "(30*2+15) + (45*2+15) + (30+45+15)"
   ]
  },
  {
   "cell_type": "code",
   "execution_count": null,
   "metadata": {
    "collapsed": false
   },
   "outputs": [],
   "source": [
    "270*4/27.0"
   ]
  },
  {
   "cell_type": "code",
   "execution_count": null,
   "metadata": {
    "collapsed": false
   },
   "outputs": [],
   "source": [
    "5 + 23.33 + 40 + 50.37 + 55 + 57.5 + "
   ]
  },
  {
   "cell_type": "code",
   "execution_count": null,
   "metadata": {
    "collapsed": false
   },
   "outputs": [],
   "source": [
    "(15+30*3)+(15+45*3)+(15+30*2+45)+(15+45*2+30)"
   ]
  },
  {
   "cell_type": "code",
   "execution_count": null,
   "metadata": {
    "collapsed": false
   },
   "outputs": [],
   "source": [
    "510.0*8/81"
   ]
  },
  {
   "cell_type": "code",
   "execution_count": null,
   "metadata": {
    "collapsed": false
   },
   "outputs": [],
   "source": [
    "30**2+45**2"
   ]
  },
  {
   "cell_type": "code",
   "execution_count": null,
   "metadata": {
    "collapsed": false
   },
   "outputs": [],
   "source": [
    "2*15-7.5"
   ]
  },
  {
   "cell_type": "code",
   "execution_count": null,
   "metadata": {
    "collapsed": false
   },
   "outputs": [],
   "source": [
    "2925/30"
   ]
  },
  {
   "cell_type": "code",
   "execution_count": null,
   "metadata": {
    "collapsed": false
   },
   "outputs": [],
   "source": [
    "2*9*75/15"
   ]
  },
  {
   "cell_type": "code",
   "execution_count": null,
   "metadata": {
    "collapsed": false
   },
   "outputs": [],
   "source": [
    "2*15**3/75.0"
   ]
  },
  {
   "cell_type": "code",
   "execution_count": null,
   "metadata": {
    "collapsed": true
   },
   "outputs": [],
   "source": [
    "import sys  \n",
    "sys.setrecursionlimit(10**9)\n",
    "\n",
    "class Solution(object):\n",
    "    def get_permutations(self, vals, length):\n",
    "        if length == 0 or length > len(vals):\n",
    "            return [[]]\n",
    "        \n",
    "        if length == 1:\n",
    "            out = [[x] for x in vals]\n",
    "            return out\n",
    "        \n",
    "        out = []\n",
    "        \n",
    "        for j in range(len(vals)-length+1):\n",
    "            perms = self.get_permutations(vals[j+1:], length-1)\n",
    "\n",
    "            for x in perms:\n",
    "                for i in range(len(x)+1):\n",
    "                    if i == 0:\n",
    "                        y = [vals[j]] + x[:]\n",
    "                    elif i == len(x):\n",
    "                        y = x[:] + [vals[j]]\n",
    "                    else:\n",
    "                        y = x[:i] + [vals[j]] + x[i:]\n",
    "                    out.append(y)\n",
    "                \n",
    "        return out\n",
    "        \n",
    "    def dfs(self, words, result, i, n, assigned, carry):\n",
    "        if i == -(n+1):\n",
    "            print assigned\n",
    "            if len(result) < -i:\n",
    "                return True\n",
    "            \n",
    "            else:\n",
    "                a = result[i] in assigned and assigned[result[i]] == carry and carry != 0\n",
    "                b = result[i] not in assigned and carry != 0\n",
    "                \n",
    "                if len(result) == n+1 and (a or b):\n",
    "                    assigned[result[i]] = carry\n",
    "                    print assigned\n",
    "                    return True\n",
    "                return False\n",
    "            \n",
    "        chars = set()\n",
    "        char_list  = []\n",
    "        first_chars = set()\n",
    "        for word in words:\n",
    "            if len(word) >= -i:\n",
    "                chars.add(word[i])\n",
    "                char_list.append(word[i])\n",
    "                \n",
    "            if len(word) == -i:\n",
    "                first_chars.add(word[i])\n",
    "        \n",
    "        assigned_vals = set([y for x, y in assigned.items()])\n",
    "        valid_vals = [x for x in range(10) if x not in assigned_vals]\n",
    "        valid_chars = [x for x in chars if x not in assigned]\n",
    "        assigned_chars = [x for x in chars if x in assigned]\n",
    "        \n",
    "        char_pos_map = {x:j for j, x in enumerate(list(chars))}\n",
    "        perms = self.get_permutations(valid_vals, len(valid_chars))\n",
    "        \n",
    "        new_perms = []\n",
    "        for x in perms:\n",
    "            h = x\n",
    "            for y in assigned_chars:\n",
    "                h += [assigned[y]]\n",
    "            new_perms.append(h)\n",
    "        \n",
    "        for x in new_perms:\n",
    "            s = carry\n",
    "            flag = True\n",
    "            \n",
    "            for z in char_list:\n",
    "                u = x[char_pos_map[z]]\n",
    "                s += u\n",
    "                if z in first_chars and u == 0:\n",
    "                    flag = False\n",
    "                    break\n",
    "            \n",
    "            if flag:\n",
    "                s1 = str(s)\n",
    "\n",
    "                new_assigned = dict(assigned)\n",
    "                for j in range(len(x)):\n",
    "                    if j < len(valid_chars):\n",
    "                        new_assigned[valid_chars[j]] = x[j]\n",
    "                    else:\n",
    "                        break\n",
    "\n",
    "                if len(s1) == 1:\n",
    "                    new_carry = 0\n",
    "                    a = result[i] not in new_assigned and int(s1) not in x and int(s1) not in assigned_vals\n",
    "                    b = result[i] in new_assigned and new_assigned[result[i]] == int(s1)\n",
    "\n",
    "                    if a or b:\n",
    "                        new_assigned[result[i]] = int(s1)\n",
    "                        out = self.dfs(words, result, i-1, n, new_assigned, new_carry)\n",
    "                        if out:\n",
    "                            return True\n",
    "                else:\n",
    "                    new_carry = int(s1[0])\n",
    "                    a = result[i] not in new_assigned and int(s1[1]) not in x and int(s1[1]) not in assigned_vals\n",
    "                    b = result[i] in new_assigned and new_assigned[result[i]] == int(s1[1])\n",
    "\n",
    "                    if a or b:\n",
    "                        new_assigned[result[i]] = int(s1[1])\n",
    "                        out = self.dfs(words, result, i-1, n, new_assigned, new_carry)\n",
    "                        if out:\n",
    "                            return True\n",
    "        return False\n",
    "        \n",
    "        \n",
    "    def isSolvable(self, words, result):\n",
    "        word_lens = [len(x) for x in words]\n",
    "        n = max(word_lens)\n",
    "        \n",
    "        return self.dfs(words, result, -1, n, {}, 0)"
   ]
  },
  {
   "cell_type": "code",
   "execution_count": null,
   "metadata": {
    "collapsed": false
   },
   "outputs": [],
   "source": [
    "sol = Solution()\n",
    "sol.isSolvable([\"AA\",\"BB\"], \"AA\")"
   ]
  },
  {
   "cell_type": "code",
   "execution_count": null,
   "metadata": {
    "collapsed": true
   },
   "outputs": [],
   "source": [
    "   DHG\n",
    "   HHD\n",
    "   DEG\n",
    "EHGEEE\n"
   ]
  },
  {
   "cell_type": "code",
   "execution_count": null,
   "metadata": {
    "collapsed": false
   },
   "outputs": [],
   "source": [
    "out = sol.get_permutations(range(10), 5)"
   ]
  },
  {
   "cell_type": "code",
   "execution_count": null,
   "metadata": {
    "collapsed": false
   },
   "outputs": [],
   "source": [
    "import heapq\n",
    "\n",
    "def is_possible(A, K, m):\n",
    "    start, end, cnts = 0, m-1, {}\n",
    "    heap = []\n",
    "    \n",
    "    while end < len(A):\n",
    "        if start == 0:\n",
    "            cnts = {}\n",
    "            for i in range(start, end+1):\n",
    "                if A[i] not in cnts:\n",
    "                    cnts[A[i]] = 0\n",
    "                cnts[A[i]] += 1\n",
    "                \n",
    "            heap = [(-y, x) for x, y in cnts.items()]\n",
    "            heapq.heapify(heap)\n",
    "            \n",
    "        else:\n",
    "            cnts[A[start-1]] -= 1\n",
    "            \n",
    "            if A[end] not in cnts:\n",
    "                cnts[A[end]] = 0\n",
    "            cnts[A[end]] += 1\n",
    "            \n",
    "            if heap[0][1] == A[start-1]:\n",
    "                heapq.heappop(heap)\n",
    "                heapq.heappush(heap, (-cnts[A[start-1]], A[start-1]))\n",
    "                \n",
    "            if heap[0][1] == A[end]:\n",
    "                heapq.heappop(heap)\n",
    "                heapq.heappush(heap, (-cnts[A[end]], A[end]))\n",
    "            \n",
    "        if m+heap[0][0] <= K:\n",
    "            return True\n",
    "        \n",
    "        start += 1\n",
    "        end += 1\n",
    "        \n",
    "    return False\n",
    "\n",
    "def solution(A, K):\n",
    "    left, right = 1, len(A)\n",
    "    last_true = -1\n",
    "    \n",
    "    while left <= right:\n",
    "        mid = int((left+right)/2)\n",
    "        f = is_possible(A, K, mid)\n",
    "        if f:\n",
    "            last_true = mid\n",
    "            left = mid+1\n",
    "        else:\n",
    "            right = mid-1\n",
    "    \n",
    "    return last_true"
   ]
  },
  {
   "cell_type": "code",
   "execution_count": null,
   "metadata": {
    "collapsed": false
   },
   "outputs": [],
   "source": [
    "solution([4, 5, 5, 4, 2, 2, 4], 0)"
   ]
  },
  {
   "cell_type": "code",
   "execution_count": null,
   "metadata": {
    "collapsed": true
   },
   "outputs": [],
   "source": [
    "class Solution(object):\n",
    "    def dfs(self, board, word, i, j, visited, path):\n",
    "        print i, j\n",
    "        if path == word:\n",
    "            return True\n",
    "        \n",
    "        if i+1 < len(board) and (i, j, i+1, j) not in visited:\n",
    "            new_visited = set(visited)\n",
    "            new_visited.add((i, j, i+1, j))\n",
    "            \n",
    "            a = self.dfs(board, word, i+1, j, new_visited, path+board[i+1][j])\n",
    "            if a:\n",
    "                return True\n",
    "        \n",
    "        if i-1 >= 0 and (i, j, i-1, j) not in visited:\n",
    "            new_visited = set(visited)\n",
    "            new_visited.add((i, j, i-1, j))\n",
    "            \n",
    "            a = self.dfs(board, word, i-1, j, new_visited, path+board[i-1][j])\n",
    "            if a:\n",
    "                return True\n",
    "            \n",
    "        if j+1 < len(board[0]) and (i, j, i, j+1) not in visited:\n",
    "            new_visited = set(visited)\n",
    "            new_visited.add((i, j, i, j+1))\n",
    "            \n",
    "            a = self.dfs(board, word, i, j+1, new_visited, path+board[i][j+1])\n",
    "            if a:\n",
    "                return True\n",
    "            \n",
    "        if j-1 >= 0 and (i, j, i, j-1) not in visited:\n",
    "            new_visited = set(visited)\n",
    "            new_visited.add((i, j, i, j-1))\n",
    "            \n",
    "            a = self.dfs(board, word, i, j-1, new_visited, path+board[i][j-1])\n",
    "            if a:\n",
    "                return True\n",
    "        \n",
    "        return False\n",
    "    \n",
    "    def exist(self, board, word):\n",
    "        for i in range(len(board)):\n",
    "            for j in range(len(board[0])):\n",
    "                a = self.dfs(board, word, i, j, set(), board[i][j])\n",
    "                if a:\n",
    "                    return True\n",
    "        return False\n",
    "        "
   ]
  },
  {
   "cell_type": "code",
   "execution_count": null,
   "metadata": {
    "collapsed": false
   },
   "outputs": [],
   "source": [
    "sol = Solution()\n",
    "sol.exist([[\"A\",\"B\",\"C\",\"E\"],\n",
    "           [\"S\",\"F\",\"C\",\"S\"],\n",
    "           [\"A\",\"D\",\"E\",\"E\"]], 'ABCCED')"
   ]
  },
  {
   "cell_type": "code",
   "execution_count": null,
   "metadata": {
    "collapsed": false
   },
   "outputs": [],
   "source": [
    "# you can write to stdout for debugging purposes, e.g.\n",
    "# print(\"this is a debug message\")\n",
    "import heapq, sys\n",
    "sys.setrecursionlimit(10**6)\n",
    "\n",
    "def dfs(A, i, j, n, m, cache):\n",
    "    if (i, j) == (n-1, m-1):\n",
    "        cache[(i, j)] = [A[i][j], n, m]\n",
    "        return [A[i][j], n, m]\n",
    "    \n",
    "    p = A[i+1][j] if i+1 < n else 0\n",
    "    q = A[i][j+1] if j+1 < m else 0\n",
    "    \n",
    "    a, b = [0, n, m], [0, n, m]\n",
    "    \n",
    "    if p == q:\n",
    "        if i+1 < n:\n",
    "            a = dfs(A, i+1, j, n, m, cache) if (i+1, j) not in cache else cache[(i+1, j)]\n",
    "\n",
    "        if j+1 < m:\n",
    "            b = dfs(A, i, j+1, n, m, cache) if (i, j+1) not in cache else cache[(i, j+1)]\n",
    "    \n",
    "    elif p > q:\n",
    "        if i+1 < n:\n",
    "            a = dfs(A, i+1, j, n, m, cache) if (i+1, j) not in cache else cache[(i+1, j)]\n",
    "    \n",
    "    else:\n",
    "        if j+1 < m:\n",
    "            b = dfs(A, i, j+1, n, m, cache) if (i, j+1) not in cache else cache[(i, j+1)]\n",
    "            \n",
    "    if a[0] > b[0]:\n",
    "        cache[(i, j)] = [A[i][j]+a[0], i+1, j]\n",
    "    else:\n",
    "        cache[(i, j)] = [A[i][j]+b[0], i, j+1]\n",
    "        \n",
    "    return cache[(i, j)]\n",
    "\n",
    "def solution(A):\n",
    "    n, m = len(A), len(A[0])\n",
    "    \n",
    "    cache = {}\n",
    "    dfs(A, 0, 0, n, m, cache)\n",
    "    \n",
    "    start, end = 0, 0\n",
    "    out = ''\n",
    "    while start < n and end < m:\n",
    "        out += str(A[start][end])\n",
    "        start, end = cache[(start, end)][1], cache[(start, end)][2]\n",
    "    \n",
    "    return out"
   ]
  },
  {
   "cell_type": "code",
   "execution_count": null,
   "metadata": {
    "collapsed": true
   },
   "outputs": [],
   "source": [
    "import numpy as np\n",
    "x = np.random.randint(8, 10, size=(1000,1000)).tolist()"
   ]
  },
  {
   "cell_type": "code",
   "execution_count": null,
   "metadata": {
    "collapsed": false
   },
   "outputs": [],
   "source": [
    "solution(x)"
   ]
  },
  {
   "cell_type": "code",
   "execution_count": null,
   "metadata": {
    "collapsed": true
   },
   "outputs": [],
   "source": [
    "366899594549469884868354"
   ]
  },
  {
   "cell_type": "code",
   "execution_count": null,
   "metadata": {
    "collapsed": true
   },
   "outputs": [],
   "source": [
    "366899594558679552968354"
   ]
  },
  {
   "cell_type": "code",
   "execution_count": null,
   "metadata": {
    "collapsed": false
   },
   "outputs": [],
   "source": [
    "7+5+20+22+1+9"
   ]
  },
  {
   "cell_type": "code",
   "execution_count": null,
   "metadata": {
    "collapsed": false
   },
   "outputs": [],
   "source": [
    "2+5+15+22+1+9"
   ]
  },
  {
   "cell_type": "code",
   "execution_count": null,
   "metadata": {
    "collapsed": false
   },
   "outputs": [],
   "source": [
    "class Solution(object):\n",
    "    def maxValueAfterReverse(self, arr):\n",
    "        if len(arr) == 1:\n",
    "            return arr[0]\n",
    "        \n",
    "        curr_val = 0\n",
    "\n",
    "        for i in range(1, len(arr)):\n",
    "            curr_val += abs(arr[i]-arr[i-1])\n",
    "            \n",
    "        prefix_max, suffix_max = [0]*len(arr), [0]*len(arr)\n",
    "        prefix_min, suffix_min = [0]*len(arr), [0]*len(arr)\n",
    "        \n",
    "        for i in range(len(arr)):\n",
    "            if i == 0:\n",
    "                prefix_max[i] = [arr[i], i]\n",
    "                prefix_min[i] = [arr[i], i]\n",
    "            else:\n",
    "                if arr[i] > prefix_max[i-1][0]:\n",
    "                    prefix_max[i] = [arr[i], i]\n",
    "                else:\n",
    "                    prefix_max[i] = prefix_max[i-1][:]\n",
    "                \n",
    "                if arr[i] < prefix_min[i-1][0]:\n",
    "                    prefix_min[i] = [arr[i], i]\n",
    "                else:\n",
    "                    prefix_min[i] = prefix_min[i-1][:]\n",
    "        \n",
    "        for i in reversed(range(len(arr))):\n",
    "            if i == len(arr)-1:\n",
    "                suffix_max[i] = [arr[i], i]\n",
    "                suffix_min[i] = [arr[i], i]\n",
    "            else:\n",
    "                if arr[i] > suffix_max[i+1][0]:\n",
    "                    suffix_max[i] = [arr[i], i]\n",
    "                else:\n",
    "                    suffix_max[i] = suffix_max[i+1][:]\n",
    "                    \n",
    "                if arr[i] < suffix_min[i+1][0]:\n",
    "                    suffix_min[i] = [arr[i], i]\n",
    "                else:\n",
    "                    suffix_min[i] = suffix_min[i+1][:]\n",
    "\n",
    "        max_val = curr_val\n",
    "\n",
    "        for i in range(len(arr)):\n",
    "            if i+2 < len(arr):\n",
    "                x, y = suffix_max[i+2], suffix_min[i+2]\n",
    "                \n",
    "                j = x[1]-1\n",
    "                b = abs(arr[i-1]-arr[i]) if i-1 >= 0 else 0\n",
    "                c = abs(arr[j]-arr[j+1]) if j+1 < len(arr) else 0\n",
    "                d = abs(arr[i-1]-arr[j]) if i-1 >= 0 else 0\n",
    "                e = abs(arr[i]-arr[j+1]) if j+1 < len(arr) else 0\n",
    "                \n",
    "                new_val = curr_val+d+e-(b+c)\n",
    "                max_val = max(max_val, new_val)\n",
    "                \n",
    "                j = y[1]-1\n",
    "                b = abs(arr[i-1]-arr[i]) if i-1 >= 0 else 0\n",
    "                c = abs(arr[j]-arr[j+1]) if j+1 < len(arr) else 0\n",
    "                d = abs(arr[i-1]-arr[j]) if i-1 >= 0 else 0\n",
    "                e = abs(arr[i]-arr[j+1]) if j+1 < len(arr) else 0\n",
    "                \n",
    "                new_val = curr_val+d+e-(b+c)\n",
    "                max_val = max(max_val, new_val)\n",
    "            \n",
    "            if i-2 >= 0:\n",
    "                x, y = prefix_max[i-2], prefix_min[i-2]\n",
    "                \n",
    "                j = x[1]-1\n",
    "                b = abs(arr[i-1]-arr[i]) if i-1 >= 0 else 0\n",
    "                c = abs(arr[j]-arr[j+1]) if j+1 < len(arr) else 0\n",
    "                d = abs(arr[i-1]-arr[j]) if i-1 >= 0 else 0\n",
    "                e = abs(arr[i]-arr[j+1]) if j+1 < len(arr) else 0\n",
    "                \n",
    "                new_val = curr_val+d+e-(b+c)\n",
    "                max_val = max(max_val, new_val)\n",
    "                \n",
    "                j = y[1]-1\n",
    "                b = abs(arr[i-1]-arr[i]) if i-1 >= 0 else 0\n",
    "                c = abs(arr[j]-arr[j+1]) if j+1 < len(arr) else 0\n",
    "                d = abs(arr[i-1]-arr[j]) if i-1 >= 0 else 0\n",
    "                e = abs(arr[i]-arr[j+1]) if j+1 < len(arr) else 0\n",
    "                \n",
    "                new_val = curr_val+d+e-(b+c)\n",
    "                max_val = max(max_val, new_val)\n",
    "\n",
    "        return max_val\n",
    "        "
   ]
  },
  {
   "cell_type": "code",
   "execution_count": null,
   "metadata": {
    "collapsed": false
   },
   "outputs": [],
   "source": [
    "sol = Solution()\n",
    "sol.maxValueAfterReverse([-27903,20469,-22036,13987,-2941,55404,89728,50481,92043,84373,-80541,23791,-89259,-30720,80357,-96821,4973,73435,64113,-93173,-22368,83122,-78903,94191,68718,91822,-78829,44651,76880,-26273,-46157,79910,-82508,-12948,25110,42889,61782,23291,-52160,-54453,16945,58542,39076,-86910,-2218,86525,66371,2967,-41256,39589,-69307,-1988,-60281,-80561,54011,-80903,27364,-52707,8775,45395,-76112,867,-32455,36974,-47098,-62038,-13565,-86873,-16739,53466,-43961,30657,17562,70913,-57429,-91039,89300,59643,-11845,-69135,-53210,22611,22173,-2221,-25483,-11036,14055,10425,-47055,65964,-33660,13515,-89826,-37187,18603,37047,18191,80556,-88214,-94395,-22763,-86060,-44471,-52408,78082,-70874,11913,43938,14850,78880,-90709,-29742,-96416,-19259,-55219,-68562,-80725,98040,-50524,95952,44601,-91581,-7579,14150,66249,10349,-94196,-14604,-89227,86541,98901,88962,72184,82666,-15974,-77469,2819,-47939,6330,27613,-99852,-1559,-10937,67763,-31846,-56415,28450,50319,-85215,-29992,-14690,-48226,-42659,-24633,26315,36792,-45621,11912,32453,-60684,45312,-14519,-37185,19273,-41444,-90400,41929,-23752,35117,-56241,64768,74902,20667,-39308,97579,-23869,-13533,63703,54768,77460,-50048,40262,93584,-29992,84845,14705,9428,-49663,46058,95148,50459,-47413,-75383,80051,-42975,-14819,-36440,41829,-27298,-35078,49342,-93555,82738,86032,-8559,66767,-92374,46419,-69405,57470,-64322,-19818,-86882,-29384,-84149,-6569,-56702,-17961,46899,-23856,91705,86565,44296,87535,-48097,-32132,28079,-75333,-31356,-20595,-96701,-33894,-39671,12286,-81936,46322,28664,-51802,50070,-49776,-43298,-75874,7950,-44825,58128,-47562,13765,-1207,10145,17226,-29187,-48335,67587,56298,8746,-66376,-96046,80131,-81412,28474,-8468,-88662,38709,-52755,71504,-2212,61287,-60142,-5062,-86028,-65351,78664,-41877,-42749,-15562,91101,5053,89548,81726,49173,76908,13262,86748,-79454,39100,69304,45675,64410,7910,92953,-81983,-14119,-60808,47507,55327,-41551,54692,69365,35630,-66021,31016,-85244,-40473,38100,92499,73262,-83458,-27433,-72924,-26898,57670,-49324,-21613,-52330,-25198,-17824,74520,83058,72441,-36652,31489,16120,-83057,89431,-55367,77114,-55762,76215,-89905,-3842,-86078,-19764,-11685,17305,58335,-60225,-78942,97208,90250,19465,49390,-9747,39804,45390,26221,-43817,75586,49562,26153,-69689,-28691,47536,17275,36020,-78267,-47724,-14571,-9838,-27193,65372,-63536,44068,-2346,10897,65975,84483,8583,7922,-17352,-13759,-19215,-3948,28682,-83171,-15164,60458,-31575,84213,21529,-9043,-72941,-39900,70521,16830,19188,89489,66091,-21905,-67954,-39870,99747,-45064,-87711,-43491,-92521,-63843,57326,-61832,-92719,34499,-15341,8016,-4645,11756,905,37213,-87909,-13446,10335,26313,-8726,-67763,-79566,-62731,-35975,40301,71341,-2939,-33117,97866,-41077,-29744,89209,84620,-8094,10700,71312,-91056,-22309,-88870,54108,-24548,-91531,95478,-34227,-20855,12692,-37306,26872,-7910,-71889,46907,-67707,-10166,-30831,-23427,86757,8018,11683,-81205,-84804,-14976,-59583,-47189,65144,-99444,-73976,95763,-4009,70751,-21402,-68315,-37701,-48296,65169,-12045,53879,58130,-46552,30070,97731,55897,-91115,-34546,99246,-87427,9866,-15156,25280,-29592,-34430,-23197,58172,-44910,-74318,-11898,-41870,-84715,35805,82671,-42624,-47230,-19013,95228,80613,-37992,-47922,752,58410,-84622,39912,80673,22974,21465,-99123,-10415,-7902,48508,-20684,-90529,-32123,74736,73553,-62748,-5388,-78491,-27725,-32216,-20569,-94115,-39435,-88601,61726,42871,-16527,-42202,-27025,88379,78429,68994,57346,16580,-8418,73623,-84090,1620,-64203,-67700,-79787,89685,12866,7779,-3399,79012,-88281,-94585,30758,-54692,28938,-277,-60681,8692,11255,11895,73901,-49727,50454,83366,-32426,-92286,97136,45908,19846,99711,-41981,-62684,-23052,87036,1150,-97479,-81697,-86767,27022,26774,95238,10708,42900,17535,97828,-59784,12469,2021,-45381,73159,-70744,17990,42663,-38645,-19182,-82534,-44586,26087,47297,66946,31824,-10681,-10385,-94029,-93341,-61309,61764,-78045,68289,42926,-10276,-32580,-17925,-57903,-62062,48540,8846,59044,18203,55436,46679,69415,48374,-88304,-44508,-9653,49172,-91589,-90958,-82899,-57535,-27160,-67074,-51809,75337,86886,97789,-47418,42873,23644,42807,-38604,83616,50650,14032,-8764,93908,64791,-24231,-11854,58034,-86515,-55789,-39362,-86360,-81123,-74412,-18147,-82528,65255,-36790,-18951,41966,-98405,-46281,-66273,-21981,20906,56703,-55858,71838,1766,25472,32264,-5064,-59875,-61718,-55875,-16061,3381,700,-73211,15536,76750,-22383,-24620,-81354,6156,24911,-22064,-73891,-5799,53506,-58958,-49194,-21654,82435,-54741,-22811,90609,-9890,59303,-52891,7701,57590,-20666,63272,28697,51579,-16903,-17988,2409,-5858,-72968,-17741,-71115,-55804,7183,-33009,64715,-78756,3279,-68582,-47233,-52674,35703,-9665,-7727,-59647,83389,6414,6501,-80571,-45029,-28552,-87251,-47980,-5870,-12310,51963,-6073,40188,-83805,61015,30386,-84778,92826,-45389,87338,55091,43422,-35420,76529,64645,7778,-31020,32955,-31890,-79308,91631,-50444,-76396,-62789,57624,8101,-52183,-50703,95461,-38352,-2436,69533,56067,-54436,-95056,-80132,-17955,62297,18537,-45170,-44600,-33632,-23336,49518,73168,-37922,30652,92187,-58861,24684,56936,29482,76254,35917,-2775,-59300,-51557,-22590,-32391,35790,42207,-55408,-57578,-43235,68690,-60085,36882,-98979,23105,87599,-85824,-71561,58700,38362,80689,-87217,8652,-51317,-84156,81557,-95066,45202,-24900,31045,31042,-95782,-98529,-56091,8743,-8388,67770,-26608,40177,-23984,24275,79462,87641,72908,38460,16788,52893,54497,-24240,-36821,49476,-66715,-5243,16687,-36522,20452,65383,-62946,69577,-67304,-43476,79686,-39058,77668,16223,8097,-73385,-58453,37822,9242,92792,5175,-84958,-15891,-22297,-57150,-4004,70212,43642,-48292,45076,-95853,-88789,-31117,-5692,30061,-71147,90690,27480,-81899,29359,89956,1729,-15380,-85512,80361,13062,78475,39925,77336,40495,61199,94711,81417,-71175,50879,50042,79592,-58197,26606,45925,66137,-73947,-79245,-98728,51517,2696,-18551,-42717,20495,-69481,-90838,-55091,-41436,95452,53210,-11867,-28552,-32040,-45488,94222,-64077,-92043,41043,-27809,-54798,11671,96487,63339,-29794,99,83112,46720,-41247,79078,-70899,76962,-53756,70214,-25498,41098,-17774,16604,-27379,-79345,-51535,-21210,69633,7682,14639,35477,29320,-79047,88321,7394,83127,30446,-39734,86815,61372,-23204,-57763,74205,-47418,65959,98016,-14119,13711,-95668,-90144,-89978,-74008,-56283,-24842,70121,15502,-82682,-78576,79316,72227,-21571,19865,72339,72660,64967,-79199,6982,85059,-50651,78660,-34182,-97128,34042,52903,52149,58870,-81525,-16434,49039,65576,50291,26889,-83914,78266,-93032,89574,-59854,-15371,-31961,99503,39652,88961,4966,-94133,97778,13849,20443,8006,-66488,-75458,-32414,-29782,-37680,-31186,95935,-83646,75922,71936,52738,14464,31947,-33344,-75680,16986,-71117,14268,89059,-35258,-67341,-82964,-174,89165,53616,-78797,40286,86461,97976,61870,-44320,56366,-50648,-2522,-6151,-48317,-96689,-18160,-55969,70286,6411,8855,-4317,61935,-88118,-92786,-41706,-89862,49417,44693,90950,-16102,50719,57495,4121,-31591,-27323,-25526,-18700,77080,-91027,-69732,18608,-61538,70409,47778,-23363,91840,85936,-50176,-49923,-57811,80998,-62553,99978,-64334,55313,2052,46312,-43963,-90670,-5962,-16069,50384,28464,52390,24576,29548,-47960,-36810,-19949,-96615,-3028,-39956,38767,-77662,70009,22271,21222,-61788,43152,-57515,62022,-52104,1817,-46300,32521,2269,47325,-68840,-92114,2273,-11454,-73241,35091,-94777,77352,-73747,54442,33948,16564,-55184,98227,-40710,11002,-96494,70,-16317,11466,-71810,-9855,15411,77515,-99735,92764,-79893,-28617,8434,39499,-64593,-85829,-73929,9580,57233,-85107,1521,-98940,-70775,-26394,-92447,-79071,-18798,-58882,-34511,-67258,-48593,50139,85264,-28416,-59791,-93592,45381,26115,97835,84294,29409,68791,-63150,-91591,-94563,-5327,81604,48344,-91685,-69007,92640,-8805,80957,99852,-74066,-68505,9752,-73175,33436,-56025,-69323,-13470,-67836,-56108,-25751,-3874,-81667,-4843,-72769,14608,-1390,-29240,86454,72854,28137,37801,39737,-80864,-36452,-40356,-45795,-7650,75721,64219,43754,-13485,78731,-3177,12279,86660,54292,-87164,-826,-19319,-14223,88392,51806,-17590,14393,-66112,4245,-67204,82811,6282,50870,-96515,29845,-27870,-4059,7219,-84343,54288,10911,24048,11525,14537,3225,-82954,-97729,-80296,-88460,75455,-55035,98910,-43178,10660,-2627,-79463,88556,-78052,-13274,43436,26184,-54519,-22736,-79350,-88658,50135,98209,91810,42955,1206,-55939,-59430,-49291,-49504,2747,-56806,-8064,-67949,-75980,85202,-16237,12907,96471,-17712,-81510,4478,-17461,972,47652,62515,6135,17217,72768,-71146,67473,-88001,84250,20000,19510,79015,98944,19133,-66151,-9563,35668,23486,-5254,73366,80137,84513,55077,-54407,50081,-86458,8115,35822,-79288,10306,-59080,-35338,91454,40211,99273,33830,-58126,-20161,15641,59735,76545,-4976,-9345,-681,85426,-65679,96774,34525,33904,40480,-60124,46036,-18135,-53050,64752,-75448,47502,-10265,89256,81622,-86371,-48422,60301,98286,5175,-39785,5512,34304,31784,43981,61858,-99500,92970,3959,84584,-24896,68211,-1058,56099,23272,-57761,-54262,37326,-27228,-95165,24969,-44021,35356,-48053,-33305,13163,-29813,11800,-15993,57071,23626,-6363,-16722,-83467,-63979,91078,95717,-70898,-56969,41094,-63509,89557,-86139,52888,-7824,3723,-75120,88171,-10430,-80516,-75583,-62949,-10532,-49141,15721,80196,-87182,17294,24606,-38258,97124,99476,3004,-58295,71363,58496,-24718,83654,91874,-87068,-50534,85705,15977,-8387,-85471,29786,-63579,16876,49717,39598,-54188,-90981,71560,44379,-74260,-58839,7787,79724,-32005,-42087,-83096,-66735,-10332,5630,3055,2601,15494,-54960,-79616,39235,-31648,-13640,7274,66828,18905,25590,-97581,7531,-1480,29106,73241,34718,-20614,37644,55595,-70685,-18833,-83149,35113,-1522,81240,96023,2346,-3142,-41165,2651,4280,60789,-29679,93186,45259,-36875,-56902,-96602,43366,78361,-93725,-54660,29218,-51985,58432,-9442,-3300,-71626,88500,2506,-76648,-73848,-18413,2032,43112,-42743,-27129,29118,-32247,47041,-73085,-91270,75089,-33011,-74873,-13971,96814,28940,-12232,47007,73026,32112,60699,-94700,-93237,-78654,3096,-10066,-24409,97485,43021,79071,89568,-50805,-28909,-72288,37827,-46939,2535,-5435,3813,-32866,7383,82644,-75044,-21517,-55826,13073,-94533,60155,-47161,48702,13099,90603,64082,-62799,-85252,-24965,-18471,-59390,-85227,-20012,-79384,-76412,-84604,-49137,11107,-84991,-87238,-95285,-49275,-75333,-64444,-10522,12334,13302,-51958,-43552,86377,-31955,-88602,65311,99620,-63257,-73691,-17965,-72730,37136,73155,-12351,11101,58107,96941,-8705,50311,38458,65542,-88806,-92117,-76084,-69792,83876,6835,-68744,-81083,-7612,42666,-97770,8108,21707,13298,-75130,26988,31783,50277,-81707,-76697,-84609,-44164,-38256,-55222,47572,66994,56072,550,83662,35716,67712,-32967,87876,57480,27743,27960,-66739,-23026,-53231,-32796,-53771,-18599,35515,-37686,44408,-76184,-41926,-96170,-5955,-94693,-95899,20,-11281,-68560,22262,84428,72876,8217,-58902,-61383,-89896,91343,-64883,9412,98914,79595,-41024,-41141,-38793,21006,-47678,48915,37476,41552,69800,-68789,56051,-52780,36624,37262,-14136,98865,56094,4679,-69965,29012,-83174,-59604,-92795,-70564,86755,52992,-34551,77154,7025,-31966,47009,88061,63053,-33912,-65822,-68740,63225,66051,77450,-15807,68635,23329,-55686,-9479,28903,8383,-39302,75144,-49861,96167,86461,-41323,23308,-43977,-77481,44620,16383,-51666,-52044,54714,20887,70711,93857,-87355,39455,-60654,-87682,47204,-77185,47575,-74156,-42767,19740,-32988,67888,-21882,-1533,77859,-45313,44734,56451,34293,52018,-33469,-42039,72978,-37144,60885,68765,62195,-91094,-9809,-44761,-68913,-22953,61598,-94411,65349,80823,-30357,-99330,-76513,88560,4212,89158,35965,29905,43690,-7797,33571,46688,17428,71874,-51172,80469,-54743,46444,71358,62285,8846,13188,89052,96651,-71910,-48131,93949,62871,46148,80501,73872,-42835,-8788,33467,-42418,53997,-26607,-5455,-10431,-4632,-51665,695,-73066,97315,53693,-13585,39987,9212,42590,-8687,66696,-48528,-80766,-75395,-95810,-36862,-52084,-31720,66547,96710,-20484,21553,24146,79033,7863,22176,26496,52486,-64181,17853,89389,-89106,68307,16838,70549,83986,77809,-96732,-59649,-11524,57435,-86567,95386,65705,-96558,88786,37422,45744,15588,-98909,92901,-3024,71380,40357,6668,85442,35725,-40046,18779,-20047,-93348,-26293,79964,69853,-11889,96769,-76136,89288,-59284,1202,5119,-85778,-57999,-53407,-26934,53156,42438,-90096,-55487,-50283,57547,48681,-91883,50180,88808,9727,-55103,99707,22173,19172,71537,-10427,9668,-75340,-3006,-8381,48785,30732,-55159,-20685,-87559,-14204,74577,74864,4023,-21145,83168,-86487,91949,88312,-22829,79203,58588,97295,96894,74896,46967,85462,29987,25486,75873,62118,33349,91906,26142,-35161,84382,-25145,97827,1221,-92158,31757,-84135,5425,-32855,75994,-44646,72213,-77414,-3350,41489,15584,41497,-75519,53239,-19580,87178,26964,73487,25424,48579,-14567,-30917,21122,99566,34643,46105,-42861,19292,37232,-34938,-32218,-81923,-44760,59952,92522,75165,90262,52355,-98542,95105,95449,-5018,-16757,-22051,49414,-46244,-8837,-78926,-47814,-73003,6670,99891,-17605,-26296,10038,-59749,95122,-36750,-92909,-71652,-31371,14683,26545,-22609,11740,62203,38453,24277,-69218,-69615,-28625,-65105,12081,18227,-74192,-77215,-65182,-43,-66634,23703,11594,52453,-81033,56874,-92781,23419,-8906,-30624,-75969,72939,-52002,-86383,42549,69504,-50969,11078,-13354,-62219,-62040,-70673,-9234,22761,-3439,58639,50763,-14578,-8960,18091,-6964,-90330,-17596,-69474,20656,-43701,-26645,26424,62369,-70614,-68912,-83552,-17638,9154,-86868,-20464,29853,-70804,62025,19424,19260,5844,-9910,-52276,23182,14054,-63525,-43096,3592,-25203,-54789,-81258,-36928,-34309,-50132,-29587,-29813,-1973,64923,12251,33718,61055,-77060,73155,-21024,-87246,3955,-19858,13039,44615,52201,21755,51812,-22846,24027,-65567,77684,-68568,88827,-1308,23567,-98730,92440,-23485,-52721,-2268,27819,-1546,-30843,-31298,-22092,57999,43620,-6141,73766,36444,-43696,-60624,-18467,25342,-13477,22679,-22708,-48369,-47027,-40065,87519,-75073,31509,-94960,-5497,78822,-42073,-31424,78704,72173,-87769,-79344,87226,83439,-77447,76239,76767,99751,-69146,82290,-6357,24977,86736,40851,93324,82575,71868,-37908,-27273,79839,91323,-61043,23882,-96731,59611,48887,-12790,-19232,-70196,43205,-33301,20465,50310,-41538,24916,-2577,54777,39307,-60631,-69097,45842,-24738,15003,54395,236,933,-21574,48535,80434,83799,-98702,-93914,-93289,64927,95517,-36106,86525,15231,96608,75454,-84090,-17341,-1486,11879,-55744,-17808,-35900,-50371,-3501,-33819,-79903,54293,-2403,-15498,418,-82026,22025,-88327,5533,-44110,-17214,65767,-28562,-27121,76917,-52588,-89196,-68954,-42153,68893,-69432,55029,69702,-49003,72434,62816,-82433,6644,-52482,89938,86703,-81387,-15970,-12771,-57805,4968,97428,55983,-17238,-38430,39739,-12196,-88512,-62750,-47332,54037,-77267,-80111,42321,51009,12293,71731,81223,-25000,30827,-24697,64721,86107,-97842,39308,-46900,68578,-42356,-45164,17455,22627,-12979,-18538,55895,-53243,-50651,47546,78986,-69802,64731,-60499,-15155,13603,45076,-61959,-58875,-35515,91115,82668,48147,67911,2759,-20209,-64762,-30145,33971,63902,-69120,62033,-78539,88994,61880,66594,95979,54996,79393,74365,-25996,-85841,-52739,-59317,-75040,96014,42335,-80188,-59252,95013,8666,-44724,-70667,-13672,17175,-99959,-97832,506,43504,-66946,94226,-78922,-73005,-31609,-93460,14477,-52602,46646,3487,91029,29607,20778,14850,66782,1973,60406,98000,37788,-17774,52372,-5867,67897,80629,-44621,86850,-2895,-1043,-16775,29049,-8207,-70822,76466,-43509,57506,33534,-11259,55907,96651,-34959,28309,77753,18754,-67660,-9996,-39386,43773,67575,-84737,-18570,-14529,75197,-8033,-33037,-94380,-22721,33247,-80606,-50607,-94011,54304,-77779,53494,-42820,25897,77231,14482,-28316,-2086,18275,-70037,71912,27267,11068,-51605,-3730,38737,33953,57297,-3930,-22875,23558,-79414,-40284,48655,73622,86823,-81306,-14503,-94508,86236,-18352,-4259,-55686,-7348,-19875,51022,1758,-28952,61144,74687,-30439,-64499,-2719,7257,58030,7736,19501,-67298,80942,-47349,-67676,-56966,-76379,-94526,44506,98218,-7076,-40337,-87645,86684,51799,-36939,-63904,-18861,-4385,79900,-16970,63692,64879,21451,37952,20297,52377,3969,54274,62633,-86706,10949,23556,79648,-90721,-6687,64286,-14856,37939,99187,42689,-93320,44600,73969,-69567,80632,-54940,37316,92204,75883,-46143,44249,8461,35039,95849,92899,1310,-36377,-80985,29808,-534,13331,-74551,90129,55292,-38990,-32858,90584,58020,-45742,-23922,-21699,59512,35623,34872,-9034,-73175,-62959,-41759,-8325,32709,-47166,-42087,-72874,54278,-23022,42630,-11802,-73868,-8405,-91742,-86893,34266,-20138,-77294,-80896,-46640,-41743,38867,93071,26664,-91700,-73158,-19053,44165,7178,-3621,-35223,-78215,-69282,20910,-25613,59435,15156,-43361,-97938,93994,84910,-50797,94894,15721,-15263,52004,-32943,64658,-56569,80450,-66585,-89885,-28160,75037,-73181,-1942,-52007,-52845,46178,80784,-6945,-11919,45560,29057,-84612,-39490,-73768,-73152,58466,32223,79089,48181,-1823,77483,-63459,45116,8617,85597,19051,46944,5633,69428,90192,-38117,-16803,-88490,90545,20995,-36073,27203,77675,21477,-30332,15473,3432,70893,-2107,56777,-25012,-6247,54814,-5959,-34503,-35276,70453,20123,-58188,-8797,-90457,15483,-10821,86978,-23986,75967,4301,34349,22853,50811,-45967,55782,81922,-29192,-15048,-96012,-7889,-47556,424,97364,-70845,89286,-20122,55527,-58966,-85736,-39350,97938,20722,-52971,5057,77011,24836,-49384,99319,-960,5322,927,31417,85053,4185,80440,14854,28164,23637,-76653,-94999,54196,-36634,-50035,-47556,-89345,31879,26033,24253,-69381,17550,20767,87740,-74870,-82231,32988,32164,76358,192,60415,71155,-1069,73204,-26266,53831,13725,-94186,-37164,1999,-14005,47998,79731,-73420,-57237,-72776,12405,-54360,-21051,-76550,35865,-36846,23456,-96199,-11026,-94529,-80813,-55407,68048,97159,657,-19619,-11236,92972,28847,69443,28823,-11311,-13509,3558,94304,15349,-15556,-36824,33873,-3861,-81074,82879,-84570,23362,40720,49827,57523,52144,79052,40740,59884,-63386,-56495,-47755,34227,72,-48315,-39367,-8440,94902,-37127,-83414,32497,-27108,-58092,-85844,-69560,-35167,-90642,-58077,-52242,96137,-88898,6899,44,-9943,-4206,-38041,-60123,-29366,-28630,79381,-69511,64635,25724,40204,20317,17525,32382,56862,-70807,28428,7374,-72653,55633,-46912,37383,-23402,-68473,-4171,-64369,-16363,99814,8618,-84797,-64178,-22589,-55373,-87533,46198,35209,69696,-27783,66254,380,-96197,43207,48781,-59549,-5799,-58106,13618,-56364,-50680,63665,-94876,67444,78879,43930,-34585,33542,49599,-3867,87080,-42884,23511,-76188,83751,45237,-52129,-68358,43015,-98084,33671,64486,-51562,98626,-26023,-10154,-48512,88641,-29237,-25183,45379,-59602,71065,84069,52575,5042,43507,-2156,-87146,-77592,93110,-59186,-44304,-1289,-7878,6445,13624,-96803,94160,64467,57911,50816,53245,10582,78259,-30040,99628,7081,17791,97527,28956,70893,-64537,-75599,82733,-17170,-16889,-97653,44,27767,57523,38557,-26239,96599,99672,78576,-17508,26837,22255,-49529,58010,68791,-11967,91702,5147,-5257,8965,25364,-69285,-26490,45514,99975,-65554,-56900,94937,84503,71116,-81823,17003,56895,73391,55948,-9453,-54764,68834,69704,91351,67842,77514,-97729,-44819,17734,-603,34097,-12583,31254,-499,32011,35841,-13840,91695,-88146,53028,-86817,46791,56078,69796,-43349,89538,58686,49751,-49242,-30364,-83370,-15540,34158,-45221,65750,84905,-13012,39402,-39200,-9002,89162,-79772,-83017,67351,22261,5472,-93131,81419,28975,-95806,5887,71233,47558,11849,-86162,61239,54922,-48650,45853,21980,-22571,68448,92852,-94885,-54753,-41092,27324,51998,-45933,-99315,-8890,-6559,-5216,-16999,-96189,30334,40266,-79436,55363,38706,-68807,34183,-84606,49774,83631,19099,42021,-7825,-4081,44460,-67764,-69326,-5693,-28104,-70083,-55890,-2628,66675,3598,22144,22715,84395,-24192,-12644,-46311,49638,-59356,95204,-57584,12440,-76785,-74818,-39535,-8862,75182,8630,-68996,47194,-78017,-74260,-77146,22688,-42858,51515,78662,-44430,-79370,79728,23064,27220,24273,40672,-93032,-81776,-70188,-21727,-991,-19908,2440,60236,99245,89115,29312,-45596,35764,-65123,-49235,-87393,20687,-41484,35988,-94533,39723,-99405,95834,61887,36101,73748,72608,19693,68062,-45915,-40134,-9271,-3698,34357,-47995,-70865,-58025,-55548,-43314,-44119,-66711,62604,81303,-94203,70710,-79074,54811,-53851,-83015,-41033,73908,-4399,46432,-5788,22317,89642,93535,98143,-37960,35338,31383,-84091,-41607,-27265,94155,-22807,93821,-79171,-50472,-36558,-84821,95130,-94209,25571,6174,20667,44427,-95661,88281,98760,49398,-24242,37300,94241,-50148,5758,-69656,20543,6574,98543,7649,90287,-66750,-42320,-90611,-94040,-76296,-88634,80766,-88043,-63420,56609,47140,59257,-38875,55530,-98296,9830,23098,13882,-33366,15376,-17176,-88678,82150,-86362,-90464,171,84437,35327,-50853,37535,-46139,24502,37241,-64218,-80935,59332,-3346,-66360,52901,93371,-94504,-50572,34756,38398,-11441,-84146,-68140,-40331,34167,-8299,-72171,-7992,-31250,-45924,-10336,74969,1838,-40383,-71431,62268,-68048,-67702,-93364,-49976,-3684,-48018,6068,-33947,35197,46787,56596,23619,-86805,-46254,71887,44035,-79017,-43265,39757,-61852,-33380,-74710,48078,-63298,41182,3901,-38094,-47203,-57959,39990,-36378,-91283,78850,88276,-22664,-87209,82143,96672,-94535,8811,38593,32600,65048,-125,-19821,-61300,-27149,49262,-11946,1953,6197,-19559,-582,-52475,-5143,-62090,-58761,-45382,51418,-5008,69009,-52053,-94115,28613,24355,-2631,-36204,90297,-55155,-29084,-33241,-2491,-49865,86057,84054,51947,44359,-56283,70191,75607,2767,80397,13017,-93518,-32254,57979,93647,-49966,-32195,56413,-79616,37532,-47377,-20666,83735,77741,23362,42900,62167,56363,16939,53454,23189,-66320,-24978,66771,-81069,11070,11109,-46768,25087,-9625,-7826,-87024,80187,-77286,15173,6731,51587,-73629,17085,-22511,-14324,12069,89033,32994,-7095,-59973,32104,40864,94849,54276,-12441,-51902,-71013,8391,548,-94491,24198,79576,-39485,-64232,-51512,-21159,9026,39566,-69991,-58175,-17305,-91950,-25076,-58505,-45326,-92513,3929,-76428,7205,72422,99017,18696,-90357,93404,66497,68361,-58921,18482,10766,57302,-4384,93847,42325,-18939,-49865,-41809,-8258,-74454,-26064,32193,47544,-63968,99353,736,-96707,8800,19526,3286,-24594,-4807,-82225,-41996,-77465,20746,77578,13233,21451,-32565,-6962,31043,-2517,76326,88173,31382,-34123,-26819,41711,-91044,-17188,35014,44980,22493,-2342,-30453,-81159,47935,-15819,-85522,87604,-21136,30017,-550,-38002,-79366,-2092,-96855,-64202,-63426,-30980,-78396,86386,-10436,-74355,-4038,-33042,58058,-63990,-98859,38127,97204,49409,-74668,-22644,-94504,24461,90058,67806,89589,-23825,-10082,-50648,1557,54885,97968,45739,94911,-86515,47107,-38408,92086,-12890,51326,-65051,73620,-54273,-66253,42515,-45454,-9803,57145,49048,-43339,84839,-64587,-27921,76935,85358,77202,23153,33144,-50862,-27119,39634,-71088,90821,232,83818,-46164,33953,52430,-2939,62189,-28813,27675,-48434,-38993,-29769,-28969,-12723,72215,52839,63310,8935,-45046,-9140,-2218,92625,61786,396,-10704,81494,-88059,-10149,-9447,-37235,4907,-83264,-96713,-52932,74118,35600,-27567,37220,-34665,-87254,20586,-78810,-42800,28793,-1203,-47806,-42940,37683,-15395,31855,-64588,-14315,-77051,-78761,-30808,-24220,45178,13649,-38864,-56557,33989,61040,7437,-9880,-16361,-87702,51471,43631,67806,-96479,97034,-68751,-13780,-56429,-19117,22235,92638,79135,27108,78991,-61207,-94617,-15773,90103,76063,59976,84148,2818,-74977,34379,-12900,-70623,17940,34111,-63508,29880,-78670,-7140,-1638,32803,-59973,-84212,69388,60973,21435,-21579,-42130,4985,-25560,43804,92395,-40452,-39961,27787,39034,3639,3295,11666,65657,29645,29194,50667,94214,-83325,-10263,64830,-72758,24583,-84084,85840,-11348,94188,92194,-5429,-19880,31239,-76341,62727,-13342,79500,26112,21153,-57938,19761,-30299,83029,-10259,21365,-19209,-90451,95771,30967,5814,-68748,-51110,-45038,-22803,-64657,24629,32588,71653,-60276,81124,80646,45719,-25180,-80568,98947,35769,-37499,-60262,-98926,-48855,24935,74606,36846,-96932,-2846,7590,-74022,19491,-23573,28860,61436,-31139,15149,-9910,-31654,29558,-67711,-99034,-87327,-34816,-31473,-44244,-18751,-57658,-18678,-9137,67354,19950,-78678,-29232,82632,18383,-87259,-46446,-14868,-29152,-9105,-33678,23444,-81799,-72690,90947,5784,64824,28423,66194,-45884,-93152,62252,36756,-13802,46960,-72040,-29294,-91266,72881,6642,53717,68968,-29376,-88125,-55875,68986,-64018,81908,70950,-94707,-18077,72959,86288,14698,-33279,-70334,85436,48196,-92269,-1756,1328,-30322,57443,34772,-23733,76267,-27577,86749,48031,-51026,5540,49544,47250,-48474,-58237,51565,-23430,97579,85010,-74733,19234,6204,50826,3071,-29930,91000,-97803,-38131,-5103,-87430,68499,16599,17292,36672,68639,70836,77112,66732,37930,8808,-49603,-9376,61809,-79931,-65996,-42110,71670,56025,-75145,5350,61187,71240,5584,35451,91356,37334,-57657,-39851,-51766,-56435,82025,64225,51626,39200,-95935,-88326,-83872,13126,51619,-55237,91591,-74320,-87328,71187,-5458,77081,66626,24637,-97540,32092,14000,99418,-19144,-1653,-96047,-83180,72356,99907,-11932,-65476,6201,-90618,-42460,-13968,70710,14956,-95950,-54282,22651,-78332,71310,28042,-17227,4943,19914,-25017,-83248,75393,26723,-2764,75149,-14997,61073,-31514,-53260,35920,-32224,-94810,-40722,83996,25738,-79988,41794,-23233,-674,25762,-19002,9767,60862,81634,-24392,-2805,-31124,-53221,-39348,-43096,84306,98516,95626,95055,-18139,5887,-41847,95632,-62347,42106,92880,41513,10095,-86382,-78374,25723,83397,-6424,-62239,-93979,40099,41792,-5737,46366,48656,84067,33107,-49957,-31854,-21012,-20637,-68006,-12427,37164,-92428,-63405,-14746,-64650,84133,72604,-14297,-49545,-57713,-71409,-81535,68541,-61159,13079,-90974,23183,64103,-71039,-60648,-13317,42232,41469,54119,73278,-98578,-89169,-20357,-81860,-25430,-15232,-3015,47016,86924,33864,-58110,-95190,91649,-10586,-89193,1828,-40955,22906,-32785,61950,28784,-99450,-67843,-81233,-94659,42663,16385,-1197,-92062,71347,85362,1841,12964,-67251,1783,25344,-54822,69572,-12474,-8007,-87873,-26722,88489,-12857,-7736,-86875,35873,77377,45904,70957,27823,-22333,-93756,66865,79354,68777,-45737,-16942,-47025,1522,-21473,81148,97026,62422,63427,-69363,-71672,-92692,95996,8618,45919,-9818,-37491,-90930,-74045,-81761,-30346,81645,-36207,-2566,-85303,12687,11764,3426,15412,58093,-56794,12218,98117,13343,-98245,43777,-78271,72520,7423,-38217,-69504,61683,-4502,4528,-63429,-19385,-28576,-95858,73809,25743,-30566,15772,79751,-72525,-39609,-28260,77665,29609,44892,16611,85438,-36354,-72642,64893,-65769,99197,90647,-67080,-93573,-47871,74842,-47020,96034,-5063,-92817,-46408,-23410,82195,69075,36515,-14327,-27270,59993,56764,-51783,-92568,-7444,74498,25335,45656,-66122,-3012,86044,-62820,-71419,84250,39573,-28071,60414,5675,-66270,-39120,91608,-9326,51330,36311,91864,47024,9414,55092,-69845,-20550,19909,-83488,85283,170,22139,-52851,-60200,72496,-57966,33431,-40515,241,-31719,72444,-8512,31058,-93898,44408,93498,38294,-27437,41432,-74479,-67943,-2818,-30332,-94766,34421,72073,44157,71065,-70588,-85009,2700,39121,-76170,-7895,81394,-99954,-42396,91272,83540,-91222,-91706,10808,-38196,-18469,39340,-74858,60788,-11349,-48874,-91138,-90000,-44101,70295,82214,-67180,92633,-53582,-90775,77238,-15168,-61806,73600,-68251,69242,62756,-6747,97600,-36681,-6743,31160,-68635,-26710,-24392,-36415,-33041,95907,-12437,-12322,-64807,-18358,-44774,-65377,-37023,95100,-48094,-58834,44424,-86474,-68030,79847,96414,-88264,43094,-61743,94118,-97289,-16281,39675,-51198,-79906,-7500,-85943,56722,9463,-20904,-12449,-30682,-73838,-64734,97946,-31711,-63296,10406,-52267,38568,44738,-63915,57789,44585,-39806,-94864,41179,87607,-49736,-67677,-75297,-40201,-66555,-66881,45961,-1614,-40367,88491,8431,-77379,59933,15827,69963,29027,-5720,88041,-82909,67122,-84389,-11712,-2688,-91234,42009,44964,46284,31497,12647,159,-78051,-68610,-95688,-70760,35913,-66157,15821,-51952,67842,92865,80893,81029,-90223,-83201,-34205,-25096,-87931,38296,-1559,63566,-68461,-11942,-80344,7380,43415,30509,94494,-79115,56623,38180,-41332,75252,-56475,-24285,-58905,-47697,80840,80771,47228,-47012,-59295,70199,52033,87463,-55557,-94214,-62974,-87241,95718,41092,38047,60070,-49278,-52682,-32905,58585,-26379,-19362,-75713,-64955,82681,-82944,37336,-90639,-6747,-61901,-86357,-80278,37928,-11512,-15842,-809,-62141,34192,40189,96280,-28092,77700,-68087,-62021,-92819,-96439,-62978,-9571,-4552,-71038,-87844,46846,-42763,33940,-55450,-43464,-17025,-27234,29229,50145,49125,95251,-79028,27656,-70617,-4392,82174,63003,-68091,73955,-7917,35719,-51756,-43664,-85454,60685,36968,48530,-76814,-48294,28998,87889,71008,27491,-73828,-36745,-33353,11763,77613,82286,59099,-727,36156,19651,3114,37549,-62197,39915,72791,82375,-88851,-87609,-9234,11614,-24985,-43884,-69650,22239,93044,83918,26558,-16887,60153,-10221,43734,-51349,31414,-15576,72413,-2658,8073,4297,33554,91707,-93542,-51178,-77201,92413,-6156,-25084,-13949,15068,-19711,80146,-74803,-8176,-77396,-76007,-91065,89360,-62873,-88655,-52446,-36041,-47186,13819,29761,12535,30961,35782,-29825,-38300,4057,-14451,44477,79156,-17211,56343,36231,33354,-31092,65622,33181,87986,-45540,71373,-3938,44322,-86282,1131,46111,-77281,-13064,-68850,-3670,-70753,-51360,-56632,-71727,-58061,35950,-45962,74826,56496,29316,-70318,76850,14320,-29177,2658,-53754,-93799,-78033,-79917,-86628,23193,-9930,97658,-92026,-70563,71195,-22327,-68656,94348,-20283,-30732,-810,56538,-35685,-56657,71910,47293,-33067,34950,41307,75492,-23072,13838,-17969,-77885,71975,28847,-85704,21594,-932,91588,39065,56111,49634,67781,-66263,47672,-71516,22165,-56613,52320,-88208,-58195,62884,-23305,15786,-82247,-77782,14322,15016,70935,78594,17880,6288,-27970,-21568,-22459,20605,-25111,-48815,-17999,90226,93644,41071,11140,-71387,16396,-28933,63324,63040,17140,-56537,66674,-74085,-24755,-31867,70014,-21977,-20985,16672,94486,-25866,63406,91991,99253,-60251,-12161,-57035,29028,-26120,29309,28646,-57501,74711,-66397,66801,-41810,15976,-5832,29710,-82315,66219,24852,86955,57389,-30870,-49576,-2655,-63764,29158,-56017,7795,-66519,-19311,-4818,22095,26406,5493,19674,10705,33257,63095,-26923,27929,-62979,24712,-46827,-24384,85069,17124,45224,-10183,-13980,-7173,-3116,-87614,-20839,-2138,-50104,-84489,-57792,-46330,-35149,80040,-55193,-12953,45562,18697,-2615,-18623,-93954,-74817,73062,-30301,-49814,-90830,93972,21274,9053,-94152,-28253,80743,55342,14695,-50961,-42069,-33331,66802,-76755,22496,35595,60319,22865,28346,31485,30944,50118,86500,-37845,27305,-61623,50793,46308,-14017,-52,-40274,-70831,-76330,-2783,8511,16084,-21009,-30349,7409,53415,32617,-97683,-92692,-24466,-64608,-17200,-94313,-30430,9180,44602,-58805,43851,-46374,-88304,-69238,22244,72125,-92824,-80397,-23262,51720,64886,44775,10780,-45538,4997,-3995,30687,-27783,29169,12193,77687,-33212,48951,65983,33372,84248,24262,-47694,-70786,-41137,35115,4231,-92698,7841,83627,45191,14543,19579,73292,12617,34435,-4784,-91089,40219,34722,1877,4401,-93304,-29976,77564,-87251,-94402,-35901,-76324,-7191,-1397,85172,71128,-54799,57898,63970,-2057,-76877,-40169,-14495,32665,-1094,-37678,-96367,88833,-99845,-52222,-96491,-87807,-53994,90839,-35664,-81570,36727,-83128,-43321,42972,-50043,-22229,86595,63976,-86335,66569,-36811,-54742,-99761,-31513,-32088,82504,95284,73343,14530,19770,3852,-37873,24966,84184,-89718,41377,89110,73997,-26869,21505,57234,80415,-6456,99731,-41662,-40839,98358,67155,58592,-2602,81122,-78284,-44139,-75933,-70601,-9673,-34400,58755,-47816,-28571,-15789,93829,-45505,-48987,34552,-10641,52303,67109,-1699,53116,80898,96538,-43807,20016,55274,9139,22272,12018,13539,-83647,-56642,-51962,-89876,36063,17524,82556,-66892,31159,-42820,86612,-44768,-6372,32428,25678,-10690,90060,-30655,-71005,-50489,-45653,-26195,27379,-97269,50194,-51461,-70563,-87880,-84657,-23934,-66623,54128,-65965,-58337,48263,-37171,-94273,-13654,15555,80946,11878,78761,-95024,77257,13700,-46442,12460,79568,-72082,-23698,-17259,19662,-27293,-55901,95362,25705,-81282,59763,-52698,-44182,-43490,-60522,-38512,19500,-48410,91294,-57863,-99852,-65851,92546,65974,38618,-62808,41781,45076,-42326,-42389,80015,928,-10389,-2900,-43322,-90867,-56443,-35160,-28933,-82452,21694,46530,11237,-84766,-59614,-20706,51347,-36531,-4339,78559,-89057,22911,98139,-14846,-64272,-77461,-3499,84041,25083,-69124,90344,-68697,25371,-45163,-22434,42983,-86536,-92465,-45184,-65649,82785,44543,95972,27672,41080,-3331,-98384,16814,15819,83047,-28070,-95314,21154,6061,-42747,-29823,-24146,34441,9061,-97911,-86308,-44622,-33097,-42286,35669,37003,99805,-48682,20804,71458,8591,-674,-61823,-78070,-18429,-78251,-53040,-48741,-67529,60165,-65852,83425,17152,22500,63336,80586,65730,60520,-49663,-28263,-50995,-15437,26194,70971,-34454,21056,-19830,19072,73640,14073,-59252,-3925,-9836,-57486,-52506,24926,-77791,-32023,15368,18967,76980,-19924,-29160,3005,-32011,87320,-26090,18119,18273,62399,-62019,-10382,-10688,-19799,87074,51731,49286,59292,86996,-75895,46372,-50145,-12796,50226,10540,77945,41314,81779,-95881,12180,47732,43086,73220,4869,-76873,-9797,-69910,-78189,14226,-79919,-46976,95420,87355,43241,42302,40007,-20743,-94876,97414,78786,82007,33697,2075,-29056,-89585,47572,47142,47805,88394,17304,62120,-33132,89888,-49851,-71366,84990,-9256,53450,83187,20920,96644,24171,94052,-92791,2842,31687,46514,61135,47187,41613,21742,42272,-37189,55820,-80623,-51051,-62142,21535,64545,-44484,83656,37697,-60611,-39324,-9412,-71464,-70463,74403,38365,-3542,-57678,28098,-55736,-3023,-37669,-11122,77979,285,66267,-57268,9438,-65930,-2661,-19688,38305,83870,28287,-18645,-69094,-55103,-16400,96471,-48878,48698,-37803,21909,-97059,26657,-78005,60963,-91064,13397,-60850,3346,-84265,74885,60867,31804,96972,33561,-93454,84500,-41331,55168,21429,-65079,-88999,98164,-66606,-25049,45219,-19789,40951,14970,65919,-29868,42405,62119,58137,43398,43545,71482,-55285,-44701,50755,17592,41205,-28464,51236,68754,-58092,4380,-3861,22448,75929,-54937,-14633,75756,-73289,-34706,-2898,732,-60392,1261,-74827,72063,34768,-68516,43795,4655,81243,94361,-72618,88095,28445,-34805,15581,34484,49448,88546,52319,87444,20481,-40064,-86603,-56874,-91698,89636,-60845,98439,18178,92925,-85221,-49190,-5488,96578,-45759,-37569,-47384,54723,91821,-32750,40980,-76940,-38867,-62772,22427,-92342,-24401,-13893,39374,-87190,69327,81658,-41792,17668,-44366,5521,13237,-17470,54307,-86225,-68725,52952,-50136,10392,-56921,-62936,93156,-59263,-41965,-88516,-11646,3013,64758,99446,73207,49568,78901,16327,-7986,-55813,24660,35208,89693,-84454,-76018,-76149,68149,-14143,-76676,-93906,2541,-23997,1853,-90405,64587,-35984,-18905,-85466,95030,-43327,-11037,-83417,23093,11107,64018,-86497,39943,-7545,-15358,-78383,-56526,-94309,84764,-80553,35513,57110,-71670,-56121,89482,-39405,-66126,-71203,54286,-9335,-53661,82847,16696,91384,-75943,60817,-47236,-27149,70273,82466,-29600,-11462,-47345,-70377,-26104,92118,-22468,20018,66100,90443,-93143,-32082,35735,11078,77924,-7567,23933,-3349,-14634,-1375,65801,-59955,95652,47053,64102,51024,89059,-69183,-58283,93686,-73569,-46870,-2505,72287,97327,-29409,48707,15555,57261,-64496,-94814,-22025,35919,3895,-68857,56545,-75437,-34185,-28152,89388,87240,82719,61958,54667,92938,-48982,-41619,-79712,-19764,-86023,88794,75198,-96404,80389,-43356,67911,-38226,99936,85429,55276,-14906,-39742,-79582,63993,97420,-24405,54093,58511,65517,73938,42719,-65985,82905,-75805,-5120,-33007,-63628,-67825,83464,21459,63771,53420,-20132,29661,-92210,-69570,-4423,96826,-37736,-19193,87917,-14482,-90437,48973,-2409,81952,87293,-84023,-64590,-4539,26874,-19389,22113,-21559,92627,-81035,-84662,-88058,51515,-16771,65221,21754,-86062,45083,50210,61454,-2657,-51094,8136,-3161,-36526,-66882,-82471,5354,23490,-9918,-89378,-77366,-47740,40214,77813,-70825,10107,30017,-59481,2518,-22274,1695,13160,80782,84225,16598,-43304,-12175,46188,28629,26426,84902,-342,-13253,94037,-38995,36807,-91882,55319,-22964,90720,1499,-26778,-60494,14767,67345,60837,-77205,18253,21590,38974,-9509,-90513,-84716,36421,-89593,65957,7320,-66159,77327,18387,-15393,-60161,45017,27674,-48423,6441,96216,-71270,81538,-59986,-77844,-65113,67903,41893,22799,-38522,36418,-23875,-55921,41003,-96706,76726,-46402,-26529,98871,58955,11140,56851,88071,6303,-2120,-86568,-62764,7542,73167,8442,17842,-97496,57708,-20220,86135,-61397,25895,85671,66983,83055,-94198,-58936,75281,4151,-22746,30557,-56988,-44575,43678,24491,-11376,59894,74827,-63043,31462,93027,40549,-33205,-99876,39688,-48853,72448,-49331,82461,-10028,87177,-61433,-92264,-79744,75078,77651,23398,-8215,66623,78988,57660,52412,-13362,-68025,31537,-67931,72324,-18385,-10272,43532,92796,73648,503,58367,50566,22846,41205,62834,-61743,-16497,22717,-41601,41280,16423,59615,93233,95493,-89565,-17679,-50255,60033,39212,-36699,1913,-20906,-59034,-84344,-71438,-8283,9073,83986,-563,-61707,-86504,-33104,-86889,7210,12237,58201,-33075,25896,-31032,-75375,841,-40869,94846,90105,-78301,74866,-9856,-14342,-19829,56113,49492,-23178,-43324,77405,-35309,-41601,-40639,-58013,68717,-42499,-65618,52305,-16132,10134,-8393,21834,-31192,43317,7773,-30663,73747,-85674,-33191,-74009,-40131,-8284,70524,-31940,92505,-29540,68151,-23421,-8393,56258,87182,72946,56743,-25148,-87047,43940,98491,15735,42367,-45473,41434,95983,49648,99457,-69890,64232,25337,86350,-65920,-48893,75631,-13060,77102,-66737,34380,-63683,-22875,70714,44846,-3653,-87970,-66369,-72147,-34535,-41509,-33272,79261,-39320,-66466,-31230,44613,70521,54196,-44012,19625,-53969,38995,-70867,-69138,-94794,-19433,35082,-67480,12367,-73016,-72281,19222,57846,362,-94392,-97300,45342,76086,-97338,-15033,-85963,-73559,-45484,-40961,-6650,-15771,-3981,-70753,32620,88994,-82300,40946,-15541,40335,40050,-90551,-1933,-9438,45546,-73939,19480,35902,85663,-35426,-46113,94242,-77582,-50487,53988,97576,57457,97111,37190,66566,70231,48574,-76003,64312,-77242,66674,97071,31235,97032,-17287,-34646,99651,-83612,68248,5089,-44667,-15826,-18275,81396,-60886,-52357,36535,6661,-90641,-53346,-13075,-53945,7357,-53523,40311,-10041,-70531,15587,-59584,-29312,-61640,-98104,7667,-86794,-22201,-34248,-77359,52799,-99981,-33404,17143,-22880,-49829,-17602,-78089,-59588,83521,-77220,-58871,23765,33889,-54574,-66869,3956,-25728,31913,-92565,-82840,92910,-93110,35439,28555,-68655,89844,-53759,81392,10117,47380,-18452,-57086,-65674,-6332,-1279,-54824,-92145,95878,-11652,93596,77154,-18214,-4788,90645,43628,96124,-94787,-94971,38111,48548,-52144,82163,9553,40234,-43907,-58336,10577,47190,23120,-49544,-44884,-80041,64209,-16534,32865,39815,-393,-36252,83293,-13797,77178,89615,6921,-55147,-41840,-20203,88090,-56629,58226,-86023,-20699,-2386,-66738,-47994,-81066,57720,-18844,26333,-80954,-57406,16036,-23387,3974,-66,18858,71217,54101,61591,-42802,-37430,88516,-48888,54671,-62279,-53478,85671,96544,-28431,40515,-63239,-65099,71154,95559,98936,-14808,-47084,-33394,-10217,-85721,-76394,-57102,86742,-12726,25383,88328,84604,18667,-66012,66730,-92250,6551,-67944,-38200,63031,-66635,-9099,79561,-34918,-80988,70460,20431,69497,-92307,-84277,57231,-39236,-48858,-16428,-93388,95355,-71231,54186,-8156,-14768,-34989,-84818,-76566,66630,47649,-54006,-70498,-58813,22651,66066,-58985,49581,99612,27376,-20892,23635,-90499,-34108,-817,-34073,-84896,82396,-17855,69250,30506,709,-10747,31949,-2210,-4369,27336,-28471,79360,11148,60184,92104,-25418,85321,62420,-89929,12885,-9706,-88718,49206,-17331,-4118,44173,86870,-48491,66711,17891,-73853,-85879,-47950,-34829,-25474,-83636,-47455,78881,19756,-73436,-95667,95644,-60247,-57444,-42035,-25642,89793,18245,32677,-56372,-72821,-60921,-96997,60493,-71005,-32751,-3186,20144,-97884,-24292,40586,13029,-28635,-89265,29499,47535,-22626,45462,7988,15329,-6752,23226,-78705,-3279,-79431,-88503,76763,9926,63424,42665,12248,-47504,66262,-21782,-32184,-72883,59833,73462,39211,-65938,46565,38166,80182,-96964,-27125,-59921,38816,-99180,64838,-11733,78321,73267,-39980,-52463,-50951,-78571,-33995,28113,67946,-86419,8722,77710,92638,-56300,-56355,12095,-66360,-41188,49053,32910,-26963,38679,83532,50980,-85937,20316,97372,34534,-96064,-65108,47978,-18039,37806,-8540,31853,-40321,-9564,-5768,-95986,-37296,5182,-59772,-13319,4621,35189,68625,73625,92882,12688,-51531,-64253,49259,-44303,63992,31552,6397,20707,-92386,72894,-3511,-7658,-26612,-20680,66281,-47732,-97519,14307,-78850,37538,35251,-1603,62518,40461,-35431,-52011,15888,-65486,94870,5882,-88048,-23210,-71171,49694,66239,69710,21182,87675,-80419,-13492,74645,-32484,-59617,24616,-73009,-94577,-855,81387,-87913,37324,49044,-14584,74067,63507,-52404,-93496,9978,77610,-77220,-73614,23551,-82291,-53264,-63145,87609,81876,-23663,-33094,43128,-25052,69626,45712,97646,-75119,16077,44982,35709,-44302,-28658,80399,61941,92678,-76575,6624,67355,-31604,-65638,27770,25869,92503,16964,1574,75430,58478,-78107,-78834,77810,-35377,60018,67859,73273,21648,28889,63974,1378,-65594,-22640,-3603,82987,75887,74294,42208,-38477,58855,-85918,30238,-5961,34006,45035,99538,-60793,-27132,80141,55315,-20085,-47851,15219,97334,2870,-56594,-68156,55849,49020,-40780,-24788,-50011,-59927,-26093,58770,6204,-14001,-34802,4535,67737,-87833,-72188,40954,75202,-49716,-88838,-13943,-12758,28261,-54778,-39577,-36919,-46110,64479,2261,81081,74190,8479,-49267,-26100,-783,-76984,-11101,40231,88638,-53177,-38502,-27430,-91642,-52425,-46198,60009,-37040,50842,40598,-25054,-78306,52547,70202,-29842,-76419,68344,19476,28760,-25697,-50652,4502,-36022,-57665,-64374,-18965,71618,-60911,-17562,-73993,-81204,11193,-75370,51864,-35198,70097,-78420,-68734,-18517,-25546,13335,-32857,-19079,50029,82977,31219,-4200,44658,25909,68215,-14854,99371,-61204,-70935,93799,25297,-76525,40162,79206,7060,66456,36511,52587,59993,77990,36464,1327,-45470,59844,88171,65300,-28947,18712,90361,-95956,12176,-62210,-23068,55217,-77064,-65569,-24532,-15333,-3726,61532,9824,-34691,-10512,7657,11342,34163,-82953,-86599,-25664,24802,-23551,62922,96953,-97284,93407,-88979,-25546,41547,-37674,41355,44657,-42826,-92395,84553,-31334,-56771,-70928,72965,-77962,15021,-16999,-29340,-16720,-3797,33934,-10333,-72035,-39094,-31156,-39189,73785,35622,-46065,20614,-12765,77816,-52562,-70066,42127,-15760,55464,22535,47491,42647,-61720,-67253,97522,-33223,-55986,78751,-89426,-83862,-29542,-28613,-68538,94449,-99620,10182,28201,11230,82464,25901,-77924,-19501,73505,-85940,-9549,58419,-35800,-93645,-45577,26974,-9068,-14374,-95103,-44002,-20065,54785,79459,-70659,28259,1542,-9062,65041,-22738,-5885,-91047,-41446,-83775,-83843,-88973,64843,73918,-92597,-53384,99497,-33494,34221,-82982,23455,83127,51751,-56372,47770,-58110,50612,-78860,59623,-14448,80506,-76762,87815,89280,25469,60833,-50471,-4170,-385,-25727,79804,19643,72651,1502,-84537,-57828,-34707,21557,93140,75200,-85633,39072,14584,-1406,10002,1109,86773,-98322,79239,-53887,-42169,-63074,78780,-94596,29574,93160,-36455,-88668,-72568,83035,20498,-72159,32306,48781,-58081,60679,33113,76124,-37982,-77020,87104,-36075,-9103,-17352,-5169,-36318,41883,27675,-73745,15023,-34124,65194,34059,-87198,-55484,41999,31013,-16291,33138,30582,63006,-55790,78104,-23535,98241,-83586,-42048,-49167,-50858,-77309,-41509,37789,-22062,-59623,-17529,87064,-7359,-13892,-93925,66954,-95930,-30219,14770,-78152,-35261,-36966,17516,-62174,27528,-51818,12486,73152,-26720,-83467,1671,-87529,36553,34729,-86223,82053,19339,12121,-39351,-5391,-58949,23528,-13630,35708,-86371,97931,3202,937,7442,-22435,-18180,15945,3917,78857,-77467,9819,56268,58229,54962,20021,-50359,-59952,81940,6597,-90754,-88463,-520,25872,-3052,74567,-96040,77614,74959,-83988,-72967,-94756,6531,-96445,91617,93125,-18177,-34073,-57946,58102,-27029,47615,41959,-77640,41211,26705,-92179,-24475,-93015,43869,88291,-51481,53104,28484,58129,83043,-72890,-39822,-50325,4108,78812,82370,39093,79309,71295,69679,-61637,31899,68876,-95542,81319,-40695,33080,-79378,18122,-97574,79096,38601,-46744,-79555,7024,73888,47125,-46109,94010,85713,-12896,-89415,-93148,-30353,62140,-31944,91321,74416,-70128,-80572,-5599,-63323,51121,85671,-38596,-70952,38733,-76311,7135,-70587,70512,-18062,55333,-61987,42700,30259,-55458,3041,35299,41691,74138,80004,-29219,51663,-90849,-35799,-84575,1767,18678,9897,57057,-88439,90355,-56992,72602,65675,-50233,-211,21325,-52616,46386,-51349,29065,-56505,-10185,-5017,-62234,-35371,-8020,-50279,80662,78657,-42036,-73041,55886,-31594,-73705,48476,54533,49160,-97986,70055,-42897,-97206,80477,1056,39382,-10610,22580,47700,-90358,7234,-72251,-46301,19867,-17365,2926,-15393,27438,67303,18018,-47206,-57921,-98977,99918,-60636,6491,-33266,12566,-86328,7347,26637,35703,40948,-11209,-23026,-59249,-60956,-70638,35366,-6783,-92329,23593,71750,29078,-21545,-76376,66965,-12777,73275,38714,-58478,-89282,42769,25346,-7485,-35777,-83484,-99885,56831,96170,-93648,-76365,-83731,70966,76572,261,76006,26676,-51994,87780,69934,74700,-25738,-91408,59373,14781,-19024,-90047,-63606,-60676,3648,-56824,-27247,-17160,69095,18449,-54549,-62225,-30974,-44064,26478,15109,-77723,-81863,43993,-30154,-1389,-97175,14598,-69778,19803,-39534,89884,-22867,-33942,-64502,40073,-93717,-88512,-78378,-32345,-75466,10224,78740,60858,34432,38242,67843,-7257,-36490,-31871,-91556,28379,2736,54931,2528,-97052,-87264,-31408,73860,19740,99345,5351,11730,-873,-91729,-6516,-34051,49309,-30737,-32016,89303,49074,-66933,-92957,-53743,43452,86953,56233,20247,29403,37163,-47518,-26357,48929,13017,-89751,56596,76808,-46160,-23321,55541,73190,7526,-41590,7790,22869,-86214,21307,72702,97837,64615,99342,-93350,73131,80227,44413,-19358,-36575,-13598,88171,-76529,27955,-31023,-10411,-99735,16915,-555,-64657,66638,-67506,-52135,-74179,-54760,5701,-1774,-29854,-88016,45324,-60590,-6270,3032,88457,89126,-40200,34057,-89840,34870,12492,44856,-68414,-73849,36998,-33528,75559,2847,-3197,1434,49330,461,-25629,96778,-48942,84572,-17653,56129,45627,-59003,-49388,-45160,1370,-8166,57199,-44814,9088,88851,39245,-44487,45178,-52547,-90403,27449,-57747,38769,-11911,9246,84604,7295,-5278,-89189,36257,90392,-78161,88295,82081,99445,61575,21984,65524,55159,74309,-16345,37362,58768,40355,54116,-17282,-86261,-44747,-53880,8164,31445,90247,98803,-28802,-16880,-37572,-20565,71389,64678,-46939,69123,-65626,-89560,95850,22432,55760,-25746,-25313,-84543,-89418,-8209,12923,-48929,89524,48402,-94494,-7024,-47724,-370,7252,-61412,40445,76704,-601,62615,-71405,35575,-12717,24923,64900,-83814,97058,-94514,-51189,-12375,-10000,41711,44491,-23502,85237,-87616,39449,-93149,1478,96951,-92389,-25565,-55297,-99539,65793,71586,-78014,-5081,13532,-85755,97712,35039,-55583,38593,-64089,210,76420,-71306,12904,59479,-58071,-24422,-63209,36014,-49838,-31321,-92794,-94215,-41187,-37846,24577,84681,-20488,59976,44469,-73582,54657,-43892,-57453,263,-69323,13797,-192,-20999,-58954,-4553,-40942,-75427,67710,98368,27246,-2884,34500,-72529,-40028,-79007,95387,62064,-17837,92234,-1132,-34755,69688,-9644,-5249,-88308,56530,-91252,90978,-11154,-15463,27513,-38410,-35768,1478,66348,-96664,76186,-19626,29244,-83086,-23223,-78845,-94365,77838,-35533,-32054,37157,-21022,47056,21580,-97910,49734,7418,82184,-86257,48000,38459,-17829,5755,22225,-24329,-4139,-88211,50466,23966,-27482,-19351,-7987,-18034,-35671,-45792,26111,84100,-40452,93017,-12253,22137,6151,-59857,-88520,66453,11706,81795,15922,55954,-73159,72377,66006,26257,10356,27168,79190,90676,-57797,-62267,-42531,74154,-166,-16055,40201,40337,40726,-84888,-1079,88590,81487,-248,-7872,79602,-7796,75735,-95827,73131,11222,79083,-31439,-55830,89411,82695,16347,-31214,-53324,-80900,36482,-97677,-46026,-36612,-83972,55405,61983,-96716,-85737,83486,-74755,-96527,65738,-24891,5472,84262,-40961,-89479,38866,68052,-83944,48678,28974,-86619,-2427,-89325,-57071,47879,71575,92409,-37632,-2099,-41502,-10232,-68369,-68413,-39320,58397,3258,44490,-94743,59372,-56385,46923,62984,71736,55399,-74990,47268,-49991,76202,16497,-30518,-98883,51042,-69282,91214,16543,10514,42797,-62891,49788,96714,-35773,-7435,37309,-98986,-25961,-32019,96787,32523,-24756,51423,-24932,-34810,93675,13023,22904,25303,-48016,30809,-93001,-16826,27321,52234,63000,27938,69090,42462,-49402,41901,-28298,-40191,37784,-27364,-65442,-29308,77829,41552,20793,-74531,-42669,-84233,-93440,-45255,16046,78220,-34308,76129,-77823,60018,-17936,-66276,-71755,20855,-22822,-99402,-6544,72598,31652,-32810,-62447,1611,15754,-53524,29720,3242,36061,33339,75220,-55788,47474,196,-16123,23154,48097,1083,27681,91437,25803,-32803,-82360,-49935,80814,4935,98763,22426,38440,-90991,13033,-23286,-66210,22110,-4484,-5074,-58280,40563,-81410,26090,-35208,24824,78347,-87392,-79892,-37432,-76733,-29729,-73668,-44252,-2532,28475,-53391,-83122,-10103,99264,63564,93346,6247,41841,17201,31689,60513,27998,-46415,4058,-79673,4077,3906,-8388,54819,-44031,20362,37964,20612,-42344,32164,68993,-67490,713,-12586,-71226,-27656,59204,-8737,-16268,-30691,-12435,-93103,72370,-95930,-11585,29905,-97107,-66446,26140,-92439,33075,1301,65716,54533,-17979,-29389,72447,-75581,-4587,-39595,80933,-40107,-79185,-76365,-65185,12713,79806,-51962,-3740,41709,-7888,17355,90591,78205,-51706,46189,-77947,-62922,77574,-53900,95299,-8488,-15014,-59557,-95217,67063,51724,75061,-53693,-74028,-74523,-48275,3657,-57170,4592,-96085,-79211,-65047,79452,-76437,-58565,63684,73737,-47970,-61131,79093,39316,68623,35146,50741,-97559,69394,25850,64143,5684,-31014,74505,79602,47876,90213,-37977,40749,-15301,38873,-41077,5282,-13,54620,89874,-56659,-24146,-48126,41336,2041,73314,65057,-80901,-96236,14650,-23066,-20665,-77541,16940,-72489,33161,-53959,-93441,-33678,46079,38827,-82785,33170,-47420,-6226,27219,-80867,-54863,-73164,45284,-42040,10420,-25671,89636,-23754,-5992,-63193,25256,6264,-1151,-14200,44881,84498,97383,32983,-27165,91496,-44496,-50284,-2613,-6206,87670,15893,45193,-65481,-22463,25636,-2831,9543,18364,-89060,52402,31505,-64872,-75850,-46603,-46609,-71628,-10330,-96639,-61616,52836,-10199,66097,-38094,34864,317,-68555,-18711,1994,-29947,-74118,36858,42215,48831,62716,-30775,-74214,-35900,-44445,86400,78877,87846,-44922,-36333,23954,-19837,11918,75823,8003,-29717,-60439,4570,-86371,-8702,-70846,67868,-95480,-65076,-70190,26590,-17788,75357,31681,-72766,-71699,33093,-43305,-28498,4176,-37827,77702,-2356,69261,85507,-57895,89270,-33514,-47391,-32261,21763,-16221,9657,-7213,-18286,70768,84548,26488,-58940,-66236,-58669,7292,83631,98734,94435,-75187,-28420,-43671,-57275,-50920,44178,2826,3773,-99228,-11619,-63150,-75740,68751,-48641,60968,15926,-80281,33072,15377,-6531,47796,10780,31255,-54070,-82039,76336,94147,65525,891,-72222,82887,-69834,67566,-30217,-58655,12606,-80211,11204,-42093,-2661,1693,-55493,16440,15713,-70832,-27438,4474,-74466,-38566,4229,-82884,-22103,25508,63584,2951,95440,8051,14052,-85027,30802,45596,17244,-3721,-2740,47504,-91198,99240,-2231,-21367,34692,-28785,90203,-17858,30316,-48906,-99739,-53982,-48699,461,76202,62156,1031,84698,-54087,23061,24118,76195,-52114,-40248,20246,-64087,68877,87237,-83188,-51780,-43824,64579,41310,-25684,3762,62057,19486,76120,-96927,27936,-7882,-87367,47374,91567,-61377,39073,75773,87164,-2047,-27267,-60639,93032,-17984,23608,-12153,-95036,59657,-67510,-50010,22862,-79777,45536,-16890,51639,-80323,-4064,80475,-6472,-27886,-19754,73608,-64840,-19424,-77509,-50755,29832,-31678,44354,75870,20428,-57931,-40058,24674,56081,-53729,-44721,-36602,-31969,93308,-11066,-87528,11325,-4751,-27573,96309,-90100,95467,-12561,51829,-38978,2396,78727,-91518,-69059,2666,-79082,73652,38803,42577,56630,91521,21531,-18886,-20892,-34586,70400,-84323,17248,-37424,-90648,-16988,42519,39969,39628,14073,65039,87270,70544,-29033,-19767,-10823,22247,-5744,13685,67728,91189,-10653,32750,-59703,88543,-67986,42702,-69151,82743,-39438,89172,-10241,20795,73294,1768,37602,11086,-45636,70122,-88433,-61105,20842,25257,-59768,-16099,-83671,22199,-6709,17636,88442,-53492,49370,-60880,-54064,31048,-75731,16853,-36666,36596,73099,10235,-75149,8558,-69774,93744,5705,92550,-55244,16594,-51364,91638,62301,65310,-41635,29070,-87898,-82665,-99572,-51075,28931,65251,64665,62941,44592,-29665,23489,45685,-36563,-91541,-97192,30226,-95546,-89092,13635,93588,5606,67298,48588,-10697,-11962,67744,-83018,-42391,90460,30565,52125,-53371,-10587,-10655,52755,79365,-80291,847,-37603,-71253,-79047,47876,90283,-34354,5949,66783,52132,25441,-36443,-58199,47289,-82491,-83866,93716,45137,-13372,-1840,-39888,35379,-63901,67594,-9131,95478,44083,-97989,34492,71074,69748,-80366,-65814,98031,64061,-75852,2874,-98694,-19330,-24296,-16947,78493,-73241,-29710,76756,33740,-96432,-86453,26129,-26308,-69047,-47730,99735,-51225,38436,-24329,-18932,46945,-31246,45778,26484,94770,-79883,-84281,-79698,75145,-41014,-14093,-35843,55882,-96460,17118,-75219,49490,82748,90421,-39070,57903,78501,-77880,23229,-85355,66148,21256,-90148,217,-86109,-29831,-72047,10625,21927,-7186,77483,46362,-79708,92707,-7987,-1176,7979,-84979,-64143,28324,39114,48659,-50036,9877,98737,-32298,46613,38385,-20167,5822,-9189,16666,74338,-68005,31125,10506,-76349,-91675,13137,-3524,-48714,-68845,-26613,-71884,94857,-88140,-17055,81874,29997,-68499,7430,39932,11555,-88104,86143,56903,16979,35934,-30012,-12048,78509,16856,83085,-73109,-77687,-22685,-77024,75484,-16502,78859,-82116,-59566,94865,42449,67577,-3299,-55183,49971,-17682,41300,-28052,-9461,-50771,-12249,60114,-3390,-50457,-62536,-44140,-73453,-91341,82727,28579,78346,-84867,-24904,-8340,-21311,-7496,-52577,897,-78076,89961,-95285,83845,-13843,-49590,-78540,-12765,28482,99322,-24184,80866,45898,53112,-69454,-55448,-32868,77882,-18127,82643,-76051,18240,12555,84883,-14000,65471,-62924,-25209,89162,-62645,-42363,-99749,-79903,-9711,-48485,90816,-22249,16106,-91389,10309,41879,97858,-77330,-71388,23617,96165,57752,25326,-66699,-17013,76151,-2528,-73759,-37867,38925,55971,-72617,-14602,-11249,-4999,-13537,52351,98090,-45398,30398,-161,37137,41628,24871,-53413,-18363,46333,9254,29991,-60608,-32811,-91480,-92495,74508,1825,-72505,-7383,-68681,-54132,92757,-29224,-5818,-13887,-33685,94804,-61093,-42927,90486,-64518,-29197,-22678,-99893,38044,76657,31197,-83,-51958,-56991,-82225,88963,-55116,-89373,40130,33505,-48878,12689,-33112,-62994,-39914,38619,50799,23044,10687,-11040,30156,40944,-24026,-26568,-98780,-86379,-97405,-22383,-2436,47669,71859,24492,39368,-4444,70397,68600,-41335,6767,99265,-96670,10730,14464,-61227,36884,-34374,967,44202,-74078,91958,-92468,10611,-90585,-90246,-15851,78155,-3762,76148,89859,-24108,-71114,-78727,-34115,-97373,68502,-49191,24018,55787,23168,58827,-56386,15247,41093,-3810,-90736,85308,-49783,-38773,91486,29299,7333,-4939,1850,97128,-9648,-82500,18274,77889,-88104,-8090,-95130,-69308,-83491,-12314,-67477,31331,74513,11584,67058,15606,55324,-3276,18183,25204,58887,96230,-47345,22007,-76125,64613,-15893,-24063,-69828,-89899,22811,83393,-99168,45037,-29999,-8562,81933,86383,-65459,84454,6162,1010,-81002,-80487,-13301,47715,-15517,-51064,-91023,76789,69875,-23700,79276,-55478,40001,-97828,-13922,42809,4533,21275,-97633,-2226,-82807,7752,-32304,-29333,24635,3832,68571,74899,67234,82195,-32685,-20743,49123,-13009,-76467,59760,-31119,-47266,-20422,87530,84502,43700,-43614,-65833,93364,90795,84735,-43101,62296,-27187,-21757,-71719,53474,-1496,-94494,-79377,-68756,85533,38746,36473,-11730,6494,-44536,89002,98178,-72903,33403,20680,84515,-36722,-5801,12167,-99192,88551,-16109,-69706,34603,58396,61259,-46523,-40258,-48359,-3198,-51810,-2058,33406,66093,93111,-22785,84811,-80614,69942,3921,-95082,-80767,-32702,-63979,83276,62224,-97054,-71421,40050,-56490,-32155,14309,75283,-81069,62372,74379,-89735,-96742,6305,-78679,9356,-4393,79890,-62893,-77297,-43076,19352,-32523,-92431,-21462,-59012,-67252,-67843,88685,81279,54685,63447,78313,64283,48202,-10578,53025,53718,29653,3524,98338,-11197,-7807,-67897,-12573,40881,26412,40805,39369,-97820,29454,-17973,-5299,37398,19786,62245,13903,87417,24408,-27313,-1350,-27789,93906,-64186,31313,-99016,1209,42764,-34576,35230,57029,-10513,-37704,-8778,-85032,68616,-98287,-90937,-87295,-41833,29016,62243,-29802,-36904,-9992,-19355,24393,66370,22003,-4833,42970,-88212,-34543,-92285,92130,54925,47623,-13406,10578,51687,55773,99355,58030,66488,-11275,99316,37569,50472,5734,84193,47585,63081,-26838,65538,60206,-45626,89906,-75381,58852,98129,-35528,-21135,-28136,-44900,44333,-92077,-60118,-6552,-62370,-83346,-13856,-58124,-21115,63787,-94685,-54583,-71832,-49775,-81677,90819,-45179,47719,-84095,-40330,-24383,-5658,-21744,46392,19155,-26262,30536,48268,37757,27156,5100,50665,1881,44537,15313,43488,4715,1010,71366,-84888,-29678,-17848,30701,-84113,63076,-62755,65171,-15177,-22567,76367,-78647,80760,56359,15408,62227,-32110,-70882,-30041,-5419,27685,-95260,-22386,-31522,-588,-11504,46884,-46912,-56967,-72878,-13408,67634,-31482,18324,-72396,40290,91748,-79945,19839,-51045,21412,-93854,61819,20317,-98158,-95642,-83888,71,-90106,-63869,83137,-45811,-16799,24284,-41505,-79537,93498,-13336,-11582,44225,29229,3364,-31603,62141,26243,60526,55484,99810,82284,-63844,12185,-55798,9514,-43174,8703,39568,35104,-10122,-71225,58805,-8782,18228,36187,-16532,-79804,-28613,-95965,-80264,-1756,-60123,67311,-30179,70298,-97719,50307,69586,29231,-1408,69175,32997,-17769,-16731,-15385,39786,78554,92396,-39061,89508,-47747,-69344,-48639,29395,-73953,17474,44418,-81840,995,-91225,-55320,6286,20126,80971,-38722,-44157,42465,-66404,-52522,69634,-57668,-75383,-81929,-23700,47868,36082,-23265,95506,64684,12650,-16960,-47148,99859,84313,83408,-16805,57957,51930,-48935,-30376,40007,-90640,55394,-16747,45775,20247,-88578,59205,-46950,-47099,90914,16131,62315,67823,-43220,-95402,-25784,29825,-55896,-8283,65685,85164,-11585,3460,99548,-13137,76080,-52456,-94191,80608,-19236,23362,1215,-7395,-2573,-65911,-64864,-65863,-37839,84838,-51870,76015,58284,36371,10250,-89794,56961,51521,-80721,11540,-75252,61095,-22872,-52239,-64894,69751,15121,-31258,-57295,-36718,92338,-68803,-96892,-83578,80356,-71073,-40001,-75510,73373,-93415,33877,-17062,68091,30638,-28203,30885,-93720,13511,-1381,6237,45830,-8701,-84581,-74975,-9824,94529,40137,-34295,24049,42211,44780,-1644,5995,53294,63550,-25284,-26493,-85353,75627,-6827,-3704,79806,-11534,-36830,-92204,-88321,7807,-10063,53113,-95918,88512,-68192,-29237,-3462,-19670,91900,80411,64324,-41253,-75987,-90358,-64998,10354,16829,64320,-68929,37769,-51485,73301,-22425,54061,3593,-68166,24680,-5910,-42351,-59589,-67258,-77435,-64415,-62792,86661,-62122,-6767,6587,-30792,-43311,37988,-27684,67645,32414,32859,-66063,-26080,-40998,-17840,-94150,-82380,-67864,-21841,59636,55045,-38384,5713,-84682,30335,41472,-74957,-21512,-35638,9789,95284,-11068,-52004,-89174,-54687,-62240,-36503,70784,-34686,-30582,-49790,69756,65590,-63471,89982,-17284,96845,11414,13503,9371,9159,-97688,-97271,32984,27627,25865,24314,-2268,-99788,57949,-61272,51119,52664,48159,-70481,-72365,44368,40480,64279,-1799,46888,36820,48438,97329,5700,-1136,-16275,-6625,-63426,18765,-68654,61700,-21803,4459,61424,-86420,-39419,-61418,-99382,83679,46274,-8038,32914,41549,-62892,-75138,-75546,-59549,79965,53284,-1157,-4146,30904,92416,-50043,50344,89904,36567,-24902,21604,11071,-24361,-92222,-14411,-70578,68913,-52469,-90420,-84743,19552,28619,73336,76975,-46859,29625,-55348,38134,80163,94799,-20515,-96947,47161,-18441,73857,-62095,50972,10739,22159,-74184,-37187,-39625,73071,-50530,-9162,-826,-65424,21816,-49566,2977,-21005,-64569,-18380,9762,-11044,10273,10699,-84683,-27120,-19813,-50995,-93062,-15031,15199,77658,1883,-41119,-23758,29157,-67669,22835,-12977,50497,95761,-27782,21484,45765,-87570,-56787,-89158,74142,37295,16504,-5103,41891,25645,37241,13322,7697,-78641,-69845,86237,-77655,36501,-40408,19032,19223,78550,59514,-45168,-49415,-61818,29597,5335,-55414,-62343,16346,-24037,27229,65940,-46206,-29455,-98807,-12619,-81479,-20900,-36003,-25215,-10996,-24282,10833,-99881,-18320,14836,-8872,-78656,-30239,-46207,-26526,21593,-92005,36770,-40217,-81869,93801,85778,97660,-52397,-60905,-35160,-61281,75885,6272,-97441,90431,84262,-45026,-90082,-30872,12510,-82301,22946,-69042,37751,95765,93826,94831,-1913,56540,52824,68625,67029,55026,7363,8981,-36220,-49722,62119,-59665,31508,-85589,-88923,69133,89248,-54132,31704,-82286,38967,-84688,25221,-98353,99371,-81998,-57958,40528,47969,78707,-87625,64339,-4393,32568,61711,3195,88145,96438,80408,87254,87011,1638,-59731,-74950,-38171,93794,-48386,-92628,73297,97210,-99901,94489,-52041,71323,95707,-66230,-4788,34647,24366,-17402,13691,63247,72623,-56525,-68104,-36767,-44604,97953,43005,-22399,25701,92498,60716,23965,-87812,-84877,53191,59037,-94709,83862,77844,-27685,-74717,49299,-64052,84444,8474,55822,-50261,76961,36754,-45161,66575,-62666,-5238,-98241,-49143,55441,-51696,19652,-36551,-87783,-3268,24695,-72446,9604,5302,-38271,6477,-79030,-80312,-42143,-15921,-88163,9963,16114,93725,24313,2208,40516,76564,54350,89736,15949,-53367,78750,-42374,77885,-80180,-82439,59208,-2924,-56118,62571,76053,18591,13077,95707,-9937,-43556,-45952,22942,-17055,-54796,80498,-65692,92053,46394,19238,-71934,-36962,-16619,36905,54447,92098,50267,-65074,-74274,34186,37200,10410,97774,8660,40636,-54694,81253,95479,-8247,-45666,-68295,25118,-14437,-87012,74865,-53061,88109,67922,33541,96338,14826,-4497,-66580,95757,-54043,408,-18358,-14226,-64095,-43463,30059,-68916,-27240,-17234,-70251,81338,51474,15267,-54345,65513,75628,-76550,40715,38899,22731,-93340,57068,-22460,-99383,-68044,-25746,-49913,24980,-41451,90457,-51977,51303,66652,-49242,95030,-27677,-11313,-16162,43886,51508,-7217,-72588,-97541,47482,76446,47378,28036,89187,42497,58015,-62202,-67162,31958,-93077,63509,-87211,50933,73759,-53048,94507,-60898,12147,45063,-23145,-61489,55977,88008,46678,48558,20236,-63702,65020,20482,-60946,56607,-68443,54373,24996,-2643,25294,60526,61653,40416,74084,-82701,-83022,95211,61642,76081,-54992,-89495,69493,41170,29909,-84707,-22606,97650,-36544,-99707,-88702,43693,51412,86301,99589,52301,89791,80859,-25515,52381,18160,70547,63738,-89891,11268,-35839,57320,57336,24699,-31074,-28873,-69411,52623,14725,35892,96432,84487,18426,25856,52363,69315,52780,14254,-75192,-40929,74926,-3677,3526,71533,40944,-39867,-93774,44213,67642,-78489,47231,81756,55237,71386,81934,37378,49182,-20520,36154,-63971,-36996,41481,62146,76998,46678,22017,-9178,2937,-81505,-4011,41395,87796,77377,-93155,74602,-27719,5071,-22646,-2374,-84816,-20275,42393,-21644,18600,24245,38894,93102,62990,52689,-69218,62516,5507,89870,56993,-29169,54143,21853,-16554,-65222,7933,4659,90747,-68656,63089,12895,-5653,-1471,-87543,63411,72768,85744,-21401,-91949,35033,-63264,82665,-71470,-44955,68376,-37004,6680,-35988,16470,-58647,-72054,-97066,20012,86213,72578,65530,67447,63809,-61353,-71311,53921,-3877,23944,-98285,19238,89596,51089,38616,40246,-57078,-80236,91134,-99539,10805,92309,80854,29638,-85521,52946,-84132,-78672,10083,-13069,-34940,58198,77724,-63731,9078,82400,-65107,-25852,-51482,558,86775,-68767,95315,18863,82971,-97542,-4221,-1665,15866,-16689,38350,53462,60349,52479,18879,58108,85124,-26906,-28241,66329,-14052,27904,-86354,-1422,-38293,-19358,1670,22134,-76134,-79278,-76947,29083,53395,-54860,-28761,-33790,-39576,48739,-53777,-44177,-85015,-7267,48083,81568,-16997,-99986,38539,47368,57294,85076,60056,21856,48467,17940,40368,-97437,-21606,38925,-23336,13231,99111,1980,78061,-28216,-90496,-45899,-81491,95775,-25950,6166,71915,-22757,-12545,-84656,13130,23140,-1716,13982,-48497,63907,-77557,-14174,-36834,41349,-96987,-72208,46405,-82940,23714,25113,54116,-10091,-19553,-38250,-60740,-18705,13041,-17191,27275,-18082,75544,-29250,-91372,88629,54505,239,-26117,43892,13845,-90498,-39394,19384,-41774,74219,-41014,-11205,95211,19158,-41113,32851,-73565,-72699,47742,346,-49597,85122,-42712,2386,68938,18673,-81267,-45177,1258,-1187,25027,50400,-90753,-38025,14366,56167,44773,-41772,14843,92474,7718,-69482,53411,61445,85607,15012,-739,-47853,-24836,38203,61464,70560,29653,46731,-12170,-95238,57258,-96960,-87811,82241,-6801,-34271,-32853,-66455,-98465,98032,-37531,7004,92250,-37205,52290,66146,-73643,-96139,-89842,24060,-19591,-16948,63661,74004,91869,-43527,31948,3529,25185,-9786,-46544,-81196,22269,28071,57138,-91647,41370,63095,43942,-31536,-98891,75095,-59925,-34145,83372,-45334,-58012,-16172,51492,26143,67888,8727,71445,89605,78556,51618,-19216,-73813,49601,-25681,977,15338,-39769,-99350,-79810,59074,95219,-54923,-15375,-45171,54948,73646,-70138,43688,61778,-53004,-73090,-25013,3071,40890,61920,-268,-38693,-48026,-2187,82029,92572,43498,-20953,-81030,68302,77836,67074,-95419,-23662,87611,75775,-49163,27592,21545,-62093,-22705,-90038,-98427,17029,-18400,-10852,48100,-97770,-38888,-96324,-96558,-24981,53984,75412,-9262,99504,55115,-31549,-95801,62719,-48363,-96357,34820,-60601,-98137,-77810,-56383,-94268,-69220,-184,38556,33617,93826,-47550,5550,-65979,-20453,57573,62538,98843,-68054,64883,-57827,-77896,-9971,66774,68702,42132,85101,42702,68117,89505,57805,84521,-3573,-26321,-46567,-8156,-12353,-73083,-5954,-44715,-76745,76027,37947,81931,74213,3160,34091,-58923,4483,12150,7393,20922,-75578,-81951,38627,59805,52899,-15935,33973,-38558,52278,-29595,-89052,91275,-42531,941,-96419,9871,-11285,-91665,94052,-55740,-2011,24138,84669,5952,3135,95249,-71410,-59166,-24939,-10436,58492,-6222,-7431,33295,-90855,84031,-19409,-16285,-98263,-30168,72467,72181,-78342,-60768,1136,-79751,-14415,56426,-32578,-60927,-98832,79249,-50284,44416,-25798,-6553,50308,-40458,54506,82240,-28572,88869,58187,-6567,8247,-35883,69100,53143,37720,-18762,-88517,-43675,60093,70265,-83886,-62701,92448,-63839,5401,-25773,-80560,-20375,-17608,61279,45795,-39367,-20009,-58781,62593,48610,-98404,53032,-90573,-2065,37111,34325,-12947,-70081,-49364,-27704,-63679,79485,-21429,-10666,-86295,-97215,99757,77635,25585,40185,97705,-4285,-64230,50181,-53808,-49607,-61393,-97908,95562,60652,-22070,-18456,-58219,-31982,-68962,95803,-29348,64231,11731,-8495,-60894,62804,91424,64987,-2166,30017,-53688,68234,-36870,13283,41987,33767,-38508,-92609,-89912,-27437,-4187,-36041,-81226,-71493,-75609,65932,68802,17505,34457,-81952,-94257,59840,21850,12223,-58868,-96043,-51089,-87992,-64717,97554,-68234,-11821,21219,-70720,-85265,2531,33105,-77221,30662,-64470,26882,58206,-90951,23636,27189,-86085,-7991,-57014,-92922,11249,59888,-98031,23477,48003,66403,-97208,-48927,-52640,-80639,52970,-36259,692,74399,57289,79447,33182,-49178,-60683,-23227,-88153,49511,-5440,75910,28649,-11309,6160,84153,98720,38823,-99776,11451,-64017,76165,-48158,72098,-30887,-85621,-68810,-41484,55615,76111,-80675,6619,51162,4196,-8312,1597,-10828,-24317,-56390,61261,-61517,-99494,78084,-36478,-56781,6437,86807,66854,-32811,43996,38680,-67320,-47395,95164,-46965,53439,58057,81888,-11213,55192,21881,-75968,-35384,67052,-48490,58306,-98400,-69598,99815,-63406,48034,26735,44641,73484,-4460,-94919,33325,24909,-10478,6356,-59448,78851,15637,-95044,-20735,-87770,57092,52453,-98933,-67185,32172,40157,80486,38990,70419,-69190,-62993,65,-29008,-46070,73231,-52329,55283,-97594,-26315,54071,70459,3188,86586,-48637,89104,-73844,-86728,-14549,-18887,-65873,49089,49078,-4780,26901,58197,58305,66628,-50971,-27686,68287,-6752,-50883,95339,-5755,-76531,32607,23770,-48194,-86169,58934,-30044,-13125,30501,18454,-87768,29641,92301,11515,-63369,14511,55690,33824,-80543,38448,-59299,80203,6748,-4657,-47515,-2271,57140,-62168,-91564,-64321,-39398,87434,39865,-58756,-63421,-98792,-89548,-51569,-22441,-42411,59549,20222,15294,11663,-89,97370,49370,-44371,-66523,-27195,-16377,-29411,-24561,-93297,64754,-76299,-57746,-40343,35040,-31792,93575,33101,-22431,-91291,96236,-38727,27990,9919,23029,62815,71967,43412,54257,-31932,-52997,-85138,42260,-70067,73434,39387,84370,-44319,-63051,-71465,-77920,-62702,28997,397,20664,53894,92143,84192,-31245,65868,-70061,75888,58945,-73215,16990,89729,9927,64910,4150,-27290,-51859,72320,14992,-71560,99372,92824,88843,-68238,-71136,-28863,-90826,84015,-41053,22968,38351,51891,69518,13428,65401,62157,-98194,-80258,89387,78490,-98149,-3560,18279,-53670,35645,6245,-60971,8724,-10164,-31900,42424,-16852,63772,-82660,-68761,32158,-80965,75422,37169,2328,-19542,20354,-19866,4782,-94830,93441,40910,68249,34939,71666,-77489,-19691,-97854,-14146,19328,49471,-34845,-88677,-72378,51809,-121,80662,-58033,-9209,10434,-30198,68,43954,28203,-18154,69336,97856,69710,55117,24164,23381,-78769,-74809,51367,-39159,-5225,-2691,29403,-80052,42238,71778,62710,-64216,-78141,83437,65703,-27457,75102,-59567,39138,-98666,47502,-62701,-3593,-66064,-87432,-23758,-57886,40867,79389,-20946,-52284,13493,68070,54347,-68323,61120,89242,-75379,-31806,-74178,-87463,15088,-24202,-77377,-15811,-75372,-24329,2647,72201,-1342,-22329,-96775,42240,-90204,-62790,-10549,97891,-60973,-78710,43477,22254,-13064,-87646,-18774,23381,12974,-71134,96172,-15440,94336,-17616,-10094,5960,-45181,28219,-2907,82026,23949,43933,70396,-17709,-19028,-34598,5441,95698,-54468,63752,-75425,11450,69663,31535,-77784,-85349,-69921,-43254,71766,15756,95706,21281,-24682,63089,7013,-83268,-47961,43721,-82467,44360,75355,80402,3452,70650,-84752,81175,97137,-83877,-14343,-16237,19220,-96846,40254,84790,-44133,-88314,40562,-57976,-5371,72931,-82620,52611,62249,-27698,46697,77867,-21009,29760,-95958,-14727,2360,45612,-53564,10198,-56283,-93385,28989,61591,-45989,44903,31252,-32203,-59139,-65443,39781,10362,-87698,-35884,-91899,48518,-1886,10920,-10062,-43144,-94546,-95011,-11670,-46826,19120,-31670,-27813,27362,91018,73263,-84872,-34148,-14627,-7983,-33059,-65107,78512,46494,-27424,83773,-31530,-63591,28171,85100,-97147,83820,51692,83248,90881,-3700,20800,-59467,18801,12759,-63645,-57771,72182,20927,-16391,10649,-83484,-24444,-57636,-643,-67890,27016,85388,22346,-99860,-88898,63993,-97102,-75389,-55361,-20001,91184,-13196,4482,-28446,8885,-98916,-56997,7547,4522,29894,72948,91943,43194,38065,-42786,-70680,-47245,-32510,38787,-47671,98239,49608,-26073,-86353,-40909,85540,-87812,-65953,98440,57013,38864,38952,-60978,88178,-83192,18259,-80361,2110,-9726,-35134,-73341,45138,-73050,-88727,88381,77207,3638,72817,-36350,86925,-16622,-83961,-24954,-57942,-32933,40835,5341,-97907,-30768,-38375,-92735,72585,-36514,-64301,86356,-13818,-1677,25220,-18342,85619,-53735,-22692,29083,37062,-64930,-62518,97629,62087,7379,-26451,84834,-63645,82171,-25007,83579,15472,17975,96602,85532,59380,-51983,-5101,-31029,20237,-81360,30509,68606,83643,12144,23021,42251,8359,58817,225,-61656,-47241,71009,-474,49233,56498,71359,-27561,41548,-42510,4249,-43067,-39221,-66108,-15159,14355,-38930,-71386,46844,-84631,1850,-56070,49264,18431,-64027,-47943,288,15500,37065,4956,-24239,80276,-41497,-44238,11553,89357,-62073,-54611,-44574,-6028,32929,93838,76213,81674,-12287,-75301,-26059,35386,-71465,-33611,-7311,97967,93641,8775,-17936,79927,65979,87852,1808,-81103,60136,-52747,-95960,-86417,-55305,-19247,-10191,-65326,-38047,-44074,-92374,54624,-65485,-76382,35644,-90165,18021,-67139,62681,82810,-95561,-97197,-36874,94840,97274,35138,10715,66918,66874,-51936,-10912,-4937,9197,-29479,89400,78377,82259,-76801,-63822,55214,45234,19386,-38905,94615,-78230,12756,53573,-13993,16680,11329,-20497,93035,72843,39112,-40631,16275,-34446,67668,96458,-32214,-18114,99365,-90352,1295,51648,26090,34580,-22524,13749,39722,26251,-74855,-33419,-88637,57764,-62582,-59153,51261,-14300,13812,-64915,-79008,-69138,-56477,-53058,-49441,-52338,31585,-38720,51872,75101,57310,-62557,52627,-63426,87652,-16341,-48760,53457,-35591,-47268,-36107,-69656,62219,20216,38252,-63560,44799,-16263,9476,-34714,17450,-74467,-53132,17792,-20193,92320,1589,55570,-91547,7794,-28699,39515,-50516,45509,-91027,-41326,-22995,-74229,49024,-79460,-61819,95324,-86108,62385,-47196,11562,-53244,97809,-81854,51497,83586,36393,-27154,31629,27144,60763,20675,-69859,-42072,16371,-95084,-96569,-38547,-57982,-66709,-43555,-50235,51510,-71363,99595,14295,-87333,-70440,-83319,-70113,-53714,1637,62585,70877,71041,66015,17676,-52556,-66786,52140,-74573,96727,21791,23986,-2039,11049,-52872,58746,68688,68038,3016,-92823,-52538,83120,-36012,20280,26720,53082,-66652,45361,71789,-17318,78460,-88263,84250,-57895,87338,4302,841,-92793,32783,60660,40830,9766,94575,-64203,18329,-16786,25569,84786,41753,-20586,-40012,48381,93324,-14837,86171,-31540,-48044,-97484,21509,-98630,-66601,-97713,25474,54270,-47347,-67188,-6303,-28128,-71545,47355,5955,-70029,33548,-26984,92078,90345,98345,40340,873,-96035,-76652,-17380,-4538,1960,-38030,47845,26901,8365,-40752,-77770,-67899,54521,23625,-81557,40710,-13981,22902,97194,36905,67751,-6624,44997,-38771,-5754,-20239,-84670,58652,-43162,71214,10041,19403,-18559,93054,-7769,87828,-17575,-73043,-12358,-19108,-82396,-5862,8496,-22120,61914,89934,-60097,-30122,-5094,-24839,21543,-85685,70465,86372,-34106,43320,-47712,28276,-89425,91268,-64478,47057,-73529,19714,34202,-83356,28276,34185,35036,76996,-45426,-74680,-27408,-93227,30712,-33545,39389,-32128,19703,-68994,-61824,13969,-54400,-35343,-60102,-59649,70842,-48087,66120,31120,-87066,20622,-33320,-10007,85866,33481,-55084,-72806,5378,48354,-4551,-85236,37236,26159,-82607,-63994,23374,76268,-74526,-6369,40178,-83187,14002,60701,-96623,-98795,-52945,-10837,-18208,-54934,18668,-75525,-52685,-15742,-10559,-8801,2195,99491,-637,62212,7170,9112,28543,-68266,-75677,-52826,-71373,51387,-65869,66680,-54869,66090,3669,-15930,43792,-52212,19710,35101,-93129,-98666,57677,37538,-41868,74573,52034,73724,87992,-21076,-20325,-34628,-29404,-24482,49410,85937,-61671,27915,-836,19688,-93900,53275,30191,39676,61138,-85679,14378,-91891,-43697,86804,54104,27320,55586,85063,-95988,55751,464,87952,-98968,-63153,-41032,12095,-7185,52163,-73077,81297,29064,25090,51444,60358,11708,-28279,-60827,44360,-49464,-35115,-29962,40411,-37491,34682,76183,37204,-31921,-23661,-91822,28726,21889,-76814,-43760,93746,50304,90964,57782,-497,32794,-73521,14032,41315,17782,84826,80806,68587,-61381,96798,-83447,-24805,20892,38419,79970,74459,22772,-2474,85147,10763,-35977,48660,79180,-16384,-54719,-62751,21014,13732,57011,32855,50679,-69535,-3348,56615,-82960,-14685,36880,63521,-24848,71437,-39222,25650,-35841,-94155,-45055,-82285,19545,99148,32311,89614,-15701,-1033,72023,71810,-7481,14935,87425,-79613,258,-36332,-57717,-37064,-44975,-87890,-13333,-95290,46720,42211,-63691,-44542,54788,25090,-26423,-20751,59250,-59598,-47094,-45481,52369,-87418,-13792,-65003,35191,9519,-17136,71288,-73761,-46449,72052,82729,-83577,-17065,-8354,79633,-87240,-21045,-83304,28848,70032,-82233,28733,-76307,57093,78032,-72560,43786,-33778,46411,41785,49752,-67399,-95802,60891,-84885,48986,-73774,58237,16172,-34172,-16840,-28574,56991,-30760,72999,36660,-82490,-34060,-54130,30086,46521,69165,-88350,-35418,-55132,50937,-95778,34970,54400,-90140,-19474,-84154,-42082,-42652,65089,94239,83076,28541,-84978,-14192,70032,72547,45123,1239,-27624,-47244,45155,2624,-88311,44900,-39787,63925,-87667,11357,96267,-59633,-2858,-81745,-93606,95083,-73535,-17785,43180,-44720,-22229,-77903,4928,52427,-97856,49121,-83356,55697,-33896,-22790,68679,92015,28936,76208,98433,67351,-9679,74951,-84754,-8142,14071,-12925,38814,-22455,19440,36600,60247,28192,-14717,-39937,5218,-99677,-35138,45951,92009,-60766,59538,-13964,95859,-1555,41461,35469,51956,95894,58093,42150,-1404,-49229,-10359,15691,47270,85874,-87405,6472,14127,63590,67926,-59112,84439,88477,51516,-78068,-81535,-27290,-9820,42034,33405,-52832,-18880,5155,-46241,-45967,-76006,23513,-40551,-36707,-50035,32372,-4215,4072,15902,-24787,-49063,-5125,24392,12127,25305,85352,-92643,70432,11728,33909,-61351,-3785,-37278,32939,-88552,85224,88153,36131,16917,-53646,-46902,-15265,-58536,64924,56599,-77832,-39602,-74073,-79760,43153,52827,1223,53918,90277,-66935,32895,-49078,-21141,58829,-56759,77615,94570,36104,88336,44049,84961,37721,37257,33014,59273,-76835,-20588,41842,78182,53772,58230,26508,60491,35930,-53272,2325,-45470,62818,-65313,77197,77323,-57661,-72387,-95370,-80712,76203,-80686,58719,-91370,-42554,53636,60844,-86640,90354,55114,-60367,-6481,-45429,14132,53496,-49108,-67298,7775,93039,35077,-3072,-4584,73945,26641,37127,3005,54008,69700,-88792,65883,-22065,-45983,-47344,7128,-6997,-63125,-13581,-15705,-86539,-77482,79753,2825,41106,-90144,25955,-45024,70454,85420,42409,-49059,-80904,73990,-17871,77917,-39605,-63431,-28691,7290,-86275,-4155,50859,57445,-4017,-90142,-82571,21334,-21708,-56320,-74394,23321,-89512,-18872,-79436,51052,68533,11809,41165,-86073,29650,-96850,-25281,47671,-1092,-37746,-32860,20261,-69689,-44773,41491,-62790,31528,-79035,97651,-67598,-98013,61009,76749,42966,-52898,63017,-51481,89253,-68060,-17334,97960,-80638,-6281,-32852,-61076,77694,10200,-7570,-41425,73506,-9097,97944,-8531,5967,4938,-27740,36590,-84109,-22520,87648,-92123,73114,-70029,-22018,32302,73280,-21980,45953,-48036,-83249,-26744,-49254,-92849,58284,71758,-65539,-38681,51704,93996,-68136,3393,-32592,55854,-50743,19118,-71320,8592,65039,-93766,-47900,16842,-90059,-65374,48594,-27258,74977,-64631,65597,-81598,-52366,90654,-15791,64720,22641,83187,35794,-53689,81788,-20670,11709,48409,55241,60477,-99343,95499,-27421,-28371,30219,-14392,13747,66696,-13159,-90341,-67117,61980,62422,-69261,36723,-56249,36673,-1113,41960,-4788,-49013,-29038,1404,32780,99493,31866,2067,-6763,-44311,59165,-75281,-77532,25189,31639,66564,-90844,8789,59025,37808,17486,84579,8268,-12572,96778,-56613,55477,-80316,-41567,-180,93173,-4603,60901,80631,-21585,-91648,-52547,-94494,38654,-46519,59708,-2796,63830,48784,83551,-62225,63201,-60615,-22200,-98954,12916,-98816,43590,-10435,-5254,14656,25158,-22359,94444,23602,28360,38624,-45360,-98227,23318,63754,7916,94016,-15049,49273,8790,-9413,20245,6806,12421,31421,-28247,-7017,68941,15152,-4675,-43227,-87591,-47705,-8145,59839,82145,-83695,-60231,43735,73122,-73961,-76358,-35809,-84261,31353,-17939,58709,-57076,-57754,3600,43744,27720,97673,17278,-44282,-67458,-42910,-32489,-31317,-68469,-73098,55081,12937,19483,8160,75972,1625,11854,-46996,-42694,-15552,-41956,-27055,-4213,-15709,-56951,69932,-10451,62847,-32559,31738,38064,47960,22927,40935,-62545,65697,99955,-28548,-61341,84834,-64540,72676,90040,-45561,-58286,21720,58502,40375,-48123,33696,69947,37074,-11818,42634,-84665,-49452,39149,-95705,36434,-28217,74632,38866,-71570,86605,14065,-3945,-42386,46106,83746,53030,64010,-19043,77002,-47442,11612,89272,-90518,-71097,-43710,59508,-42902,-89241,-37413,91227,-90217,86616,-14042,36637,-14947,2681,66329,10845,36585,-77543,-78507,46328,-705,-68164,15096,-32499,14064,60963,-16970,-95263,27757,58039,56581,-56758,-61313,17497,42464,-18082,98917,-9214,39850,4063,-79035,48994,-6673,27575,-7378,43596,75398,96551,-56934,-95580,-90350,32117,19519,18903,-68359,42199,23988,-49165,-25181,47222,46681,55555,-10443,97735,-88590,28921,29541,3288,-81900,99687,21717,-34853,-6962,20876,-72723,-45975,-98313,-16356,-90078,-65116,-53494,-80111,-68060,-87938,19589,58108,-55288,-46349,-47861,54174,7173,-30965,-85524,73215,-88444,-91426,84371,-893,85354,59559,19242,7909,-76568,58281,77043,-19604,-58806,47687,-69712,-51582,-36585,-53874,26568,-88630,29371,-30749,-33548,-42748,98186,-14442,-78244,-71219,41214,-62528,-47667,50079,-15805,-52575,5627,49761,-15711,41472,48260,42225,17377,76858,99730,86846,39720,-44634,80350,-35137,588,4739,-61188,-13084,47900,12707,73219,-78889,-17393,-75443,27208,10101,-25243,-71956,14744,-58304,-34196,-55725,-12555,23774,21462,21272,-63257,64649,-62041,6381,-18370,77314,-67501,-37412,-26827,-93115,55178,-97771,95467,-25372,33761,3568,-98595,38993,16511,48613,37677,-46973,-68772,-33693,-89747,78296,-41661,-17612,79369,83900,16415,60701,47039,-57533,-9576,-68839,26716,41933,91634,13869,66761,-23641,-33320,-82324,76646,40519,86686,-98185,70677,-57906,-70499,-87593,-52179,-42680,78383,702,-34404,-77146,16624,-48925,98364,4849,83744,48452,97936,-36156,66165,94739,4755,87598,-73010,-91286,68382,-75773,23623,-55728,-5299,53148,-60593,82433,-71978,52338,-67818,-21204,-42139,-4023,-97461,78373,-77945,12402,-66227,-37255,17832,-49004,-94325,-12677,35693,-96561,-94970,-43425,85006,22587,-1836,97145,-63913,99300,-11063,-50218,9338,-31983,-38294,40134,14137,80052,-96771,-31359,39361,65920,-81786,-3733,98205,21229,73202,72698,71814,85720,-75655,-23769,-54927,-84775,-23383,-17850,-53865,-92630,-23595,-70758,-51215,5998,-64446,66595,-37007,-55776,86477,-81790,27348,33125,37703,-61006,18738,-26671,-56751,13703,95295,15620,12805,-43182,-42000,-53102,-29219,43107,-11911,18385,-992,-22692,18012,-34954,-10377,-3949,-20062,-91348,-78199,80853,-50372,51974,-2226,13751,50588,8689,18467,93735,-70616,-85689,-98948,59087,83846,-7364,-12163,-31462,-50464,97445,-49927,4650,-78610,-31403,90303,-13534,78013,-87929,14727,-9530,20895,79759,33347,36600,-41066,-5592,65465,36994,36538,-81264,-72344,49835,-95402,51476,-57764,58086,36540,32057,-847,-73928,29219,-4215,-44580,27949,52794,-79418,38342,32345,16972,50887,91646,-62364,92736,-76090,60622,-18476,-2445,-82122,-79213,-92965,-14333,-12546,-24077,35368,-26536,-35455,76598,41075,-56378,-14241,59919,69547,-81915,-97646,-37199,61252,-1107,20124,79701,1525,96066,33998,-5415,47254,-27632,-64141,-79972,97214,71916,66186,-23908,-69281,30532,-65585,60138,50494,-63465,1086,28991,-87374,-22806,94314,6781,-18960,-16066,-82634,46643,62218,-43733,26556,-34071,-36254,-83452,23942,57262,-27660,13151,24752,-17074,-33841,25204,-20771,11922,1935,-74985,37906,54487,16866,-56767,-34350,52419,-63852,-31810,-66825,92131,2017,98147,-15344,-34270,90447,-43985,-71348,27680,46516,-64782,-91945,-22128,-47311,36920,-7300,-4060,-18549,57839,62614,-47161,56824,56647,60707,97702,79997,61348,10387,11617,3613,-32831,-25326,-60854,-78616,81274,-9085,15240,-88451,-56666,21463,-2009,-90930,56642,-91444,-49937,-33,-24391,-77401,37996,73319,-16076,61737,-56018,-50881,61649,31234,-97909,-63143,-28867,29763,26409,-33583,-81880,-52964,-81174,-22461,-79161,22869,40470,29300,-63105,-54859,-45534,60343,-71209,-58876,-22441,63358,60639,-33855,9561,21533,-98724,-71480,-35663,15148,-85225,94998,-2262,-74921,63642,33298,-93371,-49377,-99833,94053,-7563,-42715,-56521,-1823,-27438,5787,-78103,2605,71262,11937,-50559,17668,89965,-32045,-89827,59951,-75698,-45263,41644,-46472,78745,33775,15859,-25204,25246,90275,-73742,62213,4666,-24110,-21213,-3880,-76184,39681,62935,27011,-49980,11884,-89460,18798,-83548,91025,18432,-75447,-49522,-61815,45289,-18116,-17162,-45608,-86095,26738,99870,-88141,-34802,-85266,39267,-59180,7148,-6127,-33249,74387,4182,-56444,58261,-56825,22042,-46354,20200,-75449,51747,-63301,-22997,-3045,286,-42693,-40727,-77333,31126,69220,10637,-87663,-95819,64745,69191,8748,60373,4552,96796,39399,61866,30720,-93379,-58489,90554,5692,-93654,-192,-93311,22405,67332,54792,-65854,-95232,79481,88012,47116,98427,32317,-76785,10076,-15492,91719,-88591,99709,94820,-62698,22852,-84541,-58234,88065,73499,-62772,-25042,42193,-85782,-17424,-63914,-53454,31147,60072,9137,53312,41867,83970,59382,-40823,-64815,2768,-2415,45986,-63391,-69258,49689,14228,59519,22574,37754,-84205,4118,-90476,14258,52709,25657,-45145,38139,-55102,94219,-64190,-38477,4463,36687,-70273,31805,92913,-48184,-35016,38731,36971,99102,13844,-22191,25294,80314,40154,-75867,-58174,72513,1735,51670,30667,71847,-84673,-51407,-61401,91826,49834,58934,-27643,68364,90388,-29542,90354,-83086,2319,-2732,68075,-39304,42696,90156,46026,14081,-89743,55019,12958,-25410,53119,-50353,33759,96534,-77833,-66317,24576,85300,4132,-89806,-30749,89736,-77438,-67848,7117,-53802,13845,32961,-96891,-18961,-16433,-98792,-8240,-3457,1338,27189,67976,-19359,-22768,-20298,89650,53832,40371,-92040,10583,1307,45206,-38984,63390,-37553,-48699,83862,20912,-45851,96457,20903,-83007,4464,-28599,-96190,51992,5133,77036,38230,-78579,-98739,-28379,-49119,-2376,50133,66139,75724,57178,73343,-66205,36154,24686,-11265,81868,18947,-65170,54450,-36083,66745,-7169,74816,47474,85228,63976,-91201,49980,33955,12610,-92211,97479,-45246,46365,-68278,35496,-50700,-41989,69163,-2249,73634,27642,99351,72613,67668,-16392,65812,43899,10575,-608,-61719,-44748,-5091,43591,-56441,-15089,-1436,-72887,-80131,-60361,17788,97336,-72492,11578,64174,-12455,26142,-32373,64586,-15199,-621,-15996,10963,50451,-94781,7134,8637,73601,10905,-33176,35051,14232,51945,-41921,-26114,-89267,-56235,-66817,-42941,21119,-52017,16346,6285,6745,-41975,-68637,87677,-43879,85330,88054,29125,-97393,84495,33178,-48370,56438,29341,5093,16727,96188,73503,44673,-74624,-75718,-55708,-75439,36400,18821,72331,-20674,33993,12849,-72811,93760,61055,-3704,-76725,-35263,-98830,-13808,-22318,-2963,-36900,73134,-5381,-3137,48389,616,-6771,39642,-80453,15034,3150,-8379,1048,19282,86297,-43835,99660,-56506,51892,-83865,4564,-32743,61,10613,90597,18098,-31038,-85196,35451,-72570,50342,17705,-422,-52956,61772,-9495,-36947,24988,44990,-45428,-81524,3534,74332,51581,-99301,16170,77715,60786,51026,-54188,76434,88242,-61065,74532,40504,-48851,39751,-71867,39555,-58414,-92350,-9527,-24339,-67951,-33606,-46817,-15271,13988,-92074,-2772,13773,86602,-21484,85345,10590,60534,57718,53166,56541,24573,16175,-61552,-94650,-18049,18481,1869,9468,44853,24420,-35795,81124,6583,36892,10228,-27697,72754,-6616,35575,94675,-38008,94462,-8880,20747,56878,85830,-72437,51234,65014,-58616,59851,-31415,-27160,-10230,74336,-18397,-39279,-61942,-86364,-62553,94364,-30555,50650,-91313,-62199,77046,-54505,2561,94527,-84971,86889,81427,-84266,-69289,12585,-6031,-91134,-33089,-61646,-47744,-34213,56985,79384,-27338,-94915,-54759,-96344,-94991,58746,55988,-16727,-15402,36951,-92339,99401,37679,-99535,-20444,90466,-14896,-11454,-8758,-52753,62482,10652,1401,43205,-48666,-18268,37497,47971,-78390,-1431,33851,-37190,7636,12599,77256,18249,26807,-5932,52764,-42156,99083,-85639,55562,-5027,35852,-67204,34693,-29834,-10037,53532,74073,82617,72192,-22170,26746,67160,2512,-16797,-63208,99889,77817,54124,-78397,23813,-25728,87050,75245,80677,-21467,82628,5683,-70835,84488,43640,94325,-85242,8704,7183,43585,-65665,85377,30445,-52554,-77000,75656,-34921,95600,-14759,27827,59486,80459,2172,-7385,91744,55935,-70919,65819,-95154,-71135,72834,71377,39858,-76189,-48154,33144,-67966,15369,-12382,30352,-51738,46782,-65776,-36811,-8813,67771,22885,58532,52207,-18755,-74838,-69959,-41825,44814,-36953,21200,27522,-86981,62755,33016,33236,38673,2298,-38620,98898,-4903,-62504,61373,70471,2143,-22008,48429,-1134,-6459,-57213,-27219,68884,-88987,85543,-2384,54093,-7031,88116,-16517,58713,66889,10344,-60262,-46850,-24484,73420,-81214,-80756,-21399,-34421,-78031,-61417,-81091,-18781,-18293,21087,89527,12911,67738,34050,57375,-33246,13768,39265,-56559,34911,-24558,-20845,-50678,90044,-6344,-22061,-36744,-50869,82036,-24974,-41684,-29625,-83555,37443,-17256,10626,20683,55472,86973,-54834,53450,-97251,-9385,3636,-57933,45828,64119,28909,-65,-31779,79728,60845,-53958,-1973,-58316,-57761,21672,2316,14801,60168,83657,33191,63312,25115,-19349,-781,7726,24560,38057,79201,39233,12063,-55815,67831,73002,80397,-88714,-43827,60294,-69882,88822,-87726,-75484,43960,73265,-81510,58128,-48565,-70849,-32532,-34277,-94362,-47933,-39139,-31342,91388,-73026,78332,60717,5144,-58903,-38017,90946,-52317,25276,53247,-77253,-8876,59268,-53688,95644,77163,-39045,79300,14222,83060,31664,67806,50815,2989,67190,56272,36712,-91799,12397,86136,-47768,-69432,6337,35829,63592,-7051,26177,-81762,47810,-56847,97359,-75742,39364,50792,54372,-60999,-25322,-49210,34664,-32531,-94988,-81943,-37120,59278,50216,-57807,-71971,18661,15039,-98604,59317,-83289,-87157,797,17859,90693,-42092,-68117,45699,88559,91002,73188,80315,-48896,77811,83091,-7090,13054,-89631,52538,-1220,93727,-87934,87958,88439,-29629,39352,8010,37270,-89659,12203,-65570,-93408,-90892,-61964,-42759,-79267,11436,-13516,-18807,22730,-72398,76210,97721,-90214,51509,97062,-32519,36548,-12143,96776,-62511,47623,51416,-96005,-44475,80207,15005,87042,81512,48622,20875,14914,7469,83415,94119,48592,53673,-13694,47038,-23130,-68214,3642,45530,69622,53312,26918,57367,35048,-28268,82031,-36802,-24164,-399,-59454,89784,11121,31057,27815,-76143,-11759,-27302,-37040,28165,-90269,18405,-32497,26047,-12699,70548,-13101,52857,-22806,96922,-59398,-44877,-54893,2730,66364,-59262,5845,-2398,68801,87853,6918,80492,-51911,-87719,43386,-8325,-75698,-65817,-76568,-89998,97109,-21238,-92025,-41230,-88711,-91156,29948,-23687,82837,32074,40346,-91570,32400,-99809,-12824,12042,-78787,82117,-70033,-67865,-70431,5940,23151,90658,49345,64606,-44387,16417,93684,-87125,-70409,43792,-78460,-40822,49245,-41542,93979,-88534,86651,9599,29884,63132,-79295,-8928,-67410,7700,-63037,-84115,31579,-85445,38154,57959,97124,-43453,52518,-25472,-50688,39366,-40108,22214,-53312,9009,97657,-79393,-24655,-48686,-14371,-15149,-22344,26634,-64848,-15160,-98180,-67480,-49323,-69732,-20837,88295,-26448,-50571,-95831,-64030,57327,67362,67373,-6909,40395,87239,-86961,72561,-83071,-66456,-42035,17236,15888,21949,-37289,-89879,58420,-89651,90126,22119,-55005,91431,33187,-28152,66581,49698,52056,91322,-58138,81094,-1641,87104,18041,19265,34201,80626,55993,-26892,56900,-7403,-61107,-76344,-53630,68226,74281,49797,-73576,3340,27424,-70587,-29980,30172,68012,50813,10031,-6286,-90278,54118,29237,-63919,-87644,-38159,97831,-51279,15489,52918,-43948,-63263,-46226,31275,18571,-96665,-85565,25158,68483,-75615,84938,78405,-67608,76451,-81035,-9196,38112,-52066,-88007,86700,-15086,65661,42757,66526,61050,75078,-23707,-79613,10616,67927,-18241,-15502,68036,-5022,-97980,80569,-80355,-62945,69634,-51092,85854,35138,-8134,95280,61637,-44547,89000,59983,-85094,52006,70319,-68062,-15443,11870,-44905,-52016,-81399,87245,44550,97332,-71696,37132,-30999,-53183,69003,73691,58085,-57363,-57158,83604,-8838,-48028,301,-17126,-67902,-76117,5132,-97161,73961,35096,-85504,-26198,87667,43599,-6396,36224,-41326,-63062,52510,10714,42568,57378,-78530,-8491,55783,56186,-89179,40859,-96621,-47539,68199,14285,42142,45055,-11580,34143,-77171,-31280,25871,-12091,26666,-77214,-74653,-12767,-80935,-15987,-72597,-3117,31771,8917,-69514,40747,82223,-71961,-94416,-94473,16971,-60452,-3993,53170,-47722,-97157,-9136,-35861,-41450,79154,23692,49378,7852,8190,36911,-2455,-65968,80187,91631,-93720,23067,7485,-34342,23470,11804,7618,38690,34895,-32657,71292,66858,-79064,-58051,47315,-69515,-30732,-338,99334,-68692,47483,35728,96080,13508,60687,-9315,83102,63587,-25415,-85831,19795,17247,31478,-95961,-68754,-3170,17099,10326,-92183,-93900,36396,-69477,-98698,-67011,98180,46579,67031,6041,-6561,35281,16236,60999,77240,40904,10863,-71357,-44261,93149,-91058,2335,-43869,-45100,-72177,-31177,46016,-18609,15018,-23915,-36258,-34713,-46764,13432,180,-31963,51345,-20875,81819,40831,-9724,88163,51095,-56433,2305,7482,68179,-65849,-30764,-19498,-80781,34230,43769,93932,23364,-69498,-32489,-81454,43147,61126,-81664,8194,-58203,5145,-58426,-24574,-12883,79602,-15183,40622,30366,33889,-67688,50144,-87107,11902,-76283,50596,-60506,921,30523,-61586,47336,12798,36544,16787,-43038,95993,-57795,-13511,-55855,37604,-55727,-88896,-12845,96687,-34886,83117,42518,-82418,-53875,56110,-36835,24394,-17898,90502,669,43455,138,-32420,-69352,-8375,620,46818,12187,-73748,77777,-80889,25169,-15717,54012,-14924,-15065,-4624,13210,56184,76046,-31125,-9291,72274,-32918,-67226,-1392,-83265,-39197,36472,-79468,4773,34154,63823,-85396,52601,-776,-76846,-28203,92646,-94994,-28052,-2177,-9997,-6046,-52826,81714,-7555,85762,16183,-72055,-45219,12041,-14229,24673,-15100,65213,-67736,21603,-58155,-3933,382,-27567,-36049,32918,-77686,62724,-20480,-49368,44458,-75930,58012,79732,-60985,37607,-82379,91115,-82389,49108,-56734,23214,-78813,79735,99231,54837,-37798,-37987,-4408,-28483,64217,94592,-28456,-1612,42343,-23104,-10503,10457,-77113,-26060,2045,18252,37644,81772,-67903,-11414,-48703,-34466,14280,-87184,32238,-92818,62160,347,52298,47863,-89579,92428,30744,75928,47656,79778,89213,20213,95856,34397,-44970,26971,19811,49228,-78985,-43173,-79951,60806,51362,46015,8512,-5671,88395,-84542,39666,-72613,-76271,-64333,70583,88144,97759,12554,-31452,91571,-17347,51178,-13153,95139,-75752,-45906,13558,-57544,79383,-77381,-64802,-56711,-60239,-21941,25804,2656,-24792,-31649,-6261,-12345,80460,22184,49497,33920,78518,39829,41059,50064,1526,84891,14311,67285,-56425,-56146,30457,8447,68070,31476,-78600,-88165,46784,-29201,81020,-33668,-90952,74686,15530,-25252,-489,8301,79913,74899,-92933,93664,74335,73498,-38415,-11496,75760,-66611,-59812,-64196,-7594,-96593,46617,50348,-83745,39358,-91509,56897,-58584,48082,-63955,-77159,-78377,-57287,92724,-42069,91608,23594,90763,-96625,94707,62643,29022,85984,67995,-5016,40862,56401,72673,9928,30633,-14346,-96084,-7208,-10796,-68444,-18821,-95482,-42580,-6455,-35584,40392,-85660,-30651,-15204,-6345,45378,86850,42072,-88543,-1663,-10626,-14177,-30638,30957,31136,38252,79967,89130,75835,-84705,-5752,-37302,90395,1316,-48436,46119,56183,-74579,-60517,-67818,-32515,2040,29719,-51237,-44409,71485,38486,85250,-36470,97673,97403,89524,-42603,90140,69924,-4981,-54614,-38620,-54379,95180,32041,78463,40051,-54357,23788,25203,17803,-34628,16526,-96215,-43744,-90754,63705,-17709,53298,42750,8478,41546,33290,-79867,-71586,-89231,18329,59423,63912,-84289,-12323,36682,53996,-25779,36009,55910,-52143,-52427,-41571,29069,21332,-95819,50279,64557,54027,-11336,-85660,-91058,20919,-97695,-4966,-81210,-17849,-42466,-45600,61316,-29336,-62400,93551,-98436,98516,11896,-31301,59818,38914,90824,65531,85170,-30824,-16799,21087,25442,34709,-81782,-79025,-46681,10006,48474,-78786,45503,4263,-52596,-57180,-80266,33633,37630,-1218,67666,97780,442,-39647,66846,-42712,24497,56960,-79121,16618,-56741,59585,-30330,28417,-8557,-40987,16887,-69218,42052,-24958,-34801,-23030,59751,-26147,30126,-18444,-95189,48822,91569,-10978,66333,72174,68365,-56255,-22139,69737,25111,65518,-30902,-42216,-81364,69782,-69428,-85075,-86567,31669,35453,86402,82446,-58767,-96846,-76217,50359,35915,47671,10697,23890,-96290,-40603,-73862,77279,56067,99619,-3337,-75161,23801,98915,3774,-55232,-59285,52979,-84313,-13037,5581,25592,44657,53079,-74726,-49777,48834,6185,-49488,49341,-86741,38194,67985,-44247,-36504,-94033,86672,36887,5966,-84192,73850,-94833,-6697,86302,71043,78068,-81429,-27041,-58863,7009,98090,-99211,9150,-79667,15201,49590,-43796,35779,-38821,-86376,92926,-64379,-45334,-69286,6452,-57681,59215,-60561,-75462,86866,2055,-63598,-42119,89036,-38445,92976,65789,79558,-77554,-47374,-39549,50533,-73988,-43892,-12135,25863,20419,76812,-3712,-16047,60813,-72646,-32813,-37694,67521,36830,-85835,54498,29901,46251,484,-48681,66504,-73773,59396,-60122,49558,10268,35497,-82618,22720,9355,39746,54276,41812,88463,-17890,28652,23450,-40543,76744,-77204,39785,84416,73612,-8632,29610,10658,67683,87886,29120,25623,-29776,-54145,85356,-48910,-64206,18575,78245,-51033,-4454,31113,270,82435,28514,-13406,-76266,88727,84744,58775,-83437,82259,-1432,-95309,54231,-25651,-85746,9736,-1549,-95932,72637,-94968,50830,6888,51135,-59476,-48870,81550,3303,-67760,25574,-66667,12140,531,-23995,11712,-9878,5723,-54872,6242,-26932,73831,-46292,99003,48473,93719,-95847,50151,-80627,7997,-42196,14017,93510,67443,-99579,33781,-8450,-20752,-91162,-15695,77679,-28001,-37645,92216,-71453,62594,19972,-73791,29229,6796,-83898,-88547,-71844,-98499,-97404,71513,59229,6581,88861,32297,41350,-99802,-41799,9763,59593,-28090,-31369,-68945,63654,-28978,68345,25102,99645,-83746,37889,-46733,-10083,54425,57927,-9837,14735,-34093,-82533,-55483,29769,41756,74357,80687,75474,-75241,86251,-39679,18940,-18339,61982,-96702,16874,4455,83220,64977,31136,37977,-37199,52535,-18178,-32687,-13768,96151,42904,-46294,-15469,25084,-34377,34886,42784,75403,-46713,-28984,3221,-36596,90781,-12097,-33430,-73307,-15934,75684,70518,10766,-64026,-4503,28525,67333,-49286,-91737,15264,-42989,-10293,60527,-81689,-54285,-3762,-93218,-34374,98767,55162,49535,-41335,16209,-66650,-51249,-96727,70465,-61479,2636,25150,11150,75687,-37199,73929,-62180,-30613,79462,13554,-45696,5775,-70940,-8502,30760,-64301,36102,-28707,-73312,83608,-78504,29162,-54620,24345,-81082,-6553,75523,-27894,16022,85412,98871,23391,-36286,-15925,-35966,-10192,66448,91969,-6726,20558,-18625,79267,-57217,-59094,34297,94742,-5255,31428,-73833,-66031,-38298,-18152,-98010,-85604,-68782,-84302,-18561,34042,29386,-12140,10396,87480,-89283,75827,-22824,-94745,83038,-77563,-97510,-27612,-45018,-85706,71633,-13646,-11431,-57772,73879,64340,10601,-85967,-36491,-18010,17121,-95270,52456,34931,5021,84888,-29873,-79380,901,78060,-85389,96831,12030,-80086,-62409,85352,-64680,51871,-15343,-83651,-12670,-8054,-95225,-71628,-45265,-20333,-43594,99133,-88106,-78510,27347,20405,28192,-33171,-8967,-78110,-57081,-29477,-54883,58035,-91085,73712,-2844,95558,14638,3355,23597,-50701,10096,70781,54807,76715,-64102,-5127,36699,56819,-662,-25727,-30548,-11522,-7797,45939,80485,-19239,-63363,-29078,-11182,50327,92075,-23767,61166,-1919,69821,46149,32898,-65163,5492,61507,35926,-80291,-44531,26228,77921,29847,27310,-36191,-19647,-24858,-80154,13957,-23208,-7094,-5493,95044,-60354,-82582,74132,-87553,-97289,52523,-44887,-63013,90540,81587,73939,47830,98779,76222,3606,42095,-8779,-42120,-52140,70039,-17503,98931,22871,2636,-51583,-22239,68234,6251,-22651,11621,76676,46072,-86710,-4453,-87474,-10402,-39902,41163,-19880,-82931,88189,-70353,24346,-18278,-45097,-44932,-28794,-32806,71743,-84064,-44718,-19243,-98125,-86786,22139,98189,48627,12991,-31399,36502,-2216,76921,31612,7309,-18258,60148,-17915,-85371,70643,-6806,79508,10899,-65413,-83626,46397,-85350,-73803,23420,11168,10635,-55126,-10169,97516,-47628,19929,3451,-31079,-98129,88771,-79223,66189,22198,-50690,59913,42541,-27097,17908,5057,45324,48754,-1025,-15185,3999,83104,33436,-80598,57441,3212,596,82021,-92131,-21988,-5046,54528,89477,37722,54159,78817,-42095,49934,-77819,24985,-68862,43737,97153,-35456,-27828,-17441,-18863,-63247,19069,17539,-35394,14466,-54487,-22827,77450,-39398,-31340,-66481,30529,-63128,-57614,-1089,64224,-26342,42121,55623,28890,-83300,-87790,55197,86443,-7823,-45919,96159,-28741,-22779,-68496,87053,-17482,52569,-36578,-55673,-4714,-61511,-92824,40348,-723,53621,87600,-72664,-60146,-44657,-34214,16560,60711,22471,-86157,-39343,-92397,24362,-28560,-42991,-79248,67620,39558,88234,-70635,-24121,57501,-13078,-75349,-14689,-74428,-7071,-21897,-33564,-17159,-6105,56388,42951,-23485,74574,-18182,-89966,37712,93317,-54013,-76862,-19755,56837,60871,75215,-8375,18898,-52120,97189,-38053,-15305,-75134,-94403,92773,67959,74605,-94882,-83126,-68228,-13424,-65169,79935,-71904,16139,93587,-85690,-85893,-91628,-70265,-28992,46529,22126,-12388,37440,-40067,-58171,-64769,-16013,58317,-80210,42122,-42589,22003,-61355,-45837,-18920,-73773,98420,9132,-34491,975,-34668,28467,74388,-34231,16465,82879,-8349,19035,4286,-34441,-97317,54940,-675,77423,-19169,-45230,-77770,-48921,-49962,44541,-86706,-94408,-41652,46597,-64938,-32518,-99608,-82301,-73355,-56260,54130,-80320,61032,-5934,-16861,-74402,93113,-79930,-8688,-30734,-90011,53048,-62452,-29220,23277,92423,-41737,11897,24317,22587,-41858,24496,8853,13072,-77287,72608,5354,-8831,36766,24481,71094,28340,-22617,-29984,4448,11874,-44362,-45115,88169,87141,-45703,32828,39043,8653,64250,70765,20737,-15028,-86721,-54149,-5504,-56490,16218,36639,63523,22897,9398,95878,-28412,74364,-94759,-36771,-13939,47306,-52220,-42275,39595,26923,-4867,38692,-53318,-39745,58955,26278,-10694,-72986,-3153,23275,43837,-78019,27767,42503,57646,23323,-74516,-3425,-39021,72941,-75017,81690,-27980,-55004,-97207,-44465,41322,-82129,96172,-9232,-37797,-83555,40931,82124,73338,79290,42206,-97548,-16988,-71347,427,32863,-55089,65683,-99561,-92783,99198,-38334,-33384,12327,-99221,-35863,-98849,-93881,54147,-39973,82057,95296,33367,1500,-81164,68505,24172,-30151,78155,-8760,-32097,33932,-70841,-16154,-82822,-8521,12571,70603,59028,6081,-34246,-41597,-44265,-53987,-51006,59845,24693,34873,2898,28931,-73138,16210,-96365,29640,80623,-65103,64973,-13242,-36265,-23845,-22562,35783,-68703,-55157,94410,24866,88325,45972,-33435,-97450,5738,-92590,-61840,-50831,-92561,31276,-98114,2066,-23435,-74660,87475,-96854,90315,-79066,89796,7372,-94674,-791,72371,35871,14732,-50035,-40468,-97972,-97442,81374,-5185,99170,86394,22290,-81472,-63642,-94679,83063,28822,3298,-36053,81897,12195,39360,5048,84658,73725,98068,18868,95644,73205,-74588,-84695,12758,-47502,-24181,-43089,95300,18520,49694,10053,-82924,-85097,49390,-96467,17096,-89304,-45543,-4365,-34843,-7985,-5692,-66846,98905,-60427,-22434,75297,40303,63864,45025,-67568,82838,39605,-17111,-54039,29837,18198,-30233,-34633,40134,-85483,-30219,51327,16920,-26956,64697,-65319,-90753,-83309,-93609,-97041,-33194,74127,-81737,91487,15931,66931,-81125,-85214,3734,-51169,51509,-67971,-95600,-4291,-36308,-70445,-21723,-60670,-84926,83555,-75727,-2698,49006,-17202,22125,-80321,-74855,51388,-22466,48662,-32799,-27231,-40644,-95145,23468,64325,48351,786,-6297,-26962,40502,71711,94805,71573,24488,-41908,-47298,28754,-21037,44635,88636,-37587,-45663,64757,-93317,-36329,57002,-34975,45584,-95823,87638,-63260,-93707,37925,-54543,82869,576,-45705,-30957,-35463,-27751,77497,-31898,50711,17621,2712,-98659,3609,-65291,84911,-80319,-34621,-57451,22962,54706,-39242,14190,-41870,17725,-14846,-72176,33189,86452,26696,-40044,54185,-84840,-69058,-90715,-40742,966,-58636,-65538,-87426,86025,-4488,20025,-59811,-34663,-60895,81470,29573,9694,4381,-85304,29853,-73554,-96679,90184,48274,29042,8877,-26195,-80274,47763,-32860,-56177,67377,-95127,93027,34883,-66488,31890,6545,47663,56076,-55089,11450,-14494,-31622,-92432,-16675,46662,-83024,-48605,-92203,65842,-65059,98576,18904,-17327,69629,87680,35946,96967,-59960,-12482,-19191,-65119,-66392,-66543,-39938,-25128,63159,-72462,39480,78023,75809,-21108,19920,29627,-84101,-75553,4702,92922,-80234,47475,39946,-64958,-30574,-65522,-36748,-16585,-6432,28925,-17605,-14332,19520,75956,33159,-87652,731,35161,57270,-67221,-18223,-86017,-81605,93785,93648,-10922,51342,-82777,29732,-9468,-50672,36986,62051,-19735,-27987,-60146,-50407,20029,96110,56947,60124,8979,-3191,-98931,2599,32734,89558,-72871,-61538,57551,1015,-41653,-62100,59675,82252,72900,36023,35760,-98074,-83487,-69399,-888,-48885,-89840,20996,68278,-42038,11238,-56008,-9637,88242,56208,38823,-28885,-53164,85363,55039,31406,52149,-96011,-15747,24420,-7832,4832,-98665,-69737,-69546,-76286,8405,53380,67216,-85716,21670,-46414,-44209,-42389,34279,54333,-8764,-39458,-54015,4436,70671,-3141,-86825,23600,-97163,64264,-18491,47136,-25166,187,82973,-33041,25452,2998,-29900,-86481,-2285,-96670,-97589,45970,-69951,-81365,-63624,74421,5991,-30914,-72401,46555,-6436,6190,-85305,-522,10499,-75375,-6933,-12357,-27977,37252,93033,-80548,-52685,-52152,-84863,-56247,84156,-45473,-11761,89794,25060,-8458,31817,-33867,-11247,98563,67740,3540,72004,-5691,87871,-86421,-67251,87262,-86349,28984,26916,-75781,64728,16068,-40697,78284,60117,-91725,-38484,-47852,-85081,-16516,-72622,89530,-71749,-81354,-83698,13196,66732,78149,-92374,79896,-16660,-22999,30129,-69536,-29175,10667,-70294,-2118,-30354,82194,86601,18881,93076,-92169,-33772,78929,80407,29189,-8422,-91727,73538,-37300,-34582,74546,-73424,48276,48392,-80982,6734,-66194,-60015,35980,-67788,-30447,62703,37814,-63844,32808,-47764,97715,78302,-13115,63810,-95270,78848,-63626,-51030,-20365,-79232,-9923,45395,85419,-86645,87074,57091,-8811,-17675,2200,34384,19063,-90943,-36073,-17350,-9606,-63718,41520,-39992,22153,4144,2128,52042,21926,77828,-57547,-51709,-97665,-60948,22136,-65269,11755,-32945,30878,73077,6057,26993,23569,-33391,30570,-39319,-2790,-20237,-71869,-97296,-42577,-50897,-30037,18188,38814,-26271,46138,74427,75480,-64451,-34724,92673,-31049,21073,-8436,19886,-67030,-42477,39045,-17020,62164,-5464,-35282,-84704,84575,-82976,-32289,98703,43346,-50264,70717,-24717,30610,-36589,11422,-85639,91268,-43243,47419,86441,-7678,-80940,3951,-59164,52944,-26051,-1573,59362,91617,44629,-95233,25742,-95460,-67648,10299,-32569,-94479,12951,29574,41771,19847,49022,-154,80326,50071,29328,85209,-39172,-65506,5870,81019,-12557,-7568,-92887,11063,-85565,63195,-48524,15198,83200,-2061,-22435,-84913,-38505,-50653,-74759,10334,67848,-7417,-82086,99521,-47303,-68388,56835,23879,13480,46522,65954,-11684,56824,8038,-25431,3212,-88635,-22798,14597,-92758,36569,34976,89172,85828,-47928,-98240,-64539,-72254,-78141,-56638,24350,-24479,-79600,-1764,93551,82380,56555,95679,28718,89588,81559,7481,52530,-78773,-16808,19517,-37947,89005,-66756,22198,15243,37649,-77070,11569,-4156,40251,75875,-55643,906,44752,-37221,-93378,51414,-77285,85272,572,-17643,31717,-12076,87074,-69315,-85325,-23710,33879,-55832,-98884,-66276,-71539,-10203,-97946,-99174,-68386,32354,93493,20352,9971,53745,-26008,-99221,96188,-44837,49018,-57215,28593,18457,-81302,-36591,4180,55405,94680,14691,-16750,-32871,85173,-86446,-324,63927,-23329,-85195,16372,60533,95631,3021,14508,-62618,73717,-92898,-57566,41264,-25227,85697,56203,15937,-53108,-76017,61267,-97192,59062,-78930,-7842,-36743,29452,-20097,-78539,35442,45227,33280,67811,62396,66376,25393,94670,-31858,-4220,4356,51977,-63644,50663,57731,-43024,-1385,-26680,-64453,-87906,45723,-70925,-44500,-26511,58856,-79548,88006,768,91784,5574,-33870,-73215,-91805,-55776,-84433,27908,-26270,-18647,-85105,-7362,44861,13947,2933,-47104,-87800,28266,-82596,8382,80521,-58448,-67552,-39835,96999,-1883,-98261,63408,-60500,-23328,4718,12825,85139,74322,95045,-33935,36492,-93329,-12350,6554,-59493,61029,87854,-90983,4376,-96275,-85055,12589,-96827,22678,87369,-38546,96257,31216,-12450,40820,-53640,-8719,-49139,44062,-61042,-40932,27062,709,-16771,-12499,25446,30106,99144,-1768,-75736,-87844,19935,-32135,-89779,-59188,83623,-82875,79876,69854,34844,-59469,69705,-35280,-84523,-56998,-34777,91902,78530,-43758,-51715,-75675,61216,-15602,21285,96929,-31030,-59627,30304,28498,-99109,72707,79731,90045,-2314,-94541,-64170,-25598,30614,19513,-61181,86805,-64206,-62771,-16854,-11260,13218,-69031,47212,21022,16468,65051,-33536,23479,73329,56045,99180,-7590,38746,-63134,-45286,64586,63558,60685,41277,64012,-87568,37001,-25469,-26000,-34912,-9374,-80737,84906,-19710,70932,51887,98611,-19957,-95858,83708,-95777,-19487,-4627,47077,-4433,77633,-35404,-74852,-16952,88181,10100,-43454,-23736,-91221,85002,-4652,34690,10451,92601,70305,74362,-32393,-63085,22134,17930,87565,85044,12415,83656,-2131,-15677,-85267,99493,-49846,27021,-85285,24807,33101,-51172,8213,-45906,20670,-86316,-46772,-85422,89721,-81601,35,17462,-44879,40350,44685,81841,-24859,94166,-51820,-64519,57266,2846,4105,-75714,28634,74741,65055,-79577,-4409,68198,74534,99403,-76066,2186,19014,-38258,50929,-60367,60212,-59506,39356,42503,-26175,65193,23859,86376,21218,33273,-66739,-35223,-58009,-48233,-61854,-86892,-46144,-4301,-12602,-32069,27412,-25999,-45848,-25755,-5742,-19502,59401,16492,94085,37043,82942,29669,11110,63037,17291,32098,-39060,28291,-5173,93799,57847,-45637,-21022,-88272,-280,5907,95724,-44374,97204,-33011,-86960,-36549,93962,-63093,33659,-41689,-53255,9926,57796,44720,23014,66292,52063,31137,21078,-87440,-57967,-23336,37236,-36885,-32426,64610,-99458,25222,-91851,-67298,88087,-91593,-17237,-15099,21288,-85274,-19604,1474,63656,-98515,15962,28200,-61394,-56240,15450,-51856,-1153,-65624,-55198,-14187,29182,83725,-56347,-84735,-23137,-11102,16788,94441,55901,28333,-27583,64936,-61754,-71060,-15741,6821,-11929,95398,-51367,-9098,91797,53244,35477,-11322,85012,11356,36116,-5850,28091,91260,-14738,80571,-18385,10753,15979,-29792,81633,59507,-34947,39299,-37207,-66693,-86315,48059,49740,-85896,-13480,99703,72916,-45726,44856,-17335,-65955,-23668,-17256,-55773,-55666,-57262,-75266,-15257,-56925,-17089,-11234,-95969,-82978,50538,-94887,-8989,93745,-54023,-19578,79432,3790,-85644,-97937,58798,57672,10939,71281,70937,-41463,-36661,-19504,-67855,4167,-9163,-62257,-36217,44553,-32801,-45969,-66429,-43695,-5371,-38608,1803,22788,-32410,-92745,70490,44516,-14920,39615,79162,-24177,-11796,60251,-47841,76050,46286,-90935,-17683,-59705,-74046,21924,-22355,-14714,-45459,-49895,-88425,-92355,-28301,-20555,-66799,40894,99678,55154,-57370,8792,-85026,8532,-54701,96959,-13025,58311,4523,-70560,51388,87116,-93401,-25964,-40926,-55428,-62673,-8905,-91096,-53156,47597,38797,16564,14426,-92685,-81629,-73726,78699,15765,-17577,-66233,-24404,25282,39146,70720,-69653,-14162,-12278,70260,-54340,98023,30654,30931,-16071,-82053,45576,28768,79048,68774,3549,14127,-7716,-30359,31993,65361,-43790,66899,74387,41246,1494,2106,58774,-70074,-32667,48790,-18949,63190,89226,-6598,-5991,-9392,-33704,59405,-83651,-98313,80815,24565,57573,65184,20213,63495,69733,-28381,-74346,-31823,40857,16478,-71158,-22634,74811,34966,34534,-75758,12758,74643,-82140,68508,66768,-85233,33356,-18990,10667,28082,28430,-74719,82575,-15537,-84562,-29832,56593,-33787,-35853,24786,-56189,28527,-40238,33370,-94784,-3595,50530,87085,41361,-91272,-97346,-13161,88634,-90709,36796,-50485,88886,-25335,-6960,26289,-56132,-68745,-36414,-40163,-13006,63284,77435,-38373,-53891,-10891,77046,-33625,-87495,66868,74464,-63830,-66015,-28114,-8828,-92598,-47903,-2992,-32044,10565,-78735,27134,84817,20699,59708,-63497,82298,-45098,2151,-66541,-6029,-37540,45625,-162,-7178,16520,13026,-78269,-71079,-30020,-20941,-93982,-71084,91930,-83715,56797,-84457,10131,63250,-17847,-82548,-36458,-58381,-6177,30553,-40500,77545,35923,55048,-15065,49129,81133,-30686,51128,2109,71096,-39151,-29741,84586,-85449,-4424,84977,-60998,-58407,-73779,-96212,58029,-71091,53682,45850,97883,98616,-59421,-22290,48193,43566,78235,-26868,-67864,4548,645,-37055,-32264,-50791,87883,-31400,-10137,-17789,-8045,-93413,58514,-74137,-56490,-56957,-48714,71688,34216,-49947,55044,-19469,39042,-82040,48490,19789,97172,39885,99583,35963,13231,-73884,-93048,-12353,-45500,-55348,-84603,-95478,19343,31931,63666,-44765,-54421,24625,-40213,-75750,-7166,10651,81880,43914,-55611,85635,-36128,-72189,13446,-1115,-56698,-30122,-87369,-3171,-91628,16230,56488,169,-12702,-69093,46739,23096,49537,24543,2564,31020,-38660,-52074,-33950,-94678,-24234,-16378,53924,93141,-78628,40983,-64725,2260,31787,-45753,13208,36473,-57191,-67640,37412,-12810,-54880,33208,-17014,25413,5084,-80629,-23983,11696,-10921,18039,23964,-39012,-26448,-81689,-39119,-70699,-82019,62629,-39850,35156,31386,-55998,-50091,-58209,-62369,66831,24710,-74681,-78815,72086,71987,-57907,4862,79762,-76125,-88456,18172,41006,-47139,-78650,117,-24807,37631,-50414,74170,15592,-60832,24379,-3630,-28300,16114,60250,36396,-86639,46481,-72230,42510,-38814,-96974,81985,-22485,-32422,63519,-73531,16588,-95043,-11330,65470,-80981,-4115,64762,48346,94442,16630,-5551,-26098,-20179,20687,60638,51159,-57240,54226,29583,-58030,792,32286,29930,33126,61856,33866,96298,28706,80916,-46462,-75513,12893,-69303,-18970,83403,10479,43867,-37090,94923,-74461,44887,-78520,19650,-73633,-80484,75745,-61096,-75455,-57672,-9771,-43187,-81358,66242,-80845,-37386,61173,75460,68593,-90987,61307,55171,-10903,95614,-25456,29814,67915,77400,77248,-48456,-17100,78920,-12075,-24955,-49556,-58694,63387,8694,54328,83544,-43310,35709,-16319,13853,56810,-92003,-37677,69102,-8989,-78824,17798,-51135,45939,71505,-75463,-68032,85268,68635,92714,-14810,51960,36408,37071,-10541,66614,-82113,-83258,93741,58323,-83227,15353,12824,-26289,-66974,-16174,-51428,89715,24982,74996,-17678,-5124,35392,-96841,-14565,63195,-65113,22910,33135,-47027,-92399,29497,-89045,-87615,26284,-57107,-20871,-95098,-73706,10923,65987,20196,-53338,65223,-59094,29830,-86410,-58670,-66125,-76151,74256,-51402,-47079,31272,-85545,-80333,-57988,-20882,16150,-17729,22038,-36082,97738,6728,65693,56000,75951,-4089,15918,-26325,86737,-10591,-47089,-76945,-75768,65254,41061,34936,87822,-63906,9264,-73028,-19423,6481,68015,-77296,-39816,6195,-41266,-89571,39808,25414,15760,52285,85509,37303,95728,-23106,38305,-77176,84542,69053,36668,-88650,-57596,-44822,46864,24328,9506,-26024,-72483,66025,13059,-22128,-58510,59932,-92388,-24949,40928,55263,75223,45762,-40305,-45476,88320,-71018,29448,40259,-97108,-44225,-87035,-58734,-56531,-88940,-74535,19528,-10312,80166,-86586,-54407,-44315,-99627,-26279,41627,-90295,-66164,-55902,93352,65950,-9932,-77300,-63402,65775,82340,-80519,94834,97824,37530,-81159,-75706,-67315,97986,-80384,13452,-13616,-22194,-9567,2981,69071,69691,-47727,42268,-5953,39764,21332,-8223,-47994,28191,-47336,47657,-34972,35539,25478,-44603,-54638,79244,33315,-44962,63200,-93506,-42019,-8688,-60939,-3033,-24779,-63979,-82621,30302,59772,71302,15966,-68267,-68004,57429,84004,-61869,-406,25559,-72259,-29287,89800,13742,25259,63450,-28118,19184,53691,-43155,-87324,-72339,-36922,56625,-38343,-62202,23008,-81455,-8539,-36090,83562,-26001,-55930,-24698,38753,16615,84789,74482,-60712,-90693,-95292,-49121,41828,1553,10767,30760,-61249,70106,79817,-596,-59593,20949,-87802,10587,-59703,-53211,-41286,-74996,79584,-66476,97712,-10524,-37037,95973,98515,-18933,-48185,85371,-67299,-42375,-32065,-5237,6508,-47614,66691,93418,84841,13432,-36179,-63511,33282,83796,43990,50218,18555,-42694,55831,55570,-69225,73965,56233,-12391,90621,36142,-83127,80325,39482,19889,-99267,-36624,58879,23210,79262,-97515,36907,42138,-20136,-94899,90906,66478,43312,2260,-24645,-46443,38974,72917,-54590,85785,-27919,33738,-9294,57672,-72634,59397,-39270,10593,45515,61282,-46745,-11273,21331,-42185,74064,-12723,-60642,97361,-6220,7575,8371,-35522,46808,34733,6376,73998,34525,-73035,84548,-87192,-80513,-85122,23960,-37242,97635,88455,41039,-4096,-87449,87531,6665,1000,76396,-72897,-52021,38128,-74252,-89587,39653,27830,-38833,-4230,72640,16258,-77956,27713,-66747,-11778,-24385,-98147,-73816,-52540,6061,18408,58638,-45125,77776,-8590,-45628,61896,94796,-23695,-55200,9040,71931,-89608,-63090,-66934,-2826,11213,-75103,20474,86003,38689,61690,23133,4461,91561,-27321,82617,-37678,-99215,71161,-70969,-51349,-81750,92876,63697,2648,35208,82388,-93875,59440,22568,-7357,59731,-46455,-84349,-95453,29776,92988,-84971,-48772,-74800,-19494,-89628,52449,30945,13692,-75802,32120,18905,27605,-16345,-66006,-44739,35098,46624,-81971,74617,-3240,92473,-21598,-64070,-9783,-80254,-97524,75308,-85063,13802,45938,64983,6158,50390,-9878,7622,-87819,17789,-79240,-16049,-94390,-47243,-30997,-54686,13153,-48323,-45583,72127,-68774,-5908,72481,65126,-89369,-14975,54582,49838,-1187,-44386,-73544,55691,58082,-51067,86598,-66878,-30142,12820,24592,63556,-96621,-17613,-10884,-66770,50317,-69661,37597,-82848,-79077,-36092,48086,-35737,-85345,-1607,7827,60192,-23279,-15514,-51249,71822,-4845,-66409,-58330,-95190,78888,82599,90894,-45415,21988,69973,-44199,-86572,87262,-65848,63620,85799,-70068,-50133,83501,-23305,11626,19159,-88997,57227,88471,82243,9047,49984,-64003,-72839,-11724,-87148,-47171,28346,32043,-17082,25527,-49103,86175,63963,-95859,-95268,7260,94819,-92692,20431,-23890,64020,-16242,93874,-39411,18930,-28303,16101,13790,48426,20941,87409,-40588,91196,52236,-19779,88480,31686,20459,86085,69260,91930,-28976,69922,60377,49344,26659,35784,-88401,81285,-83912,76918,56170,77684,70386,-49508,75442,16921,24886,43118,40762,-57584,-49736,-4447,-29599,20645,-99454,-51332,97256,-92608,-18071,-77849,-88450,-75627,-35793,-23223,-59714,51031,-94645,11303,79750,98892,-89324,79799,50704,35955,-8459,-97203,-58805,3220,11999,50573,-5496,6931,-69465,10052,-28120,26074,-75867,66976,-84997,91413,53916,77456,99456,23019,-36391,-5076,-35483,42122,-67398,-69565,6212,-86518,19896,-59749,-79417,-65784,45871,-87921,84567,-42248,79919,89290,-89533,-56831,-4040,-89418,-46540,-79356,-39528,-44666,-78517,68732,-92089,-54000,79216,93328,-76179,20024,-43684,-86384,56193,-38681,66501,26075,42691,-73356,-57505,39588,-88568,-81313,-15126,25645,-9315,-36314,-24275,-8974,-42527,-37310,-63350,63776,11622,-15873,24923,-70005,74721,6990,-2618,-39516,-4817,1091,29907,54158,65650,-92667,38823,-47435,74621,-42119,32567,95586,79043,81536,18417,-24450,-81187,85686,40108,-30141,65448,99093,-9779,-29179,-14069,-94227,-86674,19980,-2455,-2732,-3091,20212,75485,78338,75501,77008,38220,-90884,-96834,-82081,60572,16046,-34688,78744,8686,95514,-90753,19603,22122,-70771,26270,-37521,98400,-49075,37270,71906,-57801,-45182,92475,-1272,280,-61191,18539,-74520,-77039,12164,-22453,35292,8960,85553,-46736,32663,36082,21278,36129,28251,-99618,53402,-71956,29801,91040,-51527,-73863,56550,84841,70366,1681,-25768,-88121,23872,-91923,-45558,-26906,-28354,-48820,-7206,-55420,98364,92438,-48274,-80390,-99246,-61060,19682,-35101,-91719,51362,59055,-24569,45247,-35956,59011,-77998,-32539,-76910,-78150,16920,-55227,-92301,-68003,97325,57420,-22187,-29393,6244,-35975,63732,-95665,40840,-78922,2546,-23278,40770,-3930,-29743,-39242,81717,70148,-53482,81931,97394,-81629,-85193,48438,-87100,43065,15191,-11636,-41645,-58952,-46110,-5948,-56969,82466,-86253,67435,-88732,32215,-54785,98350,59552,8950,23042,52537,72634,93871,-83813,68253,-69938,-17951,85047,-32598,18640,44605,-50489,87280,26033,83681,632,52030,-47553,61802,57733,75064,38732,-40944,75899,-1758,56556,-33305,79578,69169,82908,78455,68216,-89119,53141,61242,-59840,66852,91422,70667,94575,-45712,62381,35806,-30012,-81059,96600,-55807,85139,62836,94701,83533,9229,78649,-56414,23750,46851,-479,-99492,-19453,74526,-76516,16079,59962,-86458,27518,80755,94114,-65918,-64664,58845,-26739,67733,-75426,-83471,-5725,6590,-25352,98848,-48323,79234,-45592,87735,-72390,58347,60808,-46020,-78481,40229,19545,-87113,-23435,59605,-61870,98312,-85556,-71625,32487,16108,1583,37026,75531,3739,-27753,-96158,-66239,-52852,33642,58072,8098,10479,57362,97271,-38838,37098,96230,82024,-3489,-91659,64897,-81794,-45813,19282,80646,79835,63951,39173,-48694,-70392,95399,-92997,46461,87612,8095,-30930,60737,-99947,-72476,-22041,92189,-49718,-92521,20298,79258,65986,92426,44526,46498,-17857,-40922,28339,87607,-61829,58412,10806,25599,85020,-88104,-16003,58011,-72116,-80020,-78268,-90163,74183,79490,28054,82710,86237,-59071,-33545,-94538,46705,-66180,83538,-32483,-42855,-79004,-36951,14554,39414,45814,-63581,-12066,-89606,79122,-33377,-72008,-76845,-95865,-5658,69146,92587,-50002,-2132,55559,44350,50450,86349,-37595,41284,-52859,-95564,-16980,24626,425,-98652,-93942,-75795,-29148,-16162,-82422,26838,-934,-61550,-62580,-42744,-49453,-71560,-18691,-79855,63168,24524,-46186,-17093,-37603,51862,75707,-81855,4653,-53609,33959,-52341,-81580,-18815,31482,-35229,-77722,-13137,-45342,9773,-99625,44071,10966,13633,98315,74406,36957,32541,-8086,68521,-6494,-7485,28360,-11224,88512,-73401,-3296,-89025,58988,-36553,-57,25618,37605,98507,-67644,70731,1430,-57566,42886,79498,-77067,18736,-77287,4550,18412,26156,17621,61598,-65784,8686,43518,28553,-45042,59108,61564,72304,-12976,46215,82483,80826,-14950,-16564,91629,30499,9257,98015,17157,18077,72280,82802,63899,-38132,-98524,-35236,-6635,83222,99202,-97054,89814,95425,-35949,-13761,94726,5137,-51154,-83303,-94012,-93353,-645,58612,-58359,62100,45494,-36222,46746,41671,75877,-19796,-26012,-7813,47784,46216,-25708,84606,-57762,-41553,-56734,59272,-14654,-25427,74571,-73412,-94020,-31673,52377,-630,77096,47719,-28028,-53734,-58607,94970,8106,-89843,34269,-9512,39928,-95617,-70950,20763,-95408,-24617,87721,-28702,-20997,78310,53982,-34504,5301,-33223,30683,73203,-22189,22482,56330,-33061,9124,-5809,-18273,57440,68360,-87914,818,-3153,3376,83197,34518,-56959,-5217,-91443,-40565,84389,-615,-19686,-37916,25449,-71282,-44025,26943,-94825,-49621,-30160,-56330,-91108,75719,-91141,94510,-76778,68627,81808,12281,-29895,-74435,84695,5460,68972,-27345,36228,31292,54751,-38499,18767,35497,42643,13372,-87154,68449,-59042,-16810,60986,-46544,40860,70788,-9989,-14348,62590,-88524,-92670,-39114,-14801,-71152,34993,73676,87757,49703,38565,42888,-6623,-56807,17450,-30993,94277,23422,74478,81881,35079,-75355,-21394,67724,17948,99132,-16640,64737,-93529,38103,-77791,40272,42725,24607,4834,-3107,72822,-45140,3779,-91994,-57283,-21480,15174,56945,54849,72331,-76188,33603,78062,77402,-36627,-75778,13161,15571,-18249,69701,-88820,-36323,-89997,76449,80219,11419,-55440,-64891,36781,27903,-3994,-56841,-3731,-12651,14008,-62119,-85513,71942,72160,8427,-81035,-12892,-44985,-74940,-98864,75774,-67575,62883,-20052,-67246,-93360,-32009,69210,69894,5085,-3390,33329,-41696,-61934,40482,-58609,-93422,20044,-93918,-56642,84250,-20049,-46827,-82071,-93883,77153,96197,-70550,65007,41916,96582,-73442,46282,-12317,-1778,-36087,3362,34679,-41882,6034,71010,-95764,-683,-54999,50757,-33951,58215,21140,37051,93736,-27462,-63252,-79063,-49673,40917,-48282,11643,-10328,95574,-91582,-64747,-86546,52365,-73871,12804,72284,-68796,12536,-42225,97131,-10023,-17961,42646,2683,-12246,-43001,-54429,47692,33769,89425,80110,23180,-73004,-41594,48332,-81868,421,-53891,1427,-740,71913,-84983,-84767,85294,49852,21571,-77603,22247,33601,97681,91045,44949,-12010,80927,-86234,58143,7836,-81056,-71449,25076,97878,11061,-90987,62101,-81082,61293,63689,-267,-69204,11721,-57111,65687,22089,-23888,-73398,-64108,79146,36463,-67746,-86122,-35937,-89655,-97684,-84512,-21626,67137,96322,-94817,-4479,-83610,-13053,-88467,-39856,-99774,-6060,53058,80330,56585,8646,-96274,-75709,-82708,-75308,37865,-97168,57975,-8918,-42539,46815,-17731,-53070,-21696,-77741,15196,-44323,68010,-39773,16857,-5646,586,23776,57306,-74174,53243,12049,97613,-62296,73824,36570,40320,74086,-88441,-35770,8576,90413,-89121,-39738,-26010,92269,-16486,-18933,22996,-63615,-56015,-59351,15473,-49968,-35786,78277,-14938,457,-52877,-34421,30451,-10752,-42945,-65232,60669,-42970,-70792,47631,65598,-51645,-28809,-67667,32494,-24793,26980,-27138,-85456,40537,-97679,48370,-25845,-14366,-40472,20427,-78318,17018,-21244,64731,-76227,-43401,-92339,85241,-36905,-9039,6514,-40554,-85074,-51174,88059,56940,56354,9400,-2073,74188,24064,47551,54007,-57227,24966,-34267,84262,-296,-39798,97249,-37211,73085,-41484,-68087,95180,39049,-93465,1811,-99534,10118,36045,60989,-34667,-17014,7947,3323,98730,36130,93358,80214,74261,79938,53907,85721,-85779,-18357,99832,-37946,-4624,-61698,38232,-363,-55073,-46444,81392,22593,-52815,-45690,-75570,-5125,10912,93836,40574,-93402,3819,-79391,-64263,-653,6949,-95608,86080,74384,-56396,72206,-14076,73731,15908,29298,-34652,-19598,-80478,26789,65713,-70103,-99396,98371,-16240,93948,-11590,62220,-28980,-27100,99885,-73416,-91832,47054,4360,92553,-20981,28704,70037,55170,-66062,-83598,-94791,-6426,14883,50463,35925,-17397,-89215,13234,55917,7382,-27165,-23185,-15568,-49722,-1459,-74900,-78142,13836,-98729,24164,90565,57138,70912,13402,71292,-54532,14066,48957,97349,171,23902,96921,88665,89826,-13469,94583,-30310,-41697,-51362,56944,-82787,-51006,-91791,-16493,-90837,-60818,70507,27835,-71411,33007,-91022,-66208,-22545,19819,-25594,-12583,-81392,-85095,-51955,-49837,9393,-51691,79508,30246,-67632,-94181,-21739,47689,-51701,-75088,86288,-52347,19338,16513,-85560,85489,70202,-9555,-53554,71959,-387,-1325,-21282,-64562,-72880,-88708,67514,-94270,92886,-97489,-68399,80855,-59759,27274,-24920,-616,45674,77044,96955,-19900,-50558,-73460,-86343,-9712,98350,29408,80954,-79241,529,-70677,-57216,-52294,57792,93753,-19257,-19212,-5019,-76938,-36716,-21233,23119,-67136,-15812,-78707,22516,69320,-80718,-7752,-54297,-65234,2928,-62033,-13409,-1349,-69576,-39034,-32472,-81935,96725,-61483,-41706,21074,52670,-23717,40168,-49393,-40960,-69223,51330,48424,90162,-17733,25098,-23313,21798,-68123,-16469,-46848,34904,-61924,55280,-63008,-36385,50247,-5551,75638,32881,-45098,-63564,93343,-29656,-75930,-11051,-59348,-32276,50434,66329,99495,-59756,81225,96616,59752,86647,10915,-82123,-52200,-15659,-34697,44946,40520,-67522,-78498,-6575,67548,63469,88991,-24890,-37533,22791,38185,89041,3754,-44341,12880,-4690,26342,-34709,-38264,91884,-83026,84891,8771,90918,-25874,39262,-5915,-38225,48602,56073,37283,70789,61683,-85340,94879,42366,-29025,-48389,-48462,61702,-7833,65115,-11378,-7442,-59628,36484,-62169,-32967,94045,-60194,74041,94243,75803,-85948,59790,2003,-29610,-1211,33586,-739,-73455,-24325,-92524,82810,-31273,-84255,-25160,-18231,33102,45636,41441,-37244,-20791,40042,60742,-44895,-39098,-76034,67207,96610,21091,-74528,50659,6064,-56337,44440,-52331,62657,53471,1431,9443,-42474,-74528,12804,78615,-96817,79432,-44587,17942,-17013,46706,18102,-1817,-79233,39635,-64026,1477,-26240,92548,23696,-59428,26547,-64626,-63079,36787,92351,49932,-68416,61974,-61583,-89050,-26273,17796,70187,-78148,82574,-94456,-67900,-69955,-41953,-66794,-75865,-83849,-59138,-6863,61503,-84566,-38222,-6447,-37021,26871,97208,-85605,10596,79493,-89504,54631,-70703,-13329,-7944,75162,-60950,16220,19603,83141,-6049,-4181,-93494,-13606,-14450,-50569,18205,92930,-63108,-71617,11459,-59109,70812,-42443,80138,-31926,23760,76511,-66158,-22108,-23157,47669,-55878,-30215,74237,-70218,31839,84348,22679,-77163,-85388,-91073,68764,-76013,-13084,-6393,-50670,-57656,-59958,-99985,-89557,55597,-31348,59395,80481,-99893,-34041,-326,51584,-73585,68956,24724,47314,89266,84571,3990,-57066,-43965,35460,51405,-19244,-63555,-25572,24126,2168,95777,67051,-17755,68376,-39160,-39854,-70206,-59716,-54113,15314,-80400,-2832,-19621,14782,-49882,529,70688,-84339,50876,-577,-73913,-13866,-70160,-86372,-41812,36926,-30238,-25190,42367,-50491,155,21732,781,65415,66373,-53528,91807,63845,98110,41648,-33020,-66955,-21201,61931,-75460,37346,44998,-33793,-50568,33584,55313,-49677,-80511,8643,27389,97748,83117,14962,7785,64834,39637,92265,-10552,16181,-53828,-97368,99720,-70824,-86009,-53895,-80054,93759,-14686,90639,15263,-24824,-82466,71776,-35307,36366,1770,71906,-33620,-36617,40159,-29162,79627,-69624,5661,29830,-92534,50670,92061,40660,56751,-21531,-47225,83927,87562,75063,-10874,77890,72811,46326,-78763,-72018,4481,-21841,-64872,-50996,-84664,-99697,-81918,81471,-24698,77326,-16169,36330,-13772,-35398,-72973,-76824,-96288,49785,-75974,95891,19731,15726,-32670,59957,69062,47121,30752,-95095,-44379,-87126,99359,10116,-11375,-50451,836,448,-82271,99893,96878,-85883,-58330,-49755,54914,69260,-34191,9595,48696,-20757,-54587,27930,-98541,-60462,88094,-27476,-24235,-61681,56698,-89660,53947,-64799,23643,-56685,33511,27032,-51145,662,84032,-12662,58989,-44598,-30896,-71692,-33178,78814,99753,1599,-79732,12219,-66479,-80086,-9680,-34835,85808,59800,-92907,95460,-2452,-95701,36408,-41347,-87341,61811,-957,47165,19542,-36146,-10697,-19469,39678,54748,86787,50486,83820,-35721,29444,-87845,-30613,92068,-85625,-88858,81509,10343,-82009,6433,-99411,-65481,-78120,83453,72677,-71836,30849,79330,1603,-45982,-31789,-73358,90083,-37055,-30488,-81978,7827,39278,31329,-33310,-47692,-22530,64905,-10545,-57593,55811,-57694,64121,32476,99115,44307,59883,57327,-42044,46450,-29276,-45957,77769,-28385,83112,-3539,41532,-18036,36429,-77146,-42462,-75086,74364,60249,56614,13911,-69175,-71137,29535,78378,-85776,90323,23080,-72959,-11259,46744,-659,-98965,-15125,-57628,-90252,-65673,-7533,56268,-29229,-11781,-9929,48961,-35270,-91067,82056,-35005,-41261,13996,-2304,18164,-35344,90037,-3025,-67355,-15656,46552,-41768,-97226,-34513,-68553,48060,28294,4010,-61968,-10022,96421,-4491,-89774,71942,78216,90967,58668,-95228,-81162,63243,-40335,-77211,78200,4791,49781,80471,81896,-24175,66487,58509,96013,-29836,-67931,-93554,16379,93386,737,97002,84838,-31121,71317,65853,72455,-57390,10332,-96992,14200,-89884,26520,9462,-34777,-96082,40837,-70520,59558,-44605,9335,-90062,10763,97250,-77264,-14412,-28919,80355,83119,-11754,63472,83670,71756,-52698,64195,-32105,87904,-72048,50120,-91407,-97859,36991,-90828,-72630,30190,24580,82166,98528,-1257,92702,-61478,-43842,75686,-67348,-10201,80567,-60823,-10918,-21970,-60657,4708,9903,-56218,70040,-10284,-44345,96853,-89308,50151,-24024,-37466,34938,-85259,-60105,63369,85656,-27468,-46884,-67647,68567,19067,8441,-85154,77087,52850,-75015,40238,-4576,95497,55164,84068,-64998,98945,64340,74297,3347,19510,96631,38996,91380,39574,21353,-66147,59800,20692,-91779,-40580,58569,-65397,-92326,10175,-27268,-63334,-90298,85630,21816,-87603,78263,-8068,46001,254,-45709,92630,-90645,-58337,-18177,22237,851,16940,-20921,43042,-55101,924,-20891,-47606,80332,29498,-76957,69508,-51643,-3233,-60299,-95300,82725,78402,74206,93909,46062,-30087,-33934,65529,-22331,-11470,-38713,18357,-32261,82313,46556,10590,-36603,44534,83427,85205,-64494,49587,-22154,-99321,13429,31660,4550,26371,40596,95676,-70723,92137,-95045,90176,58684,70984,-48940,-13637,98475,-59529,-55615,22057,-82410,-51636,-67926,-36250,98181,-75970,-99428,-57076,-80825,62443,-25676,64327,4766,80157,-47922,-49012,-23000,61037,86684,-16875,-965,89329,52028,-38150,-60551,21128,69486,-20692,-29765,-6718,-93014,37323,49628,-14575,-65464,-31919,57343,17464,-10082,-20706,41854,-56402,32341,44063,-49184,-43097,30959,42449,3357,-7554,-34154,-81354,-96992,-3977,41526,-58003,-6918,-67160,-15165,15823,-749,-27188,20560,-16336,-71385,-80995,21809,12661,-223,94345,-17639,89982,-75696,-45356,66440,51205,-5744,-93191,-22358,-81086,63117,74029,-1000,-27162,2940,72415,13483,-28034,28470,73921,98627,79767,-48322,-41503,-87304,70486,88507,96928,1167,-52866,-40760,-43234,-96661,-89913,62953,93574,-64295,-74519,6300,4822,-40548,64341,15502,82501,8516,-57129,-77321,17362,-78872,55356,72756,-52911,42665,-3923,81954,26742,-28373,28993,-51224,-65931,-53395,-42889,-69119,12792,-28264,52129,46489,32933,84364,40883,-7007,-49520,-53294,-74753,-84007,48588,24339,52505,87030,-61383,-33870,-11735,-75244,-4041,-53484,43664,80310,-47705,-11025,-79826,33139,-59288,-27901,-93029,92703,-41341,-88527,38980,42183,50690,-63561,-4014,20304,68041,-27865,5421,17504,32655,61694,24666,-66136,-19622,65441,-11414,64050,27358,-90096,79588,12389,-47546,84737,-31128,-16378,-75164,34781,58031,19191,90394,-80671,43873,18382,-52561,-70175,-83453,85404,-51488,18185,50662,84447,60504,43263,-61578,43829,-79939,-32366,44769,-69942,29731,30618,-90678,-34035,-95940,-27367,72582,32609,53964,46418,-50779,55542,64739,5098,-51649,19777,26949,-10626,93805,-5351,-74776,-36679,-55737,-37856,-12884,-55497,61615,32159,-6679,-58884,22435,-71838,86170,-45734,65698,6392,-47738,67067,-6932,-40088,-96095,-18402,-24539,-75596,-25595,11598,90416,-88841,11862,48216,30077,85213,-10342,71304,64133,3965,92128,56020,87952,-42887,30579,-13662,76948,-28742,-59630,2719,48932,-97532,-5194,35172,67565,44919,-61315,-85767,-32386,-34772,-96490,77200,73725,64231,99811,44550,70320,68938,80130,11827,71337,2958,-57638,5792,33714,42508,86746,-6585,37055,95481,-7690,-10629,27659,14047,-11874,-30654,-42705,-45539,-65681,13677,-9898,19159,-34879,-3107,85460,25745,-82689,61964,50064,98204,-2215,31602,-15191,63931,-43496,-1060,-57746,15482,83437,-18479,-67285,72245,71948,-16889,79714,95455,56751,-61292,-41661,80430,95499,-91700,53813,22840,4818,88054,60659,-78883,32517,35271,60072,-88150,-13457,-3133,91818,63959,48947,-58908,-93689,-56953,-67100,57230,-95983,63205,45725,46131,-55081,36293,-90244,68185,93299,80877,78531,-7105,-39775,-53548,-43716,-64865,-13862,52967,6513,49,-55510,7198,-46232,24139,-31516,97094,19032,-70688,-45262,-97262,-91178,97409,-55916,-99241,85365,-64165,-86453,-2010,22,-36191,99628,2420,-93377,9974,53380,31231,1043,-90683,42683,76625,9308,-50183,89401,48324,-85864,-67270,50677,-70818,65569,10882,-51559,-24527,-2486,-31918,5186,77420,74701,59881,41924,-32764,61759,-7670,80286,-32123,39462,-85173,-21432,-61197,80400,-3398,80783,42936,21149,-22360,-28830,-8136,15969,-52852,67284,-19575,95691,67675,-56630,19954,-55842,-36416,86691,-25208,-97672,4591,-16423,1787,62999,94444,-51620,81439,28362,66292,-84025,-49917,-56991,-40861,82022,67557,87924,-77070,63815,-90945,99815,60259,60770,71018,92647,-45010,20227,96563,55951,23600,13987,-76040,-33403,-43523,94026,7409,-35392,-75424,29019,25853,23439,71058,-21617,-46712,67779,4611,-16946,-16406,16771,-41663,-36287,18252,-47304,32204,9972,20522,-77556,-51193,25229,-92423,-23221,28543,-54273,89317,-2337,17670,48882,-38970,-41293,-86123,90763,-57426,15870,39562,83019,2003,-49758,-73823,-87696,-81447,62278,70540,37928,28321,26831,-45567,-33740,70277,-94562,84981,88995,-79409,-47619,62165,-81077,-37705,-32050,68355,77271,49821,-86328,-38959,-17562,23391,-27816,-94167,95365,-61719,-41200,-62273,-53424,-39304,-14345,43676,-88669,63299,5631,2648,-94498,52835,36771,-85290,2433,69171,9372,87115,-46043,-77594,48528,13267,-92911,30732,-48346,54484,45865,-3303,42062,-73035,-85781,44050,79480,-10964,-19185,49010,-1661,-84238,-4289,-4062,8319,41350,-21689,47673,-6593,-34309,-73367,-32822,66523,-83044,-46624,-93295,47831,78072,49194,-74569,27595,66750,7517,99080,-33131,72340,1472,15965,-88792,57152,-50947,67942,-28798,-53890,-85632,-23114,63492,64056,-45179,-8282,-10588,-65033,83133,-90640,-2745,55966,71424,-30195,-98391,42999,-19307,-75761,-3920,-18528,70131,-10177,95971,-57014,38494,-57901,-56501,-21874,-37187,29630,33475,-70798,67209,-91350,-11948,45547,51458,-96125,26490,86013,38366,84494,-93882,-60427,-87751,32373,54037,-27800,-84270,29825,-72643,84543,-95414,-19632,-52753,81180,-30603,13066,-10883,35738,6880,-94109,-8645,-81120,-27506,4801,-474,-3914,40050,32919,16201,2963,18539,-28117,57568,-74788,-89280,-5882,694,28549,48792,94723,40364,86803,-75483,-32618,88347,87090,-83129,-2959,-12406,69971,42494,-66401,7236,27043,2303,-69430,-67831,-69770,40626,-26071,-14269,-30945,-64974,45913,41353,-22832,34143,-4697,57412,87638,40782,91132,-66580,44228,2871,23712,-49104,-48378,66724,55592,34115,55364,11282,-68294,25564,3430,29788,39749,40717,35542,-39881,-97858,-26512,-54328,-40718,-46692,54440,-96027,7022,65459,-20518,-1513,-56341,13914,5845,66581,-77039,69181,-27393,91761,84524,-36643,69702,6068,-88736,-8731,43129,-32203,76311,-63402,-68084,-40676,68317,-10340,-14882,-39157,58163,85762,-51040,94724,-13753,14996,-37962,-48461,-39720,91682,-51354,8904,-39629,84914,-47744,27563,4749,89308,65322,-59063,-6571,-59459,-48845,-3010,79106,-86374,13600,-90277,-2154,-37617,49724,97031,20774,19487,-2232,-11492,56953,97140,-96142,-60076,-17745,37517,40642,-27030,97315,24672,5870,-82856,41836,78891,85212,-78268,-67229,44550,-97752,-36202,55509,-70071,-54417,41585,64379,99471,64001,-95017,-93282,77146,2436,-33634,-61925,-77774,-41191,21685,-87044,75126,24457,-13151,-43741,-89192,73173,-35059,34364,95738,-36790,64729,31632,-68915,62531,77713,-41854,96722,81590,9926,-9733,39945,68100,83835,-227,-53864,91739,39728,-93982,-56922,-10359,-53525,46432,30043,94120,25199,-42624,26080,47294,-86514,-10708,42904,953,75284,48801,-3536,74065,88516,-18070,-17861,-79152,-68116,-61996,27072,1065,-61243,38040,-29095,-98361,-65653,86698,-79725,29168,74698,54323,-55205,-55865,51295,-72009,-11387,64528,-60615,57602,24375,-63489,-55103,13738,-78555,-36842,-68971,-78599,-37398,-77020,-98184,-45682,-61235,56539,-6481,-80804,-92526,-84253,-36695,-1426,72875,-94556,-23990,-88776,-26462,78600,-74202,-91405,16492,13851,17984,53806,2136,-13964,58469,4470,-6237,-39046,85721,87158,-90741,29697,20271,-32599,-61076,-87129,83101,51145,1227,8834,-62802,88266,20654,-79214,-54169,-35748,-62206,-43554,37918,46700,-9335,58693,-36196,85806,-82261,-72403,-92629,35295,-71584,54105,79578,-77388,54607,82061,-65484,7086,-32388,17393,99036,37221,-32478,45754,96494,27228,75433,-89616,38660,5927,-33938,-48169,34897,48190,-86973,17921,-29241,13130,-79070,67353,69087,-51383,34106,-68152,24798,-38146,-98368,71060,37397,-71710,-80890,46460,-10601,-37223,71796,-15186,-9282,-77656,58967,76757,62227,-41673,78889,34452,-85820,98740,-72442,-16010,88,-26250,-39144,42227,-36200,54780,35098,-62395,17840,-71425,-15315,-30811,-86059,-51739,6588,13457,-56945,-16085,-95076,-68617,-3219,-95746,-32024,92263,27459,74398,-51336,52773,-24119,2771,-11410,73464,32086,9523,45959,57286,89736,89125,-73854,57335,-50505,55120,-34596,-47972,-34260,7912,68604,-1930,-54140,-31391,43709,-40432,26416,21835,-74830,-84244,67882,-1915,-91303,43361,-82693,84937,-34636,90929,-89730,-664,443,36735,82845,-31209,-92276,33458,-25702,60716,65887,89543,-23860,-20085,83993,-64349,50537,27731,-34993,-70033,94435,27153,-68685,-71277,1216,-37153,-64533,97920,-18747,39769,-31733,-75989,-64673,-79956,-17245,46792,65145,25680,-4619,63405,98536,78630,-95227,-4714,34549,88405,-33304,-37757,-56167,-83997,17824,49942,74078,26371,-87922,-52090,78890,-92215,83983,-97891,35428,86526,-26660,46845,409,23807,-44354,4478,76816,1448,65032,84250,-9276,50633,-31519,88269,33309,-81440,-54888,-82531,61131,-79882,-39290,-31559,-82618,91489,-36325,37203,-65906,15802,-5199,71077,85828,95704,47005,-39930,-90962,25131,-97902,-32119,-97371,-98776,-9575,-79611,2839,28021,-77749,57343,76031,43883,-2853,29557,-40895,-98514,-26179,-67143,-5598,74364,53656,-61156,8197,-27125,52945,19968,-34762,99164,-49740,-64485,35246,31275,-7662,76511,77131,57949,75509,-48348,37397,60366,-63245,-93204,-29266,89478,-17956,-11902,35968,52125,66264,-71639,61392,-67887,-23751,89451,31588,31726,10269,39387,41988,-55692,-64325,-83308,45781,-9330,-95536,89145,-4576,4111,31625,35594,63306,-18891,-4434,23855,-48111,-34354,-1347,91276,-71334,3262,56141,-52360,52938,-67832,59055,27659,95958,13178,79212,72454,65369,-16399,-97040,26942,92845,-44468,6639,19293,52161,40908,-59365,35989,96479,67444,-35492,-99742,81295,19998,-11727,-23443,-82312,8524,-87003,-89042,98728,-43988,-73698,-12018,38849,66679,76230,41922,-57826,-26665,55205,-97322,59789,73904,18863,69945,-56384,59735,53673,-6525,-91667,88591,-84753,-13589,89050,-44410,6316,-82392,-25201,68316,21518,44204,66471,39877,-49013,-74011,51766,-93007,50154,87438,-59221,17735,-86730,-4068,68415,-34788,50599,46328,-3610,58177,25421,-89244,27278,85941,87450,-3134,-82521,62046,65060,1778,-57751,35147,39739,-31113,49829,-30341,27590,-43675,5309,64470,-20768,-7960,2432,99854,33561,-1328,-73350,4871,72845,-59226,-33514,28687,78257,-39569,19143,-43653,-86400,96802,26699,88411,14477,-7221,34367,84047,43859,21366,-48715,-35981,64725,-94185,-56862,70243,-832,47809,40091,43217,-11860,36131,15902,-94493,69342,12366,-32684,28081,32721,25363,-63639,90030,-82265,35199,66861,-79243,-55640,92806,-29516,-27276,97699,-77240,1190,-82441,-58917,-98622,31351,-79132,-54929,26243,-71376,-95304,7448,-73806,16583,-90654,-20275,57547,40724,-43978,-54140,66374,77814,-24199,88049,-34821,76380,-98675,27649,77073,-75746,69810,-947,561,-63497,51359,52682,-16159,-94376,-83336,1118,-98281,-52866,-66447,-72360,95073,-61092,-60684,68155,-41223,-26924,-97579,37088,27669,41721,27721,40684,-26435,-19548,-49336,-5199,81305,30038,-49515,71458,-11750,37,-93262,3481,-31765,-56597,-62409,39894,-81499,54210,-55562,31060,-47545,-98213,54628,50740,-66452,28095,-93415,47228,67559,-10985,55251,-51315,63173,-68900,-6597,-36352,-40789,69522,-33382,34760,-19358,99622,-87994,-62818,-11371,81702,62423,39004,11756,-64331,-90511,-96333,-38524,19457,72814,65244,19807,90769,73863,-27598,82044,57432,-55000,42139,-57226,46810,94082,68751,41946,-36796,224,-26972,77154,-63257,11388,85163,-74395,-51868,67844,16728,-32346,13202,-14025,-69111,-17759,73942,-75587,-18438,-52622,14227,32437,-52471,29657,-98582,22085,-76813,91896,92035,50173,93184,-27236,98804,65102,16817,21994,-65733,-96717,-73235,61392,10889,47622,-91693,-63819,90523,-30854,-34040,14181,-56442,41571,25805,61996,-29093,-48583,89847,80020,-26663,-99467,15330,24762,75938,64276,-16311,87748,30007,-15605,96428,-99647,69317,-33925,15661,15553,65489,98947,83188,43848,-10889,39319,81022,-57369,54410,87321,-51704,-50898,-74276,25567,-17248,-63680,-46772,-13918,-2887,71105,-26142,-92327,-4994,68773,93673,-12074,63188,15832,-72595,21151,21609,-54303,36335,37545,30347,98812,72108,88201,-85789,-71232,63422,99981,47321,67046,60729,35667,58058,-86406,78545,80780,5489,-54518,-84729,-47658,87984,82429,51379,-87024,-58796,88413,8620,117,19507,-17451,-97861,-33458,-72300,-10277,-38772,-60404,-26371,-71228,-30966,6962,-6025,-69957,-9383,62355,-27291,-16506,43932,42607,84358,71408,60586,79669,35331,-34324,-38169,-68072,60972,-26583,-27970,13812,51040,65460,60210,29425,4248,-14110,48705,19057,-41959,31351,-87973,80667,72098,4596,-36181,20821,-68382,-91575,-51233,10973,-33737,96151,84369,-49458,8940,64444,4339,-80560,-6580,35275,-55070,-8375,82965,14831,-96596,-19041,-74031,-89004,-39215,-7976,-85044,80339,89784,-63013,-70005,84605,-82179,74536,76802,22994,15329,-35550,95486,-10566,701,63214,10409,40396,-134,-94185,89743,-4154,-83820,74494,-58504,707,38627,22472,81770,-62178,-22920,43145,45406,-24403,94297,-46406,-64949,-20037,-626,-12524,-23580,-73211,62658,78163,-2101,34442,-58719,-8013,-43960,15767,-74462,-45515,69518,-35775,1428,-45684,-75020,13036,-36457,-1879,51252,-96720,41184,-76624,-37970,777,-4073,89948,-53775,49418,22567,619,89041,4171,-53472,-92353,35829,76003,24867,48229,43722,-78768,-48040,-44472,-81786,-64090,81629,38968,13495,5911,457,27722,-96440,-3688,65774,14887,-84876,69958,51625,55815,23049,37603,-54520,-46991,99404,48720,65363,83999,2833,54333,-89907,8092,37840,-56976,-4883,27372,92237,-76103,56165,-24734,6539,-23547,-50839,37795,52127,-13781,-10287,-23488,-42067,-1849,-93000,-86262,15666,27971,76495,84030,94479,-60735,-54990,28080,-49538,-22541,53747,38472,33915,36085,-19968,73156,-11316,-39824,-90634,93571,50796,-35994,33110,95642,95845,-40712,46366,-9062,-63713,92682,-6765,15158,98245,27669,90891,19875,-11580,55066,47237,-1634,-85833,1480,90259,-70205,-9742,79489,-32389,-58864,89014,-38889,-80164,76682,19499,91216,-77018,-20329,94966,-45349,22747,11285,-123,11253,53779,11555,-93983,-95935,-70450,53627,92116,-51751,57626,-11783,24728,-22979,-39486,-42909,-28573,33334,72879,-92904,-29181,-2106,-74518,19962,87767,-80601,92086,-87044,-11776,47013,59418,18128,-86090,-91069,23894,44412,92569,-85491,-26264,-8882,-77455,-29081,59563,64699,89447,4177,14731,70240,-86120,-44491,8458,-31444,-29572,64343,-82212,-1679,-15389,-98281,4198,-4743,2951,-32820,15232,-71260,54229,38009,-16996,138,57680,88524,-74071,21586,75297,-50983,-10173,-48100,-61063,-59577,-74987,-5529,73585,-21966,66175,-63679,93540,50839,40124,82540,-32119,33917,-76382,-84899,-22841,70028,-64158,-46192,-70617,-89716,-90863,73495,13270,-8923,-1251,80595,70646,-8329,-14137,3357,-7869,18826,-20053,43781,13954,-56580,25035,-65976,5210,-19654,-45945,-29401,98708,18531,65071,-36224,-83734,73627,80983,-8891,37148,72593,-47619,-19549,68956,20415,-10928,64756,-16636,-9237,94811,93722,34318,91989,-41035,-34107,64602,53733,9743,55160,-32279,-6501,-42162,56247,-84573,54022,53843,24060,-47169,60305,51207,-37823,-37648,-68214,16350,90820,7106,29087,-20441,-40062,-80198,63566,29663,-80964,59130,-68338,9337,92506,75423,-10400,27066,-51757,92184,55616,25398,-48897,84737,55683,71130,-39418,-75719,-80389,-5526,-34691,82487,6696,89407,49152,-70404,-11916,92032,-28702,40315,-70995,89439,15389,-59146,70295,-11978,-68145,-65007,-62232,-49593,4332,-70733,33143,55627,32624,-26015,-68402,-24212,-62807,72707,15741,61735,-61964,-3236,-36725,-22190,-85422,-29512,-40964,84654,-5928,77377,-95611,-21554,-52584,-70596,-78409,63930,-51608,14094,-25675,17333,4045,65906,-63383,-80144,-20131,-11171,77136,202,21254,38422,19781,-1141,-54846,-38615,-39343,30331,65331,48763,33722,60734,78275,-79248,48246,-33471,-78368,-59392,22452,-91772,55061,-23987,53838,90682,-11283,25411,-86346,-50891,-68031,-44522,4766,16320,-9794,9180,19861,93572,34777,-76194,-40602,-88426,67601,11644,41544,68672,15254,-9708,-9796,77646,38339,-27707,-11161,83843,-38155,27359,2270,69685,30656,91427,-2515,53670,-38153,-4519,71586,-67934,37715,-57736,81672,5329,-93657,54632,82684,-31994,34863,31367,90202,58212,18158,32258,-42473,-2788,-12899,80661,-91021,-42529,-56823,-54298,-48919,55368,-26421,10575,-10082,45160,-16583,-41938,-87457,74952,61967,42864,-34447,89375,28890,-85362,61198,-85847,93883,89935,12419,12143,76692,21306,-42270,-99531,-48837,-81624,-52818,-89075,-83926,-20409,-47601,93228,43842,-99659,-90572,29606,1540,38185,-93229,64988,237,-22822,90567,-91140,-20004,67785,51766,-76803,-53713,-27376,-97872,29655,56416,-33005,11988,25562,10037,-98989,-99473,68872,-44578,52633,16341,15974,-88565,75148,-85041,37532,94496,-53380,-13418,35213,-29637,-43346,-74668,17846,50044,-14731,-35949,83107,96501,-60439,24967,-57222,43357,56141,-29506,-88196,-54777,-55059,-72158,43913,72851,91190,-23733,-67901,-56730,7487,86076,81834,4066,-36232,69683,35304,-18612,52225,13679,-65925,-59337,5783,94650,12700,-17390,23606,-38506,-91144,82919,4743,-83298,-81705,69526,-47905,-95198,-86691,15766,38876,80910,1004,18896,-22319,37705,22764,-67325,25438,-83723,67724,35799,58890,-92112,-71824,64425,1744,52566,91464,39303,-69542,-9309,98432,-89096,681,-7868,-92098,90742,-21987,-31336,99679,67853,-64460,27518,94011,57361,67664,37736,35261,-97605,48262,30759,-37836,99260,-52065,19949,-64470,3361,15030,69148,28166,-9730,-6719,-316,-17321,35176,-57475,85433,-46111,-21856,78695,-14543,-8762,40222,26878,-80826,-34237,60699,28268,-14759,69314,62748,-64487,-86205,-24373,-76565,-52362,-16038,84922,22740,-50580,34616,91158,-3567,17306,-10010,-9446,20965,-13663,84361,-38002,-54919,-36523,64688,-3726,-41853,65889,11174,-70091,91344,-70345,-50449,-19569,79975,56944,54935,17491,8890,-23206,-70821,92943,53447,-94416,-85434,-35205,14264,-5333,52594,61529,86276,47784,700,-10423,-17086,83932,-90863,67891,89287,69714,48682,15324,-54984,43498,55238,-5945,-51785,32699,26514,-98642,9375,-86261,75161,-85650,19339,93633,-73998,94192,-99263,40971,-91307,-55581,-96045,-74804,62266,-28341,-92815,-82008,-23865,-46492,-78563,-13626,-16570,-86375,12483,-11070,36566,-83611,-44763,58816,76299,-65133,-95591,-98114,8677,-50456,-4433,10834,-57998,-33865,-42669,-49403,21277,23240,18351,69589,-7526,-20538,-61460,-35448,-27321,-69353,87591,31325,-74192,-40438,43938,76643,35346,977,-44188,-93199,42959,91772,-13881,36102,63731,-79115,-80462,87234,35021,-35587,-65708,-82035,-89429,-49357,81864,29733,96565,-16549,-73400,45787,-31123,-94092,-68552,-44712,94128,-82670,-55217,94280,-94724,75237,81314,83381,75057,-71687,-96912,82356,-4128,-26133,10529,-33447,-29708,-58257,96243,11169,1710,39915,-99140,-67222,-56300,67686,6539,-66484,-66240,-69587,-64056,-17218,88507,-65801,-76159,69001,-61356,99995,-83039,-69330,-59960,52773,9904,46492,-27297,-23104,89936,66127,31333,-47328,61344,71460,-52395,-17503,-4732,-67139,-45370,-32507,-75435,46287,-6032,-19548,-59605,18922,-47379,60879,55037,79274,88227,46811,34551,9936,19673,-73098,-32192,64561,-48356,-38098,-76529,50632,-44745,40412,-86208,94360,42549,64030,-88667,-23988,36930,-31505,57965,-40650,-16320,24275,32882,48670,74451,-75897,330,-30073,-43535,65050,-48859,-52204,-31660,-1232,-84463,-85941,15715,64099,-53245,38840,71146,-73722,89548,54633,-13574,-37767,7116,-15445,7666,-19919,-75812,-84925,34795,29351,37755,-25373,-44217,-90496,-34377,-39767,24487,-76946,-98819,68059,87417,79166,-51671,-81715,15439,44274,-42881,-47376,-75486,19621,-20104,-51433,-32925,58307,-42760,-79265,94884,91219,-15921,-82083,-77126,50810,-94056,94339,23829,-39411,92357,13162,87632,-3184,94418,-62847,15720,-93026,-13005,45401,-2076,54496,-47821,35464,-76191,-68755,-88257,34238,54099,23080,4266,-21538,-90210,-60508,77944,-48160,-12586,96386,81811,1232,45796,-17117,-53266,17892,-44854,19511,-5533,-27741,-4913,-57738,-39077,39852,34301,46652,-82459,19223,-78289,-89150,5994,-66994,29217,-39,68404,6045,78278,-21501,37272,-8022,67784,62558,-29859,-26001,42039,6834,-67709,-94591,376,43484,-8929,-3071,-76593,-93456,13562,73256,15520,58318,-93472,72780,88827,48684,-13043,45457,31695,76076,82553,-85591,19090,-19648,-11323,81482,13910,76018,-93770,-22515,-66311,-70072,-16918,-8667,-6941,-73386,70825,-55650,19241,84920,66489,89300,-51032,39638,-35947,16995,3842,13386,82713,-41394,72093,20222,5273,13378,-2935,-90124,25513,-60861,-72161,-16373,43421,-39938,-3466,-52784,-23786,-12524,-73434,41249,52807,35516,33277,27448,-85632,8336,25937,52885,-45466,-46920,7665,-57164,-24194,62636,12775,35056,-8002,50284,-33335,-86825,-86191,85970,-73581,-323,5946,-3847,-23615,63924,-8766,-4019,21342,-69363,-79198,99024,-23559,52988,-76039,-41144,94089,37803,-2160,-82227,-82573,-12208,-50277,-47678,-85987,-64559,-11362,74103,-98602,-82551,-54554,63830,-98855,46973,78864,-3944,27797,-46640,-46468,14582,-33182,-86556,-65451,76215,-35860,-39066,-33220,-21660,30049,33719,34130,50076,-33866,-70621,77167,69863,-99190,69717,-46639,-6348,90135,41019,-12384,1807,-19406,-21839,-82314,37138,-63832,-26091,-61099,-29839,48916,61894,4011,81217,21590,68589,26114,-88291,56856,78884,79339,-64474,-10726,26030,-82702,68722,36015,84245,70809,-71191,60822,-95343,-36188,11784,-36793,7265,7892,49334,-33967,7335,22939,-70508,20356,-2750,-82157,19086,-76217,-50592,89542,85793,-45669,56827,33774,97531,40117,71632,-28329,-19441,81743,-63176,95396,-17502,-93966,-44595,-95702,60245,-7593,-66265,30909,-8841,14118,42471,-42086,-99507,99450,-43825,-74315,54571,-3683,82293,3230,-62345,56551,15497,-66236,-55057,-45110,-5136,1160,47609,-99917,-89802,54182,82218,-73170,-36083,-6221,-77621,-7953,-52123,33006,87036,-66068,-70751,-74563,-40879,-12166,88156,-7106,-61315,-22432,44810,-65851,-48301,62573,88728,57061,-32491,34638,-28319,-19217,71090,70339,-98989,-65890,-7230,-40906,22715,-31152,-45938,19067,-53612,-84271,68853,-30139,1090,33633,-64377,59670,86234,25475,-5141,-76351,37888,80713,-36179,3337,6589,43919,-34850,-59823,49535,-37820,-75581,37073,58439,69988,18015,95783,91999,38035,74990,51235,43378,26268,48153,91182,-81074,74688,-79524,-23236,-10640,-96214,33530,89201,-76043,-39967,-32704,-27608,-68633,8517,95683,-9308,5524,25524,-82417,12892,17016,23243,98015,-41551,25370,23078,-66333,-10054,-25025,-61926,86687,46538,66209,75645,49597,84303,-6712,78357,77789,54258,27920,-76887,90070,-9546,49335,98217,-60333,-47609,97301,18097,-25908,18341,-12574,-8863,-57596,-15834,44891,-8143,-87452,-94770,59282,66736,-64281,96976,59135,-38695,64605,75096,-4348,92587,-14307,46747,97223,21093,-16465,-17669,-57500,-89578,-44717,-91692,21588,29085,-45589,88929,-13844,-5195,-37733,83940,-78515,-6279,79919,-58822,-42101,68320,18052,-22711,94381,6010,-89606,-6545,30962,-67976,-90706,34221,80929,26488,86825,58502,-78993,-55172,-81110,44117,13872,47488,41701,-90428,-60032,48119,35194,-92168,-1273,-68567,-21505,58663,46343,-61340,70037,66937,-26216,45318,60799,27418,99764,66068,-79685,-78795,41788,-19749,97798,14533,-60172,8391,-46957,-53374,93972,25971,85017,33996,-32373,50676,-10626,-76244,-8513,-45201,-53611,-88210,-27527,-8681,-27362,-38996,-75309,-98976,-36994,-77480,29530,-63954,-33928,-74193,17067,-34560,-40629,2792,82325,9226,39710,22481,-71298,-20371,39706,-56662,58024,92210,3051,28945,13228,-32530,-89272,-20390,-93375,-50797,-33592,12185,9640,-63975,20655,25250,-27910,-66755,-20110,-15182,83181,-12700,-38858,86559,84155,-59702,2375,20364,-99578,-6028,4727,70886,-50291,8224,76182,-23736,61742,16104,41582,-84739,47037,60889,54948,42444,16699,-48273,-77609,6182,-28668,-68204,-88567,-92007,24126,-49759,11737,-7705,84329,44833,30105,61450,-85623,91664,75398,23491,69886,86940,6188,91965,86729,-5544,91190,64216,35263,-82640,45376,23151,73186,-59631,-4042,-47625,83570,43475,40266,99141,28352,47476,30442,28756,74049,-90853,44167,44264,54637,46117,-10694,11995,-70209,-49261,66738,35001,-5845,65473,-2834,7214,44103,-35240,-51306,-38976,-64866,92729,-99699,56744,58627,-50294,25803,-80994,60786,-37322,69183,7394,-60016,20851,-22326,-63314,-27137,59025,53792,-44409,73297,74243,10148,-4071,-55087,94060,-23324,-66499,-54105,-26989,-81335,24993,-24697,-68600,-3874,1933,10313,-94783,81105,29373,57085,-36751,-64334,-88840,-72718,-26320,37321,33093,49802,94469,-10399,54901,-51387,-2599,-26719,-88286,-87768,3233,-4858,61346,8032,-627,-89633,95424,5674,-82186,84489,-15490,-49747,25736,-95940,-63540,-83184,-80613,-42240,38578,-1318,-84437,-37544,40889,50760,-33338,-66389,-59203,-13001,91138,33421,-15116,-28472,37012,33933,57210,-91235,9384,-71819,-16846,-17119,-26127,24542,76172,24468,-57706,-96751,53211,-71176,23162,-44605,-60593,9688,17610,-17023,-46681,1753,73148,-6257,-79037,-80632,1084,-81946,32427,-92706,-84238,-39420,35742,82013,-16440,-44457,-3565,-56362,-73479,45092,36669,-22226,-9176,6734,-96206,12438,-10948,-25904,-83820,14872,97866,41568,95071,42208,-56024,7544,26153,59615,-71646,-34101,-74918,-82734,-79931,94504,98397,-77135,-59292,67521,-49769,48247,-35674,-20925,57436,98905,-21920,-64811,-93551,-22770,68717,16759,76359,-58653,-24468,50781,83035,-61355,-57488,-20334,5808,56117,-65552,-27306,-6192,42390,-50059,-88737,6302,-20279,-20949,76145,20007,-57685,4488,88342,-44260,-23225,-85481,12663,32637,40045,-13493,-74169,-21539,95460,58882,-16487,84501,-37967,32451,-89787,5408,5381,87134,49209,-14418,-82840,61943,-98302,-37046,-62019,34664,-29806,-70048,-26449,-2198,-95264,-819,34747,21820,-18939,-4287,-92853,-30029,-82390,-29482,-54811,-43319,-7914,77776,59831,73953,61682,-369,-4208,-63989,-8739,61140,11622,-19312,-73861,78806,32866,78325,-74200,83767,-41653,-31582,-95379,21641,-75869,-67267,-55825,13183,-97702,-46929,35164,54893,80174,16151,26498,41977,86495,-63674,-7954,67338,46950,-58701,-80335,6251,83018,19809,-19290,5100,-35571,-63369,43450,45323,-99322,53821,20783,2524,-95581,12313,17036,76139,-89857,-20688,59919,59326,44941,-73294,-73029,-76802,62612,-24145,-20731,31021,7782,74106,93213,-76507,40615,-72283,84577,78812,-80090,-73914,56345,-36825,-78212,-93948,-81942,-84549,16745,-93643,-93366,-76812,-5317,-34956,-90834,32712,-57939,-2563,56728,6866,-21563,80962,32405,-18675,82133,-84386,30479,-30355,58599,64495,12655,96038,84520,81751,-69449,54758,-18119,25224,77666,20975,49534,-63476,44577,47112,-18716,97249,47580,-44686,36143,90669,40039,14349,88620,50024,78524,-94076,77251,-82832,91173,-48922,-78045,15567,14620,-35433,-13886,-13566,-98814,-47881,35792,36741,-77496,33096,-17882,9187,18770,42970,25105,-55109,-84617,-53438,-96657,69024,16781,14017,-51459,-84084,13626,-21879,-95234,7471,-86169,74004,-88273,-71952,82933,-91314,98998,21524,-20970,-25678,-44681,-48499,97811,-96897,50450,24246,-8171,-42209,-85463,252,-57768,-83004,-40559,-29788,-57385,-49773,35441,10022,-23706,-65755,-502,-68945,98509,-3240,-33530,-40780,-91306,-4300,87636,-27230,49334,1447,-31732,-45057,-98359,60610,99619,-79020,-57212,47079,53768,87075,-71570,26693,-2498,75569,-34645,63215,95746,-64032,-25162,-94050,-45843,-19297,-58672,-30594,42350,9556,75185,-17327,-95489,76491,62303,-74268,-26187,-81923,50125,-7079,-44236,-64695,-88223,46224,40522,-8674,66711,-96832,69375,-32605,-81379,-35112,20288,27042,42680,-16723,61336,-85191,-19272,-49252,-57797,14146,75966,23522,24486,6183,-28958,-37490,17273,21180,22793,-61753,-56836,36188,29195,76405,-20442,-29760,16239,-13336,83950,-61101,9663,-11741,-19680,-81048,-45643,22181,-66209,-28379,-64519,-63572,-96356,13111,-98808,-17404,85868,-98301,64076,-76622,-56021,-85812,-27513,-93544,90172,-69126,27965,-91003,-51235,21153,33820,-9738,-6527,-82442,14897,-29239,62320,42581,-93797,-80701,-32424,4239,90282,21463,92767,71801,-56790,77267,28091,37263,-30997,-66247,49843,28384,-66693,-10531,45502,-20042,-13090,-56016,-67255,-27609,-73244,-27796,8349,-78474,71722,49096,-59785,-20751,28762,-4961,-26947,41889,-35789,69986,-64499,25880,-41677,38558,-72136,-54887,27387,-1507,99613,-65928,-44563,-57975,-55424,62788,92052,-3019,-52266,-97836,90630,92076,75815,23184,31196,-85211,-69266,-85190,-68346,-47658,73725,-70374,15036,4841,64559,-12659,-94532,-84563,89148,-79971,-22079,92064,65040,43585,-97980,8133,-41635,-43082,-81146,41812,35237,73196,-65197,-80714,-79950,67080,-77802,-78225,14551,-19678,-87964,-86851,43957,-65586,31498,58105,-81302,38736,26795,-23609,-68988,-29992,44643,33726,-25467,-36537,-34181,7935,-93294,61670,97333,99471,6603,78792,96067,44216,41754,-83021,-31568,90161,-90348,-56671,97719,29047,-36144,71772,-60619,59378,-32507,33056,-88500,-14929,-82439,-68884,4899,-46775,7144,39865,-98164,40203,97858,93945,80653,-33496,-10629,-77132,-99206,-20483,-32635,-9824,88047,-39223,-86121,-58679,77180,-68214,69863,28839,-95171,52892,-39612,47311,64033,4815,38677,-26908,99439,-59427,-17393,-59876,-13427,23375,11128,-32613,-90628,-25825,89893,51946,-19522,77780,33381,-78078,-55160,2013,-24814,37621,-78528,77100,18297,27166,-31812,-80184,-53469,-20580,20117,-10289,81569,58264,6411,-228,44732,-4902,61559,-44570,-34222,29466,72522,-70425,-10293,-46896,-6445,36731,65464,64493,29056,2781,28714,-10702,-88289,52462,22006,84600,-62603,-17920,-66418,21743,-50106,87683,85020,-65643,-80660,-71919,-60935,-59530,-10379,-18901,-14587,-94066,44660,-86113,-82755,43390,-12395,89091,55313,-85533,8992,-51665,-28929,-81444,49129,37982,2692,-14867,4330,-66504,11449,36170,16668,24544,-85784,-98086,-38625,68105,-53733,-40711,64374,42038,-97983,46012,22824,-65391,26046,16058,-51153,-15820,-60310,-80004,49769,-8103,57168,-28184,97845,69599,16243,9175,-32459,-83307,66565,-12511,-29862,-69031,42650,-8359,27832,-95502,47245,25898,-85157,-80478,-3326,-74357,53343,46060,44641,-61973,-66582,-98387,-56312,-22783,30541,94935,15322,10703,-84602,-1829,-42545,-63540,-71168,743,-46302,-1213,-4839,-34931,80983,42376,-21792,7153,-76294,-61611,35683,7349,-29713,18107,-7021,-14443,-43990,-25735,-40445,-17149,-43503,83200,63375,45544,-9257,45049,-20227,-40718,-6250,63918,-17566,-11448,-61803,-53500,16564,87391,54434,72653,-24277,65208,-36838,-1256,-32490,73033,3180,12543,-19495,-65701,-97808,88159,-69770,74086,-65608,98911,32522,51053,89266,5072,45503,49394,26486,15487,-33581,41611,24065,-45209,38822,87538,62240,81304,-39974,-88503,419,-301,-55475,-97762,73122,84068,-7631,-90264,-85774,-27242,11433,13787,-52195,-26219,37978,-46452,86821,-58783,71538,18112,45139,-37869,61222,-10322,52102,-94295,20063,62907,97050,14529,-63351,59357,-77400,-13612,46334,15313,49655,-48145,47132,80725,35389,11793,3256,3959,-7244,-44569,-66927,-95726,-2659,-1263,48588,68080,-48327,-8683,32805,71257,58009,-16754,77646,39375,-83929,82040,-44381,45228,16018,60816,1764,32490,37938,31456,78720,-83882,12527,-53757,-77296,37148,-78278,-88157,-3361,-43316,-98835,29260,25231,73371,88428,15935,5842,-32065,10837,-50095,81660,-92942,4033,-76519,-81327,-75107,-72088,-42232,-70851,-19000,9580,-48309,-15194,-75536,-28306,-84924,-42825,86946,72561,97079,-68321,2692,97090,-44872,79829,26203,-33926,59064,65098,63054,-30114,-21711,-20180,11118,52000,-66772,20722,14919,-9948,-7131,-74325,9161,96088,-22737,38601,48854,27296,-84309,41952,2536,54707,38319,-35024,19149,33753,-14994,-40096,-33188,15923,33023,-43759,-29014,-2040,-6157,-14306,-3821,-54648,44656,-59522,-13557,65855,-20246,-62158,-35502,26846,-50972,-32739,65994,-42450,74858,92874,93973,35165,28011,1554,-10471,-45920,51497,-27370,-27375,-68347,85459,-69984,-26362,76217,24649,-85847,65357,-19463,-82340,-30839,32904,13160,-74702,41507,48695,-77790,-63581,70781,-64989,2915,-58886,20465,-6464,49304,-75675,15583,5405,50491,50424,-879,11979,55113,-76098,5194,-11456,91327,40373,36760,-86709,-62660,-28704,-10763,67539,-71168,46550,-63257,-46983,9640,93241,57839,18091,68568,32070,-46952,89929,-80189,34441,-65214,-83826,13235,-91918,48122,-29508,-76080,-17836,19196,16182,21692,-95344,22022,-78304,21862,-56768,88156,54196,83238,80568,43320,27854,89101,-34860,-58054,72797,19822,-59380,56252,-79743,-18952,49921,-68186,4994,-68265,-94879,64878,-33409,-93127,43043,-9206,95360,7752,75276,74232,-11439,54583,87189,-67221,77599,-50172,39811,84236,60665,56898,18431,33998,8430,-41138,55251,-94451,-9035,26034,-8242,49173,-26711,-92963,36407,-19,82631,-59998,-86713,43509,-91439,99156,54351,45742,51115,38062,-78557,-56208,-72744,4937,-58562,64445,45626,92901,43780,12107,-24228,53650,-57898,-96549,-20721,84034,15892,87328,-17427,-7169,-35196,-21005,64956,54956,-34124,43788,77781,43115,-75183,21419,44350,-6465,-50735,46622,17101,-69668,62600,-41289,92726,-68394,-69907,-25248,62867,-29792,6330,96638,82129,25819,-51143,-82026,-41920,-35385,-93843,79767,26903,-58925,-16119,-11960,51755,-87931,97431,42627,-34341,4731,-80091,71450,66367,77393,29657,-38005,47479,-86390,64826,-94912,4113,-54721,96587,-23550,-70045,68093,-71200,-43480,-34140,-43416,-87042,-82068,24786,77450,61262,-9441,23038,10435,-61971,5443,-68388,98626,-28514,38159,-83362,-36134,-68641,76225,-77404,715,49055,-2263,74963,75228,3366,-76254,46754,81744,45987,-27228,86010,-71532,18688,-85933,-36508,7007,-72280,42760,-52399,-38907,39371,32037,22184,94117,66345,-98572,86461,58241,33342,33731,38759,-8045,41851,67512,68832,10181,92061,71076,-54139,-84372,7508,70222,-11291,-52027,-28398,-47793,-73980,-50535,-82848,-30336,-20264,-7693,-47367,-7397,-99637,42628,49536,-5542,10823,59662,21567,3217,-43309,-91709,-60607,-19424,-597,-38770,73061,-58669,57048,74568,-82520,-87799,225,-21587,-86755,-23658,59495,-34592,-10010,43091,-54484,-62074,-94220,-47391,58367,84257,-84490,45608,-64985,-80246,79076,-26242,34338,-1289,-24802,-69229,-75656,83817,14389,80968,-36275,-50625,-93497,45828,-13709,-84188,-41606,-46184,-10142,10312,-19942,35519,-95596,72525,-72368,-82512,367,85372,-6974,-44618,-93298,10012,-80243,-96073,-63015,38695,19880,23134,67782,97298,72832,-53530,51916,-19388,73270,46786,-78259,-29602,30157,51124,93179,-19077,-49880,11609,-60308,-49935,47346,-51161,-33580,21198,-4873,-50101,-82853,4363,72504,-55498,-99774,54084,71593,63733,-79332,86789,-10500,25802,-47802,-42076,-75363,51851,10217,-81776,67971,5851,93175,89934,58317,33981,67994,15293,-15076,19121,77397,-66789,91215,19464,76576,-37566,18943,42579,-5641,41604,59003,-91586,-98634,3753,-54020,40774,-8607,-31252,30852,62463,-33666,-14997,80993,11895,-28792,-52701,75863,-15185,-83791,-99018,70675,43222,-9945,-72525,81651,6104,-32443,-5559,84653,-39121,69140,-35743,25346,71483,-70685,24883,-88095,44029,-64586,-71372,75625,83109,-7692,-49836,35136,-23026,38231,-87194,-32443,18113,53086,-82305,-90555,-76227,-49233,-61917,-64529,33331,-5639,64865,80434,-44556,-75784,8534,-92708,52658,-64324,-53400,-83140,38237,53260,-53586,6587,66574,10788,-36605,-59329,-73052,-10821,-72333,-74136,-53388,-44325,-22193,-55810,35837,15845,18321,-44175,1596,26050,46017,-73173,33536,24,82520,9788,-38530,18310,-82813,-60499,-36940,-67038,-21358,-7345,36122,22693,-84119,-76337,2523,60593,-57474,-21035,55068,44352,28808,53613,-42795,50830,-51213,-31718,-81731,-56473,839,30385,9897,-28357,18922,-12348,93599,-19449,3355,51568,-16455,-53659,94331,57172,-65536,90459,-58328,19232,-55991,-63239,-13183,9321,-5008,-66689,-14090,-19204,70541,-535,14859,-76395,-47449,13958,81573,-58837,-36324,43149,96331,-57363,-49987,-78315,55558,89027,95021,-61405,-88201,-49092,26160,-35873,43727,2587,-12641,-27003,14546,-73915,26068,1264,81159,36758,9951,76130,-76561,-64995,-67621,-69811,-95300,-37266,8008,2051,-11619,-13952,-64413,25634,81450,8706,21940,-98634,-28942,-11176,94661,52454,29158,64108,-49102,91357,-36294,59464,-47861,14209,-80953,69359,-2494,-88550,-77107,27587,-4225,-74135,-38069,-65594,-51444,67623,74842,55307,-29043,-90959,97614,-11733,51273,-62865,88353,88113,-97758,71585,38330,24045,-83391,-64283,-39250,16729,-13554,-75683,44993,59299,12610,62437,93690,-42723,-52528,81660,23811,14859,30037,42720,-73601,-29193,-89463,94160,-83768,-26145,-22636,40678,-47068,-16972,92289,-90130,4230,91265,-6998,26499,10794,17391,-89255,20762,52087,48492,-18880,70135,57954,50200,18862,-11601,-3174,48632,70317,80380,-89543,19456,76774,-92853,-87435,-67985,-83107,-21096,2146,-49712,55215,-80546,52839,64834,79597,-31442,48907,68634,26241,94454,-36430,-58154,-39011,-53648,72704,71742,-65808,-61100,4761,81299,99334,27922,88868,6752,-34557,3577,22769,41300,18211,88176,27993,39485,-94519,39529,-28766,79185,-83474,93990,36420,-3968,-4446,25243,37620,-25075,84603,-30032,20201,16317,-4023,-79112,72135,1241,6936,99160,-1246,47043,23413,73606,-55609,-53255,-98747,-18392,80739,47433,-31731,3606,94779,42380,30770,32441,52120,-51638,-48487,87874,26645,-258,35386,-91672,-52602,-71835,-26736,-20974,5316,-24992,19751,7561,-77577,-1245,-20724,43283,-11421,58255,40270,83805,30346,-36177,46333,-25044,-76868,95508,27813,-37050,94977,-82860,37123,97635,29988,-92199,49520,-37671,88472,68962,-65215,98822,-77241,37993,-20929,91261,-2435,-30967,90845,-65570,19189,-92492,-14439,-24249,49803,50880,14301,-86385,-26126,58781,-86223,-98790,80972,-27692,7573,71956,18807,-24866,6877,-73746,-93930,10441,33182,-50205,-60765,-76165,38542,78124,-48187,92352,-49134,59545,2620,-81730,-22796,-65402,51264,28977,-49898,-16002,-6969,21027,-5516,-50231,-38019,13954,-7881,98991,-12683,99764,-61106,-11925,-87692,47811,70962,-1197,71901,81140,31194,-15198,21940,-46962,6016,-63480,-70347,-87306,-78120,37739,-97424,-61689,-19378,-77675,-96796,-65421,64463,-52657,-17083,88278,-8589,94859,98992,59721,12322,19252,18785,-19042,19534,-17670,52730,-68731,7919,16651,-95305,-70546,75816,45777,-39565,-47048,15683,-74639,-29741,-67648,3270,-64896,36881,19565,97445,51346,-70639,-72814,22790,26997,96211,-96474,42136,-54256,13582,-48552,-49283,47664,4691,79354,25480,-96508,93965,-83328,49954,-14673,95073,31353,64038,50374,46894,-88209,-87736,35207,-14358,-20204,99032,96812,-98251,78273,-52204,4645,46435,94965,-55681,76214,-12351,3473,8391,-68612,-29968,17727,5300,48260,64453,5057,-22190,-61204,79385,45843,-28751,-40619,-44136,-12175,-65474,-41113,-75716,22120,-77200,35212,93734,-91801,-69607,74412,-53831,-73314,-45444,55494,-83795,32081,-97614,-91269,-20205,-5819,-2789,80219,-22647,-22539,-25936,67760,82208,96748,33895,66664,2626,86335,-44122,57267,-36216,-69266,-4804,7225,-11630,-61208,7096,20601,25186,86283,-6927,-49245,-72117,-96468,-39246,-14988,80035,-12995,71967,92016,50593,-15165,-35614,-81007,-6465,-22873,97033,-28406,-46326,98550,-31349,57734,-53396,77927,-8003,73455,18464,-2871,-7630,60054,-86984,-62569,4982,51967,99796,43376,-81957,76177,64373,43906,-56479,-31233,61944,-40117,-32560,-33930,88343,78486,81017,-90573,-75699,61703,70514,26932,-69249,-34674,-32395,-48098,72342,20023,95781,49553,69821,55209,45319,-82549,43508,-97932,-97903,14482,-79736,45839,-96203,59343,-77724,-59451,51207,37502,-62559,-18380,-17655,-97495,92308,-21710,41291,87872,-39856,-19217,88180,-16725,71170,14606,-51352,72978,-24342,62317,-88479,4834,-1201,-33370,5577,6573,-49029,97051,4766,-64941,4867,64752,-52733,73680,-92547,-81985,-27757,-48058,79,-42712,-37176,63134,83626,47417,24327,52897,77116,-84887,84515,-17872,27827,-77552,-98873,80485,-71692,52984,91705,-36952,97871,-56890,31767,-56315,4788,-13835,92507,-54254,-95506,75377,12153,-48375,22684,4665,-25072,73104,-31489,23977,8179,-82833,54914,-78333,-41276,-10129,61693,30792,-55172,26175,54942,29325,98503,-84217,-14581,-27432,-75869,-35473,-65157,19880,-35901,41586,-12780,70131,-9785,-33858,94618,21246,-7613,-50258,-31065,52573,-82392,84602,39278,-58351,-33977,-10451,-86260,-54441,56214,23014,28411,14069,-43456,-27849,-57507,-59623,-35058,78531,-33827,-8532,-95274,-89639,-39599,98832,-32194,74610,17487,-48983,-93572,9981,-15313,-77992,-23904,-78203,-5459,-33907,21428,-42262,-49193,-91637,-48257,51861,-76868,42843,95538,49764,-71097,-27472,16347,49369,-78081,88451,-64574,32964,79791,14070,97918,71191,63887,-81560,67153,88238,26198,-34239,-19002,-95833,-8223,26491,-28779,52520,-230,-45448,-57743,45649,-59495,-50718,67907,-34870,3382,-71241,-21005,84654,87985,71103,-54958,-75165,84505,495,80974,49899,47190,22602,-84583,-68526,-7631,9644,97336,11267,49324,-29544,44076,-44274,-50894,-41692,-44753,42808,34864,-39282,50534,76118,-71961,-27691,39827,33347,-73643,8153,-96177,-79443,97947,-58157,-24643,-86642,65452,14600,-24857,-84338,-65589,57450,-74031,37534,-98300,-83249,-90763,-99207,77030,-98640,-68303,87819,21502,-40739,-39124,6087,-17005,-1584,93149,-76833,19797,5252,9940,-7287,11214,-64650,65289,28395,-57957,9390,-88298,87855,34832,-6297,33526,21966,-71009,95666,-73175,-89156,85324,-19050,86166,-25991,6674,72466,-88275,41914,39416,18620,41550,-96440,54555,60154,66829,98068,51735,95088,-24007,49314,-54331,20107,-88196,79401,84222,-8180,36886,14720,-27109,-69009,-81137,96933,-89730,97820,77456,70252,18766,91198,-62899,-59569,28679,-66085,16545,-27060,69697,42530,-81780,4344,-71039,24170,55095,-77018,26304,-53731,-64219,48509,9641,-33030,48643,-93853,27597,-8502,11542,-95194,-74167,95157,-51867,28944,44247,-72028,-93369,-16783,14707,-15853,-36299,-15622,-79665,-1370,40313,96052,-6369,-84417,63368,48979,-23861,-9045,56741,6710,81871,-73595,-80187,56687,19807,-75951,-41894,-14726,94618,9619,31348,2870,-60782,-65194,-92955,-62426,-42462,-41939,87208,16110,34359,-7460,-65543,1194,-9692,-1676,32625,37400,-54431,10775,-25358,-10778,27368,96165,-95658,26060,46608,38155,39137,-81530,-20470,-38581,99302,-89760,78585,-54142,-98966,48525,-22475,83004,-4641,-73382,-12921,-22516,3003,-41737,-93263,32644,-21695,50174,18449,-50572,2075,19087,76857,-86816,-4960,64441,97072,-57186,-62163,1620,-96045,-63943,-42189,21252,-81863,-75600,-88580,59713,72659,-49104,2176,26513,-5985,-6748,-70131,-74392,36295,-7012,-55026,15092,6177,15305,48291,-86564,-97283,-89439,-54114,95652,69541,-21297,-12200,-95226,34637,-14601,-10934,-81939,86774,-80599,-75475,-79094,78530,-81335,88783,-19750,-95201,-21214,16617,-45424,-77390,15528,65267,-66739,2986,-24832,39833,71180,45466,5646,-11647,-74176,72481,53194,81559,-7182,-75402,37269,-91401,-59567,-94153,64737,49955,780,4971,-66437,-38801,-72804,-16808,83261,-24799,-14080,59082,58191,-96741,69733,15000,-79393,-72206,24111,15205,-37801,-54347,86656,-24269,-40551,91709,86413,94349,8943,-1639,-36399,71737,-82671,-71103,1311,-76197,-4261,84172,-27146,59941,2179,5382,97774,-25806,55970,-4528,-4847,23379,36239,-59768,-87828,-77433,-40282,95366,436,-37964,9115,-61448,95326,-69165,-28014,-18804,53329,27585,-43944,-6982,79297,-71045,-78377,-27505,-2224,21274,-88657,-88112,4968,67022,-3162,-7571,-78031,55595,-29122,98435,17574,-4588,81820,-77604,52453,19500,-12744,57987,4461,-60930,48542,-94942,-98351,-27220,-50593,39143,42332,-41188,39712,-27305,1644,61151,-35300,-68049,47795,6489,-3558,16080,-27416,66842,12313,-6095,78369,-26752,73205,31470,80810,10990,-82498,-47058,-83019,94257,-9282,62686,45603,68700,-21163,-12524,-42054,-76770,83256,55102,-55242,31127,23009,-22299,43997,-2902,13842,-60810,-15455,92233,-14102,-42430,49537,65237,3172,-52705,47347,-33931,-45245,65225,-82876,-66489,10158,-16968,1167,76801,-70231,-5789,631,-47264,82336,-8021,-22710,35672,-66201,82174,56937,-83159,732,-78663,35010,71978,-12062,-16217,-12462,79950,61690,34156,90701,83344,-55716,-47277,44563,63209,-56770,2523,99297,-70482,-2851,73943,5154,33446,-49181,-16158,-36,18290,-87465,20146,-71351,89909,-4965,99024,82996,23918,80992,-7980,-32874,79835,-55230,-23781,23742,-78283,-59529,97508,-35724,-99721,-55166,-37400,16076,70034,-95891,28599,-82849,510,92181,44974,11750,87404,-75732,74365,-69155,-10807,96076,24424,41906,-18655,12197,-39386,-4561,48151,-93420,73374,-65627,95531,84919,-40122,-96371,-55841,47148,37664,96170,87597,18493,-66554,-55093,-56825,-18197,-22173,17939,-82936,28865,36192,86003,85684,41906,-81942,87673,-18872,99425,73434,-83640,83728,30403,-77033,-48552,54790,27597,-39500,-941,47819,31013,-62658,19515,25029,-38257,66006,-50362,85882,69550,-9776,-62062,82997,-78412,-48062,81537,94009,-9305,-75779,-83703,-86948,85886,64516,21316,98535,35735,77407,30377,62296,16153,32840,83840,79277,-65543,-23707,38488,81861,-78113,-68383,-41836,26780,-88239,-57012,60107,60492,40400,45115,-78536,66852,-33334,4871,31409,69486,161,-73210,51425,-72759,-11252,7344,41974,-70943,55687,-50856,79198,98472,49179,3592,-77037,-21682,-91502,72081,82284,-22356,92141,-94104,13251,81683,-34305,-28943,90141,-58856,-69209,80057,71947,49048,12399,53415,-73284,-29114,4080,45862,65289,23332,22203,69183,31931,50627,86185,32276,-23407,78790,-83017,28634,33348,74423,49763,-1012,61194,-49768,91547,-10836,-42798,-98012,-45361,7584,-23102,-46173,-58114,893,-84820,-91120,-32754,-53490,-13305,-27113,88226,-67534,-43224,84076,32258,95675,13995,10333,-57931,54929,-16843,-21251,60664,24768,-40893,-10815,85458,-33569,-93901,95779,75539,-33709,-93036,9724,-29562,-29905,-21299,21923,-96434,-96944,-99893,55597,-10682,-31068,-34628,-27504,15310,-59389,-37323,-26073,-27390,-40758,37127,-79906,-45341,36116,-88100,76699,2604,-35032,-22901,94022,-71713,-7805,-85388,-84454,76128,33725,7767,-62642,-58116,41890,1320,-20089,-91522,31669,-28267,28920,-98008,42582,-12458,45903,-48793,2348,93022,99314,1046,-71480,53778,98760,-57078,57004,28546,34389,32587,19460,-18952,64583,72978,39480,57693,6956,82353,-51226,38849,68358,2843,29540,16329,57552,-7161,-65089,-93551,-77531,26666,54870,94886,-58915,54918,34331,22398,-29056,-24111,18169,69637,-30647,57455,-41256,-62606,82022,-35094,-5152,-61584,76639,35081,17261,-20405,89103,-70264,66547,872,-41036,-95294,-85732,-71710,87722,29600,67959,-13460,88882,-70474,51154,-54681,-50829,-74161,22164,-82089,-46293,-74858,71386,93483,-61472,47372,-12970,32762,-26620,47580,-78725,-99273,23448,87617,-67045,-59984,-94644,-79272,-94686,-17472,-99118,62692,65279,-61039,-93670,-4570,36879,-73345,-41160,11673,-13339,-17647,-82974,-373,-33996,45863,-97049,98363,-6724,73688,-44288,77800,-62072,-68082,3330,-81822,43337,31710,-27800,70465,-20509,55951,-90258,54376,-90955,-57320,90450,-8819,87721,-81819,25816,91954,85684,22833,-149,93146,-64815,32301,37541,22782,47021,-57131,62953,-70656,49183,92882,-67093,-40889,19521,-74761,99061,-96916,47838,-23188,29134,-5333,56555,-34997,-50680,-15156,71700,20152,-90070,34419,-32256,-47984,-66997,71923,39765,-34803,34355,-10952,66393,11113,52597,-11388,61142,-2234,85084,6031,-49060,-90848,-76406,75109,7254,-44913,-96034,57496,-77005,25548,87645,-88597,-46739,-36367,-32793,-76844,-78240,-77088,-6275,-67706,-71421,-83075,-60843,-57837,26007,77154,-25484,-32095,-22773,16233,5664,-91115,14980,40172,-12463,82192,-34346,-65071,-77476,-32552,-23413,-51257,40878,-19797,-73609,39164,70108,-53023,67926,53726,12954,-32340,45236,23861,92528,32606,-7139,-99727,66294,-50997,97927,-66417,-3295,-64351,-57985,45900,17563,83290,-36171,-66275,96153,-66440,-83693,-75428,28401,42623,-15470,87237,77064,-46889,54218,43652,-51405,58557,73693,-87646,-15530,71533,-62303,-27884,35271,11348,15883,79500,4337,47629,-95111,41771,-19701,-17718,15907,-90074,-32740,-64124,66342,89747,-75999,62677,46216,58497,90239,-91064,-71076,53762,-10373,-16404,-75224,50664,-87785,-58824,-71486,71829,36921,74982,-14118,24425,4801,78086,-40342,26159,-98771,-7624,-21886,56760,-79598,76769,-6875,22407,62435,-60979,81064,66216,32148,-96392,-21276,7534,681,-59338,9958,66687,2599,-42146,98829,43252,26715,41365,-22426,97360,8395,92489,-94127,-63153,-22589,-87483,72129,52117,-79412,92510,-22939,-7260,12043,-97516,49744,10198,-91368,86607,-83694,-838,95538,74803,1880,87921,-99892,-37502,-20929,-9174,-89252,-34981,-11782,29081,-76940,-94330,15152,-5114,-17687,91783,-87720,-74439,-28687,39179,61929,-14875,-50357,-53882,-30502,-68072,57459,-69148,39022,70206,-15341,41661,5644,68818,53207,-29315,53905,-56575,92303,49276,10513,42216,20304,66508,31794,33732,-23625,43740,15682,-21536,-84678,72446,29500,-88403,-46604,-50644,-66063,21887,-52796,95833,29223,28844,10075,-51173,-18073,86984,-53367,-48428,90542,43089,-60077,76149,44879,97347,-96292,3861,39033,-50682,-81207,2849,7940,6440,24729,84667,-97713,17526,-93335,18756,-38048,32062,13515,-72849,-98267,59413,172,-27375,-77318,93930,-41629,89031,60814,28871,-6212,59090,47797,-71055,-48541,10942,18040,-87746,48577,-85120,53449,-82463,83536,78506,-78519,71245,38995,-92924,-12642,77729,42792,-37275,92485,-97579,-91692,-5623,-23082,98762,83541,-54477,56232,-5722,-71310,47971,-84674,16615,-83657,-218,80368,31653,48908,-86360,-96051,86627,19135,-32266,48981,-51778,48338,30233,83174,-135,-17687,-37388,24757,-70874,-62681,25990,-13966,-27827,53119,-38886,-80120,10275,5619,-69118,-9438,22881,-29179,22106,82362,64305,64492,-58885,28128,68813,72486,64214,-56026,50729,6689,80170,69284,-70116,79978,-18459,-65224,-44252,37370,67983,-25672,81711,57180,-29564,56918,28838,47369,96498,-49919,6913,57129,-21248,-87719,2403,-58647,-24352,-58880,-90033,55496,52087,-53495,88995,55399,50178,56022,-98689,525,-23814,57874,-81240,10098,44708,-76740,-36494,72410,57651,-13167,-41077,21354,43306,22784,86999,80263,6359,55467,-3161,-86339,-91765,23899,8448,-50674,56726,-72364,-6979,-48822,-28957,-67705,-83568,-59040,31637,-99482,1045,730,-38196,20009,53765,-2704,40382,-74565,-68031,28979,-83088,47620,10504,-37090,28456,-25921,-32844,77847,-89022,23113,13582,34154,-31481,54847,-7731,52462,-61004,36982,-28305,-38165,-28108,37396,-16131,21978,56186,-64286,-56905,10905,58830,22349,42652,26278,42200,49887,20203,-45550,-94773,-51699,-35027,-81594,60859,-22413,-35881,27790,23026,93751,56259,-30859,-7088,26801,-32413,9152,-37419,-29481,-72763,28526,47111,-79035,-10347,70780,91288,-36100,49537,6493,66197,-25285,-89771,46903,26749,-16159,27306,-87032,-40988,-31870,-92212,-30330,7084,-22494,-23585,17180,59448,-62586,74874,34467,-1179,-46880,42411,81741,15622,-77676,33974,52647,29659,83459,65118,-9534,-75711,-78917,-78368,76065,21661,77496,-86840,58091,-94574,-90639,26709,19095,-52710,61524,-64164,49597,-48275,-6705,-39389,87520,-55700,-17566,18013,-50355,-17599,52180,15158,56485,-9672,-50043,-53787,39983,85377,23754,69828,98999,-58696,-6589,8374,-2691,-46947,88347,-39693,-17794,51936,47728,43271,-53656,-36255,-12701,79250,24036,19469,52695,66847,60546,-67982,-64006,-96083,49381,4771,-12703,-26849,-87845,77875,-10240,87081,-7182,-72882,50197,-73827,61845,-20302,-40967,-8054,-73303,2282,-69499,-5886,87069,-38842,88424,-7971,52787,-32949,-22284,81496,-71004,68415,-57033,-54615,-38750,21248,-48267,-56492,-71178,17934,81586,-13542,36683,-90869,-69305,72282,-31399,77611,5361,96892,19267,57585,-58083,-3579,49060,-76078,-18481,-18488,-49303,22979,-59351,-54543,51817,-78224,88198,-15658,-999,51679,26752,64866,52379,43654,-5188,-95647,90052,41072,30313,57580,81539,-645,18300,-67872,21198,-80209,86709,-74501,66072,91606,-98759,84668,28665,30491,39996,-49777,51979,41538,-72575,15914,-33671,-9690,37543,-88322,-15966,-34373,-54394,18704,54992,45315,-68149,-69642,78780,-36709,-49957,-42083,-34143,52728,46608,-92863,67550,-87147,-7831,-39612,-23869,10537,-50386,-8381,-56933,35512,37381,-32048,77435,-53517,20280,56503,-134,-67361,62262,14792,15546,-57568,-23983,1905,-93511,96525,23571,97723,-21749,-14949,27528,77782,88963,-87292,26025,-95364,-95521,29621,40255,61552,53907,-64045,-85617,-21892,-11883,-86973,-29722,8797,7416,82194,-96568,60541,4938,80240,-4093,77174,-61985,-91952,-72115,6752,53930,-79539,53181,-63077,-57420,67536,-31230,-55960,-13479,-42810,84648,81100,49011,87363,-88375,-32001,90334,-99023,-69704,-3930,77614,63013,75485,-53296,77289,70233,-7250,-50402,-66260,5481,-76719,51315,56362,35123,-83381,-83100,-12863,-27155,-1956,37122,-80764,-99196,-73549,80417,-97862,12930,54300,48233,12151,-13777,-22732,-51985,36293,-82394,80383,65486,-62808,-89975,8670,-26046,-74596,-20660,69465,-2592,-26195,80682,40851,-28491,-58342,17609,91884,32208,93144,17311,-7270,-54607,6635,89248,-70300,4498,83535,62512,-8118,-76115,88095,86531,-23953,-41253,-41799,-42722,45596,-75205,-99063,85461,58907,-1647,-54708,-36751,48181,88373,-72838,-30981,-27131,25660,-91730,-30453,35132,-20318,5357,23492,21174,10065,57821,-22874,-87938,73705,-99667,-25125,22261,84296,-12960,65845,60191,60656,40224,40370,-65442,-43761,-88662,53752,73820,62571,-11033,28953,-58925,-18272,-77702,-24057,80518,39581,-28893,78689,45422,82019,-6765,95591,66598,18709,-97007,-71791,-38720,-76425,-2304,-96820,-24137,-9107,-6723,-53101,-16042,-33671,-20296,-95305,14961,-42999,-65905,-61373,-1679,28130,-1092,23344,92847,-13258,91905,-22349,-40749,-48348,55437,-5537,-71700,-1526,43033,-59141,39256,98059,-76245,-6050,-11878,-46562,85162,-88377,-38688,71488,44531,-80477,-93555,-24564,-85230,52280,26167,71155,-42702,-98752,-11221,-81762,-11760,-48264,80014,-35633,-79873,-38984,76659,-77540,90120,-79599,-53842,-45496,88623,-40033,-52268,89279,87442,-31754,22100,-22766,-79099,52278,-96841,89584,8369,84143,-55361,-98703,-7208,-10722,40360,-47316,-37233,69418,-97525,-78547,-43270,92992,-88239,-40889,13098,-62113,-66285,-55293,86248,15065,-86693,-35460,51133,43966,-18649,-8094,63839,32816,53757,18816,73617,36943,-18331,-5291,47468,-52575,-57886,-94366,18390,14928,97526,-83299,-91573,-86512,64207,29801,-39406,54762,-2338,53921,66183,-54275,75189,-56564,42173,-78050,93694,-91821,36217,82974,-73156,-73809,48172,-87321,-75038,-78026,12016,95517,31052,-50172,54491,-83842,-63079,-38207,-15856,-24162,32630,-30992,-5883,63228,55756,-15796,44475,69042,91836,39070,-73359,-25750,-68943,34371,3984,74274,-17223,54093,78631,57600,-97758,22607,51228,-54116,-27186,-85825,-23265,-49770,24532,99287,-16533,28918,45429,6033,21968,1914,-21043,-11510,-60763,64740,-63908,70065,41175,-77943,-78502,-65483,-51135,-34792,85490,3740,-27682,-67204,70221,-60092,97202,89151,49852,36298,-39760,26964,-69097,-45018,63688,-30103,80690,-29009,20981,78016,67732,-18915,-26292,-52277,-87073,83448,-45598,-70442,5439,-9025,90295,8252,95944,-48352,-87001,-95850,-2388,1213,33957,97412,49707,-73461,-97497,28619,-85449,7673,-64166,-88023,-36644,-20404,-28840,-66816,22140,82107,-95568,79558,-67561,-69310,-52116,-97427,-29548,-5532,84160,-5522,12889,-94120,52476,-83485,-81177,57890,11938,-65988,60031,10254,28891,-28750,-9881,6784,64003,94129,-49976,5220,88993,-76151,93048,97309,-52332,81742,37557,-1536,-70227,-36501,-99114,707,81134,-83472,88552,-71215,63029,72127,4217,-24191,-40953,-94456,-75149,-20800,-26937,81869,86354,78097,53535,95238,40739,-14119,35252,70775,27798,65180,-52242,19863,76892,71034,-2332,-21362,84676,70928,-97668,60187,-34,-51343,23187,88518,97851,81766,62128,-81571,-27839,7669,7394,16694,-24471,-73701,-31521,-52981,86409,31382,-8530,99967,-70779,45825,28155,-50913,75090,75655,-16188,-19964,87888,70739,28661,-67999,-17087,75391,-82975,-87596,94217,59868,-51155,65538,-94642,19711,29941,-17339,-32010,58489,63706,80707,-5748,2790,-99722,28783,67792,76478,78401,-91753,-91087,-75487,-64365,38381,51584,69307,-9523,-43453,-99591,-14235,-45750,72531,12497,18712,-55196,75913,-83154,-11830,-81797,17642,7578,8040,-71661,-73257,53910,9011,-54966,-73684,-48064,-28317,-36283,-88266,-5157,15379,-13588,-54637,77199,-26480,20359,-52162,37741,-26774,-80719,-69703,95000,42206,29684,61757,29360,36663,93932,38249,43644,-37044,-2396,-44013,-7073,22567,-36102,99709,22927,-50487,-12217,-31780,-20850,-96706,48513,84009,31070,53726,-92613,-38266,16921,4688,-6535,74634,58078,52390,-69053,-55733,10766,-90554,2919,-36398,-63979,38042,17708,31245,3537,89028,53544,-37883,16394,32168,-59746,-4784,28950,6697,-82970,81486,1772,68225,99313,-20894,-22782,-74018,-75884,-45057,-89607,37926,13422,-50341,-49230,-34668,97654,-89961,-6541,566,5305,35598,67974,86708,98831,-28709,-12742,-10742,15874,2660,41263,-11942,-14360,-31702,50494,-31545,8854,92966,29873,17970,65829,-90064,97848,79277,3010,70777,-99193,-3033,7469,48394,-74062,-73617,34816,-16645,-15820,-27640,85585,42168,57576,-228,23074,-41169,-84021,98943,-59674,46278,-51421,-65397,-85833,-47864,47984,-723,-54204,88821,71486,67361,78600,50972,-32367,51105,44519,25821,-27683,-3677,98845,-70676,-5345,-53922,77229,-458,44575,72736,-84905,-93569,-8700,14508,21353,99649,46675,7893,-40824,28871,-79734,-13267,35709,-82927,27286,6064,32181,-68212,-91474,-28548,-32224,4527,-4230,-87111,-45493,28958,62164,4512,-89371,48588,-18663,-96810,72010,63659,-27649,-45107,-78367,-45590,-45747,-48073,1804,-55923,96137,49793,26737,38199,17896,-22335,38642,-67866,32673,3148,77345,12851,-23320,52802,-53153,-84309,-17869,-60854,60441,41870,80090,-24789,14612,49877,30454,78748,-66297,25190,-28725,74419,-25925,69528,35153,-55824,2966,-84758,96493,-89584,41921,14336,-55679,12189,70106,-73307,19085,65847,-22382,-83619,-50222,-53552,82846,72436,65750,57408,55432,-53833,-63304,-21756,-81029,94155,-63120,18901,34696,-46309,-78035,-27744,-13894,78299,55182,-35006,-18306,45707,-42136,91748,76956,84817,94410,-73415,-76107,56013,97311,37011,-37568,-63727,74407,-60387,12277,-21173,15700,-66233,23695,-50534,33153,-65981,60891,98154,-55267,-9270,40907,-64209,51484,74224,462,-70751,53516,-34787,78131,31260,-42182,57663,-21001,78160,28004,28793,4151,61792,14446,-43029,46569,-45517,69538,90580,89483,-18133,38207,-29324,60780,33589,-69881,6560,-48740,83388,-64379,95317,-77495,83731,-20346,60195,-81338,40463,45796,-68652,-80339,-64749,40555,99065,-4778,69718,18137,5513,-1642,-45142,-45819,-66439,-40366,89937,37522,-61774,-74389,86453,82754,-89463,-92944,45005,-73840,35393,-10974,30568,-57691,76700,1965,-53342,-84415,-55840,22466,-15058,-93895,54352,85828,44359,61255,-69736,-30068,79349,22533,67373,62313,-89052,-75631,-63953,17753,-77779,98754,-17810,-35189,86407,-68043,-39342,35685,-92915,-4149,89942,-51446,7127,94396,21250,-80281,47220,-33857,-44266,54272,-58390,-59866,-77795,45380,-59501,54442,-54101,-42513,-56998,-3726,72931,-47149,-47852,52361,-38975,-74766,18533,50634,46287,56296,82715,-32732,-51653,-80272,12926,94149,-44588,-44147,47579,-39635,-34109,-29420,53806,4264,18228,-81740,68180,-96812,74266,-53217,46689,79069,95686,45076,70773,-14028,-94771,-77141,50707,-72037,82484,-16832,-8226,-97363,79485,-49812,-79702,-89115,-8169,72658,16317,-6729,72628,-63050,-62997,-43509,-38232,-28399,34450,35020,-8385,-82550,60839,29887,-41216,70986,-36426,45670,70219,-76051,-76935,39071,-2342,-80145,-91405,87340,-26635,-99167,37402,78810,56907,-72375,91067,-25077,-60646,24218,8981,11970,25476,-13344,13908,-22569,44770,71247,4521,-54854,-43773,63506,19974,29172,2894,82832,25291,-94049,-68197,64935,-40121,51749,-34168,30032,-43484,-87289,-60863,28819,82224,-68703,-55137,-74416,-46980,-41164,-59729,65178,12701,-43058,8813,28303,-56280,-23391,47507,72118,90277,-54090,29820,-47652,-78224,-49067,287,38266,-64278,65891,27517,62273,8139,8415,82134,-37202,35433,79819,62245,31187,-44779,-59043,-94562,46365,58008,47010,-1125,29533,-46339,-67604,-93209,-56511,814,-83092,-81121,15897,42334,-7687,904,74680,-90058,2998,85016,-84229,17458,32578,-60164,-82643,38740,9667,-41063,9417,-20124,-25382,33158,-99694,-39880,27266,-24681,97612,91296,-82373,-5392,-39342,60670,62005,-78385,11726,76539,85144,-29375,-83548,-82151,-52010,59524,-55730,-91516,24247,19506,22197,31742,22048,-84125,75376,-47786,-24143,-84896,6591,71596,-78893,-3963,27282,-7769,-55369,-47744,-41081,-25361,-97239,54904,-79620,-5008,4110,58047,-96441,94930,14319,70120,97001,37363,20836,82445,-11271,24314,-51587,-7902,36148,67837,-21240,-13611,-50723,95775,-97661,-44954,-60966,-914,89747,72702,-42729,-2314,86047,85000,51574,6950,-50016,96122,88209,-5339,63673,47190,26377,77159,5988,-29674,84271,85035,-27005,14211,30711,-68994,-93590,-9714,80441,-38856,42870,15850,-70014,-8324,8176,18496,-38491,8950,90145,-13867,-34726,73329,35434,-64147,29441,64407,-83637,18553,36560,85842,-1169,-58351,48843,91588,-8866,40405,-77943,-614,-60902,-69434,35499,-63718,-2264,53497,5959,-16915,-75587,21577,-70321,-6346,21117,-63239,18337,94930,-58420,43338,-39270,66563,-99733,-68869,92138,-67069,40509,54114,98420,33855,-61302,-28436,39371,1561,49791,-81231,9336,-88797,13790,-58241,-14031,15310,70311,-26637,32418,-99635,-51562,2078,-67608,-24228,-12790,-33087,97696,-3394,79418,-90730,-83309,-84659,-83764,55264,-73608,97703,47293,49290,-87253,-78950,81206,3365,-97464,-47728,7264,43820,90727,92890,24380,-4102,-30932,18823,-60642,-91154,-91230,75834,-68051,-1506,-5249,23798,47854,22375,77526,22743,-71654,57765,-91884,15560,-98671,61740,48416,26271,89317,18931,-14829,-79251,-34919,-59415,13651,-54680,-43008,2226,83798,-83138,41815,-57829,24222,-80539,61376,-45427,19887,54626,-1025,61274,-47035,-39268,72528,57387,-18323,87437,92048,42251,89138,53828,88501,-80043,-42123,94384,-95500,-75372,89386,70108,-6117,11222,76291,-65566,84241,-83921,-49329,-24962,36643,16671,-3108,-1277,-82136,96531,-84164,-56047,-48269,-65815,-53343,72501,-11657,1241,30842,-39646,49570,66950,55923,-46939,28641,74336,64924,-33947,-69940,38850,-33956,-41847,87241,30375,95527,61136,-10364,84948,39753,-48511,72531,84637,12209,-5748,-37774,-27474,-15567,71154,-9710,-4189,39500,30629,97840,-76801,-93051,-10446,88205,-98755,-94976,-59504,-57595,-6858,44855,-8978,-4134,12448,44370,-69547,90472,-73407,-58080,-4745,70054,44716,-42070,-26869,20896,-90059,-27865,66684,26187,81006,74619,-31652,-78277,-76834,-31339,6987,73971,-49361,47586,-45537,39243,-25756,-48263,-71507,69511,979,34702,-82543,-25186,-23641,36456,-58754,68813,28851,-4481,71007,61065,-87259,-1633,14467,-92500,-78229,98257,-49368,-6668,-33106,9425,42428,-81019,-36151,-18617,-82164,-68095,-95797,48749,3544,25435,54904,-16055,-50515,-31598,-8119,-60065,-85255,-3867,-6032,-1520,4976,86588,68706,52447,55099,-54965,-1065,-14242,-91299,-95621,-38321,-75220,53078,-27,23955,-56888,-13623,-3246,-37063,17324,-52318,53215,35112,-39429,89786,90847,-86399,-51817,-81600,-77926,-93055,-61915,41003,-52007,-76936,-56173,-21267,56471,-85792,-99724,-97772,24903,-41343,29003,43569,-14339,-10713,-70853,-73620,1729,-32695,2607,-61277,43072,-18549,55895,47576,-19814,-11476,11935,57829,-49922,-10062,31278,24376,11300,97880,30273,-66649,99650,24267,-17008,50405,14829,84773,-94609,-44033,-58930,97079,-45029,-1823,32954,-45115,-67232,-53847,-65269,7902,56618,40093,-85180,-17030,26054,-95575,-68797,-88363,-66651,-75579,-70067,84302,-61870,21264,49216,-9466,-90253,-61108,-19068,21609,69786,-30196,-94875,-43087,-49721,-51142,34117,31707,78460,-8577,-38536,-33565,-17458,-17020,35143,198,73387,-43613,96702,-51977,31714,-67726,45757,-26179,-6606,31669,-93663,52294,-12697,-78809,8262,56682,-44104,-39714,77972,30361,91885,26667,97417,-4241,66308,98886,45000,35060,-99884,94132,14757,92016,21309,-33630,80943,-46871,61267,-18346,-38345,-42340,-51505,-15127,-19654,-6662,-20612,26497,16629,73685,-83405,-25360,-93933,-22307,76841,-41800,37938,69416,95754,-30722,37822,-87253,-28126,60652,-25070,-10574,19511,-23492,-288,76134,54617,-18870,93906,-50174,-57690,-78194,-28191,-9427,62258,3618,36851,63601,-19069,-43090,25660,3175,37047,66477,65891,-55762,89103,79248,-50571,9640,13263,-45095,-36477,95978,53220,17439,99457,17625,-48075,33208,44885,23931,-37528,14385,-43160,-46074,-90818,37497,65068,-56677,-88795,-77253,-60987,40293,63932,7011,53707,94612,-86735,59937,-43651,-85998,-45916,-1024,41258,-57538,-31656,-49000,-30368,92694,54645,-81142,-97238,-66945,-91638,32585,-16231,2717,55059,52403,63346,-51409,42394,67241,-69079,87343,-66917,38500,-76141,-62656,-87004,79008,47744,2114,-57324,-70245,36554,47815,-65369,-11996,-44836,87146,4924,7179,88128,67855,-19414,69690,-70773,78229,-26796,87619,35506,73762,-27156,20333,-75223,81662,-79518,-98249,-18703,-292,-97657,40302,36406,81421,53749,-22398,62826,82258,64457,28790,67852,-66576,14262,-55232,56018,-69108,71549,-14644,-1171,-84583,-75909,47969,-54728,74593,-78898,19758,66350,-76182,-21986,-33794,-78735,72555,66614,-50668,-4447,80464,-12004,-67469,15895,16407,-21454,62951,48428,25575,-15338,409,24844,-94213,86307,97978,-10697,-56626,-59957,73541,24593,-63807,-48649,61049,-47991,-61017,50382,-43250,-32828,-94204,-30917,-48682,77960,-44684,-44709,95205,-45372,-73589,-69116,-7623,-86401,-74814,-50929,-20036,-50491,25367,53271,-79053,90247,-52573,30168,-5412,4804,-76143,776,-29436,-31535,-79384,51730,19191,47521,41402,-29892,77989,83462,-32145,69433,-76974,-20812,46428,85048,-17875,10334,19007,-51948,-79573,28141,-90676,95336,-37851,-4328,-76453,93732,-69711,51260,-40173,-25723,-76129,-82743,51122,65853,23219,22762,69314,-65704,24928,-68906,-79273,63386,74824,-55374,52292,96207,-9700,-23776,76969,62012,-61182,-76057,57843,-20838,-77387,-46023,92985,-7624,53456,97182,-23265,73016,8271,65381,-76008,39290,-98885,-2727,-16147,12429,47785,92060,94944,10082,15543,-90562,-46752,-1653,-96768,72814,40050,-45197,80767,-79313,15383,66028,39265,-24018,75513,45204,-25656,-92838,-54139,-80965,5246,53054,-49408,-97516,-51321,-71564,-21426,-30576,46663,98028,-88503,-46053,42018,4290,36445,-65442,-41165,52126,55526,18154,33364,-62249,-45330,-8017,51057,-34883,-52410,-75822,74602,69700,-78769,2834,8647,22506,53271,-21131,51222,-36589,5132,-22253,75469,-47541,-79976,3467,69526,26859,51044,-42256,-90118,-46023,-60564,-87139,62585,59373,56658,-46417,58961,-45168,11287,9755,-96275,-15011,8517,14659,993,-57080,8752,76793,2732,-7962,45453,-67093,68644,80408,34173,38467,-20818,31990,-56159,-80131,57719,-96994,-42887,84703,-76927,9493,25125,-88007,80288,-4166,-26766,40396,48732,-15846,-92925,78876,-84129,87663,85450,-3612,-87392,95816,-36992,-45646,-61641,-56813,56898,-15403,-42722,60616,56119,-39353,-69366,1259,-13229,30173,-61893,26773,-24691,84195,-26406,91362,65916,-51943,55415,-52604,3816,-92034,88127,93989,-31968,38492,94898,-91818,-39355,17472,98949,-78792,1685,65868,19022,-60656,-16985,-38900,-78911,-57261,83585,71727,-59591,-94841,-22742,-63565,93554,-58503,-8734,-39287,84582,88657,-39141,-54163,45039,-61800,21468,-23151,70679,-56532,-93978,-90932,20196,-71803,-8985,-74022,9849,-82645,-12824,10507,57623,90051,16235,8719,36624,1109,57727,-32621,-53417,15075,-40624,80329,24649,45007,-85312,-68889,-51081,98749,-65856,-88444,701,-21720,-68936,83844,59318,-31216,-38705,-86873,70542,76319,8117,-79186,91144,-26603,46317,-17800,99718,37549,-63518,53109,-33066,90146,9589,-84284,-79750,98248,76464,-48692,67077,34878,-36601,-20719,82919,-54615,-28829,-45794,-57372,-38856,-31549,-70777,12375,72863,-85550,-44780,93956,-52336,46206,-69037,65548,74266,70632,64454,-96292,65741,83719,-95682,-92308,46727,-37836,-5773,61092,-55777,-76867,-9436,33712,-17636,16967,-27645,65402,11191,-49853,-86956,-93151,-86088,-27265,-56191,-35570,3394,46756,56524,74636,72362,96246,-38615,-63073,60641,-89872,52273,-82204,88324,82767,-94437,-35559,3055,-6446,-68752,56616,-44806,31167])"
   ]
  },
  {
   "cell_type": "code",
   "execution_count": null,
   "metadata": {
    "collapsed": false
   },
   "outputs": [],
   "source": [
    "b"
   ]
  },
  {
   "cell_type": "code",
   "execution_count": null,
   "metadata": {
    "collapsed": true
   },
   "outputs": [],
   "source": [
    "import heapq, collections\n",
    "import string \n",
    "\n",
    "class Solution(object):\n",
    "    def bfs(self, adj_map, i):\n",
    "        queue = collections.deque([i])\n",
    "        visited = set([i])\n",
    "        while len(queue) > 0:\n",
    "            j = queue.popleft()\n",
    "            if j in adj_map:\n",
    "                for x in adj_map[j]:\n",
    "                    if x not in visited:\n",
    "                        queue.append(x)\n",
    "                        visited.add(x)\n",
    "        return visited\n",
    "    \n",
    "    def smallestStringWithSwaps(self, s, pairs):\n",
    "        adj_map = {}\n",
    "        for x, y in pairs:\n",
    "            if x not in adj_map:\n",
    "                adj_map[x] = set()\n",
    "            adj_map[x].add(y)\n",
    "            \n",
    "            if y not in adj_map:\n",
    "                adj_map[y] = set()\n",
    "            adj_map[y].add(x)\n",
    "        \n",
    "        all_visited = set()\n",
    "        heaps = []\n",
    "        for i in range(len(s)):\n",
    "            if i not in all_visited:\n",
    "                visited = self.bfs(adj_map, i)\n",
    "                heaps.append(visited)\n",
    "                all_visited.update(visited)\n",
    "        \n",
    "        heaps = [collections.deque(sorted(list(f))) for f in heaps]\n",
    "        p = {}\n",
    "        for i in range(len(heaps)):\n",
    "            f = heaps[i]\n",
    "            for j in f:\n",
    "                p[j] = i\n",
    "                \n",
    "        print heaps\n",
    "        print p\n",
    "                \n",
    "        pos_map= {}\n",
    "        for i in range(len(s)):\n",
    "            if s[i] not in pos_map:\n",
    "                pos_map[s[i]] = []\n",
    "            pos_map[s[i]].append(i)\n",
    "            \n",
    "        print pos_map\n",
    "        \n",
    "        out = [' ']*len(s)\n",
    "        \n",
    "        for x in string.ascii_lowercase:\n",
    "            if x in pos_map:\n",
    "                for i in pos_map[x]:\n",
    "                    heap = heaps[p[i]]\n",
    "                    if len(heap) > 0:\n",
    "                        j = heap.popleft()\n",
    "                        out[j] = x\n",
    "        \n",
    "        return ''.join(out)"
   ]
  },
  {
   "cell_type": "code",
   "execution_count": null,
   "metadata": {
    "collapsed": false
   },
   "outputs": [],
   "source": [
    "sol = Solution()\n",
    "sol.smallestStringWithSwaps(\"xwwbesrhlaoucciymqe\", \n",
    "                            [[12,5],[17,8],[0,8],[8,13],[16,10],[4,15],[11,12],[2,11],[14,7],[13,18],[1,10],[4,8],[2,17],[8,1],[15,13],[16,12],[16,18],[13,11],[12,0]])"
   ]
  },
  {
   "cell_type": "code",
   "execution_count": null,
   "metadata": {
    "collapsed": true
   },
   "outputs": [],
   "source": [
    "class Solution(object):\n",
    "    def get_max_cost(self, s, t, k):\n",
    "        start, end = 0, k-1\n",
    "        min_cost = float(\"Inf\")\n",
    "        \n",
    "        while end < len(s):\n",
    "            if start == 0:\n",
    "                cost = 0\n",
    "                for i in range(start, end+1):\n",
    "                    cost += abs(ord(s[i])-ord(t[i]))\n",
    "            else:\n",
    "                cost -= abs(ord(s[start-1])-ord(t[start-1]))\n",
    "                cost += abs(ord(s[end])-ord(t[end]))\n",
    "                \n",
    "            min_cost = min(min_cost, cost)\n",
    "            start += 1\n",
    "            end += 1\n",
    "            \n",
    "        return min_cost\n",
    "        \n",
    "    def equalSubstring(self, s, t, maxCost):\n",
    "        left, right = 1, len(s)\n",
    "        last_true = 0\n",
    "        \n",
    "        while left <= right:\n",
    "            mid = int((left+right)/2)\n",
    "            f = self.get_max_cost(s, t, mid)\n",
    "            \n",
    "            if f <= maxCost:\n",
    "                last_true = mid\n",
    "                left = mid+1\n",
    "            else:\n",
    "                right = mid-1\n",
    "        \n",
    "        return last_true"
   ]
  },
  {
   "cell_type": "code",
   "execution_count": null,
   "metadata": {
    "collapsed": false
   },
   "outputs": [],
   "source": [
    "sol = Solution()\n",
    "sol.equalSubstring(\"thjdoffka\", \"qhrnlntls\", 11)"
   ]
  },
  {
   "cell_type": "code",
   "execution_count": null,
   "metadata": {
    "collapsed": false
   },
   "outputs": [],
   "source": [
    "class Solution(object):\n",
    "    def get_min_sum(self, mat_sums, n, m, k):\n",
    "        min_sum = float(\"Inf\")\n",
    "        \n",
    "        for i in range(k-1, n):\n",
    "            for j in range(k-1, m):\n",
    "                a = mat_sums[i][j]\n",
    "                \n",
    "                b = mat_sums[i-k][j] if i-k >= 0 else 0\n",
    "                c = mat_sums[i][j-k] if j-k >= 0 else 0\n",
    "                d = mat_sums[i-k][j-k] if i-k >= 0 and j-k >= 0 else 0\n",
    "                \n",
    "                min_sum = min(min_sum, a-b-c+d)\n",
    "                \n",
    "        return min_sum\n",
    "    \n",
    "    def maxSideLength(self, mat, threshold):\n",
    "        n, m = len(mat), len(mat[0])\n",
    "        \n",
    "        mat_sums = [[0]*m for i in range(n)]\n",
    "        \n",
    "        for i in range(n):\n",
    "            for j in range(m):\n",
    "                if i == 0 and j == 0:\n",
    "                    mat_sums[i][j] = mat[i][j]\n",
    "                else:\n",
    "                    a = mat_sums[i-1][j] if i-1 >= 0 else 0\n",
    "                    b = mat_sums[i][j-1] if j-1 >= 0 else 0\n",
    "                    c = mat_sums[i-1][j-1] if i-1 >= 0 and j-1 >= 0 else 0\n",
    "                    \n",
    "                    mat_sums[i][j] = mat[i][j] + a + b - c\n",
    "        \n",
    "        left, right = 1, min(n, m)\n",
    "        last_true = 0\n",
    "        \n",
    "        while left <= right:\n",
    "            mid = int((left+right)/2)\n",
    "            f = self.get_min_sum(mat_sums, n, m, mid)\n",
    "            if f <= threshold:\n",
    "                last_true = mid\n",
    "                left = mid+1\n",
    "            else:\n",
    "                right = mid-1\n",
    "                \n",
    "        return last_true"
   ]
  },
  {
   "cell_type": "code",
   "execution_count": null,
   "metadata": {
    "collapsed": false
   },
   "outputs": [],
   "source": [
    "sol = Solution()\n",
    "sol.maxSideLength([[18,70],[61,1],[25,85],[14,40],[11,96],[97,96],[63,45]], 40184)"
   ]
  },
  {
   "cell_type": "code",
   "execution_count": null,
   "metadata": {
    "collapsed": true
   },
   "outputs": [],
   "source": [
    "import numpy as np\n",
    "\n",
    "class Solution(object):\n",
    "    def canMakePaliQueries(self, s, queries):\n",
    "        n = len(set(s))\n",
    "        char_cnts = [[0]*26 for i in range(len(s))]\n",
    "        \n",
    "        for i in range(len(s)):\n",
    "            y = ord(s[i])-ord('a')\n",
    "            if i == 0:\n",
    "                char_cnts[i][y] += 1\n",
    "            else:\n",
    "                char_cnts[i] = char_cnts[i-1][:]\n",
    "                char_cnts[i][y] += 1\n",
    "        \n",
    "        char_cnts = np.array(char_cnts)\n",
    "            \n",
    "        out = []\n",
    "        \n",
    "        for a, b, k in queries:\n",
    "            x_char_cnts = char_cnts[b]-char_cnts[a-1] if a-1 >= 0 else char_cnts[b]\n",
    "            m = np.sum(x_char_cnts % 2 == 1)\n",
    "                \n",
    "            if m/2 <= k:\n",
    "                out.append(True)\n",
    "            else:\n",
    "                out.append(False)\n",
    "                \n",
    "        return out"
   ]
  },
  {
   "cell_type": "code",
   "execution_count": null,
   "metadata": {
    "collapsed": false
   },
   "outputs": [],
   "source": [
    "sol = Solution()\n",
    "sol.canMakePaliQueries(\"hunu\", [[1,1,1],[2,3,0],[3,3,1],[0,3,2],[1,3,3],[2,3,1],[3,3,1],[0,3,0],[1,1,1],[2,3,0],[3,3,1],[0,3,1],[1,1,1]])"
   ]
  },
  {
   "cell_type": "code",
   "execution_count": null,
   "metadata": {
    "collapsed": false
   },
   "outputs": [],
   "source": [
    "3223-3193+1"
   ]
  },
  {
   "cell_type": "code",
   "execution_count": null,
   "metadata": {
    "collapsed": true
   },
   "outputs": [],
   "source": [
    "[true,false,true,true,true,true,true,false,true,false,true,true,true]"
   ]
  },
  {
   "cell_type": "code",
   "execution_count": null,
   "metadata": {
    "collapsed": true
   },
   "outputs": [],
   "source": [
    "# you can write to stdout for debugging purposes, e.g.\n",
    "# print(\"this is a debug message\")\n",
    "\n",
    "def can_cover(H, prefix_max, suffix_max, k):\n",
    "    for i in range(len(H)):\n",
    "        a = prefix_max[i]*(i+1)\n",
    "        b = suffix_max[i+1]*(len(H)-1-i) if i+1 < len(H) else 0\n",
    "        if a+b <= k:\n",
    "            return True\n",
    "    \n",
    "    return False\n",
    "    \n",
    "def solution(H):\n",
    "    prefix_max, suffix_max = [0]*len(H), [0]*len(H)\n",
    "    for i in range(len(H)):\n",
    "        if i == 0:\n",
    "            prefix_max[i] = H[i]\n",
    "        else:\n",
    "            prefix_max[i] = max(prefix_max[i-1], H[i])\n",
    "            \n",
    "    for i in reversed(range(len(H))):\n",
    "        if i == len(H)-1:\n",
    "            suffix_max[i] = H[i]\n",
    "        else:\n",
    "            suffix_max[i] = max(suffix_max[i+1], H[i])\n",
    "            \n",
    "    min_h, max_h = min(H), max(H)\n",
    "            \n",
    "    left, right = sum(H), max_h*len(H)\n",
    "    last_true = right\n",
    "    \n",
    "    while left <= right:\n",
    "        mid = int((left+right)/2)\n",
    "        f = can_cover(H, prefix_max, suffix_max, mid)\n",
    "        if f:\n",
    "            last_true = mid\n",
    "            right = mid-1\n",
    "        else:\n",
    "            left = mid+1\n",
    "            \n",
    "    return last_true"
   ]
  },
  {
   "cell_type": "code",
   "execution_count": null,
   "metadata": {
    "collapsed": false
   },
   "outputs": [],
   "source": [
    "solution([1])"
   ]
  },
  {
   "cell_type": "code",
   "execution_count": null,
   "metadata": {
    "collapsed": true
   },
   "outputs": [],
   "source": [
    "class Solution(object):\n",
    "    def findBestValue(self, arr, target):\n",
    "        left, right = 0, max(arr)\n",
    "        best_score, best_val = float(\"Inf\"), float(\"Inf\")\n",
    "        \n",
    "        while left <= right:\n",
    "            mid = int((left+right)/2)\n",
    "            s = 0\n",
    "            for i in range(len(arr)):\n",
    "                s += min(arr[i], mid)\n",
    "             \n",
    "            if s == target:\n",
    "                return mid\n",
    "            \n",
    "            if abs(s-target) < best_score or (abs(s-target) == best_score and mid < best_val):\n",
    "                best_score = abs(s-target)\n",
    "                best_val = mid\n",
    "            \n",
    "            if s < target:\n",
    "                left = mid+1\n",
    "            else:\n",
    "                right = mid-1\n",
    "                \n",
    "        return best_val"
   ]
  },
  {
   "cell_type": "code",
   "execution_count": null,
   "metadata": {
    "collapsed": false
   },
   "outputs": [],
   "source": [
    "sol = Solution()\n",
    "sol.findBestValue([75602,71538,4704,30214,94441,39803,14224,94618,74265,18242,42480,78564,10891,94971,71795,68481,86244,52401,11858,10975,21157,34759,92109,95954,64727,16451,5979,36379,68869,88400,15676,23208,46784,34951,54078,8871,2971,47857,27060,25343,89978,83500,63073,72219,14749,72971,4239,44523,45652,80177,90504,1271,9784,51753,73667,29284,32059,24634,14896,18892,39303,97705,18886,48383,98320,86521,89639,89413,51925,17640,98646,36434,31673,96825,66533,79073,42450,78802,41803,4819,42982,52244,78536,66212,8353,62473,6860,31119,89320,88675,31393,33016,87742,4640,29305,85976,57545,62858,14667,56422,32100,27978,84046,9511,1960,8084,8771,2950,52154,80273,58087,67564,92539,58987,80269,58915,96361,51915,57507,11722,10479,5708,8513,63473,82022,81110,44352,82265,97761,14115,73972,423,6987,94003,45163,26907,78649,21662,30200,59137,69498,30373,5405,6027,70249,27156,37394,32038,65782,93788,31198,53610,34453,59667,92721,37345,70531,87936,10787,59999,30683,43644,95955,90092,22093,71893,9938,5206,44468,33265,76583,57360,45843,87615,93380,90082,98672,67293,85995,20169,73867,19763,1314,24235,17890,17236,11076,40321,35386,7398,89523,4358,71838,53449,73535,30278,96040,2830,80172,77795,31826,44742,57893,67177,87731,50771,21961,2089,35893,21827,60893,88174,3482,25724,50062,63409,24934,28613,1454,67802,64208,20684,90902,77349,92538,74141,74813,53831,49104,73215,99874,59544,54189,14824,54410,78464,76786,22937,91294,27639,76004,37357,93862,72569,6707,91901,23231,82116,65833,52004,52167,25777,96337,81175,69517,25008,11232,30614,66970,79366,71448,18925,72405,52702,79583,41010,32986,33222,28429,53943,10111,9024,87034,98517,41488,5006,54551,58271,92424,6755,91238,70982,2175,4912,29782,14446,34402,44169,91897,84794,9104,18096,11385,40664,28562,72162,35910,27697,6184,16373,35036,61817,7259,28974,19454,99425,89571,46426,32053,81274,35444,69052,9073,26174,64729,90542,52085,9538,84115,64830,13411,73317,39314,43583,93408,12525,89058,65516,89565,91635,91808,1351,72542,13573,71333,38810,76355,99343,27390,73426,15948,44470,27586,3602,45913,35413,37891,38673,14933,62805,72781,43501,40735,30927,59734,70890,21419,54966,95512,7298,47153,20459,61863,8204,43304,38133,17478,26540,95452,1010,60301,57117,58509,70191,4698,42852,88763,55976,50473,29778,44658,61240,99213,41570,52922,82288,94637,43288,71270,56162,65314,9734,37378,44761,44039,59470,70976,72560,69505,64854,77216,86932,50218,27569,47754,24058,60290,60215,5604,10087,85955,25563,58475,81785,68434,77789,73787,82354,43391,61270,67279,75445,22370,33614,23164,56358,41295,37553,52110,93870,30044,94842,36435,80949,32137,92208,31771,87104,3230,83359,42857,43691,89770,97496,76745,36727,68643,64345,17151,79952,99054,24358,49696,5074,92267,24968,20032,65943,70766,75203,74131,45116,9336,49999,12885,82158,69277,42441,57544,28142,14849,23821,89174,9381,79762,17809,56434,16248,7173,30533,23338,16915,51368,94617,55972,59076,3328,78857,51533,21192,7664,6831,89793,50492,63436,25522,98395,80125,91914,85385,50318,71520,38323,56711,9788,99134,85959,9710,81683,35431,24428,87544,31502,80367,17875,88171,51790,19689,68575,5203,65126,8665,58297,7222,6973,75774,71422,36439,48357,57763,90092,73203,58555,86569,12400,69165,13326,12688,3773,72554,57119,49954,67714,71904,83744,13859,963,85715,53303,4494,34512,8776,37660,63881,77209,40764,63224,61790,98030,62527,88390,62250,74170,86197,21700,63549,67307,20125,62940,87961,55998,51826,58589,45775,8314,9481,43346,88332,67652,36561,35562,77750,30906,6786,3288,81120,96492,9997,1977,66576,37241,18951,31566,71753,3276,31629,162,54394,92984,47616,29939,3462,97278,87523,38027,64893,54252,3971,53604,35857,42457,69513,55759,76701,13452,28925,84555,54362,14067,94434,43438,66957,5253,40835,9271,79552,9480,39711,7858,71696,2857,34039,64934,71011,79205,88726,45664,27594,19515,48146,93914,79033,44559,78417,58624,78356,81960,53252,61075,48578,90666,30187,98308,5310,35693,34953,82073,40399,85585,82178,99266,47181,29315,19638,3915,12741,36984,52212,12327,48671,58144,82157,94936,90106,79782,87881,10802,39112,69417,64221,94978,17050,52996,48210,91209,87410,63292,66254,82331,53313,16373,6638,91980,14157,37097,35183,45181,40192,44611,91386,59804,43675,80321,12391,21995,61375,77172,70450,91405,28077,18505,57228,87593,12029,50278,97340,80587,60975,37472,32816,8449,97744,12074,61412,15674,3342,36210,85931,48145,71248,43565,55455,7513,86794,65270,49100,71799,97171,18138,77582,7480,14277,18553,99170,66114,90684,23101,68362,9221,87652,65460,35592,99464,86972,85900,67311,53957,28270,14208,75359,58736,86853,136,29102,83141,82647,61546,50686,40759,6296,75421,35831,69421,82258,61452,10975,10372,57840,74992,59029,35124,12175,66698,61056,89226,6323,83376,45720,17339,43344,14583,64626,41560,9812,23972,81941,35742,734,53591,64204,54818,19682,52201,62991,34903,63577,38183,90059,89632,57865,42565,32857,77449,81006,76051,70782,91902,59321,4891,93069,25934,53844,89956,43281,79251,76483,67192,7831,2101,98202,63330,92278,58365,38038,55807,46368,44056,29910,29107,16305,34438,22019,85595,48544,82208,17798,3950,72213,96388,58423,99065,27026,43028,1778,41299,77254,74230,9926,21626,92229,21834,30743,94819,70033,24593,2072,9635,63642,46614,59858,8862,55988,2156,13686,98139,51442,51189,78148,14046,453,20995,61508,29838,63306,18909,81766,16423,5536,86517,80055,97879,78014,68721,88295,42404,14394,75083,24113,65209,37464,77207,6722,22871,65152,3543,29803,95343,83956,2110,16507,50593,62985,76335,30277,7628,15909,95204,48410,69298,99277,87393,52056,87094,27561,83433,14558,37047,72037,77464,80351,79,27405,32274,31263,184,87953,9132,23046,3409,43708,67752,46390,95041,16313,78077,61649,541,92192,9317,80896,16864,9893,15059,90880,62244,54552,37618,94675,64487,8028,62444,60028,84321,93585,27596,64982,64339,66037,68242,46592,66088,81832,15511,52391,76021,27631,68269,56088,36255,61348,11488,23984,78028,48684,36276,4573,5083,76336,42238,33040,14258,30973,48990,50528,70262,36366,7820,20693,6069,1243,73350,83835,97516,17390,44890,39356,3837,31154,80359,4416,89809,98394,4663,86410,84590,68445,35348,40649,66921,41417,74992,33614,43181,42985,44963,97011,29984,11804,96248,43695,11500,70518,71668,37217,50184,15683,6395,42629,75034,22580,28831,79386,7513,9154,21889,40483,60787,53537,15796,75771,80782,9619,3984,39804,36449,42097,61786,81964,55578,31145,63546,64734,69532,86264,89431,15452,10613,39821,78137,68283,58080,25156,19472,4789,40318,28033,44628,62909,26218,78418,13529,39417,34808,27095,40145,62369,66547,22713,46452,70714,38606,77938,53187,57720,61339,45425,59347,40458,66865,24319,71275,31486,77982,18797,53726,59016,35978,46818,2971,27344,56871,10091,66719,8602,24102,9890,57451,3642,6503,87497,64806,35044,50468,35441,81092,14638,79125,79184,22728,34485,378,30561,33467,36161,71674,74407,24081,23731,61366,88060,50513,70379,5934,25250,63619,70623,49555,29076,77179,38195,3316,26045,20547,29710,89313,99817,17111,34916,7034,79426,89513,90593,81451,89660,15151,58696,50906,40594,78141,58680,48673,85761,69846,33105,69544,37809,53581,63546,70895,25390,19816,36417,35969,77150,87835,92853,84662,73328,61444,66205,80559,57291,30004,44562,41521,31148,18441,8187,47267,46005,48451,91902,88431,21824,71920,13667,54931,30425,12070,48883,45499,23559,17001,21227,30964,95033,49575,21893,68533,76534,15919,94173,64166,77697,18938,8097,14619,76141,62466,69410,13676,7795,49842,17223,61200,5955,3102,53792,89743,52118,22598,94340,78908,26995,72422,61180,27077,229,42834,15132,11483,8913,82433,64120,22718,1991,65640,58706,85341,18520,61022,13604,18732,69712,96947,68197,60985,94017,38561,60057,52637,44283,54863,27985,88054,11518,30726,40310,51112,2636,7156,24656,6682,47189,98978,47756,66637,99762,88725,59057,71227,78660,62753,8187,78177,44150,45334,45009,52085,24362,66210,49933,29103,64235,18050,98414,49144,79362,19707,96071,29361,64391,97301,5925,19463,90938,729,88247,60532,92757,13277,1195,80442,26235,95735,12797,19983,55683,82190,5219,48728,82364,64775,64430,26544,34795,15501,21608,86058,71066,70576,66770,10501,56349,85866,41745,83897,89456,33391,89934,41726,91713,59553,75371,23482,23984,26312,81145,55197,40919,33506,85457,61713,59713,81836,39140,54035,78188,33982,13730,47738,45039,82647,23920,67976,55882,65417,92864,77842,29579,32130,47166,30224,77238,2614,1820,35412,13535,56242,46003,25491,72233,30729,41457,2629,98394,84509,40258,78862,41463,14254,82114,6876,91320,24176,48215,71314,98131,54528,83746,90401,61363,76294,29931,69567,61203,40244,3375,53584,94342,7131,53406,11597,21134,94313,99977,33929,15312,13097,19896,28476,78092,52518,7254,80260,25575,2482,89446,3495,93002,54094,71650,25800,80137,38029,89291,22980,64006,49116,98448,56025,20339,92853,70929,32104,76794,9941,72211,49730,70530,65609,15607,71755,65528,30058,84079,54169,40753,6138,29435,28821,20624,98572,40503,81754,99954,76443,38009,81812,41819,80583,22532,90055,34639,19744,41929,24154,65140,18007,26464,45394,3635,52810,59776,49460,17572,1462,78618,6776,5697,41980,42217,42343,51611,43513,2855,5610,68759,53621,5147,32476,21995,68889,24386,34680,44458,77304,11585,28390,93062,30339,77672,75947,47601,14804,87179,65854,38368,63275,62093,19210,96937,68732,13566,33889,46146,39900,51748,51391,31217,64542,11817,44800,75081,97351,4996,55803,3668,86070,41315,28298,59285,8539,31779,7673,8825,67479,53953,6456,12737,71288,51391,39326,10790,97854,92904,44888,89159,30466,56648,94218,66483,8986,85263,35447,24268,88703,42672,20655,74956,95104,18057,94234,63195,82733,46559,90073,83024,70271,5930,35999,84075,14400,39803,8219,42275,3903,32728,61686,27304,52966,13488,74924,20082,61948,24357,18394,16575,40430,3597,40150,52457,39532,54383,26500,41953,70966,23532,51285,8699,74231,66807,84639,838,79827,99092,60796,28849,92351,92003,27444,17603,97988,67248,89658,73580,53366,25083,60574,53473,86199,95771,31439,24577,19971,71962,40494,57782,92326,45556,30288,30408,64701,34569,9572,23034,55787,99071,88838,13751,97760,84671,47219,31112,30447,26072,31849,24103,7085,55296,85036,74556,21871,94390,8441,94824,41945,51497,2212,47689,11907,56617,97640,51368,64897,94344,25158,35855,72718,72094,90750,84066,95644,67242,42070,84201,44823,82786,49976,32812,65433,86965,54416,53657,87286,61376,80656,63064,68558,46235,45793,81620,43797,6785,44175,51174,18633,56302,43384,269,59276,5872,53905,11139,13974,65611,41792,32314,98409,64457,9181,14603,24012,20929,40810,59714,18099,53622,21146,94688,38117,3333,73377,10598,80436,3905,3629,5150,38341,6273,4275,77549,86808,75919,36825,91354,1642,37299,26362,50209,75373,62294,90285,54275,45287,5934,7106,75226,62216,18274,91223,99602,39266,95800,22400,46839,25699,25329,29308,66694,94022,46788,81028,41224,71535,50752,69272,36923,82551,87432,30995,88741,78816,70911,14484,11488,63761,48982,16036,48412,45638,74695,97596,51687,84900,33556,69522,88483,47770,67691,64634,81808,39259,34848,96297,82336,30726,22683,6474,99683,21448,29873,16839,55193,81525,46542,77826,75963,66449,64923,5616,44319,85587,82491,3348,71096,29638,44240,60521,27655,6842,16846,28319,11228,69489,50793,52738,38142,21489,36290,36329,53908,59319,24809,80709,8918,49118,22364,83908,2453,29551,47743,45747,30165,14065,34771,73254,64396,73202,72320,44601,12444,385,7908,17251,23546,71815,5164,83181,40259,27683,50811,1753,85,7949,47493,22131,48962,30850,90889,2409,72111,76381,91015,51630,69134,50199,86119,65330,85264,29052,65682,7955,20898,65903,80151,92216,13703,12895,45111,1703,37010,26411,8596,72933,15553,92282,37254,44195,40338,9354,41861,79280,80223,52315,57359,60342,46028,47685,86490,73490,13633,68166,5931,28332,73703,36482,87635,93083,51009,83885,92584,28811,72502,76762,90037,75656,36814,50626,74621,8836,52081,7413,21487,94487,24810,69392,15694,23932,92741,70771,69383,10349,92671,38781,19159,30488,39382,29949,95090,10648,50019,74867,98152,2920,55724,17599,12491,46005,15572,82781,74022,51156,53125,67833,88600,62425,74238,1206,68462,96740,66139,48429,99480,99939,84028,6814,54995,14595,6506,35861,24808,82541,43703,59043,34518,72935,67415,28910,54612,48548,20594,51071,38997,86260,46367,66710,97455,68642,10361,9230,15645,2408,11259,94389,8507,11945,72614,78596,67973,50599,27303,13256,86072,43395,77567,4974,9810,39190,21700,17020,91579,47960,69966,98062,48598,2114,21087,44655,23426,55442,25547,15146,87636,67534,642,16278,2179,21699,4399,29388,35575,12493,2324,52960,53632,6919,58536,65003,63181,13413,98024,14509,5633,57950,55453,64881,37507,68492,69096,61181,37901,27502,6588,55083,74091,5980,40413,74039,20749,39147,21816,33121,92159,12528,30417,39372,78006,71166,54954,30853,21416,19855,75926,69117,88820,93192,93117,30480,49417,17673,82386,78562,23180,94699,76882,77479,26156,46677,66692,59027,20729,20291,15633,90206,28675,10511,6264,15711,65316,70305,20787,79304,28894,9116,69353,64817,4477,70521,79357,68717,72808,28241,50057,99226,36431,93996,47076,32106,68015,48129,86727,13784,17509,99737,91716,12040,38642,35756,90120,60531,70468,11420,25153,68199,61991,94497,52053,7316,36761,57441,18203,68104,51749,97187,99668,17544,71822,75856,87873,67826,53743,85092,23673,52339,27416,65028,50111,29674,34556,87498,7771,78904,76797,90169,1095,57889,43233,70092,95032,66209,35009,91402,75240,56722,33839,18877,49751,86773,1911,7855,99434,30260,23956,40687,33186,47445,71059,38083,43610,37329,60888,78049,25140,62398,98148,89397,60128,94904,87272,50573,67692,16535,11004,19510,1259,46240,5799,74809,29629,97148,48365,97990,18297,4753,49809,64616,61652,50695,83602,87981,35903,88016,64135,99721,60937,82337,22888,82716,89383,69714,83643,84814,93284,10780,96966,88956,17885,78280,88411,37648,46724,1575,67539,36099,28976,73886,5254,77123,35502,23321,62775,35136,54035,97281,74649,7931,20374,32995,45791,68862,81108,6425,44923,8002,30929,53231,50089,77018,10951,217,49569,70069,56336,86681,37826,43833,23644,94877,59746,61628,20874,91828,79245,10553,36107,65210,22516,18882,24037,27367,92044,90287,29398,71098,3765,59052,36410,68133,68576,20905,29513,4155,66715,60763,89534,60815,9806,96337,38478,6321,94765,19750,61216,52068,71997,66788,41610,98300,2560,71211,47690,52823,56881,95465,87686,93686,83138,26884,75448,33791,97957,46338,17247,12511,77612,95404,85704,53035,39694,35178,10762,94331,29632,16599,40287,5603,13409,11054,36154,99190,48402,72701,8203,25851,51287,76236,94053,46641,27618,87593,11592,55298,36140,88642,14785,95766,65787,7246,8573,4300,67573,51828,37411,38936,97242,65594,10502,61603,80641,85773,73123,17389,29412,37900,69727,49157,34585,77526,78159,89470,38208,51292,38703,72751,20278,56544,12959,97093,62236,28742,28938,56212,26470,46057,67799,1111,80782,25898,36574,57695,45532,49671,17444,90350,44037,17179,39886,90184,50888,58651,30433,47759,68705,14544,34878,72717,38254,74987,63994,75976,92356,45427,78053,99577,42311,31270,84918,70605,23206,38652,4033,44496,63529,50518,34421,8567,584,70713,31,64836,93887,95578,76324,94883,91730,39826,98640,32671,86138,36905,93569,66551,25232,72477,31883,66522,61290,65962,34750,43853,57112,69703,38624,49552,87244,30894,25124,58631,93607,62715,62675,87983,61224,13950,74192,9605,62297,26299,13384,59210,40088,83155,15070,41791,83177,46756,57855,71979,34697,37229,52313,38508,35160,51464,81069,86105,32974,90573,1221,34434,85790,84802,76362,85289,13400,35939,63227,18458,21127,12748,11554,2198,23991,25062,6018,48934,21942,28660,86019,77275,27908,71730,96216,50963,87148,53446,98038,63489,3299,91131,3859,45613,57896,56983,24409,86424,6490,31788,93140,51528,57364,6056,55828,27187,75582,11393,33893,80046,46963,52480,42917,31280,9323,61529,61357,85160,52151,38572,13317,58205,77610,4815,53381,1263,34263,95404,25165,15198,9469,39065,89717,20536,57595,25092,68528,53476,31655,89988,68464,20248,13982,64906,50987,70360,86888,35175,51150,19231,26075,60243,73759,38977,93390,29030,44474,62810,63447,44900,55148,35372,5617,59709,33490,63628,42079,51527,59124,27911,76419,46755,97702,75397,53145,72942,27392,87104,1562,24920,343,15146,32981,53230,13534,39351,93147,64363,84634,6034,95352,51513,36570,36467,46842,76051,28862,74330,42084,73911,38903,52821,20188,28072,13550,32635,2862,52988,96527,62675,56445,18434,28343,21898,13401,12401,50739,40484,56110,14348,2496,79429,52288,50710,74624,770,91423,57526,52190,56660,42068,64902,37920,49409,44471,72242,91689,39972,86148,28646,43965,92943,68053,36766,83911,69539,79752,83119,54764,20519,95418,98023,71723,62677,63035,94807,55945,88997,8633,60709,14053,43558,45915,37278,91212,23885,96178,1854,22394,51836,55176,24249,37444,54106,97851,80804,52078,34513,96353,72291,30,88392,73758,99401,5327,44699,83600,1780,46230,95037,81516,35832,14663,95090,1677,36345,17633,90535,40098,19814,59237,38288,22843,30218,55948,6988,35572,14287,60964,38056,79668,13732,15149,45425,7650,24301,80770,72076,11190,19607,86398,95520,58854,58233,54503,82016,83234,38495,1679,60077,68560,30959,40069,40438,88947,32136,32286,40358,98847,66831,40130,13475,11435,21846,73804,74547,2696,4151,85856,89951,26615,87972,33299,4172,10443,18133,2489,54426,77465,49969,60155,44569,99284,30606,29361,23361,27097,77253,84564,344,14501,92723,4621,53054,65877,60096,94910,6698,52291,86593,97113,88938,89467,66153,75131,47780,10798,41486,6778,24899,88939,29634,10270,21922,49632,16209,63455,32354,94675,95698,54161,86642,5525,72588,64863,41497,15366,62329,56675,35189,94266,46922,68906,21119,80023,89823,90510,76649,87921,10001,34835,69434,63192,58740,13972,80959,53985,53072,31838,90033,43299,96090,15795,76195,87917,73850,85397,74889,61184,12294,63388,54219,72664,57509,52512,73796,38188,45986,103,86404,13582,88945,26213,71317,27210,5227,4130,48513,66751,8971,72713,63353,66481,90332,29087,20704,22672,34273,72091,15960,59539,76165,98340,95758,95175,30487,66289,1937,99079,85640,48354,43986,76503,32813,13185,33908,55440,86144,94447,12405,84384,28512,12429,32261,84695,20490,7953,47409,30824,44934,49774,50209,51644,98472,7945,19460,3429,48726,28027,84412,15286,68354,55022,92521,15655,79629,92060,8645,25931,45805,83944,47021,28112,36940,58594,38700,65233,9931,81867,28200,25989,84654,98589,10233,38766,77897,91187,8834,9913,71476,95244,62064,33511,36845,27049,91593,49501,97857,84933,67998,43398,81464,97687,21892,60598,11491,48200,89561,90497,43194,64453,30796,22466,19007,7607,35483,30395,68762,77269,26803,50230,71770,37459,83870,78141,24049,83418,32532,51367,73370,96573,60931,4828,60721,15383,66609,52318,83634,2167,63306,43725,4321,15729,83918,21885,6029,40835,80510,61087,8700,19049,69458,32919,31671,23379,31821,59330,56010,40508,1440,45527,2904,3323,83113,36150,41753,15744,76442,95394,60533,25051,27979,21167,23060,56624,10822,79791,44712,26737,68512,21147,83763,89840,10247,96728,10118,7838,79308,1158,85144,32776,77489,46271,95791,45206,74969,30896,467,58170,82881,94456,67264,14013,79715,80206,43320,77472,99470,57487,56812,51164,8557,46156,43049,82349,36235,97182,33629,68424,47752,48707,38990,55401,8174,47644,1918,97466,45387,2384,21859,76967,53165,60585,61258,16962,9011,70253,93603,84030,47558,32526,41302,25187,203,76991,97127,61368,45806,63679,57159,94851,99410,37728,64810,37787,78586,84291,925,53916,31964,73364,10344,49299,28094,13759,29847,43245,73670,44494,86127,59270,99014,6038,23924,7330,88132,62275,94180,65268,73895,43106,97768,9910,34618,6232,69792,56409,14880,37541,20136,60133,32015,84074,6784,17640,28758,6283,17000,76509,68244,48289,67228,35123,83601,25953,80874,44527,32764,64363,42726,51894,51818,70136,78716,38251,64571,52594,85235,72259,11294,18529,94663,65953,24671,11368,74544,75969,25821,67582,15830,30297,93797,38138,9166,33574,77043,17398,89254,29298,11857,15499,65346,70938,78381,76996,34984,28663,71793,24289,14952,41920,5401,67952,74782,62175,69724,35652,91749,42689,20647,2670,73273,33167,5400,45155,25153,43872,48871,40431,32000,94,658,32615,48798,91285,63910,60217,27348,55538,39761,78342,6418,85992,11589,62373,63172,48165,75295,18213,20518,8536,24177,38720,53537,35719,30207,18398,81170,44850,77550,63715,80324,30701,17236,15739,30064,68361,50843,62624,14652,10858,12529,38907,70144,68058,82202,90148,50321,36037,6133,89526,73758,17305,71047,36944,46677,55756,43030,25823,68717,99935,43693,78607,37316,45367,18697,74220,12320,42060,74330,49083,77940,44710,45242,38931,35546,82207,29742,93102,13271,68411,96311,28083,13423,64318,89926,94954,19822,66733,63897,25788,40213,20708,42340,32581,44953,14051,39720,81759,13790,35230,40765,57570,56586,98964,35717,49531,76532,46638,65967,22099,38143,77942,96509,71588,54130,81600,77941,97386,18236,99659,94660,83493,66474,43365,13502,7335,50206,6411,83076,94860,91569,17527,59426,93907,14743,60263,39655,32988,25293,91140,34737,83645,81228,28886,7633,96620,62865,18215,63000,48803,54450,69480,99629,88542,36157,78083,95098,59872,63628,24749,74055,51469,55081,1386,85486,94157,85156,45683,91396,80294,39756,32478,75789,85971,79723,36896,56038,6497,40006,92041,9015,97783,33063,35759,66598,36485,13485,59498,1245,90911,38440,31378,78626,46336,62604,81209,62652,18393,50434,87061,13231,91911,8795,60371,57319,21941,25341,70034,84892,45392,59084,83754,78332,22768,73157,46400,826,8791,63598,42536,84522,68351,54843,62722,75072,74935,62062,32505,85951,87281,75817,42082,67026,70210,82155,66541,22383,43192,24802,44481,75268,63421,57246,72970,79564,10503,33455,30035,37233,14678,81840,60356,87266,91090,3135,10183,13923,85979,60117,81374,15143,68768,23565,26126,15046,81837,52786,29399,87310,36734,49020,40119,63660,44887,41684,33105,45494,22589,39707,61175,71536,13595,76932,44186,99991,95740,46634,74907,88622,31478,64064,65360,98227,82772,38817,6621,14996,17004,11749,60418,95826,65190,60104,18399,66962,92472,11369,48784,88118,5330,93327,62817,51248,2176,80489,92368,84751,72883,30877,54090,31739,27245,33028,2550,6375,26801,28436,28789,79721,78598,56881,36474,67380,1767,83945,4969,43793,62017,58011,83555,5481,57635,86739,69584,15915,1882,84366,33401,18265,50656,52766,69032,91000,89489,84431,27070,73599,67556,5559,5404,88471,56345,34563,18003,411,6379,83492,80455,87459,8947,64641,38147,90055,48613,42518,43251,79420,12352,72400,89105,85690,80083,82238,46695,82240,72268,78678,89631,11149,49384,41528,22241,55252,74322,53332,65092,36291,33186,34475,49876,6148,76775,48681,48501,13726,64666,54184,91304,19084,51695,30739,91053,80522,14109,71300,14092,89940,89670,61508,61509,40362,42675,69370,49866,88017,13438,27820,88274,85514,93032,45049,18075,84287,51425,77707,38827,45604,35073,62094,6344,86408,19974,64687,11449,81119,51005,82469,63263,18220,77810,84779,32253,7828,15371,61196,49377,99531,59856,53516,52977,98868,24232,84138,75005,34568,97437,88337,13176,66374,50618,94383,55198,7975,11012,92614,72057,20868,37212,41406,81276,39006,15136,30483,49392,79434,83203,66563,69685,21319,70367,91496,63643,61770,84136,65919,27601,36123,69657,99908,1370,49772,59626,48946,43798,76656,82029,86992,88793,88442,72193,96246,96659,768,19811,38482,96559,59420,40625,68601,7482,21521,55434,32045,61182,32739,89744,84461,97328,99936,696,14829,93324,75529,70459,81492,99043,26939,11938,73783,59798,3698,73848,2357,6630,57981,46372,35601,92956,36092,19194,50108,29525,63360,68585,79678,33482,39352,22009,55602,42966,35522,70247,7903,77027,35265,92014,70140,64209,68701,39965,66952,3382,17711,39128,80948,11048,55851,43570,18736,78635,22052,34878,726,60280,35235,5644,57638,7122,21629,51631,52395,58363,38045,94710,81856,46602,56894,75736,11908,68059,66098,20776,28239,28408,665,32462,69527,33975,71261,77690,58631,21386,50328,94789,38471,66370,7152,29021,54637,30071,88618,7630,15352,32133,81858,68950,87505,76731,82029,64069,11019,7578,58219,60663,35760,83143,54678,47526,7360,31084,93048,76812,63676,55366,67893,21708,77329,75740,52166,36801,54963,90871,87246,31859,55419,12398,19740,97762,46152,64991,69582,32484,646,44973,95514,78353,66225,79369,65178,4747,66289,79122,8880,9945,5953,83187,49370,86629,19144,29544,65032,62939,81040,18353,8527,14582,77893,85015,11214,89571,65699,44107,64906,91421,99411,14407,58070,30140,87968,10359,70185,36269,97712,33032,84719,11935,74926,70110,38408,43598,62757,9450,8151,24736,52003,20318,28152,11558,79057,52676,76538,74105,66960,41647,38224,14682,78783,39660,79007,14006,73733,75623,88696,20615,9840,71549,13830,92597,91456,29007,32529,88277,74988,72967,50820,38302,81399,92104,32237,10327,34524,95112,90735,63482,13268,73050,14756,7386,6313,52905,40432,73743,90534,98273,48026,28118,25377,64641,35687,87417,31129,16664,11266,58569,31698,92626,66428,7490,17189,84333,52229,6945,43670,11308,14415,6733,33529,55828,44138,12965,52912,24089,89403,31095,37185,19358,69471,76891,43350,69554,51199,95468,91722,70167,28866,67586,45478,97847,62957,7645,75430,55903,80212,78022,58303,47800,89581,11357,52032,20905,55206,86347,64874,59741,31122,34011,95557,76479,87111,68813,14187,29725,82528,113,42357,10286,90249,1913,81098,9069,40099,95821,32337,85230,31944,67907,61119,95817,88167,46738,63286,60472,85878,36927,80523,48387,64585,44119,39224,30401,74785,56945,19104,29967,62312,47204,8995,89619,83290,8233,90876,14747,59007,31075,3722,63723,71174,30288,84093,33484,16144,84581,32874,9037,14683,53077,6299,74374,56831,5021,59475,78695,61989,15817,88204,45310,95346,7484,48133,22367,23728,92014,36378,67616,23810,7357,67405,17509,46923,16925,25752,37072,61729,73463,60824,19151,41724,87113,52191,45954,37622,61932,86392,11780,34816,45994,62021,20657,73545,8887,80696,17779,2554,56817,555,4807,94937,92880,59693,25089,90932,98906,4849,41026,78760,21097,42611,73754,49322,61900,13050,51766,84505,50243,61101,92689,53305,49127,80326,69264,48510,38464,83898,96791,23368,17218,48397,74301,28304,7526,96798,17226,80807,79804,52254,93656,53156,70842,86507,95989,20736,73699,32716,99021,77265,47772,85341,23009,23000,7044,64469,51487,76289,45594,53572,78159,28803,39448,16421,84521,27764,47624,25270,34712,46800,7657,26577,12441,55007,18524,4638,45833,30777,16479,25869,15835,95600,12630,73361,70046,22804,2758,11735,49549,81383,72285,5668,26524,55330,2059,38441,69991,58010,8766,91556,35203,45505,75735,71188,21099,82959,15736,56133,13413,13466,18975,85479,46330,74411,84271,82521,85889,12987,96020,62600,92117,23860,56537,59502,49695,13203,39291,6606,38613,92540,40887,72052,15844,38894,77892,88160,72494,99894,32050,55526,42183,409,79256,74745,32987,57825,77634,62747,88275,87789,56962,85868,15935,94256,58076,2757,18495,77203,25468,52894,73280,44954,64111,78273,84307,8325,52380,34640,16520,46194,21456,94136,69483,25030,25517,20979,78413,80105,36694,29175,81392,81030,85317,39458,42797,64094,64204,37325,30159,57785,76123,13530,65907,86308,64133,7896,28291,79906,19495,31003,29307,77408,99144,30701,80020,92994,33539,87020,27902,96294,59789,69983,7967,25387,87007,80700,9248,13698,51564,90395,9601,65400,52947,95004,68230,15758,47644,79511,76763,14893,52472,89063,57174,20281,86616,46937,96751,58567,11184,50556,33225,28787,34497,64688,57472,69414,27422,66733,27675,13775,48195,26727,30023,4509,77826,89055,46499,61355,68588,98112,91032,57769,72319,27377,20766,42064,18203,64143,2668,93738,53732,72524,45606,32953,18037,49492,13948,78212,78384,10303,12567,67453,47719,12377,74255,63464,22366,28310,10707,60215,67645,60145,49202,39626,45927,96929,45544,40101,35947,14971,40998,54676,67611,76636,89766,82232,57763,10380,71526,74341,57578,59224,41027,60543,64439,87453,56554,4118,77753,75706,9334,58604,5853,8444,3662,33515,43904,81511,25122,47992,47381,63454,39226,27427,60984,22660,52610,65738,29548,73249,50939,56287,37441,11066,38612,67651,85967,22073,85896,90161,98236,60458,9711,82529,54004,12794,71818,52157,11492,23922,84531,16944,61060,95049,88678,99249,35684,14163,37827,59569,86681,62385,44062,10035,38153,54139,29224,29407,68537,27291,2040,10713,63054,94992,47158,238,61552,89984,11136,25068,82411,48587,92611,61691,38502,51129,71630,23881,18484,3804,61216,30408,78128,8509,27737,40301,10418,64463,31415,22594,14428,53973,17785,27035,4404,45671,26439,71340,93588,18154,38762,34266,78864,66320,11460,47563,59787,53629,2153,22562,80683,11362,27180,87359,86565,80998,78248,68192,30037,23777,44261,16799,87843,22608,59800,47885,17616,97609,14321,68735,88681,25920,53345,82718,68652,1622,42514,7410,67039,85222,66601,246,68963,89819,50314,47624,83445,39283,34558,18573,88383,9100,1712,10295,41049,16313,86803,94796,46263,50207,10869,88564,31000,55188,87226,79459,99036,32186,86520,49750,93720,80273,30915,93245,64734,21083,93089,98357,73716,20435,16811,44371,3215,77877,68404,70847,48092,33693,51974,87593,673,38443,72802,85072,53046,76425,63501,97584,71527,9229,54016,93727,91297,18661,92212,19434,24771,41781,47083,29042,52090,85247,39591,6840,84280,78231,46501,65972,88916,15527,97809,68403,93145,12701,59610,53154,61913,40634,365,28747,14090,7561,97095,73205,81689,64004,98836,19503,726,90732,10595,1110,4095,27867,51052,66724,4601,62659,533,65918,48009,19913,44292,87879,81022,42388,29106,71533,16507,40793,66858,22190,23452,47415,60187,49688,42139,13683,67536,62678,77858,8703,5965,87977,7744,41791,37779,8542,57034,89168,74173,43794,33430,25654,29043,39182,83616,31590,6442,54991,96930,5162,16559,24523,44630,41679,86705,99268,78218,52721,61671,20558,91061,43790,37836,61286,78950,12466,16517,4922,43634,28956,42869,71654,53862,97167,95580,10838,25803,99891,94970,10056,26512,52321,97540,25680,29004,5157,79357,92234,7198,54724,68109,40680,43823,42811,6598,93223,40227,93066,96158,49291,28088,82726,67081,71282,55603,43405,7928,50252,42400,63260,30273,14192,64818,84330,62886,6218,73452,25942,68138,38540,84027,63866,39088,66095,19634,37292,18177,15314,57874,30704,19726,63855,7548,80917,54687,7456,29260,75745,43237,49999,88353,9837,55084,13722,85801,1091,96719,18246,72038,86589,54668,89451,35464,59762,91067,46229,43698,37052,28056,48857,29390,11004,38804,47155,99438,36706,9676,78988,38661,69144,32036,41634,66717,4796,39576,52223,82686,16955,59337,30836,64668,12695,16052,73073,90106,17216,29290,13505,40767,77901,10745,37449,43305,20157,96725,54265,15887,47158,71742,96296,10056,68138,51484,58284,33109,38569,13095,86809,77548,96614,96256,13510,83378,21103,47911,79819,45020,8717,81594,34588,42281,8433,38857,3885,25112,74925,24836,7710,83561,55628,54780,83551,99504,50467,95405,5195,42895,93005,75994,71991,7830,27631,91049,26339,67671,39760,98152,61417,9351,14378,94237,33852,82433,94145,89313,66065,18333,37353,2634,38951,70441,10493,70714,72685,48060,51152,10109,4685,21806,18142,66634,12157,16349,54543,58445,67948,73442,12616,26261,53700,16602,88654,79463,38025,23912,50760,14907,19256,22531,21788,41490,90764,53329,99839,96003,87178,77868,34429,89094,48051,99288,24486,23410,174,75818,37977,66557,99142,36749,85279,43701,18513,69520,4871,80408,39228,82786,57204,39957,31644,42464,48774,23667,48097,48662,73594,40237,86262,37617,54135,80667,50551,15323,88273,70244,88736,39959,69888,12854,86108,54169,54294,95305,53962,11781,44267,26559,27927,36091,91205,91192,52402,81221,15908,98003,18276,8930,20090,9079,66222,87552,60206,73909,19671,4396,4426,4849,69860,44337,90674,90507,61973,38285,35121,65661,69413,26984,94247,34423,54122,83280,60227,20330,85909,41069,71263,94682,10988,17273,65345,18207,79629,96544,8451,81266,88279,85203,52036,17218,20504,69337,67227,67415,49790,45591,16499,21053,43307,91279,89815,54341,78030,84434,16332,98686,2439,97566,96323,46834,76532,38831,58532,74389,72685,87745,15814,43229,12066,79686,78877,87975,48061,45967,89453,63059,81654,10837,97527,58008,89778,27892,85427,54658,70207,38459,65855,17300,4833,67679,41268,29115,97104,75391,40273,72796,85760,99028,64604,28229,7999,87117,91592,66408,30724,68090,76891,13799,98770,66940,16994,17230,20727,58438,17359,9434,34148,8021,75169,74614,52116,75883,12868,14741,82567,34770,6268,31754,6654,87239,86194,27563,21978,65107,18578,24541,89753,91208,43963,22439,43074,30251,7699,28860,13898,97730,1633,27987,36243,10257,96954,81506,80055,54700,22942,97466,66135,98774,31586,32464,11360,72580,17880,22511,74524,15512,61931,76125,6530,85719,70691,31783,32707,29510,39985,94523,65539,28707,61002,25254,78636,21424,23828,56381,33120,19345,32092,80032,22200,97636,95790,58879,95816,49273,17457,85221,79216,90674,2754,67086,82932,23227,79046,55256,54073,52148,12418,10298,84893,96975,97592,25295,85914,69328,99702,29238,79710,90463,55348,21781,46421,908,1441,68724,84628,22346,41721,76331,36781,37683,64153,40935,57270,3824,46540,34892,49597,50644,91952,63383,63485,31983,40955,33958,55605,84488,56488,69391,48790,95676,46871,10094,89323,11190,47735,85934,32700,59517,24280,12873,45544,33482,93533,58634,51252,8966,73162,41373,93756,71335,61437,89004,23180,30999,53307,57666,72079,75304,84168,29615,3252,34532,60825,443,33852,96712,5806,86612,28634,46713,34597,74403,22778,96079,90946,74710,23085,55097,85269,87887,77141,39563,69746,60602,83549,9629,78255,96683,41377,34129,61653,78156,71415,11382,9595,35200,40733,6298,8799,64411,94365,96618,63156,23911,32912,47128,4938,29995,57507,11767,82191,65180,18078,12005,47972,18005,81378,86715,18477,80052,55053,33493,84559,83054,47682,83968,19633,9662,31805,16216,99085,29940,41992,38935,35748,66222,55424,19301,37757,50248,58942,20879,31982,80590,35991,26556,99492,59630,80670,11964,66917,14957,54571,11955,74937,27430,22451,55094,18487,23043,54251,95473,58776,93962,82483,92382,14965,86069,2538,19733,67466,15964,57137,6702,63096,56737,57923,42159,2785,89990,63079,87204,89345,66253,71433,52278,13808,13561,93437,65038,30945,53786,93671,56413,19664,29550,27492,7428,73655,13522,48615,18102,65462,21169,87693,51075,71073,19057,73067,88583,57795,11971,60016,26707,70311,12879,1906,30806,16804,95630,1227,13572,18154,30088,6861,32196,20327,82631,33359,7934,23429,77975,14384,45770,28497,37107,27797,31035,40500,36985,84341,92674,95271,17636,6961,40565,69121,37505,16559,31835,16884,92590,70736,69054,19674,40808,85567,57865,48332,54912,14235,85690,40464,79444,87009,20525,44558,20320,68697,88915,29122,30496,56697,49473,75986,97859,98005,6933,3969,20211,56482,87528,49184,73688,96581,94741,89787,62763,39656,89406,49486,10338,26705,59279,85522,71313,5437,68807,67718,8899,38625,72686,19092,50749,99239,97160,9990,60523,51760,41306,73214,95681,19973,83025,35452,89021,99432,97900,47925,33939,9110,50290,34613,88298,12138,45193,67893,2513,48692,97353,66670,47579,39966,93722,30269,18701,53511,39074,29577,44293,86900,29122,45915,98768,42408,85346,25654,26388,1353,27557,26718,31739,15255,61178,39877,46481,5454,66887,73927,10598,54021,36540,87239,4163,14666,34855,78624,88348,53735,86048,79105,4069,31865,33530,51423,81811,22637,24866,95407,95555,76768,36745,45236,74532,69656,12239,27935,48547,53166,65014,29653,73587,83455,86313,56028,1439,76203,17130,98835,19140,39046,98010,60535,45883,31217,74209,11144,24022,52379,49847,82281,13896,82756,95776,88364,66557,92780,58508,6950,69554,20981,58442,44480,39060,70270,54183,32548,57655,38071,59986,27080,69397,97915,92121,76856,66289,52892,14844,606,95973,21121,55835,4276,58710,34811,27668,61840,89799,93853,47857,21276,27506,91859,64087,37560,94415,87080,35971,24009,7394,97905,11290,69744,72018,62424,48871,48680,93404,60425,35575,68620,41505,69589,33143,81733,83874,57542,83599,62137,76888,55049,24558,55161,54112,89281,26844,67379,85107,31636,97898,59936,76553,20974,40361,59225,59823,41066,91564,15935,33085,69270,30223,7123,68979,96882,95352,9755,15891,47819,71462,68558,99290,38325,19269,59123,91411,64316,50209,28861,68333,73590,40852,28718,96136,66383,88006,49308,91222,6293,43615,52471,65563,81320,6734,90281,46448,10139,1515,28128,29481,63219,27181,1218,54446,7839,15650,14137,20551,82969,65806,95553,63236,16415,14303,48208,34001,62733,30285,45488,96292,68144,19890,20401,29958,58171,66039,71050,10976,7723,45429,66027,71056,86467,30674,62802,62575,17072,12707,2447,94602,21098,27323,77372,58092,18819,19187,47630,19649,72003,4471,19742,92164,38645,36352,41154,77329,68097,78881,75606,80219,68485,34434,91045,6419,80042,92274,39318,45202,28367,32525,45147,18491,7642,4890,25576,10519,21302,73499,61134,28447,50277,69873,63567,40523,16037,60997,38737,23590,85681,5846,82825,9171,47590,88073,7395,12571,14873,85912,44378,91569,47263,44137,546,4234,88580,42824,38520,45965,81146,22635,95773,52817,30019,35971,59834,42349,12139,11104,7714,63569,59863,23717,28361,82512,17887,58370,88889,43025,12621,20740,83839,81829,19031,11453,78927,63648,680,78277,34591,55029,59244,38524,55097,30127,46394,47017,68656,50956,4147,12717,15002,25847,2477,51262,43341,14089,563,65908,55392,23468,32938,19971,97520,87928,57256,33172,26214,44885,6089,79456,38030,35828,53798,48946,56567,48599,55497,49479,82188,23552,17515,98683,28118,48737,41995,83907,90480,62195,35465,92740,69035,94595,50356,33569,46161,11600,67910,7463,62202,52942,18648,43974,55306,99243,24263,64604,53657,63752,63988,63450,97106,56630,54803,17791,57917,56069,30396,41631,79045,11584,30095,6757,19852,56921,87152,92581,45151,1383,89862,543,5807,96655,72680,77527,83180,18916,5202,90340,57775,30219,12183,92093,49372,17898,50461,64357,59203,58626,26686,6369,42233,62620,81468,62021,75777,87,90973,58076,72173,70074,68183,87840,62094,84948,63785,25805,83894,44282,17170,66663,27414,58709,79610,14793,47866,19043,86448,88320,3077,71503,52387,74500,7201,49174,4606,90810,94889,64792,25014,66767,15128,620,88364,47679,18828,82008,59407,82826,74653,75396,62027,37923,4614,71740,40370,51491,13449,67043,68802,43781,82514,40532,95299,37852,96943,8413,81751,23322,82360,75122,74584,62021,79401,63082,8216,24245,39161,26996,66549,74731,48873,9831,66652,96967,29775,34396,81722,80653,96303,91690,60694,61243,13951,89766,46282,12167,4974,81867,78822,56104,51407,21772,86553,66505,74780,13503,92970,89591,35312,26475,87168,31111,61249,63018,66454,3709,16034,44900,96181,57992,95929,53191,65537,52061,23507,3198,56929,54172,25813,42062,72784,20159,53171,96202,62409,587,59983,75232,2560,50439,97102,12586,76888,95481,51031,52027,34205,320,16848,6371,92603,12917,27570,1809,38660,4469,43253,81374,50680,63081,16794,11893,23781,39992,26082,98418,75449,33786,58607,64229,12373,11258,4306,98324,77186,51407,65869,14290,9244,94048,86925,72885,31840,93603,3587,8751,297,81838,16013,96417,37384,91027,46953,887,99697,82294,83201,72877,12484,7638,40225,20134,2287,17146,690,86858,38191,14352,53737,84322,85742,54086,42868,45819,39591,45026,20763,98056,397,77030,29819,60502,52455,70051,82000,40817,61948,20846,9881,93013,33158,7883,25434,5591,44025,90866,2733,19070,41109,7129,17309,12041,70385,15482,34051,71598,46460,78002,69861,6420,64460,99874,29095,38111,4755,22206,25717,75766,3189,6603,66093,62973,37521,11878,36008,85282,57329,38902,72811,39656,63344,56187,30440,87614,96514,42042,82690,34913,32192,40537,17376,71084,73075,99926,63092,18392,53221,19500,90749,36922,69625,8688,81874,51770,65418,93123,47876,53184,82754,46239,16602,36734,3048,6750,82246,27619,10659,48119,23836,51366,32,6746,36163,79485,76182,59269,3617,10845,80118,88541,71817,57048,40402,54527,41918,39005,92760,41730,49915,77838,6189,78145,55903,61858,12852,11635,18313,28853,54539,94052,73590,17110,8858,87704,34350,94013,13913,87440,18457,57207,62377,98081,67865,19633,87290,88975,64073,80979,2296,78554,30422,89905,11311,89307,11836,84899,43188,49087,50683,55055,77839,61971,64617,28720,26520,36979,42419,413,86739,6052,19774,89787,61353,44334,55641,88392,19239,55608,37182,26208,27036,21954,52323,35104,91771,24437,83630,32586,82622,41634,22661,30739,83531,56165,52890,61900,43138,11012,51559,93344,86261,35752,71003,49290,80770,12503,63912,1625,37058,57872,26270,29892,50098,30956,48662,87557,65187,52502,50623,61042,53499,2171,67100,15852,69190,71797,86484,29352,44378,42619,11973,39394,70780,14855,32105,13417,12295,27374,27497,42640,40143,88787,99970,33451,70802,9059,1364,84033,17468,64152,96152,78118,75773,98394,47513,33760,32917,55676,82542,8010,30514,15989,97900,98716,84817,75232,89236,97655,7480,55043,21474,4507,12614,75591,7179,9779,52438,87404,15,55076,14852,37384,24122,30118,16363,35840,53095,86373,27117,28952,29566,46050,40177,14583,77016,57143,38132,27119,10825,15680,13702,65363,45908,58721,13533,93820,44520,36480,60031,49640,10861,99543,23889,44189,75862,44291,85635,23267,65298,26486,18755,5680,2694,20971,39960,91914,7863,32918,70810,66298,21059,21649,65049,65866,88538,148,69404,21113,4363,31057,22281,9453,5535,30969,36437,76892,90633,93764,1751,60673,25343,51384,60136,4849,9851,62210,3859,81934,39663,45822,65401,43965,16985,20894,79538,28449,99437,5418,88447,47524,5211,68711,52301,93355,31821,43294,65231,33019,99212,78352,80263,11781,93454,91792,6587,81173,78582,87304,37948,68737,49196,65335,43316,77702,73527,63921,76003,33118,80245,87513,76427,38172,64649,91302,26312,21884,30997,9532,88216,17416,99447,67945,48755,75360,82523,42462,8492,43587,55102,95333,22489,24391,10680,39403,22584,94880,74750,75733,52463,92538,96666,49764,83762,9599,49135,4212,62655,83031,3881,48165,95393,28013,61465,71780,45528,63866,21167,11034,58326,95023,52429,81673,14726,96327,80377,10822,56697,58169,58488,31614,22047,56069,97682,46497,16372,46349,99903,19298,16705,6562,77519,31695,88200,86226,84775,53003,92517,1326,71492,75281,90976,92219,44523,81425,14246,99007,11231,59863,80130,3881,49165,23410,32547,94175,7727,21099,83434,32003,31990,87942,25626,62612,42481,11763,50283,86533,81970,95769,34514,13405,82863,95621,90459,97625,25227,32968,90134,77929,43445,54253,42300,94367,73845,80384,47017,45520,96680,22009,49553,82914,84617,87544,28882,47258,35891,79151,46611,64856,87936,34898,11371,98339,10030,4675,60877,56641,13985,10879,60847,81824,88256,86499,64110,53203,16892,14463,85749,42481,66414,93159,22807,20287,55789,54044,48291,38658,26049,38765,55001,90146,19103,24652,61519,68536,6602,39640,71615,18729,52607,33736,48996,43907,658,54445,53444,17057,80909,56442,87117,73394,62527,93447,3997,42393,8845,84739,18634,17956,69524,32923,73022,40165,97624,10309,4459,2321,65576,32200,76874,33460,24480,83838,35312,80988,58252,11957,32938,34442,20934,57391,57388,46433,79561,13076,25233,7591,60547,55073,65017,24608,1751,45109,70626,12118,2221,53153,3859,68946,68425,19802,5338,95397,76286,14269,13732,46279,26550,96029,43399,10887,32764,68191,68597,79205,36618,54731,56675,33042,3974,76903,87317,92381,84661,50361,889,48534,80892,13829,69866,72922,59968,85807,85857,92150,42598,71606,1956,29642,94201,56063,23006,67989,99465,50157,98364,69724,78389,14542,2771,69857,85961,15926,87178,28609,1015,37768,28043,13064,76479,90880,87501,76767,34373,31755,55054,30187,19398,77010,77637,89591,95983,75240,38780,46394,13699,20567,60798,63798,59725,10695,31059,73721,65216,73015,79898,41863,636,9901,60123,19431,6667,72742,57951,57184,57111,67915,39769,43964,98705,47053,3574,56456,10494,90753,50854,81763,44509,17677,69357,1042,54000,69760,41574,45919,3058,46221,46172,43211,46561,51561,32351,45212,91747,68870,13282,96183,87609,76986,50037,18361,2425,52323,94123,66518,17990,42482,81508,95675,72495,33790,35093,31467,10468,93431,46616,60062,54195,59307,86451,32761,79998,83087,78798,13022,11376,65843,46070,84067,82437,52956,89326,41944,25088,20752,42138,58254,679,98912,47221,47982,78383,75433,24426,21450,69702,25892,76754,60015,31046,31210,74929,2182,17871,34650,28695,61067,88340,68289,59880,40239,57539,19762,6551,9413,63356,15427,73766,26477,51845,81688,57476,9218,74621,55542,20387,47896,17044,695,58643,24100,29744,29691,39131,49563,73385,99074,21697,66622,47529,56824,12698,71895,15366,33181,13337,88259,21546,26929,40921,36884,31852,86041,79174,11696,20582,34345,22647,22308,45303,92635,59235,64126,84293,92797,8612,10454,87232,28247,28853,86942,50876,14198,58791,9614,88662,36867,47014,10407,9685,22806,75857,24814,65705,32191,11855,50422,68856,37440,11065,56834,99920,37379,19488,43648,22478,35239,91711,10215,50175,33012,66621,99820,88308,21586,25444,93302,51024,54294,68183,57447,18750,45644,77329,11861,33973,26900,17746,12402,63655,39090,17818,71168,77245,4305,26903,66289,52243,18554,95801,88189,98782,752,85315,23885,87457,67494,64314,81725,97947,57605,73657,97932,55416,9435,72079,47845,57148,29586,14876,71249,84785,84089,44038,45789,45069,32537,32453,44,99445,36632,44057,87853,61613,45063,3733,42914,57054,45430,84723,22279,6681,37993,1681,48340,36221,95336,69596,26549,89919,32131,12746,94567,57059,23638,31934,8255,55456,18541,75711,75026,60773,83662,10509,33422,47783,28243,21201,50190,47676,32650,23144,15480,36442,14502,511,55171,88497,38037,170,31646,92267,30204,83199,35913,73571,33836,85092,22303,10057,56463,47317,18965,32441,24703,16285,33096,4373,62880,25217,44047,64660,52169,48355,98818,31406,73381,86586,86642,90817,3646,23160,34324,64965,80978,88117,62353,57725,1206,25241,11983,88962,17886,97657,44347,23821,65355,3144,61459,16517,7907,50995,87497,55004,82418,24570,42408,33576,56406,9010,56978,15101,75394,366,36398,84594,32712,87161,61275,27301,21909,8761,27741,41913,54748,53887,35232,98970,16279,89085,81146,95419,99133,4631,39599,75949,84449,27317,88586,17091,60539,10659,66323,14384,59639,24935,54489,12193,49785,76560,14544,72753,29370,95056,25723,40902,50744,73419,54012,93113,69714,1974,21306,1261,69901,4007,43817,52780,94689,37568,43772,24186,95002,30778,55969,81932,58554,88954,178,40863,68078,88159,70072,30537,29956,53063,80284,92382,16186,22038,87824,80852,81701,72203,10435,98511,56557,378,40764,68280,98207,1397,48144,20849,11591,17689,96047,80342,14493,24979,1806,89257,20569,39230,67091,61575,19924,21254,47634,10152,24052,41252,65760,47504,5326,78553,3520,65788,3563,30945,77696,36528,70177,33049,9138,90314,95473,50597,89493,59439,63726,25521,74406,9458,19942,34751,70606,31270,30595,90889,68752,84728,21392,53772,97391,13045,78719,97759,95906,56082,64548,86796,56472,8644,66311,94924,83159,69421,23089,8847,37461,84082,58934,84791,55012,93348,739,82582,37146,11920,79542,74809,26421,56414,17294,5405,60426,19921,1539,75635,90386,4244,10118,11214,18899,16334,38550,36037,10599,75209,23463,42198,36855,57421,73451,4937,74943,54099,45312,87055,37426,34896,15877,79549,8711,79194,51210,66179,52637,40509,54520,10958,90395,51611,98921,27462,3880,27555,9068,77781,29461,15737,24412,83705,9193,41248,84341,87909,36950,79852,38733,80445,70821,29721,22954,50870,56097,45770,16687,77196,31478,48948,42548,9810,83998,51852,36115,16646,57154,75895,63819,74699,24299,53344,8232,21131,34105,73558,53182,18487,27665,47377,71596,90176,94331,29013,11962,42774,96566,52721,16363,64296,69233,44787,47776,34103,51681,69994,22557,94639,44256,78623,26490,76927,26672,45703,18455,96108,9797,73012,98025,64561,25318,20757,74682,44029,11269,63908,38498,33696,6801,78081,7069,12122,71898,47703,44775,10698,61435,61869,12543,23559,28367,7132,99785,19605,98526,9161,42332,66694,15270,85959,15371,65766,34820,71940,9892,66309,3198,98201,55092,53029,73556,14641,76478,31222,94389,98002,92649,33629,81360,72768,66491,96484,24483,68110,78997,64209,53566,29964,97625,82313,14067,96360,89957,57152,65152,55292,35519,46684,16881,7643,28115,1871,70515,82511,7159,21171,22371,33672,50877,97180,53218,92685,37591,13518,6863,3619,19730,27216,19922,10462,80510,87123,45500,22810,39306,48991,91644,18509,59258,50830,18517,7971,41142,90704,22472,72589,49829,58593,2558,63823,62421,46690,19465,89752,45160,68667,97091,33615,54874,59145,86655,49068,16307,52284,68651,26590,46139,63337,51666,98090,62488,54846,95972,56560,45738,88170,88328,6819,69250,34136,5332,92769,37664,38387,33684,29989,56987,34110,63663,54505,38853,5062,42470,68368,1832,62308,47969,26456,74112,75763,24925,45937,671,94998,37185,51505,50770,80718,86405,10635,96068,36647,3543,98493,92587,11179,80491,66235,20710,81627,37574,62852,8753,25845,85231,4383,22885,27586,39746,81721,11630,95070,57053,31066,74441,94887,7444,73881,884,61444,73107,13197,26853,90979,33191,18349,1459,46660,37091,96191,85542,47626,11646,383,67961,37159,51378,66413,52127,9141,23361,83790,6782,32715,31027,14995,29423,72452,54459,38126,23288,53878,65032,51963,29897,71198,46221,50455,50917,32762,12830,14262,82068,82820,64470,93465,96541,74089,90568,40040,44296,17186,49896,50087,105,93717,71183,21606,89262,53327,37161,43526,14611,606,99864,36509,48014,35873,76465,70562,7140,13225,70171,55554,95168,49867,77077,3166,80472,49256,9059,57977,25432,77039,70827,78018,20256,27764,31711,52146,79865,31484,6654,53534,52923,25177,51419,76246,12569,86586,34806,34079,54429,27933,63054,36778,26434,22427,22924,54971,18972,94232,15851,79984,20862,67208,90823,5453,76931,38367,93564,84310,9819,83822,85732,61740,65372,91232,21785,22761,3708,80701,8291,83718,74982,76516,70274,81937,16663,46305,61528,41139,11117,16039,97539,38284,54819,10543,25334,40908,80475,50077,71941,44233,52243,76310,75230,86380,71154,91366,13021,65001,68428,10023,90778,7094,80516,36941,95609,20124,10414,25082,52198,94075,78747,19144,87184,68578,28388,84302,36743,56282,25585,49079,86321,32101,75820,55412,50924,14783,18128,36612,50776,46915,680,51904,94804,37653,14420,46897,64777,92481,71386,47818,93550,24737,14306,69917,52619,90334,61039,6580,12117,81661,82415,9135,57207,36650,85092,46621,32785,65250,11299,23331,67303,86479,7051,60794,11510,77331,1780,29239,11640,40532,93965,13716,94895,18271,81940,57092,28063,50918,74640,54027,87837,92866,24485,24770,43379,63503,41299,99087,4561,44586,65403,52485,9492,40219,28853,57001,99647,32576,6975,94864,23910,4253,2610,78430,53210,68009,61031,30594,62782,2184,61105,19267,50757,36621,26171,87526,94981,53935,97270,2615,53687,93901,63946,55849,97971,51324,96280,62678,68438,21919,658,9084,33396,7380,43347,53133,52574,48268,46969,50242,43138,91213,28827,92972,23409,10013,78223,5878,9668,38542,76256,30364,59906,40539,96056,57141,30340,12125,29124,54128,94707,40286,4805,3660,8681,47155,48846,43749,45585,29560,7378,93021,39693,67162,22520,74542,49464,55042,35737,85113,80336,52915,82134,98855,4913,66127,28004,9910,62027,44589,97688,31320,49129,39411,37675,6263,47322,27185,63324,38622,24256,22659,36077,81830,89195,67429,82998,26811,61449,40639,47990,24942,81601,37831,10319,14568,87098,66354,37072,5381,3063,85049,63977,27036,39904,51034,60984,83535,2698,12977,5342,48680,96185,7517,84301,74108,93324,15215,9517,9078,72470,13811,13252,62440,23944,96754,85951,74184,47381,40389,53180,35771,54756,59945,5046,46760,41169,50215,88160,68803,99994,7156,76910,31110,93302,46338,40187,68323,5979,74166,68768,94100,67560,30227,6964,66687,27722,5816,42183,7080,10125,56704,31318,4336,15822,80154,84550,14107,40458,35167,44230,96316,33206,39028,70464,23461,33934,93515,53350,15057,80842,74875,20903,9983,94078,28569,18281,2754,20592,39868,61401,90173,14148,86595,5945,37233,93029,49843,61604,74812,76591,80617,47559,3111,35697,40838,96868,93660,98698,37077,19496,38924,78387,2588,88401,14514,19262,51744,23587,23427,94118,38605,91115,42413,44430,66442,90974,34559,89770,31145,14557,68638,65479,14504,30789,78565,43060,35416,56673,73889,926,47345,85147,55547,30656,86823,40627,2354,39260,70472,96018,29611,1235,63128,87904,3882,29125,54661,74553,93130,30971,34254,68836,27905,15210,83536,77347,59255,22802,12126,42388,76387,74894,13077,25492,77828,44825,60493,83105,34956,2759,25355,48381,38420,87913,92525,49464,96735,54587,58405,54842,51313,45095,47546,27046,16100,40810,98286,24584,5128,71230,56115,86603,51542,23797,76740,42231,95744,82376,59474,68255,56068,81250,25068,76708,58258,89134,52814,4441,20875,62672,74408,41535,82379,30949,83385,70300,61424,73414,94264,54963,97866,16519,23483,35094,90381,29016,99901,10311,18202,12774,21949,59513,37921,65053,95944,1189,90965,34220,75258,32995,73890,74017,76796,68097,71004,50999,75001,35195,9765,55994,3247,55510,67050,25487,2266,69139,99117,18469,9129,32769,29137,53349,65333,33650,39674,11642,85347,99270,70177,24634,35678,55369,39234,9114,51423,20063,52619,48923,63739,27921,43209,5599,21046,33022,5191,93584,88702,54793,82722,83912,91546,78494,64226,76577,24862,11367,71127,39785,59429,92687,30150,67404,54419,79258,91494,80616,42570,90319,9041,60384,90519,3997,76726,99220,12751,44598,50608,84162,63093,35665,50235,19086,92232,79352,22047,47917,33501,282,33042,22782,82981,47669,50529,48273,7009,35694,8939,2959,16557,88266,46530,76844,92426,16380,16996,38140,16268,45950,50157,39070,76023,50427,65726,17724,53488,67285,21659,75713,84580,84036,99247,56938,3940,534,15701,72855,89432,82902,91290,91117,26402,7413,28303,42066,53235,89508,58840,71995,42348,397,44353,31636,38671,77734,38482,85797,15380,11028,69418,55678,92722,56180,49532,97499,44320,75073,1649,89038,53716,62558,27561,13449,97346,46695,89089,82008,23984,24982,24266,85763,92922,77029,26226,19655,84179,70727,72524,23312,54366,62841,86527,10335,93719,83249,8624,25792,1210,51968,47780,41473,55970,89640,55146,7630,62121,39629,33872,53194,79797,30231,80059,16539,77756,31312,17443,49439,27411,73763,428,91633,56970,45728,80129,55493,34224,4271,50511,7881,82080,52039,11206,39015,9580,11308,52667,92305,38164,78147,91565,86168,55523,13470,48455,78488,86418,73991,19604,30053,79333,18636,65203,4446,63431,76793,70534,71298,1187,44297,24863,92677,77833,90020,34783,79322,76331,98096,17858,53247,58367,43415,32122,37857,88345,98671,60256,3919,71336,72063,55475,5061,95687,24891,95433,83787,69597,95223,13503,5982,42636,89081,11124,10809,21126,57807,49920,73688,24777,56426,54710,22879,3410,61459,84468,62598,44059,60644,40100,47360,46245,34055,30232,30974,67572,52505,46761,61392,67472,8645,77524,18044,26167,52282,77045,62119,15971,39497,2912,20105,11236,31672,58099,44247,58653,38255,39872,69857,71099,10454,55979,59916,85453,8333,79253,91980,72081,42971,25125,43525,11621,80641,28954,59868,92981,62221,94044,82924,86962,49309,23723,85550,31876,40634,43015,39810,32137,85770,81744,21751,21590,18230,681,52461,33275,72018,82426,60347,16498,24141,32547,20604,38886,4147,44426,27866,17552,56818,15703,76878,52308,35052,79639,63416,17476,67619,14952,87490,4110,82953,80326,52852,13966,70361,64034,33871,82479,37252,95744,56664,96437,6298,10102,99798,98481,20872,74723,38314,76673,91592,28349,64337,97717,85664,12417,89006,41696,28670,55076,62657,92359,98270,10559,35337,28706,33790,76041,654,41536,32824,83050,29550,1452,85744,55225,93073,38608,43353,42478,73307,29642,76869,77420,66043,18915,78979,89785,78442,40296,91995,77293,37613,67482,74634,42616,91702,21990,68159,70955,21254,75365,85758,51831,36295,35644,50352,45593,59701,64171,42514,4786,68902,29255,67714,54347,94554,65221,24199,13298,88665,46682,88620,36790,77625,33821,68888,43506,5813,92017,58840,23575,51216,23513,4547,22515,60021,793,96070,69253,76389,56934,94685,9677,84970,29274,69371,64972,37462,44946,48633,64916,42822,32485,72624,84131,79304,29741,99254,12254,12732,86037,56217,69682,46221,78752,14984,25658,9767,61808,74804,51410,48411,47734,10449,86607,6182,33925,1424,93044,37225,36056,1646,82745,6412,77425,5820,26341,30458,44795,25536,90287,25211,39604,85462,27545,39000,11450,35096,41723,58160,94458,67401,82870,41036,55675,96971,17690,4239,9770,32851,65166,35344,77046,59860,75064,45211,39402,28038,89010,63227,78835,72376,17372,6870,34639,42578,46892,12308,69486,85509,24517,17697,84846,55029,62253,58016,5075,30768,17161,54151,15546,13243,90247,33234,93798,43561,73222,54069,16092,77258,79977,16789,88518,62443,66912,14706,11913,85913,8898,76168,57692,84216,59283,58724,69886,80151,75242,47964,4478,85013,43977,84250,66624,33119,76438,30532,70369,68818,5672,49175,13058,31266,99197,84422,30569,3755,58402,43923,94445,92426,15052,89673,34427,63201,70156,58095,94430,6794,98135,53293,2282,38921,77061,47434,71413,51953,6059,52667,89390,36054,98194,75747,88855,87231,51759,49003,76004,3121,52234,7393,12181,20459,23225,67487,23929,88708,37733,38468,95059,21331,48065,44914,30231,4460,68762,84100,15617,6227,62211,5099,82334,22864,34321,14843,46183,85923,35635,23032,60854,60677,47123,63968,29889,90885,71403,86640,45664,44095,56671,24591,86589,74539,84004,8688,81418,14026,45309,72160,63971,89015,91658,59701,1137,45181,69452,98168,53779,35991,25796,75943,47625,70061,58492,91967,70996,99435,62504,14845,89540,63705,1255,83627,9554,80563,5840,39125,50722,81680,25690,26833,91940,20013,93066,37872,39214,26454,55785,74142,96539,43681,86902,66493,67424,97268,33345,4855,44381,19504,68882,19242,93957,59577,54888,12066,9210,94004,99122,46462,67309,16074,92978,48006,99181,32375,54271,74688,10822,53308,13735,911,42705,34855,82644,50597,63546,907,92381,63168,12763,35562,73849,95291,4832,89357,70824,17582,91565,62287,70901,57271,59061,82687,42848,13666,7867,9473,1033,47851,24984,72662,78900,19165,20829,8054,3907,60154,60214,10500,41702,99716,75188,45485,13032,13162,65406,90556,45210,46472,80289,70832,76001,80703,64512,42058,59275,73949,27302,7210,60591,68719,37103,24706,48839,51937,67358,84411,16109,27532,49814,65294,84189,28473,71033,52329,73763,43818,5575,61424,96267,96499,33504,8613,49872,39566,92451,80159,3656,67586,92261,68252,32847,49436,2058,39019,15977,75855,21659,4130,72244,45931,49409,58808,70632,446,56277,56537,92643,74425,39815,39815,53900,58020,11419,76428,33936,49455,51546,2748,53374,67985,66548,85200,10496,81244,24222,94645,7621,62115,84277,18078,88264,48099,28936,92959,23120,85743,48628,56356,52366,52817,36212,79479,79607,73892,99689,35446,27403,98387,42790,84057,80891,8505,84653,82294,2222,14406,17158,66672,17173,64356,10276,87444,6976,86109,192,17236,51317,22802,16735,76922,66975,90543,27353,83231,40298,7168,43664,82561,57250,41181,97739,81813,36025,81594,99673,14560,78953,14726,41217,25405,75966,63596,33921,31783,80850,29330,59010,83633,13878,71307,43863,5600,88124,20943,70377,57822,31653,99794,42252,25717,2307,67556,85830,39692,95113,56157,19490,96075,85993,82431,16020,14032,46652,74220,83510,82568,76028,9956,25278,14209,67960,98674,55236,25827,83642,89939,73760,32541,73295,72177,68198,7532,73447,13679,1191,93618,33813,42659,50966,28496,54385,54166,47961,66307,6511,43685,39362,25489,94913,68507,94495,74471,71363,4158,58453,6670,93747,61944,62340,49981,71055,64409,6878,5650,45302,30604,14478,62839,39696,67745,6545,36277,90043,93504,66233,895,86007,97460,63734,40402,47422,43624,82860,5490,3874,9929,79306,83668,35741,43904,74861,85420,40585,34092,37755,3332,10425,55738,93544,76686,91575,45298,94119,3665,56588,28790,61568,68510,5383,2712,3891,3624,78237,38602,90653,17408,16274,63932,57946,34964,58394,39837,64935,79903,78297,65290,55513,20155,92607,44898,50419,30049,83825,97682,88388,96003,52445,77384,5855,38712,62505,93624,26687,81656,61535,51382,10078,95007,54360,68147,21238,43789,77851,94197,78749,64753,38443,63245,79538,33663,5941,17467,86889,57304,32012,32051,93186,32628,29712,24309,48010,89661,47018,60711,13825,97657,4108,9395,31087,62954,14778,62485,92068,79935,67855,78384,72026,11569,50102,17919,99482,90346,80542,74140,58097,95439,24760,2086,79728,8533,12999,34445,99440,80323,40294,24950,48713,45093,20921,21799,19983,74535,27883,54048,8062,43980,43486,49669,62114,71416,93846,7965,55528,92116,16432,40861,80217,41356,91587,51281,91577,81198,24876,53232,82583,10667,27718,81610,89214,15669,37471,50217,99392,83085,54616,8777,48608,48344,21901,39019,32691,11109,5637,1637,60392,38666,28500,12632,99413,39902,68790,49317,90663,80204,32171,38071,36324,82912,48184,23347,8942,8986,99405,27642,7839,53125,8338,50637,55882,68391,16773,90940,38937,91079,21367,81208,47539,88102,85721,1479,55119,38059,4820,33294,9921,65232,78060,82867,82914,99005,36113,39506,84207,11246,52339,62080,15711,47086,51576,33195,50972,94331,29351,37932,79188,78844,99167,88084,29558,23543,84921,47448,41319,90706,69036,67877,68067,46583,55695,84283,86996,37559,75586,60090,58556,68438,10286,63054,48177,17925,61798,70025,23654,88022,53910,69634,94564,66040,92051,39919,75707,76826,18040,93580,40610,70592,72284,87649,54367,83849,94561,17709,57744,8990,6951,44905,70956,36482,96216,56886,6838,65419,94911,95156,11096,92013,74199,75814,90259,22526,57338,29492,78171,76512,20641,94388,45554,4155,35630,28832,5299,57954,77875,48208,604,71245,63261,44509,37788,60748],4203)"
   ]
  },
  {
   "cell_type": "code",
   "execution_count": null,
   "metadata": {
    "collapsed": true
   },
   "outputs": [],
   "source": [
    "class Solution(object):\n",
    "    def corpFlightBookings(self, bookings, n):\n",
    "        bookings = sorted(bookings, key=lambda k:k[0])\n",
    "        out = []\n",
    "        heap = []\n",
    "        curr_heap_sum = 0\n",
    "        start = 0\n",
    "        \n",
    "        for i in range(1, n+1):\n",
    "            j = start\n",
    "            while j < len(bookings):\n",
    "                if bookings[j][0] <= i:\n",
    "                    heapq.heappush(heap, (bookings[j][1], bookings[j][0], bookings[j][2]))\n",
    "                    curr_heap_sum += bookings[j][2]\n",
    "                else:\n",
    "                    break\n",
    "                    \n",
    "                j += 1\n",
    "            \n",
    "            start = j\n",
    "            \n",
    "            while len(heap) > 0 and heap[0][0] < i:\n",
    "                curr_heap_sum -= heap[0][2]\n",
    "                heapq.heappop(heap)\n",
    "            \n",
    "            out.append(curr_heap_sum)\n",
    "            \n",
    "        return out"
   ]
  },
  {
   "cell_type": "code",
   "execution_count": null,
   "metadata": {
    "collapsed": false
   },
   "outputs": [],
   "source": [
    "sol = Solution()\n",
    "sol.corpFlightBookings([[1,2,10],[2,3,20],[2,5,25]], 5)"
   ]
  },
  {
   "cell_type": "code",
   "execution_count": null,
   "metadata": {
    "collapsed": true
   },
   "outputs": [],
   "source": [
    "class Solution(object):\n",
    "    def prevPermOpt1(self, A):\n",
    "        heap = []\n",
    "        curr_min = float(\"Inf\")\n",
    "        \n",
    "        for i in reversed(range(len(A))):\n",
    "            if curr_min < A[i]:\n",
    "                while len(heap) > 0 and -heap[0][0] >= A[i]:\n",
    "                    heapq.heappop(heap)\n",
    "                \n",
    "                x = heapq.heappop(heap)\n",
    "                \n",
    "                if x is not None:\n",
    "                    temp = A[x[1]]\n",
    "                    A[x[1]] = A[i]\n",
    "                    A[i] = temp\n",
    "                    \n",
    "                    return A\n",
    "                \n",
    "            curr_min = min(curr_min, A[i])\n",
    "            heapq.heappush(heap, (-A[i], i))\n",
    "            \n",
    "        return A"
   ]
  },
  {
   "cell_type": "code",
   "execution_count": null,
   "metadata": {
    "collapsed": false
   },
   "outputs": [],
   "source": [
    "sol = Solution()\n",
    "sol.prevPermOpt1([3,2,1])"
   ]
  },
  {
   "cell_type": "code",
   "execution_count": null,
   "metadata": {
    "collapsed": true
   },
   "outputs": [],
   "source": [
    "class Solution(object):\n",
    "    def maxSatisfied(self, customers, grumpy, X):\n",
    "        total = 0\n",
    "        for i in range(len(customers)):\n",
    "            if grumpy[i] == 0:\n",
    "                total += customers[i]\n",
    "                \n",
    "        start, end, s1, s2 = 0, X-1, 0, 0\n",
    "        max_happy = 0\n",
    "        \n",
    "        while end < len(customers):\n",
    "            if start == 0:\n",
    "                for i in range(start, end+1):\n",
    "                    s1 += customers[i]\n",
    "                    \n",
    "                    if grumpy[i] == 0:\n",
    "                        s2 += customers[i]\n",
    "            else:\n",
    "                s1 -= customers[start-1]\n",
    "                s1 += customers[end]\n",
    "                \n",
    "                s2 -= customers[start-1] if grumpy[start-1] == 0 else 0\n",
    "                s2 += customers[end] if grumpy[end] == 0 else 0\n",
    "            \n",
    "            happy = total-s2+s1\n",
    "            max_happy = max(max_happy, happy)\n",
    "            \n",
    "            start += 1\n",
    "            end += 1\n",
    "            \n",
    "        return max_happy"
   ]
  },
  {
   "cell_type": "code",
   "execution_count": null,
   "metadata": {
    "collapsed": false
   },
   "outputs": [],
   "source": [
    "sol = Solution()\n",
    "sol.maxSatisfied([1,0,1,2,1,1,7,5], [0,1,0,1,0,1,0,1], 3)"
   ]
  },
  {
   "cell_type": "code",
   "execution_count": null,
   "metadata": {
    "collapsed": true
   },
   "outputs": [],
   "source": [
    "import heapq, collections\n",
    "\n",
    "class Solution(object):\n",
    "    def get_min_moves(self, stones):\n",
    "        min_cnts = float(\"Inf\")\n",
    "        \n",
    "        start, end = 0, 1\n",
    "        cnts = 1\n",
    "        while end < len(stones):\n",
    "            if stones[end] < stones[start]+len(stones):\n",
    "                cnts += 1\n",
    "                end += 1\n",
    "            else:\n",
    "                rem = len(stones)-cnts\n",
    "                if (rem == 1 and stones[end-1] ==  stones[start]+len(stones)-1) or rem != 1:\n",
    "                    min_cnts = min(min_cnts, rem)\n",
    "                    \n",
    "                start += 1\n",
    "                cnts -= 1\n",
    "                \n",
    "        rem = len(stones)-cnts\n",
    "        \n",
    "        if (rem == 1 and stones[end-1] ==  stones[start]+len(stones)-1) or rem != 1:\n",
    "            min_cnts = min(min_cnts, rem)\n",
    "                \n",
    "        return min_cnts\n",
    "    \n",
    "    \n",
    "    def get_max_moves(self, stones):\n",
    "        return max(sum([stones[i]-stones[i-1]-1 for i in range(2, len(stones))]), \n",
    "                   sum([stones[i+1]-stones[i]-1 for i in range(len(stones)-3, -1, -1)]))\n",
    "        \n",
    "    \n",
    "    def numMovesStonesII(self, stones):\n",
    "        stones = sorted(stones)\n",
    "        \n",
    "        a = self.get_min_moves(stones)\n",
    "        b = self.get_max_moves(stones)\n",
    "        \n",
    "        return [a, b]"
   ]
  },
  {
   "cell_type": "code",
   "execution_count": null,
   "metadata": {
    "collapsed": false
   },
   "outputs": [],
   "source": [
    "sol = Solution()\n",
    "sol.numMovesStonesII([3,4,100,150,151])"
   ]
  },
  {
   "cell_type": "code",
   "execution_count": null,
   "metadata": {
    "collapsed": true
   },
   "outputs": [],
   "source": [
    "class Solution(object):\n",
    "    def subarraysDivByK(self, A, K):\n",
    "        remainders = {}\n",
    "        cnt = 0\n",
    "        \n",
    "        for i in reversed(range(len(A))):\n",
    "            rem = A[i]%K\n",
    "            \n",
    "            new_remainders = {}\n",
    "            \n",
    "            if rem not in new_remainders:\n",
    "                new_remainders[rem] = 0\n",
    "            new_remainders[rem] += 1\n",
    "            \n",
    "            for m in remainders:\n",
    "                new_rem = (rem + m)%K\n",
    "                if new_rem not in new_remainders:\n",
    "                    new_remainders[new_rem] = 0\n",
    "                new_remainders[new_rem] += remainders[m]\n",
    "\n",
    "            remainders = dict(new_remainders)\n",
    "                    \n",
    "            cnt += remainders[0] if 0 in remainders else 0\n",
    "            \n",
    "            print i, rem\n",
    "            print remainders\n",
    "            print\n",
    "            \n",
    "        return cnt"
   ]
  },
  {
   "cell_type": "code",
   "execution_count": null,
   "metadata": {
    "collapsed": false
   },
   "outputs": [],
   "source": [
    "sol = Solution()\n",
    "sol.subarraysDivByK([4,5,0,-2,-3,1], 5)"
   ]
  },
  {
   "cell_type": "code",
   "execution_count": null,
   "metadata": {
    "collapsed": true
   },
   "outputs": [],
   "source": [
    "class Solution(object):\n",
    "    def subarraysDivByK(self, A, K):\n",
    "        s = 0\n",
    "        cache = {}\n",
    "        for i in range(len(A)):\n",
    "            s += A[i]\n",
    "            if s % K not in cache:\n",
    "                cache[s % K] = 0\n",
    "            cache[s % K] += 1\n",
    "        \n",
    "        cnts = 0\n",
    "        for m, u in cache.items():\n",
    "            if m == 0:\n",
    "                cnts += u*(u+1)/2\n",
    "            else:\n",
    "                cnts += u*(u-1)/2\n",
    "        \n",
    "        return cnts"
   ]
  },
  {
   "cell_type": "code",
   "execution_count": null,
   "metadata": {
    "collapsed": false
   },
   "outputs": [],
   "source": [
    "13 1 2 3 16"
   ]
  },
  {
   "cell_type": "code",
   "execution_count": null,
   "metadata": {
    "collapsed": true
   },
   "outputs": [],
   "source": [
    "class Solution(object):\n",
    "    def search(self, candidates, target, i, cache):\n",
    "        if target == candidates[i]:\n",
    "            return [[candidates[i]]]\n",
    "        \n",
    "        out = set()\n",
    "        for j in range(i+1, len(candidates)):\n",
    "            if target-candidates[i] > 0:\n",
    "                a = self.search(candidates, target-candidates[i], j, cache) if (target-candidates[i], j) not in cache else cache[(target-candidates[i], j)]\n",
    "                \n",
    "                if len(a) > 0:\n",
    "                    for x in a:\n",
    "                        out.add(tuple([candidates[i]] + x))\n",
    "            else:\n",
    "                break\n",
    "        \n",
    "        out = [list(x) for x in out]\n",
    "        \n",
    "        cache[(target, i)] = out\n",
    "        return out\n",
    "    \n",
    "    def combinationSum2(self, candidates, target):\n",
    "        candidates = sorted(candidates)\n",
    "        cache = {}\n",
    "        out = []\n",
    "        for i in range(len(candidates)):\n",
    "            if i == 0 or candidates[i] > candidates[i-1]:\n",
    "                out += self.search(candidates, target, i, cache)\n",
    "        return out"
   ]
  },
  {
   "cell_type": "code",
   "execution_count": null,
   "metadata": {
    "collapsed": false
   },
   "outputs": [],
   "source": [
    "sol = Solution()\n",
    "sol.combinationSum2([10,1,2,7,6,1,5], 8)"
   ]
  },
  {
   "cell_type": "code",
   "execution_count": null,
   "metadata": {
    "collapsed": true
   },
   "outputs": [],
   "source": [
    "class Solution(object):\n",
    "    def can_jump(self, nums, i, cache):\n",
    "        if i == len(nums)-1:\n",
    "            return True\n",
    "        \n",
    "        for j in range(1, nums[i]+1):\n",
    "            a = self.can_jump(nums, i+j, cache) if i+j not in cache else cache[i+j]\n",
    "            \n",
    "            if a:\n",
    "                cache[i] = True\n",
    "                return True\n",
    "        \n",
    "        cache[i] = False\n",
    "        return False\n",
    "    \n",
    "    def canJump(self, nums):\n",
    "        curr_max_dist = 0\n",
    "        \n",
    "        for i in range(len(nums)):\n",
    "            if i == 0:\n",
    "                curr_max_dist = max(curr_max_dist, i+nums[i])\n",
    "            else:\n",
    "                if curr_max_dist >= i:\n",
    "                    curr_max_dist = max(curr_max_dist, i+nums[i])\n",
    "            \n",
    "            if curr_max_dist >= len(nums)-1:\n",
    "                return True\n",
    "        \n",
    "        return False"
   ]
  },
  {
   "cell_type": "code",
   "execution_count": null,
   "metadata": {
    "collapsed": false
   },
   "outputs": [],
   "source": [
    "sol = Solution()\n",
    "sol.canJump([3,2,1,0,4])"
   ]
  },
  {
   "cell_type": "code",
   "execution_count": null,
   "metadata": {
    "collapsed": true
   },
   "outputs": [],
   "source": [
    "class Solution(object):\n",
    "    def spiralOrder(self, matrix):\n",
    "        i, j = 0, 0\n",
    "        m = 1\n",
    "        \n",
    "        out = []\n",
    "        while True:\n",
    "            \n",
    "            if m % 4 == 1 and 0 <= j < len(matrix[0])-m/4:\n",
    "                out.append(matrix[i][j])\n",
    "                j += 1\n",
    "                if j == len(matrix[0])-m/4:\n",
    "                    m += 1\n",
    "                    j -= 1\n",
    "                    i += 1\n",
    "            \n",
    "            elif m % 4 == 2 and 0 <= i < len(matrix)-m/4:\n",
    "                out.append(matrix[i][j])\n",
    "                i += 1\n",
    "                if i == len(matrix)-m/4:\n",
    "                    m += 1\n",
    "                    i -= 1\n",
    "                    j -= 1\n",
    "            \n",
    "            elif m % 4 == 3 and m/4-1 < j < len(matrix[0]):\n",
    "                out.append(matrix[i][j])\n",
    "                j -= 1\n",
    "                if j == m/4-1:\n",
    "                    m += 1\n",
    "                    j += 1\n",
    "                    i -= 1\n",
    "            \n",
    "            elif m % 4 == 0 and m/4-1 < i < len(matrix):\n",
    "                out.append(matrix[i][j])\n",
    "                i -= 1\n",
    "                if i == m/4-1:\n",
    "                    m += 1  \n",
    "                    i += 1\n",
    "                    j += 1\n",
    "            \n",
    "            else:\n",
    "                break\n",
    "        \n",
    "        return out"
   ]
  },
  {
   "cell_type": "code",
   "execution_count": null,
   "metadata": {
    "collapsed": false
   },
   "outputs": [],
   "source": [
    "sol = Solution()\n",
    "sol.spiralOrder([[3],[2]])"
   ]
  },
  {
   "cell_type": "code",
   "execution_count": null,
   "metadata": {
    "collapsed": true
   },
   "outputs": [],
   "source": [
    "import collections\n",
    "class Solution(object):\n",
    "    def merge(self, intervals):\n",
    "        intervals = sorted(intervals, key=lambda k:k[0])\n",
    "        print intervals\n",
    "        \n",
    "        intervals = collections.deque(intervals)\n",
    "        \n",
    "        i = 1\n",
    "        while i < len(intervals):\n",
    "            if intervals[i][0] <= intervals[i-1][1]:\n",
    "                a, b = intervals[i-1][0], max(intervals[i][1], intervals[i-1][1])\n",
    "                intervals.popleft()\n",
    "                intervals.popleft()\n",
    "                intervals.appendleft([a, b])\n",
    "            else:\n",
    "                i += 1\n",
    "        \n",
    "        return list(intervals)"
   ]
  },
  {
   "cell_type": "code",
   "execution_count": null,
   "metadata": {
    "collapsed": false
   },
   "outputs": [],
   "source": [
    "sol = Solution()\n",
    "sol.merge([[1,4],[0,2],[3,5]])"
   ]
  },
  {
   "cell_type": "code",
   "execution_count": null,
   "metadata": {
    "collapsed": true
   },
   "outputs": [],
   "source": [
    "class Solution(object):\n",
    "    def get_max(self, a, b):\n",
    "        if len(a) == len(b):\n",
    "            return a if a > b else b\n",
    "        return a if len(a) > len(b) else b\n",
    "    \n",
    "    def largestMultipleOfThree(self, digits):\n",
    "        digits = sorted(digits)[::-1]\n",
    "        \n",
    "        max_digits = ['', '', '']\n",
    "        \n",
    "        for i in range(len(digits)):\n",
    "            if i == 0:\n",
    "                max_digits[digits[i]%3] = str(digits[i])\n",
    "                \n",
    "            else:\n",
    "                r = digits[i] % 3\n",
    "                q = max_digits[:]\n",
    "                \n",
    "                if q[(3-r)%3] != '':\n",
    "                    max_digits[0] = self.get_max(max_digits[0], q[(3-r)%3] + str(digits[i]))\n",
    "                else:\n",
    "                    if r == 0:\n",
    "                        max_digits[0] = self.get_max(max_digits[0], str(digits[i]))\n",
    "                \n",
    "                if q[(4-r)%3] != '':\n",
    "                    max_digits[1] = self.get_max(max_digits[1], q[(4-r)%3] + str(digits[i]))\n",
    "                else:\n",
    "                    if r == 1:\n",
    "                        max_digits[1] = self.get_max(max_digits[1], str(digits[i]))\n",
    "                        \n",
    "                if q[(5-r)%3] != '':\n",
    "                    max_digits[2] = self.get_max(max_digits[2], q[(5-r)%3] + str(digits[i]))\n",
    "                else:\n",
    "                    if r == 2:\n",
    "                        max_digits[2] = self.get_max(max_digits[2], str(digits[i]))\n",
    "        \n",
    "        return max_digits[0]"
   ]
  },
  {
   "cell_type": "code",
   "execution_count": null,
   "metadata": {
    "collapsed": false
   },
   "outputs": [],
   "source": [
    "sol = Solution()\n",
    "sol.largestMultipleOfThree([1])"
   ]
  },
  {
   "cell_type": "code",
   "execution_count": null,
   "metadata": {
    "collapsed": false
   },
   "outputs": [],
   "source": [
    "class Solution(object):\n",
    "    def bsearch(self, nums, target):\n",
    "        left, right = 0, len(nums)-1\n",
    "        \n",
    "        while left <= right:\n",
    "            mid = int((left+right)/2)\n",
    "            \n",
    "            if nums[mid] == target:\n",
    "                return True\n",
    "            \n",
    "            if nums[mid] < target:\n",
    "                left = mid+1\n",
    "            else:\n",
    "                right = mid-1\n",
    "        \n",
    "        return False\n",
    "    \n",
    "    def search(self, nums, target):\n",
    "        left, right = 0, len(nums)-1\n",
    "        k = len(nums)-1\n",
    "        \n",
    "        while left <= right:\n",
    "            mid = int((left+right)/2)\n",
    "            \n",
    "            if mid == len(nums)-1 or nums[mid] > nums[mid+1]:\n",
    "                k = mid\n",
    "                break\n",
    "            \n",
    "            a = nums[mid] < nums[left]\n",
    "            b = nums[mid] == nums[left] and nums[mid:right+1] == [nums[mid]]*(right-mid+1)\n",
    "\n",
    "            if a or b:\n",
    "                right = mid-1\n",
    "            else:\n",
    "                left = mid+1\n",
    "                    \n",
    "        return self.bsearch(nums[:k+1], target) or self.bsearch(nums[k+1:], target)"
   ]
  },
  {
   "cell_type": "code",
   "execution_count": null,
   "metadata": {
    "collapsed": false
   },
   "outputs": [],
   "source": [
    "sol = Solution()\n",
    "sol.search([1,3,5], 5)"
   ]
  },
  {
   "cell_type": "code",
   "execution_count": null,
   "metadata": {
    "collapsed": true
   },
   "outputs": [],
   "source": [
    "class Solution(object):\n",
    "    def sortColors(self, nums):\n",
    "        pos_1, pos_2 = len(nums), len(nums)\n",
    "        \n",
    "        for i in range(len(nums)):\n",
    "            if i == 0:\n",
    "                if nums[i] == 1:\n",
    "                    pos_1 = i\n",
    "                elif nums[i] == 2:\n",
    "                    pos_2 = i\n",
    "                    \n",
    "            else:\n",
    "                if nums[i] == 0:\n",
    "                    if pos_1 != len(nums) and pos_2 != len(nums):\n",
    "                        nums[pos_1] = 0\n",
    "                        nums[pos_2] = 1\n",
    "                        nums[i] = 2\n",
    "                        \n",
    "                        pos_1 += 1\n",
    "                        pos_2 += 1\n",
    "                        \n",
    "                    elif pos_1 != len(nums):\n",
    "                        nums[pos_1] = 0\n",
    "                        nums[i] = 1\n",
    "                        pos_1 += 1\n",
    "                        \n",
    "                    elif pos_2 != len(nums):\n",
    "                        nums[pos_2] = 0\n",
    "                        nums[i] = 2\n",
    "                        pos_2 += 1\n",
    "                        \n",
    "                        \n",
    "                elif nums[i] == 1:\n",
    "                    if pos_2 != len(nums):\n",
    "                        nums[pos_2] = 1\n",
    "                        nums[i] = 2\n",
    "                        pos_1 = min(pos_1, pos_2)\n",
    "                        pos_2 += 1\n",
    "                        \n",
    "                    else:\n",
    "                        pos_1 = min(pos_1, i)\n",
    "                \n",
    "                else:\n",
    "                    pos_2 = min(pos_2, i)\n",
    "                    \n",
    "        return nums"
   ]
  },
  {
   "cell_type": "code",
   "execution_count": null,
   "metadata": {
    "collapsed": false
   },
   "outputs": [],
   "source": [
    "sol = Solution()\n",
    "sol.sortColors([0,1,2,2,1,0])"
   ]
  },
  {
   "cell_type": "code",
   "execution_count": null,
   "metadata": {
    "collapsed": true
   },
   "outputs": [],
   "source": [
    "class Solution(object):\n",
    "    def searchMatrix(self, matrix, target):\n",
    "        n, m = len(matrix), len(matrix[0])\n",
    "        \n",
    "        left, right = 0, n-1\n",
    "        col = m-1\n",
    "        last_true = -1\n",
    "        \n",
    "        while left <= right:\n",
    "            mid = int((left+right)/2)\n",
    "            \n",
    "            if matrix[mid][col] >= target:\n",
    "                last_true = mid\n",
    "                right = mid-1\n",
    "            else:\n",
    "                left = mid+1\n",
    "        \n",
    "        row = last_true\n",
    "        left, right = 0, m-1\n",
    "        \n",
    "        while left <= right:\n",
    "            mid = int((left+right)/2)\n",
    "            \n",
    "            if matrix[row][mid] == target:\n",
    "                return True\n",
    "            \n",
    "            if matrix[row][mid] < target:\n",
    "                left = mid+1\n",
    "            else:\n",
    "                right = mid-1\n",
    "                \n",
    "        return False"
   ]
  },
  {
   "cell_type": "code",
   "execution_count": null,
   "metadata": {
    "collapsed": false
   },
   "outputs": [],
   "source": [
    "sol = Solution()\n",
    "sol.searchMatrix([\n",
    "  [1,   3,  5,  7],\n",
    "  [10, 11, 16, 20],\n",
    "  [23, 30, 34, 50]\n",
    "], 35)"
   ]
  },
  {
   "cell_type": "code",
   "execution_count": null,
   "metadata": {
    "collapsed": true
   },
   "outputs": [],
   "source": [
    "class Solution(object):\n",
    "    def generateMatrix(self, n):\n",
    "        i, j = 0, 0\n",
    "        m = 1\n",
    "        \n",
    "        out = [[0]*n for k in range(n)]\n",
    "        u = 1\n",
    "        \n",
    "        while True:\n",
    "            if m % 4 == 1 and 0 <= j < n-m/4:\n",
    "                out[i][j] = u\n",
    "                j += 1\n",
    "                if j == n-m/4:\n",
    "                    m += 1\n",
    "                    j -= 1\n",
    "                    i += 1\n",
    "            \n",
    "            elif m % 4 == 2 and 0 <= i < n-m/4:\n",
    "                out[i][j] = u\n",
    "                i += 1\n",
    "                if i == n-m/4:\n",
    "                    m += 1\n",
    "                    i -= 1\n",
    "                    j -= 1\n",
    "            \n",
    "            elif m % 4 == 3 and m/4-1 < j < n:\n",
    "                out[i][j] = u\n",
    "                j -= 1\n",
    "                if j == m/4-1:\n",
    "                    m += 1\n",
    "                    j += 1\n",
    "                    i -= 1\n",
    "            \n",
    "            elif m % 4 == 0 and m/4-1 < i < n:\n",
    "                out[i][j] = u\n",
    "                i -= 1\n",
    "                if i == m/4-1:\n",
    "                    m += 1  \n",
    "                    i += 1\n",
    "                    j += 1\n",
    "            \n",
    "            else:\n",
    "                break\n",
    "            \n",
    "            u += 1\n",
    "        \n",
    "        return out"
   ]
  },
  {
   "cell_type": "code",
   "execution_count": null,
   "metadata": {
    "collapsed": false
   },
   "outputs": [],
   "source": [
    "sol = Solution()\n",
    "sol.generateMatrix(4)"
   ]
  },
  {
   "cell_type": "code",
   "execution_count": null,
   "metadata": {
    "collapsed": false
   },
   "outputs": [],
   "source": [
    "import heapq\n",
    "\n",
    "class Solution(object):\n",
    "    def isPossible(self, target):\n",
    "        n = len(target)\n",
    "        \n",
    "        if n == 1:\n",
    "            return target[0] == 1\n",
    "        \n",
    "        sums = sum(target)\n",
    "        target = [-x for x in target]\n",
    "        heapq.heapify(target)\n",
    "        \n",
    "        while len(target) > 0:\n",
    "            x = heapq.heappop(target)\n",
    "            x = -x\n",
    "            y = sums-x\n",
    "            \n",
    "            if x == 1:\n",
    "                return True\n",
    "            \n",
    "            k = (x-1)/y\n",
    "            \n",
    "            if k == 0:\n",
    "                return False\n",
    "            \n",
    "            heapq.heappush(target, -(x-k*y))\n",
    "            sums = x-y*(k-1)\n",
    "        \n",
    "        return True"
   ]
  },
  {
   "cell_type": "code",
   "execution_count": null,
   "metadata": {
    "collapsed": false
   },
   "outputs": [],
   "source": [
    "sol = Solution()\n",
    "sol.isPossible([5, 2])"
   ]
  },
  {
   "cell_type": "code",
   "execution_count": null,
   "metadata": {
    "collapsed": false
   },
   "outputs": [],
   "source": [
    "120*10**3"
   ]
  },
  {
   "cell_type": "code",
   "execution_count": null,
   "metadata": {
    "collapsed": false
   },
   "outputs": [],
   "source": [
    "120000/3600.0"
   ]
  },
  {
   "cell_type": "code",
   "execution_count": null,
   "metadata": {
    "collapsed": false
   },
   "outputs": [],
   "source": [
    "import math, numpy as np\n",
    "\n",
    "Z = np.random.randint(1, 10**5, (10**4, 2))\n",
    "pairs_n = list(zip(Z, range(len(Z))))\n",
    "    \n",
    "pairs_sorted_x = sorted(pairs_n, key=lambda k:k[0][0])\n",
    "pairs_sorted_y = sorted(pairs_n, key=lambda k:k[0][1])\n",
    "\n",
    "\n",
    "def recurse(left, right):\n",
    "    if left == right:\n",
    "        return float(\"Inf\"), pairs_sorted_x[left][1], pairs_sorted_x[left][1]\n",
    "    \n",
    "    if right-left == 1:\n",
    "        dist = abs(pairs_sorted_x[right][0][0]-pairs_sorted_x[left][0][0]) + abs(pairs_sorted_x[right][0][1]-pairs_sorted_x[left][0][1])\n",
    "        return dist, pairs_sorted_x[left][1], pairs_sorted_x[right][1]\n",
    "    \n",
    "    mid = int((left+right)/2)\n",
    "    \n",
    "    d1, i1, j1 = recurse(left, mid)\n",
    "    d2, i2, j2 = recurse(mid+1, right)\n",
    "    \n",
    "    d = min(d1, d2)\n",
    "    \n",
    "    h = pairs_sorted_x[mid][0][0]\n",
    "    \n",
    "    p, q = set(), set()\n",
    "    \n",
    "    for i in range(left, mid+1):\n",
    "        if h-pairs_sorted_x[i][0][0] <= d:\n",
    "            p.add(pairs_sorted_x[i][1])\n",
    "            \n",
    "    for i in range(mid+1, right+1):\n",
    "        if pairs_sorted_x[i][0][0]-h <= d:\n",
    "            q.add(pairs_sorted_x[i][1])\n",
    "            \n",
    "    p = [pairs_sorted_y[j] for j in range(len(pairs_sorted_y)) if pairs_sorted_y[j][1] in p]\n",
    "    q = [pairs_sorted_y[j] for j in range(len(pairs_sorted_y)) if pairs_sorted_y[j][1] in q]\n",
    "    \n",
    "    r = []\n",
    "    i, j = 0, 0\n",
    "    while i < len(p) and j < len(q):\n",
    "        if p[i][0][1] < q[j][0][1]:\n",
    "            r.append(p[i])\n",
    "            i += 1\n",
    "        else:\n",
    "            r.append(q[j])\n",
    "            j += 1\n",
    "    \n",
    "    while i < len(p):\n",
    "        r.append(p[i])\n",
    "        i += 1\n",
    "    \n",
    "    while j < len(q):\n",
    "        r.append(q[j])\n",
    "        j += 1\n",
    "    \n",
    "    min_dist = d\n",
    "    best_pair = None\n",
    "    \n",
    "    for i in range(len(r)-1):\n",
    "        for j in range(i+1, len(r)):\n",
    "            if abs(r[i][0][1]-r[j][0][1]) <= d:\n",
    "                dist = abs(r[i][0][0]-r[j][0][0]) + abs(r[i][0][1]-r[j][0][1])\n",
    "                if dist < min_dist:\n",
    "                    min_dist = dist\n",
    "                    best_pair = (r[i][1], r[j][1])\n",
    "            else:\n",
    "                break\n",
    "                \n",
    "    if min_dist == d1:\n",
    "        return min_dist, i1, j1\n",
    "    elif min_dist == d2:\n",
    "        return min_dist, i2, j2\n",
    "    else:\n",
    "        return min_dist, best_pair[0], best_pair[1]\n",
    "    \n",
    "print recurse(0, len(Z)-1)\n",
    "\n",
    "# def closest_pair(pairs):\n",
    "#     pairs = list(zip(pairs, range(len(pairs))))\n",
    "    \n",
    "#     pairs_sorted_x = sorted(pairs, key=lambda k:k[0][0])\n",
    "#     pairs_sorted_y = sorted(pairs, key=lambda k:k[0][1])\n",
    "    \n",
    "#     d, i, j = recurse(pairs_sorted_x, pairs_sorted_y, 0, len(pairs)-1)\n",
    "#     return d, i, j\n",
    "\n",
    "# def solution(X, Y):\n",
    "#     Z = list(zip(X, Y))\n",
    "#     d, i, j = closest_pair(Z)\n",
    "    \n",
    "#     return max(abs(Z[i][0]-Z[j][0]), abs(Z[i][1]-Z[j][1]))/2"
   ]
  },
  {
   "cell_type": "code",
   "execution_count": null,
   "metadata": {
    "collapsed": true
   },
   "outputs": [],
   "source": [
    "f = np.random.randint(1, 10**5, (10**4, 2))"
   ]
  },
  {
   "cell_type": "code",
   "execution_count": null,
   "metadata": {
    "collapsed": false
   },
   "outputs": [],
   "source": [
    "closest_pair(f)"
   ]
  },
  {
   "cell_type": "code",
   "execution_count": null,
   "metadata": {
    "collapsed": true
   },
   "outputs": [],
   "source": [
    "from sklearn.neighbors import KDTree\n",
    "        \n",
    "def solution(X, Y):\n",
    "    Z = [[x, y] for x, y in list(zip(X, Y))]\n",
    "    \n",
    "    tree = KDTree(Z, leaf_size=50)\n",
    "    min_d = float(\"Inf\")\n",
    "    \n",
    "    for i in range(len(X)):\n",
    "        _, ind = tree.query(Z[i:i+1], k=2)\n",
    "        ind = ind[0][1]\n",
    "        x1, y1 = X[i], Y[i]\n",
    "        x2, y2 = X[ind], Y[ind]\n",
    "        min_d = min(min_d, max(abs(x1-x2), abs(y1-y2))/2)\n",
    "    \n",
    "    return min_d"
   ]
  },
  {
   "cell_type": "code",
   "execution_count": null,
   "metadata": {
    "collapsed": false
   },
   "outputs": [],
   "source": [
    "solution([10, 20, 100], [10, 20, 100])"
   ]
  },
  {
   "cell_type": "code",
   "execution_count": null,
   "metadata": {
    "collapsed": true
   },
   "outputs": [],
   "source": [
    "import math, heapq, sys\n",
    "sys.setrecursionlimit(10**9)\n",
    "\n",
    "def power(n, b, power_cache):\n",
    "    if (n, b) in power_cache:\n",
    "        return power_cache[(n, b)]\n",
    "    \n",
    "    m = n\n",
    "    cnt = 0\n",
    "    while n % b == 0:\n",
    "        cnt += 1\n",
    "        n /= b\n",
    "        if (n, b) in power_cache:\n",
    "            cnt += power_cache[(n, b)]\n",
    "            break\n",
    "    \n",
    "    power_cache[(m, b)] = cnt\n",
    "    return cnt\n",
    "\n",
    "def dfs(A, i, j, n, cache, power_cache):\n",
    "    if A[i][j] == 0:\n",
    "        return [[float(\"Inf\"), float(\"Inf\")], [float(\"Inf\"), float(\"Inf\")]]\n",
    "    \n",
    "    a = power(A[i][j], 2, power_cache)\n",
    "    b = power(A[i][j], 5, power_cache)\n",
    "    \n",
    "    if i == n-1 and j == n-1:\n",
    "        cache[(i, j)] = [[a, b], [a, b]]\n",
    "        return [[a, b], [a, b]]\n",
    "    \n",
    "    if i+1 < n:\n",
    "        u = dfs(A, i+1, j, n, cache, power_cache) if (i+1, j) not in cache else cache[(i+1, j)]\n",
    "    else:\n",
    "        u = [[float(\"Inf\"), float(\"Inf\")], [float(\"Inf\"), float(\"Inf\")]]\n",
    "        \n",
    "    if j+1 < n:\n",
    "        v = dfs(A, i, j+1, n, cache, power_cache) if (i, j+1) not in cache else cache[(i, j+1)]\n",
    "    else:\n",
    "        v = [[float(\"Inf\"), float(\"Inf\")], [float(\"Inf\"), float(\"Inf\")]]\n",
    "        \n",
    "    u = [[u[0][0]+a, u[0][1]+b], [u[1][0]+a, u[1][1]+b]]\n",
    "    v = [[v[0][0]+a, v[0][1]+b], [v[1][0]+a, v[1][1]+b]]\n",
    "    \n",
    "    p = sorted(u+v, key=lambda k:(k[0], k[1]))\n",
    "    q = sorted(u+v, key=lambda k:(k[1], k[0]))\n",
    "        \n",
    "    cache[(i, j)] = [p[0], q[0]]\n",
    "    \n",
    "    return cache[(i, j)]\n",
    "        \n",
    "\n",
    "def solution(A):\n",
    "    if A[0][0] == 0:\n",
    "        return 1\n",
    "    \n",
    "    flag = False\n",
    "    for i in range(len(A)):\n",
    "        for j in range(len(A)):\n",
    "            if A[i][j] == 0:\n",
    "                flag = True\n",
    "                break\n",
    "    \n",
    "    power_cache = {}\n",
    "    \n",
    "    a = power(A[0][0], 2, power_cache)\n",
    "    b = power(A[0][0], 5, power_cache)\n",
    "    \n",
    "    heap = [(min(a, b), [a, b], 0, 0)]\n",
    "    cache = {(0, 0):min(a, b)}\n",
    "    min_cost = float(\"Inf\")\n",
    "    \n",
    "    while len(heap) > 0:\n",
    "        cost, u, i, j = heapq.heappop(heap)\n",
    "        \n",
    "        if (i, j) == (len(A)-1, len(A)-1):\n",
    "            min_cost = min(min_cost, cost)\n",
    "            \n",
    "        elif cost < min_cost:\n",
    "            if i+1 < len(A) and A[i+1][j] != 0:\n",
    "                \n",
    "                a = power(A[i+1][j], 2, power_cache)\n",
    "                b = power(A[i+1][j], 5, power_cache)\n",
    "                \n",
    "                x, y = u[0]+a, u[1]+b\n",
    "                \n",
    "                new_cost = min(x, y)\n",
    "                \n",
    "                if (i+1, j) not in cache or cache[(i+1, j)] > new_cost:\n",
    "                    heapq.heappush(heap, (new_cost, [x, y], i+1, j))\n",
    "                    cache[(i+1, j)] = new_cost\n",
    "            \n",
    "            if j+1 < len(A) and A[i][j+1] != 0:\n",
    "                \n",
    "                a = power(A[i][j+1], 2, power_cache)\n",
    "                b = power(A[i][j+1], 5, power_cache)\n",
    "                \n",
    "                x, y = u[0]+a, u[1]+b\n",
    "                \n",
    "                new_cost = min(x, y)\n",
    "                \n",
    "                if (i, j+1) not in cache or cache[(i, j+1)] > new_cost:\n",
    "                    heapq.heappush(heap, (new_cost, [x, y], i, j+1))\n",
    "                    cache[(i, j+1)] = new_cost\n",
    "    \n",
    "#     u = dfs(A, 0, 0, len(A), {}, {})\n",
    "#     min_cost = min(min(u[0]), min(u[1]))\n",
    "    \n",
    "    return min(1, min_cost) if flag else min_cost"
   ]
  },
  {
   "cell_type": "code",
   "execution_count": null,
   "metadata": {
    "collapsed": true
   },
   "outputs": [],
   "source": [
    "import numpy as np\n",
    "f = np.random.randint(2, 10**9, (500, 500))*5"
   ]
  },
  {
   "cell_type": "code",
   "execution_count": null,
   "metadata": {
    "collapsed": false
   },
   "outputs": [],
   "source": [
    "solution(f)"
   ]
  },
  {
   "cell_type": "code",
   "execution_count": null,
   "metadata": {
    "collapsed": false
   },
   "outputs": [],
   "source": [
    "power(80,2)"
   ]
  },
  {
   "cell_type": "code",
   "execution_count": null,
   "metadata": {
    "collapsed": false
   },
   "outputs": [],
   "source": [
    "[5, 2] [5, 3] [6, 4]"
   ]
  },
  {
   "cell_type": "code",
   "execution_count": null,
   "metadata": {
    "collapsed": false
   },
   "outputs": [],
   "source": [
    "125*20"
   ]
  },
  {
   "cell_type": "code",
   "execution_count": null,
   "metadata": {
    "collapsed": false
   },
   "outputs": [],
   "source": [
    "round(math.log(100000000000, 10))-math.log(100000000000, 10)"
   ]
  },
  {
   "cell_type": "code",
   "execution_count": null,
   "metadata": {
    "collapsed": false
   },
   "outputs": [],
   "source": [
    "math.log(160, 2)"
   ]
  },
  {
   "cell_type": "code",
   "execution_count": null,
   "metadata": {
    "collapsed": false
   },
   "outputs": [],
   "source": [
    "2**6"
   ]
  },
  {
   "cell_type": "code",
   "execution_count": null,
   "metadata": {
    "collapsed": false
   },
   "outputs": [],
   "source": [
    "160/32.0"
   ]
  },
  {
   "cell_type": "code",
   "execution_count": null,
   "metadata": {
    "collapsed": true
   },
   "outputs": [],
   "source": [
    "def solution(N, Q, B, C):\n",
    "    P = list(zip(B, C, range(len(B))))\n",
    "    P = sorted(P, key=lambda k:(k[0], k[1], k[2]))\n",
    "    \n",
    "    min_cnt = float(\"Inf\")\n",
    "    curr_cnt = 1\n",
    "    \n",
    "    if curr_cnt == Q:\n",
    "        min_cnt = min(curr_cnt, P[0][2])\n",
    "    \n",
    "    for i in range(1, len(P)):\n",
    "        if P[i][0] == P[i-1][0] and P[i][1] == P[i-1][1]:\n",
    "            curr_cnt += 1\n",
    "        else:\n",
    "            curr_cnt = 1\n",
    "        \n",
    "        if curr_cnt == Q:\n",
    "            min_cnt = min(min_cnt, P[i][2])\n",
    "    \n",
    "    if curr_cnt == Q:\n",
    "        min_cnt = min(min_cnt, P[len(P)-1][2])\n",
    "    \n",
    "    return min_cnt if min_cnt != float(\"Inf\") else -1"
   ]
  },
  {
   "cell_type": "code",
   "execution_count": null,
   "metadata": {
    "collapsed": false
   },
   "outputs": [],
   "source": [
    "solution(3, 2, [1, 2, 0, 1, 1, 0, 0, 1], [0, 3, 0, 2, 0, 3, 0, 0])"
   ]
  },
  {
   "cell_type": "code",
   "execution_count": null,
   "metadata": {
    "collapsed": true
   },
   "outputs": [],
   "source": [
    "[0, 0, 2, 1, 8, 8, 2, 0]\n",
    "[8, 5, 2, 4, 0, 0, 0, 2]\n",
    "\n",
    "[8, 0, 2, 1, 0, 8, 2, 0] - 16\n",
    "[8, 0, 2, 9, 0, 0, 2, 0] - 8\n",
    "[8, 5, 2, 4, 0, 0, 2, 0] - 5\n",
    "[8, 5, 2, 4, 0, 0, 0, 2] - 2\n",
    "    "
   ]
  },
  {
   "cell_type": "code",
   "execution_count": null,
   "metadata": {
    "collapsed": true
   },
   "outputs": [],
   "source": [
    "import heapq\n",
    "\n",
    "def solution(A, B):\n",
    "    heap = list(zip(A, range(len(A))))\n",
    "    heap = [(-x, y, 0) for x, y in heap]\n",
    "    heapq.heapify(heap)\n",
    "    \n",
    "    cache = [float(\"Inf\")]*len(A)\n",
    "    \n",
    "    visited = set()\n",
    "    min_steps = float(\"Inf\")\n",
    "    \n",
    "    while len(heap) > 0:\n",
    "        print heap\n",
    "        v, i, steps = heapq.heappop(heap)\n",
    "        \n",
    "        if A[i] > B[i]:\n",
    "            visited.add(i)\n",
    "            new_steps = steps+A[i]-B[i]\n",
    "            \n",
    "            if i-2 >= 0 and i-2 not in visited:\n",
    "                if cache[i-2] > new_steps:\n",
    "                    heapq.heappush(heap, (-(A[i-2]+A[i]-B[i]), i-2, new_steps))\n",
    "                    cache[i-2] = new_steps\n",
    "                \n",
    "            if i-1 >= 0 and i-1 not in visited:\n",
    "                if cache[i-1] > new_steps:\n",
    "                    heapq.heappush(heap, (-(A[i-1]+A[i]-B[i]), i-1, new_steps))\n",
    "                    cache[i-1] = new_steps\n",
    "                \n",
    "            if i+1 < len(A) and i+1 not in visited:\n",
    "                if cache[i+1] > new_steps:\n",
    "                    heapq.heappush(heap, (-(A[i+1]+A[i]-B[i]), i+1, new_steps))\n",
    "                    cache[i+1] = new_steps\n",
    "                \n",
    "            if i+2 < len(A) and i+2 not in visited:\n",
    "                if cache[i+2] > new_steps:\n",
    "                    heapq.heappush(heap, (-(A[i+2]+A[i]-B[i]), i+2, new_steps))\n",
    "                    cache[i+2] = new_steps\n",
    "    \n",
    "    print cache\n",
    "    y = [x for x in cache if x != float(\"Inf\")]\n",
    "    if len(y) == 0:\n",
    "        return -1\n",
    "    return max(y)"
   ]
  },
  {
   "cell_type": "code",
   "execution_count": null,
   "metadata": {
    "collapsed": false
   },
   "outputs": [],
   "source": [
    "solution([0, 0, 2, 1, 8, 8, 2, 0], [8, 5, 2, 4, 0, 0, 0, 2])"
   ]
  },
  {
   "cell_type": "code",
   "execution_count": null,
   "metadata": {
    "collapsed": true
   },
   "outputs": [],
   "source": [
    "A = [1, 1, 2, 4, 3], B = [2, 2, 2, 3, 2]"
   ]
  },
  {
   "cell_type": "code",
   "execution_count": null,
   "metadata": {
    "collapsed": true
   },
   "outputs": [],
   "source": [
    "[0, 0, 2, 1, 8, 8, 2, 0], [8, 5, 2, 4, 0, 0, 0, 2]\n",
    "\n",
    "(-8, 0) (-3, 1) (8, 4) (8, 5)\n",
    "\n",
    "0 4\n",
    "1 5\n",
    "\n",
    "0, 1\n",
    "3, 4\n",
    "\n",
    "0 1   3 4\n",
    "\n",
    "\n"
   ]
  },
  {
   "cell_type": "code",
   "execution_count": null,
   "metadata": {
    "collapsed": true
   },
   "outputs": [],
   "source": [
    "def is_balanced(S, k):\n",
    "    start, end = 0, k-1\n",
    "    m = {}\n",
    "    while end < len(S):\n",
    "        if start == 0:\n",
    "            for i in range(start, end+1):\n",
    "                if S[i] not in m:\n",
    "                    m[S[i]] = 0\n",
    "                m[S[i]] += 1\n",
    "        else:\n",
    "            m[S[start-1]] -= 1\n",
    "            \n",
    "            if S[end] not in m:\n",
    "                m[S[end]] = 0\n",
    "            m[S[end]] += 1\n",
    "            \n",
    "            if m[S[start-1]] == 0:\n",
    "                m.pop(S[start-1])\n",
    "            \n",
    "        if len(m) == 2:\n",
    "            h = [y for x, y in m.items()]\n",
    "            if h[0] == h[1]:\n",
    "                return True\n",
    "        \n",
    "        start += 1\n",
    "        end += 1\n",
    "\n",
    "    return False\n",
    "            \n",
    "def solution(S):\n",
    "    g = range(2, len(S)+1, 2)\n",
    "    left, right = 0, len(g)-1\n",
    "    last_true = 0\n",
    "    \n",
    "    while left <= right:\n",
    "        mid = int((left+right)/2)\n",
    "        f = is_balanced(S, g[mid])\n",
    "        if f:\n",
    "            last_true = g[mid]\n",
    "            left = mid+1\n",
    "        else:\n",
    "            right = mid-1\n",
    "            \n",
    "    return last_true\n",
    "\n",
    "def solution2(S):\n",
    "    max_len = 0\n",
    "    \n",
    "    for i in range(len(S)-1):\n",
    "        m = {S[i]:1}\n",
    "        for j in range(i+1, len(S)):\n",
    "            if S[j] not in m:\n",
    "                m[S[j]] = 0\n",
    "            m[S[j]] += 1\n",
    "            \n",
    "            if len(m) > 2:\n",
    "                break\n",
    "            \n",
    "            if len(m) == 2:\n",
    "                h = [y for x, y in m.items()]\n",
    "                if h[0] == h[1]:\n",
    "                    max_len = max(max_len, 2*h[0])\n",
    "    \n",
    "    return max_len"
   ]
  },
  {
   "cell_type": "code",
   "execution_count": null,
   "metadata": {
    "collapsed": false
   },
   "outputs": [],
   "source": [
    "solution2(\"abababa\")"
   ]
  },
  {
   "cell_type": "code",
   "execution_count": null,
   "metadata": {
    "collapsed": false
   },
   "outputs": [],
   "source": [
    "import string \n",
    "import random \n",
    "  \n",
    "# initializing size of string  \n",
    "N = 100000\n",
    "  \n",
    "# using random.choices() \n",
    "# generating random strings  \n",
    "res = ''.join(random.choice(string.ascii_lowercase) for _ in range(N))"
   ]
  },
  {
   "cell_type": "code",
   "execution_count": null,
   "metadata": {
    "collapsed": false
   },
   "outputs": [],
   "source": [
    "for i in range(100):\n",
    "    n = 20\n",
    "    res = ''.join(random.choice(['a', 'b']) for _ in range(n))\n",
    "    a = solution(res)\n",
    "    b = solution2(res)\n",
    "    if a != b:\n",
    "        print res\n",
    "        print a\n",
    "        print b \n",
    "        print"
   ]
  },
  {
   "cell_type": "code",
   "execution_count": null,
   "metadata": {
    "collapsed": true
   },
   "outputs": [],
   "source": [
    "def get_max_len(S, start, end, a, b):\n",
    "    m = {a:0, b:0}\n",
    "    max_len = -float(\"Inf\")\n",
    "    last_pos  = {0:end+1}\n",
    "    \n",
    "    for i in range(end, start-1, -1):\n",
    "        m[S[i]] += 1\n",
    "        u = m[a]-m[b]\n",
    "        \n",
    "        if u in last_pos:\n",
    "            max_len = max(max_len, last_pos[u]-i)\n",
    "        else:\n",
    "            last_pos[u] = i\n",
    "            \n",
    "    return max_len\n",
    "\n",
    "def solution(S):\n",
    "    m = {}\n",
    "    max_len = 0\n",
    "    end = len(S)-1\n",
    "    \n",
    "    for i in range(len(S)-1, -1, -1):\n",
    "        if i == len(S)-1:\n",
    "            m[S[i]] = 1\n",
    "            \n",
    "        else:\n",
    "            if S[i] not in m and len(m) == 2:\n",
    "                a, b = [x for x in m]\n",
    "                u = get_max_len(S, i+1, end, a, b)\n",
    "                max_len = max(max_len, u)\n",
    "                \n",
    "                while len(m) > 1:\n",
    "                    m[S[end]] -= 1\n",
    "                    if m[S[end]] == 0:\n",
    "                        m.pop(S[end])\n",
    "                    end -= 1\n",
    "                \n",
    "            if S[i] not in m:\n",
    "                m[S[i]] = 0\n",
    "            m[S[i]] += 1\n",
    "    \n",
    "    if len(m) == 2:\n",
    "        a, b = [x for x in m]\n",
    "        u = get_max_len(S, 0, end, a, b)\n",
    "        max_len = max(max_len, u)\n",
    "            \n",
    "    return max_len\n",
    "\n",
    "def solution2(S):\n",
    "    max_len = 0\n",
    "    \n",
    "    for i in range(len(S)-1):\n",
    "        m = {S[i]:1}\n",
    "        for j in range(i+1, len(S)):\n",
    "            if S[j] not in m:\n",
    "                m[S[j]] = 0\n",
    "            m[S[j]] += 1\n",
    "            \n",
    "            if len(m) > 2:\n",
    "                break\n",
    "            \n",
    "            if len(m) == 2:\n",
    "                h = [y for x, y in m.items()]\n",
    "                if h[0] == h[1]:\n",
    "                    max_len = max(max_len, 2*h[0])\n",
    "    \n",
    "    return max_len"
   ]
  },
  {
   "cell_type": "code",
   "execution_count": null,
   "metadata": {
    "collapsed": false
   },
   "outputs": [],
   "source": [
    "solution(\"abababbbaabbabbbaaba\")"
   ]
  },
  {
   "cell_type": "code",
   "execution_count": null,
   "metadata": {
    "collapsed": false
   },
   "outputs": [],
   "source": [
    "for i in range(1000):\n",
    "    n = 100\n",
    "    res = ''.join(random.choice(['a', 'b']) for _ in range(n))\n",
    "    a = solution(res)\n",
    "    b = solution2(res)\n",
    "    if a != b:\n",
    "        print res\n",
    "        print a\n",
    "        print b \n",
    "        print"
   ]
  },
  {
   "cell_type": "code",
   "execution_count": null,
   "metadata": {
    "collapsed": false
   },
   "outputs": [],
   "source": [
    "[1, 1, 2, 4, 3, 2, 1]\n",
    "[2, 1, 2, 3, 2, 2, 2]"
   ]
  },
  {
   "cell_type": "code",
   "execution_count": null,
   "metadata": {
    "collapsed": true
   },
   "outputs": [],
   "source": [
    "(-1, 0) (-1, 6)\n",
    "(+1, 3) (+1, 4)"
   ]
  },
  {
   "cell_type": "code",
   "execution_count": null,
   "metadata": {
    "collapsed": true
   },
   "outputs": [],
   "source": [
    "import math, sys, heapq\n",
    "sys.setrecursionlimit(10**9)\n",
    "\n",
    "def dfs(neg_diff_arr, pos_diff_arr):\n",
    "    print neg_diff_arr\n",
    "    print pos_diff_arr\n",
    "    print\n",
    "    \n",
    "    min_cost = float(\"Inf\")\n",
    "    \n",
    "    for i in range(len(neg_diff_arr)):\n",
    "        for j in range(len(pos_diff_arr)):\n",
    "            a, b = neg_diff_arr[i], pos_diff_arr[j]\n",
    "            r = int(math.ceil(abs(a[1]-b[1])/2.0))\n",
    "            \n",
    "            if abs(a[0]) == abs(b[0]):\n",
    "                p = neg_diff_arr[:i] + neg_diff_arr[i+1:]\n",
    "                q = pos_diff_arr[:j] + pos_diff_arr[j+1:]\n",
    "                \n",
    "                if len(p) == 0 or len(q) == 0:\n",
    "                    cost = 0\n",
    "                else:\n",
    "                    cost = dfs(p, q)\n",
    "                    \n",
    "                min_cost = min(min_cost, cost+r*abs(a[0]))\n",
    "                \n",
    "            elif abs(a[0]) < abs(b[0]):\n",
    "                p = neg_diff_arr[:i] + neg_diff_arr[i+1:]\n",
    "                q = pos_diff_arr[:j] + [(b[0]+a[0], pos_diff_arr[j][1])] + pos_diff_arr[j+1:]\n",
    "                \n",
    "                if len(p) == 0 or len(q) == 0:\n",
    "                    cost = 0\n",
    "                else:\n",
    "                    cost = dfs(p, q)\n",
    "                    \n",
    "                min_cost = min(min_cost, cost+r*abs(a[0]))\n",
    "            \n",
    "            else:\n",
    "                p = neg_diff_arr[:i] + [(b[0]+a[0], neg_diff_arr[i][1])] + neg_diff_arr[i+1:]\n",
    "                q = pos_diff_arr[:j] + pos_diff_arr[j+1:]\n",
    "                \n",
    "                if len(p) == 0 or len(q) == 0:\n",
    "                    cost = 0\n",
    "                else:\n",
    "                    cost = dfs(p, q)\n",
    "                    \n",
    "                min_cost = min(min_cost, cost+r*abs(b[0]))\n",
    "                \n",
    "    return min_cost\n",
    "\n",
    "def solution(A, B):\n",
    "    if sum(A) != sum(B):\n",
    "        return -1\n",
    "    \n",
    "    heap = [(-(A[i]-B[i]), 0, i) for i in range(len(A))]\n",
    "    heapq.heapify(heap)\n",
    "    \n",
    "    cache = {heap[0][2]:heap[0][1]}\n",
    "    \n",
    "    while len(heap) > 0:\n",
    "        u, cost, i = heapq.heappop(heap)\n",
    "        u = -u\n",
    "        \n",
    "        if i-2 >= 0 and u + A[i-2] - B[i-2] > 0:\n",
    "            new_cost = cost + u + A[i-2] - B[i-2]\n",
    "            \n",
    "            if i-2 not in cache or cache[i-2] > new_cost:\n",
    "                heapq.heappush(heap, (-(u + A[i-2] - B[i-2]), new_cost, i-2))\n",
    "                cache[i-2] = new_cost\n",
    "        \n",
    "        if i-1 >= 0 and u + A[i-1] - B[i-1] > 0:\n",
    "            new_cost = cost + u + A[i-1] - B[i-1]\n",
    "            \n",
    "            if i-1 not in cache or cache[i-1] > new_cost:\n",
    "                heapq.heappush(heap, (-(u + A[i-1] - B[i-1]), new_cost, i-1))\n",
    "                cache[i-1] = new_cost\n",
    "                \n",
    "        if i+1 < len(A) and u + A[i+1] - B[i+1] > 0:\n",
    "            new_cost = cost + u + A[i+1] - B[i+1]\n",
    "            \n",
    "            if i+1 not in cache or cache[i+1] > new_cost:\n",
    "                heapq.heappush(heap, (-(u + A[i+1] - B[i+1]), new_cost, i+1))\n",
    "                cache[i+1] = new_cost\n",
    "                \n",
    "        if i+2 < len(A) and u + A[i+2] - B[i+2] > 0:\n",
    "            new_cost = cost + u + A[i+2] - B[i+2]\n",
    "            \n",
    "            if i+2 not in cache or cache[i+2] > new_cost:\n",
    "                heapq.heappush(heap, (-(u + A[i+2] - B[i+2]), new_cost, i+2))\n",
    "                cache[i+2] = new_cost\n",
    "                \n",
    "    return cache"
   ]
  },
  {
   "cell_type": "code",
   "execution_count": null,
   "metadata": {
    "collapsed": true
   },
   "outputs": [],
   "source": [
    "import numpy as np\n",
    "a = np.random.randint(0, 100, 10)\n",
    "b = np.array(a)\n",
    "c = np.random.randint(0, 5, 5)\n",
    "b[:5] = b[:5]-c\n",
    "b[5:] = b[5:]+c"
   ]
  },
  {
   "cell_type": "code",
   "execution_count": null,
   "metadata": {
    "collapsed": false
   },
   "outputs": [],
   "source": [
    "a"
   ]
  },
  {
   "cell_type": "code",
   "execution_count": null,
   "metadata": {
    "collapsed": false
   },
   "outputs": [],
   "source": [
    "b"
   ]
  },
  {
   "cell_type": "code",
   "execution_count": null,
   "metadata": {
    "collapsed": true
   },
   "outputs": [],
   "source": [
    "A = [0, 0, 2, 1, 8, 8, 2, 0], \n",
    "B = [8, 5, 2, 4, 0, 0, 0, 2]"
   ]
  },
  {
   "cell_type": "code",
   "execution_count": null,
   "metadata": {
    "collapsed": false
   },
   "outputs": [],
   "source": [
    "solution([10**9, 10**9, 10**9, 0, 0, 0], [0, 0, 0, 10**9, 10**9, 10**9])"
   ]
  },
  {
   "cell_type": "code",
   "execution_count": null,
   "metadata": {
    "collapsed": true
   },
   "outputs": [],
   "source": [
    "0 1 2 3 4 5\n",
    "6 7 8 9 10 11\n",
    "\n",
    "9 4 0\n",
    "3 2 8"
   ]
  },
  {
   "cell_type": "code",
   "execution_count": null,
   "metadata": {
    "collapsed": true
   },
   "outputs": [],
   "source": [
    "def solution(A, B):\n",
    "    d = 1\n",
    "    cost = 0\n",
    "    while True:\n",
    "        for i in range(len(A)):\n",
    "            if A[i]-B[i] > 0:\n",
    "                if i-2 >= 0 and B[i-2] > A[i-2]:\n",
    "                    u = min(A[i]-B[i], B[i-2]-A[i-2])\n",
    "                    \n",
    "                    if u == A[i] - B[i]:\n",
    "                        A[i] = B[i]\n",
    "                        A[i-2] += A[i] - B[i]\n",
    "                    else:\n",
    "                        A[i-2] = B[i-2]\n",
    "                        A[i] -= B[i-2]-A[i-2]\n",
    "                \n",
    "                if i+2 < len(A) and B[i+2] > A[i+2]:\n",
    "                    u = min(A[i]-B[i], B[i+2]-A[i+2])\n",
    "                    \n",
    "                    if u == A[i] - B[i]:\n",
    "                        A[i] = B[i]\n",
    "                        A[i+2] += A[i] - B[i]\n",
    "                    else:\n",
    "                        A[i+2] = B[i+2]\n",
    "                        A[i] -= B[i+2]-A[i+2]\n",
    "                \n",
    "                if i-1 >= 0 and B[i-1] > A[i-1]:\n",
    "                    u = min(A[i]-B[i], B[i-1]-A[i-1])\n",
    "                    \n",
    "                    if u == A[i] - B[i]:\n",
    "                        A[i] = B[i]\n",
    "                        A[i-1] += A[i] - B[i]\n",
    "                    else:\n",
    "                        A[i-1] = B[i-1]\n",
    "                        A[i] -= B[i-1]-A[i-1]\n",
    "                \n",
    "                if i+1 < len(A) and B[i+1] > A[i+1]:\n",
    "                    u = min(A[i]-B[i], B[i+1]-A[i+1])\n",
    "                    \n",
    "                    if u == A[i] - B[i]:\n",
    "                        A[i] = B[i]\n",
    "                        A[i+1] += A[i] - B[i]\n",
    "                    else:\n",
    "                        A[i+1] = B[i+1]\n",
    "                        A[i] -= B[i+1]-A[i+1]"
   ]
  },
  {
   "cell_type": "code",
   "execution_count": null,
   "metadata": {
    "collapsed": false
   },
   "outputs": [],
   "source": [
    "import collections\n",
    "\n",
    "def solution(A, B):\n",
    "    cache, excess = {}, {}\n",
    "    \n",
    "    for i in range(len(A)):\n",
    "        if A[i] > B[i]:\n",
    "            queue = collections.deque([(A[i]-B[i], 0, i)])\n",
    "            \n",
    "            cache[i] = A[i]-B[i]\n",
    "            excess[i] = A[i]-B[i]\n",
    "            \n",
    "            while len(queue) > 0:\n",
    "                x, u, j = queue.popleft()\n",
    "                \n",
    "                if x > 0:\n",
    "                    if j-2 >= 0:\n",
    "                        y = x + A[j-2] - B[j-2]\n",
    "                        v = u + x\n",
    "                        if j-2 not in cache or cache[j-2] > v:\n",
    "                            queue.append((y, v, j-2))\n",
    "                            cache[j-2] = v\n",
    "                            excess[j-2] = y\n",
    "                    \n",
    "                    if j-1 >= 0:\n",
    "                        y = x + A[j-1] - B[j-1]\n",
    "                        v = u + x\n",
    "                        if j-1 not in cache or cache[j-1] > v:\n",
    "                            queue.append((y, v, j-1))\n",
    "                            cache[j-1] = v\n",
    "                            excess[j-1] = y\n",
    "                    \n",
    "                    if j+1 < len(A):\n",
    "                        y = x + A[j+1] - B[j+1]\n",
    "                        v = u + x\n",
    "                        if j+1 not in cache or cache[j+1] > v:\n",
    "                            queue.append((y, v, j+1))\n",
    "                            cache[j+1] = v\n",
    "                            excess[j+1] = y\n",
    "                            \n",
    "                    if j+2 < len(A):\n",
    "                        y = x + A[j+2] - B[j+2]\n",
    "                        v = u + x\n",
    "                        if j+2 not in cache or cache[j+2] > v:\n",
    "                            queue.append((y, v, j+2))\n",
    "                            cache[j+2] = v\n",
    "                            excess[j+2] = y\n",
    "    \n",
    "    print cache\n",
    "    print excess\n",
    "    \n",
    "    sums = 0\n",
    "    for i in range(len(A)):\n",
    "        if excess[i] == 0:\n",
    "            sums += cache[i]\n",
    "            \n",
    "    return sums % (10**9 + 7)"
   ]
  },
  {
   "cell_type": "code",
   "execution_count": null,
   "metadata": {
    "collapsed": false
   },
   "outputs": [],
   "source": [
    "3 2 4 4\n",
    "9 4 0 0\n",
    "\n",
    "0 1\n",
    "2 3\n",
    "\n",
    "(-6, 0) (-2, 1) (+4, 2) (+4, 3)\n",
    "\n",
    "[5,3,1,6,4,2,7,3]\n",
    "\n",
    "[6,4,2,7,0,2,7,3]\n",
    "\n",
    "(+1, 0) (+1, 1) (+1, 2) (+1, 3) (-4, 4)"
   ]
  },
  {
   "cell_type": "code",
   "execution_count": null,
   "metadata": {
    "collapsed": true
   },
   "outputs": [],
   "source": [
    "def solution(N, M, X, Y):\n",
    "    if len(X) % 2 == 1:\n",
    "        return 0\n",
    "    \n",
    "    sorted_X = sorted(X)\n",
    "    a, b = sorted_X[len(X)/2-1], sorted_X[len(X)/2]\n",
    "    \n",
    "    sorted_Y = sorted(Y)\n",
    "    c, d = sorted_Y[len(X)/2-1], sorted_Y[len(X)/2]\n",
    "    \n",
    "    return b-a+d-c"
   ]
  },
  {
   "cell_type": "code",
   "execution_count": null,
   "metadata": {
    "collapsed": false
   },
   "outputs": [],
   "source": [
    "solution(5, 5, [0, 4, 2, 0], [0, 0, 1, 4])"
   ]
  },
  {
   "cell_type": "code",
   "execution_count": null,
   "metadata": {
    "collapsed": true
   },
   "outputs": [],
   "source": [
    "A = [4, 2, 1, 6, 5] \n",
    "B = [7, 2, 1, 3, 7]\n",
    "\n",
    "1 2 3 4 5 6\n",
    "1 2 6 7 7 3\n",
    "\n",
    "\n",
    "1 2 3 7 7\n",
    "1 2 6 4 5"
   ]
  },
  {
   "cell_type": "code",
   "execution_count": null,
   "metadata": {
    "collapsed": false
   },
   "outputs": [],
   "source": [
    "import heapq, math\n",
    "\n",
    "def power(n, b, power_cache):\n",
    "    if (n, b) in power_cache:\n",
    "        return power_cache[(n, b)]\n",
    "    \n",
    "    m = n\n",
    "    cnt = 0\n",
    "    while n % b == 0:\n",
    "        cnt += 1\n",
    "        n /= b\n",
    "        if (n, b) in power_cache:\n",
    "            cnt += power_cache[(n, b)]\n",
    "            break\n",
    "    \n",
    "    power_cache[(m, b)] = cnt\n",
    "    return cnt\n",
    "\n",
    "def solution(A):\n",
    "    powers = [[0]*2 for i in range(len(A))]\n",
    "    power_cache = {}\n",
    "    \n",
    "    u = []\n",
    "    \n",
    "    for i in range(len(A)):\n",
    "        powers[i][0] = power(A[i], 2, power_cache)\n",
    "        powers[i][1] = power(A[i], 5, power_cache)\n",
    "        \n",
    "        if len(u) < 3:\n",
    "            heapq.heappush(u, powers[i][1])\n",
    "        else:\n",
    "            if powers[i][1] > u[0]:\n",
    "                heapq.heappop(u)\n",
    "                heapq.heappush(u, powers[i][1])\n",
    "    \n",
    "    max_pow_5 = sum(u)\n",
    "    \n",
    "    cache = [[[-1]*(max_pow_5+1) for i in range(len(A))] for h in range(3)]\n",
    "    \n",
    "    for h in range(3):\n",
    "        for i in range(h, len(A)):\n",
    "            for p in range(max_pow_5+1):\n",
    "                if p >= powers[i][1]:\n",
    "                    if h == 0:\n",
    "                        if p == powers[i][1]:\n",
    "                            cache[h][i][p] = max(cache[h][i-1][p], powers[i][0]) if i > 0 else powers[i][0]\n",
    "                        else:\n",
    "                            cache[h][i][p] = cache[h][i-1][p]\n",
    "                            \n",
    "                    else:\n",
    "                        if cache[h-1][i-1][p-powers[i][1]] != -1:\n",
    "                            cache[h][i][p] = max(cache[h][i-1][p], cache[h-1][i-1][p-powers[i][1]]+powers[i][0])\n",
    "                        else:\n",
    "                            cache[h][i][p] = cache[h][i-1][p]\n",
    "                else:\n",
    "                    if i > 0:\n",
    "                        cache[h][i][p] = cache[h][i-1][p]\n",
    "    \n",
    "    max_cost = -float(\"Inf\")\n",
    "    for p in range(max_pow_5+1):\n",
    "        if cache[2][len(A)-1][p] != -1:\n",
    "            max_cost = max(max_cost, min(p, cache[2][len(A)-1][p]))\n",
    "    \n",
    "    return max_cost"
   ]
  },
  {
   "cell_type": "code",
   "execution_count": null,
   "metadata": {
    "collapsed": true
   },
   "outputs": [],
   "source": [
    "import numpy as np\n",
    "f = np.random.randint(1, 1000, 10**5)"
   ]
  },
  {
   "cell_type": "code",
   "execution_count": null,
   "metadata": {
    "collapsed": false
   },
   "outputs": [],
   "source": [
    "solution([38, 74, 60, 50, 75, 13, 74, 94, 76, 90])"
   ]
  },
  {
   "cell_type": "code",
   "execution_count": null,
   "metadata": {
    "collapsed": false
   },
   "outputs": [],
   "source": [
    "60*50*90"
   ]
  },
  {
   "cell_type": "code",
   "execution_count": null,
   "metadata": {
    "collapsed": false
   },
   "outputs": [],
   "source": [
    "for i in range(1000):\n",
    "    n = 100\n",
    "    f = np.random.randint(1, 100, n)\n",
    "    a = solution(f)\n",
    "    b = solution2(f)\n",
    "    if a != b:\n",
    "        print f\n",
    "        print a\n",
    "        print b \n",
    "        print"
   ]
  },
  {
   "cell_type": "code",
   "execution_count": null,
   "metadata": {
    "collapsed": true
   },
   "outputs": [],
   "source": [
    "def solution(A):\n",
    "    if len(A) == 0:\n",
    "        return 0\n",
    "    \n",
    "    A = [x-1 for x in A]\n",
    "    \n",
    "    prev_index = [-1]*len(A)\n",
    "    last_index = [-1]*len(A)\n",
    "    \n",
    "    for i in range(len(A)):\n",
    "        prev_index[i] = last_index[A[i]] if last_index[A[i]] != -1 else -1\n",
    "        last_index[A[i]] = i\n",
    "    \n",
    "    cache = [[0]*len(A) for h in range(3)]\n",
    "    \n",
    "    for h in range(3):\n",
    "        for i in range(h, len(A)):\n",
    "            if h == 0:\n",
    "                if i == 0:\n",
    "                    cache[h][i] = 1\n",
    "                else:\n",
    "                    cache[h][i] = cache[h][i-1] + 1 if prev_index[i] == -1 else cache[h][i-1]\n",
    "            else:\n",
    "                if prev_index[i] != -1 and prev_index[i]-1 >= 0:\n",
    "                    a = cache[h-1][prev_index[i]-1]\n",
    "                else:\n",
    "                    a = 0\n",
    "                    \n",
    "                cache[h][i] = cache[h-1][i-1] + cache[h][i-1] - a\n",
    "                \n",
    "    return cache[2][len(A)-1] % (10**9+7)"
   ]
  },
  {
   "cell_type": "code",
   "execution_count": null,
   "metadata": {
    "collapsed": false
   },
   "outputs": [],
   "source": [
    "solution([])"
   ]
  },
  {
   "cell_type": "code",
   "execution_count": null,
   "metadata": {
    "collapsed": false
   },
   "outputs": [],
   "source": [
    "def solution(S):\n",
    "    cnts = {}\n",
    "    sum_visited = {}\n",
    "    max_len = 0\n",
    "    \n",
    "    sum_visited[tuple([])] = len(S)\n",
    "    \n",
    "    for i in range(len(S)-1, -1, -1):\n",
    "        if i == len(S)-1:\n",
    "            cnts[S[i]] = 1\n",
    "            sum_visited[tuple(sorted(cnts.keys()))] = i\n",
    "            \n",
    "        else:\n",
    "            if S[i] not in cnts:\n",
    "                cnts[S[i]] = 0\n",
    "            cnts[S[i]] += 1\n",
    "            \n",
    "            if cnts[S[i]] % 2 == 0:\n",
    "                cnts.pop(S[i])\n",
    "            \n",
    "            u = tuple(sorted(cnts.keys()))\n",
    "            \n",
    "            if u in sum_visited:\n",
    "                max_len = max(max_len, sum_visited[u]-i)\n",
    "                    \n",
    "            else:\n",
    "                sum_visited[u] = i\n",
    "            \n",
    "    return max_len\n",
    "\n",
    "def solution2(S):\n",
    "    max_len = 0\n",
    "    for i in range(len(S)):\n",
    "        cnts = {}\n",
    "        for j in range(i, len(S)):\n",
    "            if S[j] not in cnts:\n",
    "                cnts[S[j]] = 0\n",
    "            cnts[S[j]] += 1\n",
    "            \n",
    "            if cnts[S[j]] % 2 == 0:\n",
    "                cnts.pop(S[j])\n",
    "                if len(cnts) == 0:\n",
    "                    max_len = max(max_len, j-i+1)\n",
    "    return max_len"
   ]
  },
  {
   "cell_type": "code",
   "execution_count": null,
   "metadata": {
    "collapsed": false
   },
   "outputs": [],
   "source": [
    "solution(\"ikxxscamvs\")"
   ]
  },
  {
   "cell_type": "code",
   "execution_count": null,
   "metadata": {
    "collapsed": false
   },
   "outputs": [],
   "source": [
    "import random, string\n",
    "\n",
    "for i in range(1000):\n",
    "    n = 100\n",
    "    res = ''.join(random.choice(string.ascii_lowercase) for _ in range(n))\n",
    "    a = solution(res)\n",
    "    b = solution2(res)\n",
    "    if a != b:\n",
    "        print res\n",
    "        print a\n",
    "        print b \n",
    "        print"
   ]
  },
  {
   "cell_type": "code",
   "execution_count": null,
   "metadata": {
    "collapsed": false
   },
   "outputs": [],
   "source": [
    "f = {'a': 1, 'm': 1, 'c': 1, 'v': 1}\n",
    "tuple(f.keys())"
   ]
  },
  {
   "cell_type": "code",
   "execution_count": null,
   "metadata": {
    "collapsed": false
   },
   "outputs": [],
   "source": [
    "def solution(P):\n",
    "    false_cnts = []\n",
    "    curr_cnt = 0\n",
    "    for i in range(len(P)):\n",
    "        if P[i] is False:\n",
    "            curr_cnt += 1\n",
    "        else:\n",
    "            if curr_cnt != 0:\n",
    "                false_cnts.append(curr_cnt)\n",
    "            curr_cnt = 0\n",
    "    \n",
    "    if curr_cnt != 0:\n",
    "        false_cnts.append(curr_cnt)\n",
    "    \n",
    "    n = len(P)\n",
    "    m = int(n*(n+1)*0.5)\n",
    "    \n",
    "    sums = 0\n",
    "    for x in false_cnts:\n",
    "        sums += int(0.5*x*(x+1))\n",
    "    \n",
    "    return m-sums"
   ]
  },
  {
   "cell_type": "code",
   "execution_count": null,
   "metadata": {
    "collapsed": false
   },
   "outputs": [],
   "source": [
    "solution([False])"
   ]
  },
  {
   "cell_type": "code",
   "execution_count": null,
   "metadata": {
    "collapsed": false
   },
   "outputs": [],
   "source": [
    "import heapq, sys\n",
    "sys.setrecursionlimit(10**9)\n",
    "\n",
    "def dfs(A, pos_map_b, cnts, i, visited):\n",
    "    a = A[i]\n",
    "    visited.add(i)\n",
    "\n",
    "    if cnts[a] > 1:\n",
    "        return True, [i]\n",
    "    \n",
    "    if a in pos_map_b:\n",
    "        for j in pos_map_b[a]:\n",
    "            if j not in visited:\n",
    "                f, x = dfs(A, pos_map_b, cnts, j, set(visited))\n",
    "                if f:\n",
    "                    return True, [i] + x\n",
    "            else:\n",
    "                if cnts[a] > 1:\n",
    "                    return True, [i]\n",
    "    \n",
    "    return False, []\n",
    "\n",
    "def dfs2(A, pos_map_b, cnts, i, visited, cache):\n",
    "    a = A[i]\n",
    "    visited.add(i)\n",
    "    \n",
    "    out = set()\n",
    "    \n",
    "    if cnts[a] > 1:\n",
    "        out.add(a)\n",
    "\n",
    "    if a in pos_map_b:\n",
    "        for j in pos_map_b[a]:\n",
    "            if j not in visited:\n",
    "                x = dfs2(A, pos_map_b, cnts, j, set(visited), cache) if A[j] not in cache else cache[A[j]]\n",
    "                if len(x) > 0:\n",
    "                    out.update(x)\n",
    "            else:\n",
    "                if cnts[a] > 1:\n",
    "                    out.add(a)\n",
    "\n",
    "    cache[a] = set(out)\n",
    "    return out\n",
    "\n",
    "def solution(A, B):\n",
    "    cnts = {}\n",
    "    for i in range(len(A)):\n",
    "        if A[i] > B[i]:\n",
    "            temp = A[i]\n",
    "            A[i] = B[i]\n",
    "            B[i] = temp\n",
    "        \n",
    "        if A[i] not in cnts:\n",
    "            cnts[A[i]] = 0\n",
    "        cnts[A[i]] += 1\n",
    "        \n",
    "    pos_map_a, pos_map_b = {}, {}\n",
    "    \n",
    "    for i in range(len(A)):\n",
    "        if A[i] not in pos_map_a:\n",
    "            pos_map_a[A[i]] = set()\n",
    "        pos_map_a[A[i]].add(i)\n",
    "        \n",
    "        if B[i] not in pos_map_b:\n",
    "            pos_map_b[B[i]] = set()\n",
    "        pos_map_b[B[i]].add(i)\n",
    "    \n",
    "    heap = [(B[i], i) for i in range(len(B))]\n",
    "    heapq.heapify(heap)\n",
    "    \n",
    "    while len(heap) > 0:\n",
    "        x, i = heapq.heappop(heap)\n",
    "        \n",
    "        u = B[i]\n",
    "        \n",
    "        if B[i] not in cnts:\n",
    "            flag = False\n",
    "            for j in pos_map_b[B[i]]:\n",
    "                if cnts[A[j]] > 1:\n",
    "                    flag = True\n",
    "                    \n",
    "                    cnts[A[j]] -= 1\n",
    "                    cnts[B[j]] = 1\n",
    "\n",
    "                    pos_map_a[A[j]].remove(j)\n",
    "                    if len(pos_map_a[A[j]]) == 0:\n",
    "                        pos_map_a.pop(A[j])\n",
    "\n",
    "                    if B[j] not in pos_map_a:\n",
    "                        pos_map_a[B[j]] = set()\n",
    "                    pos_map_a[B[j]].add(j)\n",
    "\n",
    "                    pos_map_b[B[j]].remove(j)\n",
    "                    if len(pos_map_b[B[j]]) == 0:\n",
    "                        pos_map_b.pop(B[j])\n",
    "\n",
    "                    if A[j] not in pos_map_b:\n",
    "                        pos_map_b[A[j]] = set()\n",
    "                    pos_map_b[A[j]].add(j)\n",
    "\n",
    "                    temp = A[j]\n",
    "                    A[j] = B[j]\n",
    "                    B[j] = temp\n",
    "                    \n",
    "                    break\n",
    "                \n",
    "            if flag is False:\n",
    "                f, path = dfs(A, pos_map_b, cnts, i, set())\n",
    "                if f:\n",
    "                    for j in path:\n",
    "                        flag = True\n",
    "                        \n",
    "                        cnts[A[j]] -= 1\n",
    "                        cnts[B[j]] = 1\n",
    "                        \n",
    "                        pos_map_a[A[j]].remove(j)\n",
    "                        if len(pos_map_a[A[j]]) == 0:\n",
    "                            pos_map_a.pop(A[j])\n",
    "\n",
    "                        if B[j] not in pos_map_a:\n",
    "                            pos_map_a[B[j]] = set()\n",
    "                        pos_map_a[B[j]].add(j)\n",
    "\n",
    "                        pos_map_b[B[j]].remove(j)\n",
    "                        if len(pos_map_b[B[j]]) == 0:\n",
    "                            pos_map_b.pop(B[j])\n",
    "\n",
    "                        if A[j] not in pos_map_b:\n",
    "                            pos_map_b[A[j]] = set()\n",
    "                        pos_map_b[A[j]].add(j)\n",
    "                        \n",
    "                        temp = A[j]\n",
    "                        A[j] = B[j]\n",
    "                        B[j] = temp\n",
    "            \n",
    "    \n",
    "    for i in range(1, len(A)+1):\n",
    "        if i not in cnts:\n",
    "            return i\n",
    "        \n",
    "    return len(A)+1\n",
    "        \n",
    "def solution2(A, B):\n",
    "    temp = []\n",
    "    for i in range(len(A)):\n",
    "        if i == 0:\n",
    "            temp.append(set([A[i]]))\n",
    "            temp.append(set([B[i]]))\n",
    "        else:\n",
    "            new_temp = []\n",
    "            for x in temp:\n",
    "                if A[i] not in x:\n",
    "                    g = set(x)\n",
    "                    g.add(A[i])\n",
    "                    new_temp.append(g)\n",
    "                else:\n",
    "                    new_temp.append(set(x))\n",
    "                    \n",
    "                if B[i] not in x:\n",
    "                    g = set(x)\n",
    "                    g.add(B[i])\n",
    "                    new_temp.append(g)\n",
    "                else:\n",
    "                    new_temp.append(set(x))\n",
    "            \n",
    "            temp = new_temp[:]\n",
    "            \n",
    "    h = []\n",
    "    for x in temp:\n",
    "        for i in range(1, len(A)+2):\n",
    "            if i not in x:\n",
    "                h.append(i)\n",
    "                break\n",
    "    return max(h)"
   ]
  },
  {
   "cell_type": "code",
   "execution_count": null,
   "metadata": {
    "collapsed": false
   },
   "outputs": [],
   "source": [
    "solution(c, d)"
   ]
  },
  {
   "cell_type": "code",
   "execution_count": null,
   "metadata": {
    "collapsed": false
   },
   "outputs": [],
   "source": [
    "[4, 2, 3, 7, 1, 2, 1, 5, 2, 1] \n",
    "[8, 6, 4, 8, 9, 6, 9, 7, 6, 7]"
   ]
  },
  {
   "cell_type": "code",
   "execution_count": null,
   "metadata": {
    "collapsed": true
   },
   "outputs": [],
   "source": [
    "1 8\n",
    "1 9\n",
    "2 6\n"
   ]
  },
  {
   "cell_type": "code",
   "execution_count": null,
   "metadata": {
    "collapsed": true
   },
   "outputs": [],
   "source": [
    "c = np.random.randint(1, 10**9, 10**5)\n",
    "d = np.random.randint(1, 10**9, 10**5)"
   ]
  },
  {
   "cell_type": "code",
   "execution_count": null,
   "metadata": {
    "collapsed": false
   },
   "outputs": [],
   "source": [
    "for i in range(1000):\n",
    "    n = 10\n",
    "    c = np.random.randint(1, n, n)\n",
    "    d = np.random.randint(1, n, n)\n",
    "    a = solution(c, d)\n",
    "    b = solution2(c, d)\n",
    "    if a != b:\n",
    "        print c.tolist(), d.tolist()\n",
    "        print a\n",
    "        print b \n",
    "        print"
   ]
  },
  {
   "cell_type": "code",
   "execution_count": null,
   "metadata": {
    "collapsed": true
   },
   "outputs": [],
   "source": [
    "class Solution(object):\n",
    "    def minCost(self, grid):\n",
    "        heap = [(0, 0, 0)]\n",
    "        cache = {(0,0):0}\n",
    "        \n",
    "        min_cost = float(\"Inf\")\n",
    "        \n",
    "        while len(heap) > 0:\n",
    "            cost, i, j = heapq.heappop(heap)\n",
    "            \n",
    "            if (i, j) == (len(grid)-1, len(grid[0])-1):\n",
    "                min_cost = min(min_cost, cost)\n",
    "                \n",
    "            elif cost < min_cost:\n",
    "                if i-1 >= 0:\n",
    "                    new_cost = cost+1 if grid[i][j] != 4 else cost\n",
    "                    \n",
    "                    if (i-1, j) not in cache or cache[(i-1, j)] > new_cost:\n",
    "                        heapq.heappush(heap, (new_cost, i-1, j))\n",
    "                        cache[(i-1, j)] = new_cost\n",
    "                \n",
    "                if i+1 < len(grid):\n",
    "                    new_cost = cost+1 if grid[i][j] != 3 else cost\n",
    "                    \n",
    "                    if (i+1, j) not in cache or cache[(i+1, j)] > new_cost:\n",
    "                        heapq.heappush(heap, (new_cost, i+1, j))\n",
    "                        cache[(i+1, j)] = new_cost\n",
    "                \n",
    "                if j-1 >= 0:\n",
    "                    new_cost = cost+1 if grid[i][j] != 2 else cost\n",
    "                    \n",
    "                    if (i, j-1) not in cache or cache[(i, j-1)] > new_cost:\n",
    "                        heapq.heappush(heap, (new_cost, i, j-1))\n",
    "                        cache[(i, j-1)] = new_cost\n",
    "                        \n",
    "                if j+1 < len(grid[0]):\n",
    "                    new_cost = cost+1 if grid[i][j] != 1 else cost\n",
    "                    \n",
    "                    if (i, j+1) not in cache or cache[(i, j+1)] > new_cost:\n",
    "                        heapq.heappush(heap, (new_cost, i, j+1))\n",
    "                        cache[(i, j+1)] = new_cost\n",
    "        \n",
    "        return min_cost"
   ]
  },
  {
   "cell_type": "code",
   "execution_count": null,
   "metadata": {
    "collapsed": true
   },
   "outputs": [],
   "source": [
    "class Solution(object):\n",
    "    def dfs(self, adj_map, informTime, i, cache):\n",
    "        max_time = 0\n",
    "        \n",
    "        if i in adj_map:\n",
    "            for j in adj_map[i]:\n",
    "                a = self.dfs(adj_map, informTime, j, cache) if j not in cache else cache[j]\n",
    "                max_time = max(max_time, a+informTime[i])\n",
    "        else:\n",
    "            return 0\n",
    "                \n",
    "        cache[i] = max_time\n",
    "        return max_time\n",
    "            \n",
    "    def numOfMinutes(self, n, headID, manager, informTime):\n",
    "        if n == 1:\n",
    "            return 0\n",
    "        \n",
    "        adj_map = {}\n",
    "        root_id = -1\n",
    "        \n",
    "        for i in range(len(manager)):\n",
    "            if manager[i] == -1:\n",
    "                root_id = i\n",
    "                \n",
    "            if manager[i] not in adj_map:\n",
    "                adj_map[manager[i]] = []\n",
    "            adj_map[manager[i]].append(i)\n",
    "        \n",
    "        return self.dfs(adj_map, informTime, root_id, {})"
   ]
  },
  {
   "cell_type": "code",
   "execution_count": null,
   "metadata": {
    "collapsed": false
   },
   "outputs": [],
   "source": [
    "sol = Solution()\n",
    "sol.numOfMinutes(7, 6, [1,2,3,4,5,6,-1], [0,6,5,4,3,2,1])"
   ]
  },
  {
   "cell_type": "code",
   "execution_count": null,
   "metadata": {
    "collapsed": false
   },
   "outputs": [],
   "source": [
    "class Solution(object):\n",
    "    def numTimesAllBlue(self, light):\n",
    "        sums, max_val = 0, 0\n",
    "        m = 0\n",
    "        for x in light:\n",
    "            sums += x\n",
    "            max_val = max(max_val, x)\n",
    "            \n",
    "            if sums == int(0.5*max_val*(max_val+1)):\n",
    "                m += 1\n",
    "        \n",
    "        return m"
   ]
  },
  {
   "cell_type": "code",
   "execution_count": null,
   "metadata": {
    "collapsed": false
   },
   "outputs": [],
   "source": [
    "sol = Solution()\n",
    "sol.numTimesAllBlue([1,2,3,4,5,6])"
   ]
  },
  {
   "cell_type": "code",
   "execution_count": null,
   "metadata": {
    "collapsed": false
   },
   "outputs": [],
   "source": [
    "class Solution(object):\n",
    "    def rankTeams(self, votes):\n",
    "        cnts = [[0]*26 for i in range(len(votes[0]))]\n",
    "        chars = set()\n",
    "        \n",
    "        for i in range(len(votes)):\n",
    "            for j in range(len(votes[i])):\n",
    "                x = votes[i][j]\n",
    "                chars.add(x)\n",
    "                cnts[j][ord(x)-ord('A')] += 1\n",
    "        \n",
    "        heap = []\n",
    "        for x in chars:\n",
    "            g = [-cnts[i][ord(x)-ord('A')] for i in range(len(votes[0]))] + [ord(x)]\n",
    "            heap.append((tuple(g), x))\n",
    "        \n",
    "        heapq.heapify(heap)\n",
    "        \n",
    "        out = ''\n",
    "        while len(heap) > 0:\n",
    "            cost, c = heapq.heappop(heap)\n",
    "            out += c\n",
    "        \n",
    "        return out"
   ]
  },
  {
   "cell_type": "code",
   "execution_count": null,
   "metadata": {
    "collapsed": false
   },
   "outputs": [],
   "source": [
    "sol = Solution()\n",
    "sol.rankTeams([\"M\",\"M\",\"M\",\"M\"])"
   ]
  },
  {
   "cell_type": "code",
   "execution_count": null,
   "metadata": {
    "collapsed": false
   },
   "outputs": [],
   "source": [
    "class Solution(object):\n",
    "    def dfs(self, adj_map, i, t, target, visited):\n",
    "        if t == 0:\n",
    "            if i == target:\n",
    "                return True, 1.0\n",
    "            return False, 0.0\n",
    "        \n",
    "        if i == target:\n",
    "            if (i in adj_map and len(adj_map[i]) == 1 and i != 1) or (i == 1 and i not in adj_map):\n",
    "                return True, 1.0\n",
    "            return False, 0.0\n",
    "        \n",
    "        visited.add(i)\n",
    "        \n",
    "        if i in adj_map:\n",
    "            for j in adj_map[i]:\n",
    "                if j not in visited:\n",
    "                    f, prob = self.dfs(adj_map, j, t-1, target, set(visited))\n",
    "                    if f:\n",
    "                        if i == 1:\n",
    "                            return True, prob*1.0/len(adj_map[i])\n",
    "                        \n",
    "                        return True, prob*1.0/(len(adj_map[i])-1)\n",
    "                    \n",
    "        return False, 0.0\n",
    "                    \n",
    "    def frogPosition(self, n, edges, t, target):\n",
    "        if n == 1:\n",
    "            return 1.0 if target == 1 else 0.0\n",
    "        \n",
    "        adj_map = {}\n",
    "        for i, j in edges:\n",
    "            if i not in adj_map:\n",
    "                adj_map[i] = set()\n",
    "            adj_map[i].add(j)\n",
    "            \n",
    "            if j not in adj_map:\n",
    "                adj_map[j] = set()\n",
    "            adj_map[j].add(i)\n",
    "        \n",
    "        print adj_map\n",
    "        \n",
    "        f, prob = self.dfs(adj_map, 1, t, target, set())\n",
    "        return prob\n",
    "            \n",
    "#         print adj_map\n",
    "            \n",
    "#         queue = collections.deque([(1, 1.0)])\n",
    "#         visited = set([1])\n",
    "        \n",
    "#         while len(queue) > 0:\n",
    "#             i, prob = queue.popleft()\n",
    "            \n",
    "#             if i == target:\n",
    "#                 return prob\n",
    "            \n",
    "#             if i in adj_map:\n",
    "#                 for j in adj_map[i]:\n",
    "#                     if j not in visited:\n",
    "#                         p = len(adj_map[i]-visited)\n",
    "#                         queue.append((j, prob*1.0/p))\n",
    "#                         visited.add(j)\n",
    "#         return 0.0"
   ]
  },
  {
   "cell_type": "code",
   "execution_count": null,
   "metadata": {
    "collapsed": false
   },
   "outputs": [],
   "source": [
    "sol = Solution()\n",
    "sol.frogPosition(9, [[2,1],[3,2],[4,3],[5,3],[6,5],[7,3],[8,4],[9,5]], 9, 1)"
   ]
  },
  {
   "cell_type": "code",
   "execution_count": null,
   "metadata": {
    "collapsed": false
   },
   "outputs": [],
   "source": [
    "a = \"aaaaaaaaaaaaaaaaaaaaaaaaaaaaaaaaaaaaaaaaaaaaaaaaaaaaaaaaaaaaaaaaaaaaaaaaaaaaaaaaaaaaaaaaaaaaaaaaaaaaaaaaaaaaaaaaaaaaaaaaaaaaaaaaaaaaaaaaaaaaaaaaaaaaaaaaaaaaaaaaaaaaaaaaaaaaaaaaaaaaaaaaaaaaaaaaaaaaaaaaaaaaaaaaaaaaaaaaaaaaaaaaaaaaaaaaaaaaaaaaaaaaaaaaaaaaaaaaaaaaaaaaaaaaaaaaaaaaaaaaaaaaaaaaaaaaaaaaaaaaaaaaaaaaaaaaaaaaaaaaaaaaaaaaaaaaaaaaaaaaaaaaaaaaaaaaaaaaaaaaaaaaaaaaaaaaaaaaaaaaaaaaaaaaaaaaaaaaaaaaaaaaaaaaaaaaaaaaaaaaaaaaaaaaaaaaaaaaaaaaaaaaaaaaaaaaaaaaaaaaaaaaaaaaaaaaaaaaaaaaaaaaaaaaaaaaaaaaaaaaaaaaaaaaaaaaaaaaaaaaaaaaaaaaaaaaaaaaaaaaaaaaaaaaaaaaaaaaaaaaaaaaaaaaaaaaaaaaaaaaaaaaaaaaaaaaaaaaaaaaaaaaaaaaaaaaaaaaaaaaaaaaaaaaaaaaab\""
   ]
  },
  {
   "cell_type": "code",
   "execution_count": null,
   "metadata": {
    "collapsed": false
   },
   "outputs": [],
   "source": [
    "b = \"aaaaaaaaaaaaaaaaaaaaaaaaaaaaaaaaaaaaaaaaaaaaaaaaaaaaaaaaaaaaaaaaaaaaaaaaaaaaaaaaaaaaaaaaaaaaaaaaaaaaaaaaaaaaaaaaaaaaaaaaaaaaaaaaaaaaaaaaaaaaaaaaaaaaaaaaaaaaaaaaaaaaaaaaaaaaaaaaaaaaaaaaaaaaaaaaaaaaaaaaaaaaaaaaaaaaaaaaaaaaaaaaaaaaaaaaaaaaaaaaaaaaaaaaaaaaaaaaaaaaaaaaaaaaaaaaaaaaaaaaaaaaaaaaaaaaaaaaaaaaaaaaaaaaaaaaaaaaaaaaaaaaaaaaaaaaaaaaaaaaaaaaaaaaaaaaaaaaaaaaaaaaaaaaaaaaaaaaaaaaaaaaaaaaaaaaaaaaaaaaaaaaaaaaaaaaaaaaaaaaaaaaaaaaaaaaaaaaaaaaaaaaaaaaaaaaaaaaaaaaaaaaaaaaaaaaaaaaaaaaaaaaaaaaaaaaaaaaaaaaaaaaaaaab\""
   ]
  },
  {
   "cell_type": "code",
   "execution_count": null,
   "metadata": {
    "collapsed": false
   },
   "outputs": [],
   "source": [
    "class Solution(object):\n",
    "    def findInMountainArray(self, target, mountain_arr):\n",
    "        left, right = 0, len(mountain_arr)-1\n",
    "        last_true = -1\n",
    "        \n",
    "        while left <= right:\n",
    "            mid = int((left+right)/2)\n",
    "            \n",
    "            if mid == 0 or mountain_arr[mid] > mountain_arr[mid-1]:\n",
    "                if mountain_arr[mid] == target:\n",
    "                    return mid\n",
    "                \n",
    "                if mid > 0 and mountain_arr[mid-1] == target:\n",
    "                    return mid-1\n",
    "                \n",
    "                last_true = mid\n",
    "                left = mid+1\n",
    "            else:\n",
    "                right = mid-1\n",
    "        \n",
    "        print last_true\n",
    "        \n",
    "        left, right = 0, last_true\n",
    "        \n",
    "        while left <= right:\n",
    "            mid = int((left+right)/2)\n",
    "            \n",
    "            if mountain_arr[mid] == target:\n",
    "                return mid\n",
    "            elif mountain_arr[mid] < target:\n",
    "                left = mid+1\n",
    "            else:\n",
    "                right = mid-1\n",
    "        \n",
    "        left, right = last_true, len(mountain_arr)-1\n",
    "        \n",
    "        while left <= right:\n",
    "            mid = int((left+right)/2)\n",
    "            \n",
    "            if mountain_arr[mid] == target:\n",
    "                return mid\n",
    "            elif mountain_arr[mid] > target:\n",
    "                left = mid+1\n",
    "            else:\n",
    "                right = mid-1\n",
    "                \n",
    "        return -1"
   ]
  },
  {
   "cell_type": "code",
   "execution_count": null,
   "metadata": {
    "collapsed": false
   },
   "outputs": [],
   "source": [
    "sol = Solution()\n",
    "sol.findInMountainArray(2, [1,2,3,4,5,3,1])"
   ]
  },
  {
   "cell_type": "code",
   "execution_count": null,
   "metadata": {
    "collapsed": false
   },
   "outputs": [],
   "source": [
    "import string\n",
    "\n",
    "class Solution(object):\n",
    "    def max_letters(self, s, maxLetters, k):\n",
    "        start, end = 0, k-1\n",
    "        unique = {}\n",
    "        \n",
    "        while end < len(s):\n",
    "            if start == 0:\n",
    "                for i in range(start, end+1):\n",
    "                    if s[i] not in unique:\n",
    "                        unique[s[i]] = 0\n",
    "                    unique[s[i]] += 1\n",
    "            else:\n",
    "                unique[s[start-1]] -= 1\n",
    "                if unique[s[start-1]] == 0:\n",
    "                    unique.pop(s[start-1])\n",
    "                \n",
    "                if s[end] not in unique:\n",
    "                    unique[s[end]] = 0\n",
    "                unique[s[end]] += 1\n",
    "                \n",
    "            if len(unique) <= maxLetters:\n",
    "                return True\n",
    "            \n",
    "            start += 1\n",
    "            end += 1\n",
    "            \n",
    "        return False\n",
    "    \n",
    "    def maxFreq(self, s, maxLetters, minSize, maxSize):\n",
    "        left, right = minSize, maxSize\n",
    "        last_true = -1\n",
    "        \n",
    "        while left <= right:\n",
    "            mid = int((left+right)/2)\n",
    "            \n",
    "            if self.max_letters(s, maxLetters, mid):\n",
    "                last_true = mid\n",
    "                left = mid+1\n",
    "            else:\n",
    "                right = mid-1\n",
    "        \n",
    "        if last_true == -1:\n",
    "            return 0\n",
    "        \n",
    "        prime = 20988936657440586486151264256610222593863921L\n",
    "        max_cnt = 0\n",
    "        char_map = {x:10+ord(x)-ord('a') for x in string.ascii_lowercase}\n",
    "        print char_map\n",
    "        \n",
    "        start, end = 0, minSize-1\n",
    "        visited = {}\n",
    "        unique = {}\n",
    "        curr_val = 0\n",
    "\n",
    "        while end < len(s):\n",
    "            if start == 0:\n",
    "                for i in range(start, end+1):\n",
    "                    curr_val = 100*curr_val + char_map[s[i]]\n",
    "\n",
    "                    if s[i] not in unique:\n",
    "                        unique[s[i]] = 0\n",
    "                    unique[s[i]] += 1\n",
    "\n",
    "            else:\n",
    "                curr_val = (curr_val%(10**(2*minSize-2)))*100 + char_map[s[end]]\n",
    "\n",
    "                unique[s[start-1]] -= 1\n",
    "                if unique[s[start-1]] == 0:\n",
    "                    unique.pop(s[start-1])\n",
    "\n",
    "                if s[end] not in unique:\n",
    "                    unique[s[end]] = 0\n",
    "                unique[s[end]] += 1\n",
    "\n",
    "            if len(unique) <= maxLetters:\n",
    "                print s[start:end+1], curr_val\n",
    "                \n",
    "                h = curr_val % prime\n",
    "\n",
    "                if h not in visited:\n",
    "                    visited[h] = 0\n",
    "                visited[h] += 1\n",
    "\n",
    "                max_cnt = max(max_cnt, visited[h])\n",
    "\n",
    "            start += 1\n",
    "            end += 1\n",
    "        \n",
    "        return max_cnt"
   ]
  },
  {
   "cell_type": "code",
   "execution_count": null,
   "metadata": {
    "collapsed": false
   },
   "outputs": [],
   "source": [
    "sol = Solution()\n",
    "sol.maxFreq(\"aababcaab\", 2, 3, 4)"
   ]
  },
  {
   "cell_type": "code",
   "execution_count": null,
   "metadata": {
    "collapsed": false
   },
   "outputs": [],
   "source": [
    "a, b, c = 0, 0, 1\n",
    "n = 100\n",
    "s = 0\n",
    "for i in range(n):\n",
    "    print c\n",
    "    s += (i+2)*c*(1/2.0)**(i+2)\n",
    "    a = b\n",
    "    b = c\n",
    "    c = a + b"
   ]
  },
  {
   "cell_type": "code",
   "execution_count": null,
   "metadata": {
    "collapsed": false
   },
   "outputs": [],
   "source": [
    "'tb' < 'tba'"
   ]
  },
  {
   "cell_type": "code",
   "execution_count": null,
   "metadata": {
    "collapsed": false
   },
   "outputs": [],
   "source": [
    "sorted(['tb', 'tba', 'tbad'])"
   ]
  },
  {
   "cell_type": "code",
   "execution_count": null,
   "metadata": {
    "collapsed": false
   },
   "outputs": [],
   "source": [
    "   t_     t_  t_   t_"
   ]
  },
  {
   "cell_type": "code",
   "execution_count": null,
   "metadata": {
    "collapsed": false
   },
   "outputs": [],
   "source": [
    "class Solution(object):\n",
    "    def dfs(self, text, i, visited):\n",
    "        visited.add(text[i])\n",
    "        for j in range(i+1, len(text)):\n",
    "            \n",
    "    def smallestSubsequence(self, text):\n",
    "        pos, last_pos = {}, 0\n",
    "        min_s = 'z'*(len(text)+1)\n",
    "        \n",
    "        out = ''\n",
    "        n = len(set(text))\n",
    "        \n",
    "        for i in range(len(text)-1, -1, -1):\n",
    "            if i == len(text)-1:\n",
    "                pos[text[i]] = last_pos-1\n",
    "                out = text[i]\n",
    "                last_pos -= 1\n",
    "            else:\n",
    "                if text[i] not in pos:\n",
    "                    pos[text[i]] = last_pos-1\n",
    "                    out = text[i] + out\n",
    "                    last_pos -= 1\n",
    "                else:\n",
    "                    \n",
    "                if text[i] not in pos or text[i] < first_char:\n",
    "                    pos[text[i]] = i\n",
    "                    first_char = text[i]\n",
    "                    \n",
    "            if len(out) == n:\n",
    "                min_s = min(min_s, out)\n",
    "                    \n",
    "        u = [(y, x) for x, y in pos.items()]\n",
    "        u = sorted(u, key=lambda k:k[0])\n",
    "        \n",
    "        return ''.join([y for x, y in u])"
   ]
  },
  {
   "cell_type": "code",
   "execution_count": null,
   "metadata": {
    "collapsed": false
   },
   "outputs": [],
   "source": [
    "sol = Solution()\n",
    "sol.smallestSubsequence(\"cbaacabcaaccaacababa\")"
   ]
  },
  {
   "cell_type": "code",
   "execution_count": null,
   "metadata": {
    "collapsed": true
   },
   "outputs": [],
   "source": [
    "'ba'\n",
    "'ab'\n",
    "'cab'\n",
    "'acb'\n",
    "'bac'"
   ]
  },
  {
   "cell_type": "code",
   "execution_count": null,
   "metadata": {
    "collapsed": true
   },
   "outputs": [],
   "source": [
    "class Solution(object):\n",
    "    def smallestSubsequence(self, text):\n",
    "        distinct = [0]*len(text)\n",
    "        unique = set()\n",
    "        \n",
    "        for i in range(len(text)-1, -1, -1):\n",
    "            unique.add(text[i])\n",
    "            distinct[i] = set(unique)\n",
    "        \n",
    "        n = len(set(text))\n",
    "        start = 0\n",
    "        out = ''\n",
    "        visited = set()\n",
    "        \n",
    "        for d in range(len(set(text)), 0, -1):\n",
    "            min_char, pos = None, -1\n",
    "            \n",
    "            for i in range(start, len(text)):\n",
    "                w = distinct[i]-visited\n",
    "                if len(w) >= d:\n",
    "                    if text[i] not in visited and (min_char is None or text[i] < min_char):\n",
    "                        min_char = text[i]\n",
    "                        pos = i\n",
    "                else:\n",
    "                    out += min_char\n",
    "                    visited.add(min_char)\n",
    "                    start = pos+1\n",
    "                    \n",
    "                    if len(out) == n:\n",
    "                        return out\n",
    "                    break\n",
    "        \n",
    "        out += min_char if min_char is not None else ''\n",
    "        return out"
   ]
  },
  {
   "cell_type": "code",
   "execution_count": null,
   "metadata": {
    "collapsed": false
   },
   "outputs": [],
   "source": [
    "ord('l')-ord('a')"
   ]
  },
  {
   "cell_type": "code",
   "execution_count": null,
   "metadata": {
    "collapsed": false
   },
   "outputs": [],
   "source": [
    "class Solution(object):\n",
    "    def is_possible(self, text, min_max_pos, k):\n",
    "        start, end = 0, k-1\n",
    "        cnts = {}\n",
    "        \n",
    "        while end < len(text):\n",
    "            if start == 0:\n",
    "                for i in range(start, end+1):\n",
    "                    if text[i] not in cnts:\n",
    "                        cnts[text[i]] = 0\n",
    "                    cnts[text[i]] += 1\n",
    "                    \n",
    "                    a = cnts[text[i]] == k\n",
    "                    b = cnts[text[i]] == k-1 and (min_max_pos[text[i]][0] < start or min_max_pos[text[i]][1] > end)\n",
    "                    \n",
    "                    if a or b:\n",
    "                        return True\n",
    "            else:\n",
    "                cnts[text[start-1]] -= 1\n",
    "                if cnts[text[start-1]] == 0:\n",
    "                    cnts.pop(text[start-1])\n",
    "                \n",
    "                if text[end] not in cnts:\n",
    "                    cnts[text[end]] = 0\n",
    "                cnts[text[end]] += 1\n",
    "                \n",
    "                a = cnts[text[end]] == k\n",
    "                b = cnts[text[end]] == k-1 and (min_max_pos[text[end]][0] < start or min_max_pos[text[end]][1] > end)\n",
    "                \n",
    "                if a or b:\n",
    "                    return True\n",
    "            \n",
    "            start += 1\n",
    "            end += 1\n",
    "                \n",
    "        return False\n",
    "                \n",
    "    def maxRepOpt1(self, text):\n",
    "        min_max_pos = {}\n",
    "        for i in range(len(text)):\n",
    "            if text[i] not in min_max_pos:\n",
    "                min_max_pos[text[i]] = [float(\"Inf\"), -float(\"Inf\")]\n",
    "                \n",
    "            min_max_pos[text[i]][0] = min(min_max_pos[text[i]][0], i)\n",
    "            min_max_pos[text[i]][1] = max(min_max_pos[text[i]][1], i)\n",
    "        \n",
    "        left, right = 1, len(text)\n",
    "        last_true = -1\n",
    "        \n",
    "        while left <= right:\n",
    "            mid = int((left+right)/2)\n",
    "            if self.is_possible(text, min_max_pos, mid):\n",
    "                last_true = mid\n",
    "                left = mid+1\n",
    "            else:\n",
    "                right = mid-1\n",
    "        \n",
    "        return last_true"
   ]
  },
  {
   "cell_type": "code",
   "execution_count": null,
   "metadata": {
    "collapsed": false
   },
   "outputs": [],
   "source": [
    "sol = Solution()\n",
    "sol.maxRepOpt1(\"ababa\")"
   ]
  },
  {
   "cell_type": "code",
   "execution_count": null,
   "metadata": {
    "collapsed": true
   },
   "outputs": [],
   "source": [
    "import heapq\n",
    "\n",
    "class Solution(object):\n",
    "    def maxRepOpt1(self, text):\n",
    "        char_cnts = [0]*26\n",
    "        \n",
    "        for i in range(len(text)):\n",
    "            char_cnts[ord(text[i])-ord('a')] += 1\n",
    "        \n",
    "        start, end = 0, 0\n",
    "        heap = []\n",
    "        max_cnts, max_len = 0, 1\n",
    "        \n",
    "        while end < len(text):\n",
    "            flag = False\n",
    "            \n",
    "            if len(heap) == 0:\n",
    "                heap.append([1, text[end]])\n",
    "                flag = True\n",
    "            \n",
    "            elif len(heap) == 1:\n",
    "                if heap[0][1] == text[end]:\n",
    "                    heap[0][0] += 1\n",
    "                else:\n",
    "                    heap.append([1, text[end]])\n",
    "                flag = True\n",
    "                    \n",
    "            else:\n",
    "                if heap[0][1] == text[end]:\n",
    "                    heap[0][0] += 1\n",
    "                    flag = True\n",
    "                    \n",
    "                elif heap[1][1] == text[end] and heap[0][0] == heap[1][0]:\n",
    "                    heap[1][0] += 1\n",
    "                    \n",
    "                    temp = heap[0][:]\n",
    "                    heap[0] = heap[1][:]\n",
    "                    heap[1] = temp\n",
    "\n",
    "                    flag = True\n",
    "                    \n",
    "                else:\n",
    "                    if heap[0][1] == text[start]:\n",
    "                        heap[0][0] -= 1\n",
    "                        if heap[0][0] == 0:\n",
    "                            heap.pop(0)\n",
    "                    else:\n",
    "                        heap.pop()\n",
    "            \n",
    "                    start += 1\n",
    "            \n",
    "            if len(heap) > 0:\n",
    "                max_cnts = heap[0][0]\n",
    "                j = ord(heap[0][1])-ord('a')\n",
    "\n",
    "                if max_cnts == end-start+1 or (max_cnts == end-start and char_cnts[j] > max_cnts):\n",
    "                    max_len = max(max_len, end-start+1)\n",
    "            \n",
    "            if flag:\n",
    "                end += 1\n",
    "        \n",
    "        if len(heap) > 0:\n",
    "            max_cnts = heap[0][0]\n",
    "            j = ord(heap[0][1])-ord('a')\n",
    "\n",
    "            end -= 1\n",
    "\n",
    "            if max_cnts == end-start+1 or (max_cnts == end-start and char_cnts[j] > max_cnts):\n",
    "                max_len = max(max_len, end-start+1)\n",
    "            \n",
    "        return max_len"
   ]
  },
  {
   "cell_type": "code",
   "execution_count": null,
   "metadata": {
    "collapsed": false
   },
   "outputs": [],
   "source": [
    "sol = Solution()\n",
    "sol.maxRepOpt1(\"idhajechdbdbeichdjjddefdjicidieciebcjfcgbfgfabhbejhbediebagjhgjdafiaeiggjhdajejcacecifigbcedeejbgbdi\")"
   ]
  },
  {
   "cell_type": "code",
   "execution_count": null,
   "metadata": {
    "collapsed": true
   },
   "outputs": [],
   "source": []
  },
  {
   "cell_type": "code",
   "execution_count": null,
   "metadata": {
    "collapsed": false
   },
   "outputs": [],
   "source": [
    "import math\n",
    "\n",
    "class Solution(object):\n",
    "    def check_cnts(self, s, xs, mmap, k):\n",
    "        start, end = 0, k-1\n",
    "        cnts = [0]*4\n",
    "        \n",
    "        while end < len(s):\n",
    "            if start == 0:\n",
    "                for i in range(start, end+1):\n",
    "                    if xs[mmap[s[i]]] > 0:\n",
    "                        cnts[mmap[s[i]]] += 1\n",
    "            else:\n",
    "                if xs[mmap[s[start-1]]] > 0:\n",
    "                    cnts[mmap[s[start-1]]] -= 1\n",
    "                    \n",
    "                if xs[mmap[s[end]]] > 0:\n",
    "                    cnts[mmap[s[end]]] += 1\n",
    "            \n",
    "            g = [cnts[j]-xs[j] for j in range(4)]\n",
    "            \n",
    "            if min(g) >= 0:\n",
    "                return True\n",
    "            \n",
    "            start += 1\n",
    "            end += 1\n",
    "            \n",
    "        return False\n",
    "                    \n",
    "    def balancedString(self, s):\n",
    "        n = len(s)\n",
    "        \n",
    "        cnts, mmap = [0]*4, {'Q':0, 'W':1, 'E':2, 'R':3}\n",
    "        \n",
    "        for i in range(len(s)):\n",
    "            cnts[mmap[s[i]]] += 1\n",
    "        \n",
    "        xs = [max(0, x-n/4) for x in cnts]\n",
    "        \n",
    "        if sum(xs) == 0:\n",
    "            return 0\n",
    "        \n",
    "        m = int(math.ceil(float(n)/max(cnts)))\n",
    "        \n",
    "        left, right = sum(xs), m*max(xs)\n",
    "        last_true = -1\n",
    "        \n",
    "        while left <= right:\n",
    "            mid = int((left+right)/2)\n",
    "            \n",
    "            if self.check_cnts(s, xs, mmap, mid):\n",
    "                last_true = mid\n",
    "                right = mid-1\n",
    "            else:\n",
    "                left = mid+1\n",
    "        \n",
    "        return last_true"
   ]
  },
  {
   "cell_type": "code",
   "execution_count": null,
   "metadata": {
    "collapsed": false
   },
   "outputs": [],
   "source": [
    "sol = Solution()\n",
    "sol.balancedString(\"EQWEEEWERRWERQQQWWQEQWEEWQRWQWWWQWRWEWERWQEWWQWWQRRQWQERWWQRERRRRRWQEQRERRWRREEEERRWERQRQEWREQREWWEWRRRERWRRWEQWQQRRWQEREEEERWQWEWQEWRWREWQEREQWQEQWRQQQWRWWRWERWQWWQQREWREEWRWWQRWQRWWQWWREWWWEWQRWRRWQEWRRRWWQRRQREQRWRRQWREQWEQRWQRWQRWERRREEREEQQEREREWQQWRWEWEQQRWEWEQWEEQEEERWWWEQRRRWRQWWQQEQRWRWRWEQRRQRQRQWWWEQWERWEQRWQRERWQQQWWWQWRWEREWRQWQWERRQQWRQWRWQQQEEQREQWRWWEQRWWWEEERQWQWEWRQQRWQWEQQEWEWRQWWERERQREWWEEREQRRWQRRRWQEEWEWQEEEQRQQEWREQWQWRRWREQQQEEEWWRQEEEWQQEQEQWWREEWRQQQRQQEERQQQEEQWERRQEEQQRQQQWWEQEEQWRQWEQWEEQQEEQQEERQEEWQEEEWQRERRERQRQQQQWRQRRQQWQEEWRRQEWQWREWERWQRQQWEEERREQEEQWQQRWERWRWEEQWEREREWRWREEWRRRQEQQERRRERQRQWRWWREQQWWEQQWQWRRWEQRWEQQEQWWWQWWEWWEEEWEWRQWQWWQQQQEWRQEQWWRWWEQRRRWREREWRQQERQRQEQWWQQWRQRRQRWRQEEEWRRQREWRRERRQEEREERWEQQQWEWWEERWQWQQWWEQWWQWERRRWQWEEEEQEEWQRRWRWEEEWEWRREWWEQQERRQWQEWQQQRWEWRQEQWREWEWEEWWWWWWWWEQRWRRQQEEEERQEWQQEQQEEEWWRWRQQQQWRREEWRWWWQRWRWRWQWWEREQQEEEWREERQEWEERQWQREEQRQWEQEREQWWEWEEWREREWRQQWREEEEQRRWRWRQRRRWRQQQRRQQRQEWEEQQEREWQEEWEWWEQRRQWRQRQQREREQRWWQEEERREWRREWRRRQQQRQEQEWQWEEQQERQRRRWRRWWEEQRWQQQQQQWREWEWWRQREWREQRRQEQEERRQERWEEQRWWQRWQRWWERQEWEQERWRWQRQEEQEQEWWQWWRREEWEWWRRQEQQWEERWEWWWQEWWRRWRWQEERQRQWEQQEWWRRRRWQEWQQQQWWEEE\")"
   ]
  },
  {
   "cell_type": "code",
   "execution_count": null,
   "metadata": {
    "collapsed": true
   },
   "outputs": [],
   "source": [
    "import string\n",
    "\n",
    "class Solution(object):\n",
    "    def lastSubstring(self, s):\n",
    "        if len(s) == 1:\n",
    "            return s\n",
    "        \n",
    "        max_char = max(s)\n",
    "        out = [i for i in range(len(s)) if s[i] == max_char and (i == 0 or s[i-1] != max_char)]\n",
    "        \n",
    "        temp = [[] for i in range(len(s))]\n",
    "        curr_index = -1\n",
    "        \n",
    "        j = 0\n",
    "        for i in range(len(s)):\n",
    "            if j < len(out) and i == out[j]:\n",
    "                curr_index = out[j]\n",
    "                j += 1\n",
    "                \n",
    "            temp[i-curr_index].append((ord(s[i]), curr_index))\n",
    "        \n",
    "        possible = set(out)\n",
    "        \n",
    "        for i in range(len(s)):\n",
    "            if len(temp[i]) > 0:\n",
    "                u = temp[i]\n",
    "                v = [u[j][0] for j in range(len(u)) if u[j][1] in possible]\n",
    "                if len(v) == 0:\n",
    "                    break\n",
    "                max_val = max(v)\n",
    "                possible = set([u[j][1] for j in range(len(u)) if u[j][0] == max_val and u[j][1] in possible])\n",
    "            else:\n",
    "                break\n",
    "                \n",
    "        j = sorted(list(possible))[0]\n",
    "        return s[j:]"
   ]
  },
  {
   "cell_type": "code",
   "execution_count": null,
   "metadata": {
    "collapsed": false
   },
   "outputs": [],
   "source": [
    "sol = Solution()\n",
    "sol.lastSubstring(\"leetcode\")"
   ]
  },
  {
   "cell_type": "code",
   "execution_count": null,
   "metadata": {
    "collapsed": true
   },
   "outputs": [],
   "source": [
    "a = \"pgtrdjdpscrwjifnrcttyruighgygsuvlhxpckkeahrupvnhlnpulyogsbktcuxnmnbmgadksxdjunqvmzyujynwzevtstjvzkddxjjmbgxfueteeuktvcbvypbdnzostbwxmxdwomguuymexfrrwuvuglgwmmwpkrqrpuzvjujksdwopsqlsrfgyzhymfgejuwhyvoqoxluvsdnmkglypoozrcgnzchpurezauixujddjjawqiaasvhrhfbhsqutgskudpcbqkkrcagrtalnsecxmlbiysgabvjbwpfufiwqdsnwbutashtejpmcypfztbgzuxwfcpkwdzhvfxbtvdvdaufjpqgfgxufhsopvwmgekcjejdlgxtdghmyzvopqkdzpuudyunnafvaeyshluuujkqncyigweelxmvgiaegonqmouaxwaqxhnnvaeuppsritdsymdwonbooswiolhbacpnehyvbhekxqxuvpnaxrfgeyixmurlgszqrotqynvtlbpjhhwdkbneiutmwutiyqegkxsrgldqvziysvihgbplhiumonlzlfzbuavbygmltdnfwjbspfpmzkfryjjpswihwixmbeodfpnmytccdvjnctzkxuqrvgjehodfdhpconhfpnatzzxyqkzjttgnwvxcfwyhlajvuhjonbpkvbbahlbybvvnhrwnnpnagtnnqcewzdzsxjgfoqbipohzsgpmyhqgvvnffjumirbhpbfletvcglthgwdvkgczucreovnfpbugyzuugqodpgsylfwyjucfnxjbghurnrkkuwsjfxeoxyzvltwhzyuechbfwstfovqgxngcwsmqsbzasrfrdvjcgedacvviihnzlijbaotpkvzmfejtfsnljthmzfhsrtieqlfhuatdwhcvsoxyphqsoxaqiqjcbuldswtjsukvcoowyfgmixswlyvkllvdtnerfisymrwgtfleupfxxswdlhvioeilstdlqfckoxpohcgnfannhbeeyzthhmszdphsbhjhxbwmjcknyrcsxgxcgnrvqnrlpqqwilhradmbowdvpusmombllpjikbuokakqzovmtmanaavururxjjxvrdnwabfwchkscmmmyixmjtogqgowbqlymnjcalxkmolmhyalvaftbcsidbmyfxshzdbwsfkvlnunvxzadljqngnnhjmlhfpmwnhvvwaokxxyfslhgggpjnhkyzdqgjdsrtaohqaryixzpyrkjumnphvfpsldrcjhxqjisogvybchagdnoezpvehagcqxarruqncmjifvxxvpbsygkzttmnykeptvbxmjsewbppcciomuyuowzbankzklnnxmnxiztfpfcnddaghyuxgaxmgphspocmpcucxkazeakifbsvnatqcvbeywbxsocgyxiawvmljwmokhbpzvijuckbqrjsdtntlriqgyjznvkkeoszsqsonjlsmxhawqqbdwixvnyemiypirwnoyhvfhbbbkcuyuuepobvrspotbbuvtmpykalufsvizvcelblhokldaymsgqasbobwyxnmcqvzqyldgmimsolloudxkjmiyekaiierxwwflmanqkovzxewrrfipzrclqvedftsuswanhfbcmjigxuxaguasfjypjjrgddnwnrfoazbvezxopumretyqfzqyosmvqjpqnuodylrkucrbhtrljryryewvfbnfwjldgjidvucotlvnsvqyjqwfmqhydttjaapqfdmvcytqpcjkqqrhwfiimbvlkvnvtghrggkjppaduhqpdneeejpqrxbnnenvobcgreldbnzpzrwxvkscywgekcnqnkgngokryvfgthpeggwroimsrwwvfmburaaqrzcmtctfxgrlhzbgixfkdjuerowuvtkmawtsrjzucrniwyzeauuizmfdlufwzqotupmykssvwaqljbiegvbonhqaekpeknpvkzgerjljgridlosexgtjkxnnjcqiahuvwvewsjmxbdhsemaoqsfsgxwghtskfxxxtohbqkascghktyxjeznuhguhvkhkhrgxvfjvktljkvmvkrikybfhjrleqxrwvyevynaprnumwpoazwmbevifrcbcckwmhcqrzgyywxlvxjmckmrfitvkelvoubqmflpmuhlwcjtcokvourxueatywmbsgbtcqzmekogznpbqsahgubnsfzfrvlgqvdsqcjptjkztcwbdciaivtwzavpzxgnbtscpzmffbwzezpijzcxnehhecsdyxabdupyqrfxywcikihubgfwrllhdmampqzewshiumisbuabzuthodmfjczwvwwbxbtadhhqqyqdzrfgzlbtlrtayrflxuehrxmggtbglsijmqiozpaydqxcewzizkdauybxbxhekppdxwnrwuchqotbsvatsxallqoatgdlarcoakioexnkugtpdldgzwnjmrdxtaheygwqmesdtinktgfxwsdibsyqyqdypwpzxucwefnzhfwjcnecbhtpuhcmvnyczwlozxlnsiizeteykfiitgyfqjbsoxvtumabgjhaquojutgxzqniiiisqhixjpcnhvopknagkmbuyqbbhlgaqhrnedonfsinfpywjvncbefkdwiidrmjtfunjhbcyvwnbiffildglmcspbmumhyewizqgfwuvbqawruppyjfkmthxpocpbduzqvecdapdjmiuvzduavdasropcdfmrzdfwkisetbznqubivoqkzvxhiuxowfmrsuevnllosjzzeajuxvvayugkzolddxbhyetzqkrxeyomyjidrculppuxxyuswfzkawloetbximriowohrduwpecmczgurxippfecsdrpybwjhbutwgqqrzckigaqevdazolffbffhpmklobchtddrbaqwfddkizyyhpowbgjiswezvhljhcjmetduxyawxjlzthhuplzwidbcbckqxmnitrniupkrqmzxdyctxgaagizoxgpjcedyuewibyalsvlshpngreerfzrqfloevdearlhcdwmxyjoqozxljgbgnccdefycdrqseaqsybwkvzeeccvkpmvpumlhjhsbaenzpbswpcgnxcvkdwllgwubibjaoiadzndfcodoaczxlugycuhdnkcvxjfzptwutlocwctpdfzfkygjrqxavotfrdlmazcfyjsrffzpnzfmuywpjkgywelrhiejhzeuagmlnefnmpscwcpjlcwbkgqwmohylgekxctqmitgtialbugksfirpemtpeixcypilupvlyppqalshwfeeqsqvjorfmpixdzlbiuxmshemapxjrmxhzkrquumpoiqzdgqldzfqohqyfhjeucjsuvjqtlyopxvgauncwthkcuxrtnsobcpkohuygbgltmgogainwmgebuiesejbwgajeaxhbegysmgfhiqdbpgbzsirzjntnfcvjlrqrstbxgznqzzzlxmkwbpvocrzeyquurrjnoblqeohyqfjhmsakicpazwvbvoouiytydwerlxzffwljqtqcwzytmdbpfloyfoixpqivuatqunngyazxvxdnyxhuahilvwnnmhimgxyvtopgsspwzubozebxefsmvsccyiykpoldfmmrnaywhbkcpgjvhuoclwxkxlbszuasmhynflhldmkkecgxjliseppoqrieqwtjkqidksvxctztcpjgedhsgnarqwyliuwbioarpurqdgubcowdepthbqxrtaxzatwzzoxbyuvinokysodoumpztnvcwtsbicuvtvqxszfdpcfdofzkcyqtojcywcsbijvsgitjbdpmqowvvdtllgdbdotqmkgklpizyltljyfdvmluinspznkutjlhwsfudbwiyrmisaqgjlhcneqnoeqrmsztwdkhjqorbfxpkzkihjpgdggwbajszidcvufnjyqxwwxglawjvneegoxztrcyjqlduczzhgdlesnaeyialxfhtcgwkxjcdsllpqwurenryothdqzdbjmppjyvwzxobkvlrxjytmpklararqdqjjnblxaliqhjvtbzysfkbhroccnlwnslpsvkarenxfezocpdocgamvufzcfjkxijwybwgbfmnnwuuunsoupaxbylxggremxxakntirsqjwkyxkldqokrlwevrvoovoekhesvxmbnycclrdhrzzbovalhtnzdhfuyatdgeyazstiovogkiuuvsjvvofvrfwyoxydkgkvhporcxccrlcecgqakknogwyemwcfmokuflsskyevbdkmmumftzcpdonagopprxcmwwuarqxbxglrnprstubwfjmxpwdsribxcglhhzthhajimjawanewsqmwifzndqwojclkdilkisapeegpeixshskpfdnsbmfjiojelllsvuquupkwvnkgfdwreabvhyswnsnsdofccebjqmawlkqbzcrxqcvargeqvruhgypqcfbltnhswzjbjayqglgsyttnvpxrjbbotzcmoscbykzxoqoqkooycfiviewtmpyzzpicglhsydafzdzresxjeqhahsukeprzooumbltzxhmqktoypcjenuqqlkpwtvyscfcxcodnokzxpcjlimqmeltiipawblteiyaftlvefhrglstuwupkfvjzhrlvejljfahcenhnsqmmcfpnbtwrkukzncabvgyvvfqhsairahkulbejckkoapagatvkhceqswlpzijcwddrooijdcircayscwmordpckluyryrguednmhzleeklgggqujqeobgesjdbpuueenraljjecjxssdosskkbhrnykrfvumazfcjalcttxewlxiwtsojrmeakgzkwympgkdrshbiaamlwwwvacewcjgaruzmcpblpgqdyykxjyybhwwgowlcsliiitgffqdfprvrrf\""
   ]
  },
  {
   "cell_type": "code",
   "execution_count": null,
   "metadata": {
    "collapsed": false
   },
   "outputs": [],
   "source": [
    "2**24 + 2**25"
   ]
  },
  {
   "cell_type": "code",
   "execution_count": null,
   "metadata": {
    "collapsed": true
   },
   "outputs": [],
   "source": [
    "class Solution(object):\n",
    "    def distinctEchoSubstrings(self, text):\n",
    "        cnts = [0]*26\n",
    "        pos_map = {tuple(cnts):[len(text)]}\n",
    "        valid = set()\n",
    "        \n",
    "        for i in range(len(text)-1, -1, -1):\n",
    "            cnts[ord(text[i])-ord('a')] = (cnts[ord(text[i])-ord('a')] + 1) % 2\n",
    "            \n",
    "            g = tuple(cnts)\n",
    "            \n",
    "            if g in pos_map:\n",
    "                for x in pos_map[g]:\n",
    "                    u = x-i\n",
    "                    if u % 2 == 0 and text[i:x] == text[i:i+u/2]*2:\n",
    "                        valid.add(text[i:x])\n",
    "                        \n",
    "            if g not in pos_map:\n",
    "                pos_map[g] = []\n",
    "            pos_map[g].append(i)\n",
    "                \n",
    "        return len(valid)"
   ]
  },
  {
   "cell_type": "code",
   "execution_count": null,
   "metadata": {
    "collapsed": false
   },
   "outputs": [],
   "source": [
    "sol = Solution()\n",
    "sol.distinctEchoSubstrings(\"tkfbgwgqvdsbnukcpxlpifuhbvtdxhhhqurotspohiuwhblnratkfbgwgqvdsbnukcpxlpifuhbvtdxhhhqurotspohiuwhblnratkfbgwgqvdsbnukcpxlpifuhbvtdxhhhqurotspohiuwhblnratkfbgwgqvdsbnukcpxlpifuhbvtdxhhhqurotspohiuwhblnra\")"
   ]
  },
  {
   "cell_type": "code",
   "execution_count": null,
   "metadata": {
    "collapsed": true
   },
   "outputs": [],
   "source": [
    "class Solution(object):\n",
    "    def orderlyQueue(self, S, K):\n",
    "        if len(S) == 1:\n",
    "            return S\n",
    "        \n",
    "        min_res = S\n",
    "        new_str = S[:]\n",
    "        \n",
    "        if K == 1:\n",
    "            while True:\n",
    "                new_str = new_str[1:] + new_str[0]\n",
    "                min_res = min(min_res, new_str)\n",
    "                if new_str == S:\n",
    "                    break\n",
    "                    \n",
    "            return min_res\n",
    "        \n",
    "        return ''.join(sorted(S))\n",
    "        \n",
    "#         while True:\n",
    "#             min_res = min(min_res, S)\n",
    "            \n",
    "#             heap = [S[i] for i in range(min(K, len(S)))]\n",
    "#             heapq.heapify(heap)\n",
    "            \n",
    "#             new_str = ''\n",
    "#             for i in range(len(heap), len(S)):\n",
    "#                 h = heapq.heappop(heap)\n",
    "#                 new_str += h\n",
    "#                 heapq.heappush(heap, S[i])\n",
    "            \n",
    "#             while len(heap) > 0:\n",
    "#                 h = heapq.heappop(heap)\n",
    "#                 new_str += h\n",
    "            \n",
    "#             if new_str in visited:\n",
    "#                 break\n",
    "            \n",
    "#             visited.add(new_str)\n",
    "#             S = new_str[:]\n",
    "        \n",
    "#         return min_res"
   ]
  },
  {
   "cell_type": "code",
   "execution_count": null,
   "metadata": {
    "collapsed": false
   },
   "outputs": [],
   "source": [
    "sol = Solution()\n",
    "sol.orderlyQueue(\"xitavoyjqiupzadbdyymyvuteolyeerecnuptghlzsynozeuuvteryojyokpufanyrqqmtgxhyycltlnusyeyyqygwupcaagtkuq\", 2)"
   ]
  },
  {
   "cell_type": "code",
   "execution_count": null,
   "metadata": {
    "collapsed": true
   },
   "outputs": [],
   "source": [
    "a = \"xitavoyjqiupzadbdyymyvuteolyeerecnuptghlzsynozeuuvteryojyokpufanyrqqmtgxhyycltlnusyeyyqygwupcaagtkuq\""
   ]
  },
  {
   "cell_type": "code",
   "execution_count": null,
   "metadata": {
    "collapsed": false
   },
   "outputs": [],
   "source": [
    "len(a)"
   ]
  },
  {
   "cell_type": "code",
   "execution_count": null,
   "metadata": {
    "collapsed": true
   },
   "outputs": [],
   "source": [
    "class Solution(object):\n",
    "    def dfs(self, s, cache):\n",
    "        \n",
    "        if '(' not in s:\n",
    "            return s\n",
    "        \n",
    "        left, right = 0, 0\n",
    "        start, end = -1, -1\n",
    "        \n",
    "        out = ''\n",
    "        for i in range(len(s)):\n",
    "            if s[i] == '(':\n",
    "                left += 1\n",
    "                start = i+1\n",
    "            elif s[i] == ')':\n",
    "                right += 1\n",
    "                end = i-1\n",
    "                \n",
    "            if s[i] != '(' and s[i] != ')' and start == -1:\n",
    "                out += s[i]\n",
    "            \n",
    "            if left == right:\n",
    "                if start <= end:\n",
    "                    g = s[start:end+1]\n",
    "                    a = self.dfs(g, cache) if g not in cache else cache[g]\n",
    "                    out += a[::-1]\n",
    "                left, right = 0, 0\n",
    "                start, end = -1, -1\n",
    "                \n",
    "        cache[s] = out\n",
    "        return out\n",
    "        \n",
    "    def reverseParentheses(self, s):\n",
    "        stack = ['']\n",
    "        for i in range(len(s)):\n",
    "            if s[i] == '(':\n",
    "                stack.append('')\n",
    "            elif s[i] == ')':\n",
    "                u = stack.pop()\n",
    "                if len(stack) > 0:\n",
    "                    stack[-1] += u[::-1]\n",
    "            else:\n",
    "                stack[-1] += s[i]\n",
    "                \n",
    "        return stack[0]"
   ]
  },
  {
   "cell_type": "code",
   "execution_count": null,
   "metadata": {
    "collapsed": false
   },
   "outputs": [],
   "source": [
    "sol = Solution()\n",
    "sol.reverseParentheses(\"()\")"
   ]
  },
  {
   "cell_type": "code",
   "execution_count": null,
   "metadata": {
    "collapsed": false
   },
   "outputs": [],
   "source": [
    "import numpy as np\n",
    "min(np.random.exponential(1.0, 10**5))"
   ]
  },
  {
   "cell_type": "code",
   "execution_count": null,
   "metadata": {
    "collapsed": false
   },
   "outputs": [],
   "source": [
    "a = np.random.exponential(1.0, 2)\n",
    "b = np.random.exponential(1.0, 1)"
   ]
  },
  {
   "cell_type": "code",
   "execution_count": null,
   "metadata": {
    "collapsed": false
   },
   "outputs": [],
   "source": [
    "print a, b"
   ]
  },
  {
   "cell_type": "code",
   "execution_count": null,
   "metadata": {
    "collapsed": false
   },
   "outputs": [],
   "source": [
    "n = 10**5\n",
    "c = 0\n",
    "for i in range(n):\n",
    "    a = np.random.normal(0.0, 1.0, 2)\n",
    "    b = np.random.normal(0.0, 1.0, 1)\n",
    "    if a[0] < a[1] and b[0] < a[1]:\n",
    "        c += 1\n",
    "    \n",
    "    if a[1] < a[0] and b[0] < a[0]:\n",
    "        c += 1\n",
    "        \n",
    "print float(c)/n"
   ]
  },
  {
   "cell_type": "code",
   "execution_count": null,
   "metadata": {
    "collapsed": false
   },
   "outputs": [],
   "source": [
    "2.0/3"
   ]
  },
  {
   "cell_type": "code",
   "execution_count": null,
   "metadata": {
    "collapsed": false
   },
   "outputs": [],
   "source": [
    "n = 1000\n",
    "\n",
    "hh = [0 for i in range(n)]\n",
    "hhh = [0 for i in range(n)]\n",
    "c_hhh = [0 for i in range(n)]\n",
    "\n",
    "for i in range(2, n):\n",
    "    if i == 2:\n",
    "        hh[i] = 1\n",
    "    else:\n",
    "        hh[i] = hh[i-1] + hh[i-2]\n",
    "    \n",
    "for i in range(3, n):\n",
    "    if i == 3:\n",
    "        hhh[i] = 1\n",
    "    else:\n",
    "        hhh[i] = hhh[i-1] + hhh[i-2] + hhh[i-3]\n",
    "    \n",
    "    c_hhh[i] = c_hhh[i-1] + hhh[i]/float(2**i)\n",
    "\n",
    "s = 0\n",
    "for i in range(4, n):\n",
    "    a = hh[i]/float(2**i)\n",
    "    b = c_hhh[i-1]\n",
    "    s += a*b"
   ]
  },
  {
   "cell_type": "code",
   "execution_count": null,
   "metadata": {
    "collapsed": false
   },
   "outputs": [],
   "source": [
    "s"
   ]
  },
  {
   "cell_type": "code",
   "execution_count": null,
   "metadata": {
    "collapsed": true
   },
   "outputs": [],
   "source": [
    "class Solution(object):\n",
    "    def find132pattern(self, nums):\n",
    "        prev_greater = [-1]*len(nums)\n",
    "        next_smaller = [-1]*len(nums)\n",
    "        \n",
    "        for i in range(1, len(nums)):\n",
    "            j = i-1\n",
    "            flag = True\n",
    "            while nums[j] <= nums[i]:\n",
    "                j = prev_greater[j]\n",
    "                if j == -1:\n",
    "                    flag = False\n",
    "                    break\n",
    "            \n",
    "            if flag:\n",
    "                prev_greater[i] = j\n",
    "                next_smaller[j] = i\n",
    "        \n",
    "        for i in range(len(nums)-2, -1, -1):\n",
    "            if next_smaller[i] == -1 and next_smaller[i+1] != -1 and nums[next_smaller[i+1]] < nums[i]:\n",
    "                next_smaller[i] = next_smaller[i+1]\n",
    "        \n",
    "        start, end = 0, 1\n",
    "        while end < len(nums):\n",
    "            if nums[end] > nums[end-1]:\n",
    "                if next_smaller[end] > end and nums[next_smaller[end]] > nums[start]:\n",
    "                    return True\n",
    "                end += 1\n",
    "            else:\n",
    "                start, end = end, end+1\n",
    "                \n",
    "        return False"
   ]
  },
  {
   "cell_type": "code",
   "execution_count": null,
   "metadata": {
    "collapsed": false
   },
   "outputs": [],
   "source": [
    "sol = Solution()\n",
    "sol.find132pattern([26,26,26,26,26,26,26,26,26,26,26,26,26,26,26,26,26,26,26,26,26,26,26,26,26,26,26,26,26,26,26,26,26,26,26,26,26,26,26,26,26,26,26,26,26,26,26,26,26,26,26,26,26,26,26,26,26,26,26,26,26,26,26,26,26,26,26,26,26,26,26,26,26,26,26,26,26,26,26,26,26,26,26,26,26,26,26,26,26,26,26,26,26,26,26,26,26,26,26,26,26,26,26,26,26,26,26,26,26,26,26,26,26,26,26,26,26,26,26,26,26,26,26,26,26,26,26,26,26,26,26,26,26,26,26,26,26,26,26,26,26,26,26,26,26,26,26,26,26,26,26,26,26,26,26,26,26,26,26,26,26,26,26,26,26,26,26,26,26,26,26,26,26,26,26,26,26,26,26,26,26,26,26,26,26,26,26,26,26,26,26,26,26,26,26,26,26,26,26,26,26,26,26,26,26,26,26,26,26,26,26,26,26,26,26,26,26,26,26,26,26,26,26,26,26,26,26,26,26,26,26,26,26,26,26,26,26,26,26,26,26,26,26,26,26,26,26,26,26,26,26,26,26,26,26,26,26,26,26,26,26,26,26,26,26,26,26,26,26,26,26,26,26,26,26,26,26,26,26,26,26,26,26,26,26,26,26,26,26,26,26,26,26,26,26,26,26,26,26,26,26,26,26,26,26,26,26,26,26,26,26,26,26,26,26,26,26,26,26,26,26,26,26,26,26,26,26,26,26,26,26,26,26,26,26,26,26,26,26,26,26,26,26,26,26,26,26,26,26,26,26,26,26,26,26,26,26,26,26,26,26,26,26,26,26,26,26,26,26,26,26,26,26,26,26,26,26,26,26,26,26,26,26,26,26,26,26,26,26,26,26,26,26,26,26,26,26,26,26,26,26,26,26,26,26,26,26,26,26,26,26,26,26,26,26,26,26,26,26,26,26,26,26,26,26,26,26,26,26,26,26,26,26,26,26,26,26,26,26,26,26,26,26,26,26,26,26,26,26,26,26,26,26,26,26,26,26,26,26,26,26,26,26,26,26,26,26,26,26,26,26,26,26,26,26,26,26,26,26,26,26,26,26,26,26,26,26,26,26,26,26,26,26,26,26,26,26,26,26,26,26,26,26,26,26,26,26,26,26,26,26,26,26,26,26,26,26,26,26,26,26,26,26,26,26,26,26,26,26,26,26,26,26,26,26,26,26,26,26,26,26,26,26,26,26,26,26,26,26,26,26,26,26,26,26,26,26,26,26,26,26,26,26,26,26,26,26,26,26,26,26,26,26,26,26,26,26,26,26,26,26,26,26,26,26,26,26,26,26,26,26,26,26,26,26,26,26,26,26,26,26,26,26,26,26,26,26,26,26,26,26,26,26,26,26,26,26,26,26,26,26,26,26,26,26,26,26,26,26,26,26,26,26,26,26,26,26,26,26,26,26,26,26,26,26,26,26,26,26,26,26,26,26,26,26,26,26,26,26,26,26,26,26,26,26,26,26,26,26,26,26,26,26,26,26,26,26,26,26,26,26,26,26,26,26,26,26,26,26,26,26,26,26,26,26,26,26,26,26,26,26,26,26,26,26,26,26,26,26,26,26,26,26,26,26,26,26,26,26,26,26,26,26,26,26,26,26,26,26,26,26,26,26,26,26,26,26,26,26,26,26,26,26,26,26,26,26,26,26,26,26,26,26,26,26,26,26,26,26,26,26,26,26,26,26,26,26,26,26,26,26,26,26,26,26,26,26,26,26,26,26,26,26,26,26,26,26,26,26,26,26,26,26,26,26,26,26,26,26,26,26,26,26,26,26,26,26,26,26,26,26,26,26,26,26,26,26,26,26,26,26,26,26,26,26,26,26,26,26,26,26,26,26,26,26,26,26,26,26,26,26,26,26,26,26,26,26,26,26,26,26,26,26,26,26,26,26,26,26,26,26,26,26,26,26,26,26,26,26,26,26,26,26,26,26,26,26,26,26,26,26,26,26,26,26,26,26,26,26,26,26,26,26,26,26,26,26,26,26,26,26,26,26,26,26,26,26,26,26,26,26,26,26,26,26,26,26,26,26,26,26,26,26,26,26,26,26,26,26,26,26,26,26,26,26,26,26,26,26,26,26,26,26,26,26,26,26,26,26,26,26,26,26,26,26,26,26,26,26,26,26,26,26,26,26,26,26,26,26,26,26,26,26,26,26,26,26,26,26,26,26,26,26,26,26,26,26,26,26,26,26,26,26,26,26,26,26,26,26,26,16,16,16,16,16,16,16,16,16,16,16,16,16,16,16,16,16,16,16,16,16,16,16,16,16,16,16,16,16,16,16,16,16,16,16,16,16,16,16,16,16,16,16,16,16,16,16,16,16,16,16,16,16,16,16,16,16,16,16,16,16,16,16,16,16,16,16,16,16,16,16,16,16,16,16,16,16,16,16,16,16,16,16,16,16,16,16,16,16,16,16,16,16,16,16,16,16,16,16,16,16,16,16,16,16,16,16,16,16,16,16,16,16,16,16,16,16,16,16,16,16,16,16,16,16,16,16,16,16,16,16,16,16,16,16,16,16,16,16,16,16,16,16,16,16,16,16,16,16,16,16,16,16,16,16,16,16,16,16,16,16,16,16,16,16,16,16,16,16,16,16,16,16,16,16,16,16,16,16,16,16,16,16,16,16,16,16,16,16,16,16,16,16,16,16,16,16,16,16,16,16,16,16,16,16,16,16,16,16,16,16,16,16,16,16,16,16,16,16,16,16,16,16,16,16,16,16,16,16,16,16,16,16,16,16,16,16,16,16,16,16,16,16,16,16,16,16,16,16,16,16,16,16,16,16,16,16,16,16,16,16,16,16,16,16,16,16,16,16,16,16,16,16,16,16,16,16,16,16,16,16,16,16,16,16,16,16,16,16,16,16,16,16,16,16,16,16,16,16,16,16,16,16,16,16,16,16,16,16,16,16,16,16,16,16,16,16,16,16,16,16,16,16,16,16,16,16,16,16,16,16,16,16,16,16,16,16,16,16,16,16,16,16,16,16,16,16,16,16,16,16,16,16,16,16,16,16,16,16,16,16,16,16,16,16,16,16,16,16,16,16,16,16,16,16,16,16,16,16,16,16,16,16,16,16,16,16,16,16,16,16,16,16,16,16,16,16,16,16,16,16,16,16,16,16,16,16,16,16,16,16,16,16,16,16,16,16,16,16,16,16,16,16,16,16,16,16,16,16,16,16,16,16,16,16,16,16,16,16,16,16,16,16,16,16,16,16,16,16,16,16,16,16,16,16,16,16,16,16,16,16,16,16,16,16,16,16,16,16,16,16,16,16,16,16,16,16,16,16,16,16,16,16,16,16,16,16,16,16,16,16,16,16,16,16,16,16,16,16,16,16,16,16,16,16,16,16,16,16,16,16,16,16,16,16,16,16,16,16,16,16,16,16,16,16,16,16,16,16,16,16,16,16,16,16,16,16,16,16,16,16,16,16,16,16,16,16,16,16,16,16,16,16,16,16,16,16,16,16,16,16,16,16,16,16,16,16,16,16,16,16,16,16,16,16,16,16,16,16,16,16,16,16,16,16,16,16,16,16,16,16,16,16,16,16,16,16,16,16,16,16,16,16,16,16,16,16,16,16,16,16,16,16,16,16,16,16,16,16,16,16,16,16,16,16,16,16,16,16,16,16,16,16,16,16,16,16,16,16,16,16,16,16,16,16,16,16,16,16,16,16,16,16,16,16,16,16,16,16,16,16,16,16,16,16,16,16,16,16,16,16,16,16,16,16,16,16,16,16,16,16,16,16,16,16,16,16,16,16,16,16,16,16,16,16,16,16,16,16,16,16,16,16,16,16,16,16,16,16,16,16,16,16,16,16,16,16,16,16,16,16,16,16,16,16,16,16,16,16,16,16,16,16,16,16,16,16,16,16,16,16,16,16,16,16,16,16,16,16,16,16,16,16,16,16,16,16,16,16,16,16,16,16,16,16,16,16,16,16,16,16,16,16,16,16,16,16,16,16,16,16,16,16,16,16,16,16,16,16,16,16,16,16,16,16,16,16,16,16,16,16,16,16,16,16,16,16,16,16,16,16,16,16,16,16,16,16,16,16,16,16,16,16,16,16,16,16,16,16,16,16,16,16,16,16,16,16,16,16,16,16,16,16,16,16,16,16,16,16,16,16,16,16,16,16,16,16,16,16,16,16,16,16,16,16,16,16,16,16,16,16,16,16,16,16,16,16,16,16,16,16,16,16,16,16,16,16,16,16,16,16,16,16,16,16,16,16,16,16,16,16,16,16,16,16,16,16,16,16,16,16,16,16,16,16,16,16,16,16,16,16,16,16,16,16,16,16,16,16,16,16,16,16,16,16,16,16,16,16,16,16,16,16,16,16,16,16,16,16,16,16,16,16,16,16,16,16,16,16,16,16,16,16,16,16,16,16,16,16,16,16,16,16,16,16,16,16,16,16,16,16,16,16,16,16,16,16,16,16,16,16,16,16,16,16,16,16,16,16,16,36,36,36,36,36,36,36,36,36,36,36,36,36,36,36,36,36,36,36,36,36,36,36,36,36,36,36,36,36,36,36,36,36,36,36,36,36,36,36,36,36,36,36,36,36,36,36,36,36,36,36,36,36,36,36,36,36,36,36,36,36,36,36,36,36,36,36,36,36,36,36,36,36,36,36,36,36,36,36,36,36,36,36,36,36,36,36,36,36,36,36,36,36,36,36,36,36,36,36,36,36,36,36,36,36,36,36,36,36,36,36,36,36,36,36,36,36,36,36,36,36,36,36,36,36,36,36,36,36,36,36,36,36,36,36,36,36,36,36,36,36,36,36,36,36,36,36,36,36,36,36,36,36,36,36,36,36,36,36,36,36,36,36,36,36,36,36,36,36,36,36,36,36,36,36,36,36,36,36,36,36,36,36,36,36,36,36,36,36,36,36,36,36,36,36,36,36,36,36,36,36,36,36,36,36,36,36,36,36,36,36,36,36,36,36,36,36,36,36,36,36,36,36,36,36,36,36,36,36,36,36,36,36,36,36,36,36,36,36,36,36,36,36,36,36,36,36,36,36,36,36,36,36,36,36,36,36,36,36,36,36,36,36,36,36,36,36,36,36,36,36,36,36,36,36,36,36,36,36,36,36,36,36,36,36,36,36,36,36,36,36,36,36,36,36,36,36,36,36,36,36,36,36,36,36,36,36,36,36,36,36,36,36,36,36,36,36,36,36,36,36,36,36,36,36,36,36,36,36,36,36,36,36,36,36,36,36,36,36,36,36,36,36,36,36,36,36,36,36,36,36,36,36,36,36,36,36,36,36,36,36,36,36,36,36,36,36,36,36,36,36,36,36,36,36,36,36,36,36,36,36,36,36,36,36,36,36,36,36,36,36,36,36,36,36,36,36,36,36,36,36,36,36,36,36,36,36,36,36,36,36,36,36,36,36,36,36,36,36,36,36,36,36,36,36,36,36,36,36,36,36,36,36,36,36,36,36,36,36,36,36,36,36,36,36,36,36,36,36,36,36,36,36,36,36,36,36,36,36,36,36,36,36,36,36,36,36,36,36,36,36,36,36,36,36,36,36,36,36,36,36,36,36,36,36,36,36,36,36,36,36,36,36,36,36,36,36,36,36,36,36,36,36,36,36,36,36,36,36,36,36,36,36,36,36,36,36,36,36,36,36,36,36,36,36,36,36,36,36,36,36,36,36,36,36,36,36,36,36,36,36,36,36,36,36,36,36,36,36,36,36,36,36,36,36,36,36,36,36,36,36,36,36,36,36,36,36,36,36,36,36,36,36,36,36,36,36,36,36,36,36,36,36,36,36,36,36,36,36,36,36,36,36,36,36,36,36,36,36,36,36,36,36,36,36,36,36,36,36,36,36,36,36,36,36,36,36,36,36,36,36,36,36,36,36,36,36,36,36,36,36,36,36,36,36,36,36,36,36,36,36,36,36,36,36,36,36,36,36,36,36,36,36,36,36,36,36,36,36,36,36,36,36,36,36,36,36,36,36,36,36,36,36,36,36,36,36,36,36,36,36,36,36,36,36,36,36,36,36,36,36,36,36,36,36,36,36,36,36,36,36,36,36,36,36,36,36,36,36,36,36,36,36,36,36,36,36,36,36,36,36,36,36,36,36,36,36,36,36,36,36,36,36,36,36,36,36,36,36,36,36,36,36,36,36,36,36,36,36,36,36,36,36,36,36,36,36,36,36,36,36,36,36,36,36,36,36,36,36,36,36,36,36,36,36,36,36,36,36,36,36,36,36,36,36,36,36,36,36,36,36,36,36,36,36,36,36,36,36,36,36,36,36,36,36,36,36,36,36,36,36,36,36,36,36,36,36,36,36,36,36,36,36,36,36,36,36,36,36,36,36,36,36,36,36,36,36,36,36,36,36,36,36,36,36,36,36,36,36,36,36,36,36,36,36,36,36,36,36,36,36,36,36,36,36,36,36,36,36,36,36,36,36,36,36,36,36,36,36,36,36,36,36,36,36,36,36,36,36,36,36,36,36,36,36,36,36,36,36,36,36,36,36,36,36,36,36,36,36,36,36,36,36,36,36,36,36,36,36,36,36,36,36,36,36,36,36,36,36,36,36,36,36,36,36,36,36,36,36,36,36,36,36,36,36,36,36,36,36,36,36,36,36,36,36,36,36,36,36,36,36,36,36,36,36,36,36,36,36,36,36,36,36,36,36,36,36,36,36,36,36,36,36,36,36,36,36,36,36,36,36,36,36,36,36,36,36,36,36,36,26,26,26,26,26,26,26,26,26,26,26,26,26,26,26,26,26,26,26,26,26,26,26,26,26,26,26,26,26,26,26,26,26,26,26,26,26,26,26,26,26,26,26,26,26,26,26,26,26,26,26,26,26,26,26,26,26,26,26,26,26,26,26,26,26,26,26,26,26,26,26,26,26,26,26,26,26,26,26,26,26,26,26,26,26,26,26,26,26,26,26,26,26,26,26,26,26,26,26,26,26,26,26,26,26,26,26,26,26,26,26,26,26,26,26,26,26,26,26,26,26,26,26,26,26,26,26,26,26,26,26,26,26,26,26,26,26,26,26,26,26,26,26,26,26,26,26,26,26,26,26,26,26,26,26,26,26,26,26,26,26,26,26,26,26,26,26,26,26,26,26,26,26,26,26,26,26,26,26,26,26,26,26,26,26,26,26,26,26,26,26,26,26,26,26,26,26,26,26,26,26,26,26,26,26,26,26,26,26,26,26,26,26,26,26,26,26,26,26,26,26,26,26,26,26,26,26,26,26,26,26,26,26,26,26,26,26,26,26,26,26,26,26,26,26,26,26,26,26,26,26,26,26,26,26,26,26,26,26,26,26,26,26,26,26,26,26,26,26,26,26,26,26,26,26,26,26,26,26,26,26,26,26,26,26,26,26,26,26,26,26,26,26,26,26,26,26,26,26,26,26,26,26,26,26,26,26,26,26,26,26,26,26,26,26,26,26,26,26,26,26,26,26,26,26,26,26,26,26,26,26,26,26,26,26,26,26,26,26,26,26,26,26,26,26,26,26,26,26,26,26,26,26,26,26,26,26,26,26,26,26,26,26,26,26,26,26,26,26,26,26,26,26,26,26,26,26,26,26,26,26,26,26,26,26,26,26,26,26,26,26,26,26,26,26,26,26,26,26,26,26,26,26,26,26,26,26,26,26,26,26,26,26,26,26,26,26,26,26,26,26,26,26,26,26,26,26,26,26,26,26,26,26,26,26,26,26,26,26,26,26,26,26,26,26,26,26,26,26,26,26,26,26,26,26,26,26,26,26,26,26,26,26,26,26,26,26,26,26,26,26,26,26,26,26,26,26,26,26,26,26,26,26,26,26,26,26,26,26,26,26,26,26,26,26,26,26,26,26,26,26,26,26,26,26,26,26,26,26,26,26,26,26,26,26,26,26,26,26,26,26,26,26,26,26,26,26,26,26,26,26,26,26,26,26,26,26,26,26,26,26,26,26,26,26,26,26,26,26,26,26,26,26,26,26,26,26,26,26,26,26,26,26,26,26,26,26,26,26,26,26,26,26,26,26,26,26,26,26,26,26,26,26,26,26,26,26,26,26,26,26,26,26,26,26,26,26,26,26,26,26,26,26,26,26,26,26,26,26,26,26,26,26,26,26,26,26,26,26,26,26,26,26,26,26,26,26,26,26,26,26,26,26,26,26,26,26,26,26,26,26,26,26,26,26,26,26,26,26,26,26,26,26,26,26,26,26,26,26,26,26,26,26,26,26,26,26,26,26,26,26,26,26,26,26,26,26,26,26,26,26,26,26,26,26,26,26,26,26,26,26,26,26,26,26,26,26,26,26,26,26,26,26,26,26,26,26,26,26,26,26,26,26,26,26,26,26,26,26,26,26,26,26,26,26,26,26,26,26,26,26,26,26,26,26,26,26,26,26,26,26,26,26,26,26,26,26,26,26,26,26,26,26,26,26,26,26,26,26,26,26,26,26,26,26,26,26,26,26,26,26,26,26,26,26,26,26,26,26,26,26,26,26,26,26,26,26,26,26,26,26,26,26,26,26,26,26,26,26,26,26,26,26,26,26,26,26,26,26,26,26,26,26,26,26,26,26,26,26,26,26,26,26,26,26,26,26,26,26,26,26,26,26,26,26,26,26,26,26,26,26,26,26,26,26,26,26,26,26,26,26,26,26,26,26,26,26,26,26,26,26,26,26,26,26,26,26,26,26,26,26,26,26,26,26,26,26,26,26,26,26,26,26,26,26,26,26,26,26,26,26,26,26,26,26,26,26,26,26,26,26,26,26,26,26,26,26,26,26,26,26,26,26,26,26,26,26,26,26,26,26,26,26,26,26,26,26,26,26,26,26,26,26,26,26,26,26,26,26,26,26,26,26,26,26,26,26,26,26,26,26,26,26,26,26,26,26,26,26,26,26,26,26,26,26,26,26,26,26,26,26,26,26,26,26,26,26,26,26,26,26,26,26,26,26,26,26,26,26,26,26,26,26,26,26,26,26,26,26,26,56,56,56,56,56,56,56,56,56,56,56,56,56,56,56,56,56,56,56,56,56,56,56,56,56,56,56,56,56,56,56,56,56,56,56,56,56,56,56,56,56,56,56,56,56,56,56,56,56,56,56,56,56,56,56,56,56,56,56,56,56,56,56,56,56,56,56,56,56,56,56,56,56,56,56,56,56,56,56,56,56,56,56,56,56,56,56,56,56,56,56,56,56,56,56,56,56,56,56,56,56,56,56,56,56,56,56,56,56,56,56,56,56,56,56,56,56,56,56,56,56,56,56,56,56,56,56,56,56,56,56,56,56,56,56,56,56,56,56,56,56,56,56,56,56,56,56,56,56,56,56,56,56,56,56,56,56,56,56,56,56,56,56,56,56,56,56,56,56,56,56,56,56,56,56,56,56,56,56,56,56,56,56,56,56,56,56,56,56,56,56,56,56,56,56,56,56,56,56,56,56,56,56,56,56,56,56,56,56,56,56,56,56,56,56,56,56,56,56,56,56,56,56,56,56,56,56,56,56,56,56,56,56,56,56,56,56,56,56,56,56,56,56,56,56,56,56,56,56,56,56,56,56,56,56,56,56,56,56,56,56,56,56,56,56,56,56,56,56,56,56,56,56,56,56,56,56,56,56,56,56,56,56,56,56,56,56,56,56,56,56,56,56,56,56,56,56,56,56,56,56,56,56,56,56,56,56,56,56,56,56,56,56,56,56,56,56,56,56,56,56,56,56,56,56,56,56,56,56,56,56,56,56,56,56,56,56,56,56,56,56,56,56,56,56,56,56,56,56,56,56,56,56,56,56,56,56,56,56,56,56,56,56,56,56,56,56,56,56,56,56,56,56,56,56,56,56,56,56,56,56,56,56,56,56,56,56,56,56,56,56,56,56,56,56,56,56,56,56,56,56,56,56,56,56,56,56,56,56,56,56,56,56,56,56,56,56,56,56,56,56,56,56,56,56,56,56,56,56,56,56,56,56,56,56,56,56,56,56,56,56,56,56,56,56,56,56,56,56,56,56,56,56,56,56,56,56,56,56,56,56,56,56,56,56,56,56,56,56,56,56,56,56,56,56,56,56,56,56,56,56,56,56,56,56,56,56,56,56,56,56,56,56,56,56,56,56,56,56,56,56,56,56,56,56,56,56,56,56,56,56,56,56,56,56,56,56,56,56,56,56,56,56,56,56,56,56,56,56,56,56,56,56,56,56,56,56,56,56,56,56,56,56,56,56,56,56,56,56,56,56,56,56,56,56,56,56,56,56,56,56,56,56,56,56,56,56,56,56,56,56,56,56,56,56,56,56,56,56,56,56,56,56,56,56,56,56,56,56,56,56,56,56,56,56,56,56,56,56,56,56,56,56,56,56,56,56,56,56,56,56,56,56,56,56,56,56,56,56,56,56,56,56,56,56,56,56,56,56,56,56,56,56,56,56,56,56,56,56,56,56,56,56,56,56,56,56,56,56,56,56,56,56,56,56,56,56,56,56,56,56,56,56,56,56,56,56,56,56,56,56,56,56,56,56,56,56,56,56,56,56,56,56,56,56,56,56,56,56,56,56,56,56,56,56,56,56,56,56,56,56,56,56,56,56,56,56,56,56,56,56,56,56,56,56,56,56,56,56,56,56,56,56,56,56,56,56,56,56,56,56,56,56,56,56,56,56,56,56,56,56,56,56,56,56,56,56,56,56,56,56,56,56,56,56,56,56,56,56,56,56,56,56,56,56,56,56,56,56,56,56,56,56,56,56,56,56,56,56,56,56,56,56,56,56,56,56,56,56,56,56,56,56,56,56,56,56,56,56,56,56,56,56,56,56,56,56,56,56,56,56,56,56,56,56,56,56,56,56,56,56,56,56,56,56,56,56,56,56,56,56,56,56,56,56,56,56,56,56,56,56,56,56,56,56,56,56,56,56,56,56,56,56,56,56,56,56,56,56,56,56,56,56,56,56,56,56,56,56,56,56,56,56,56,56,56,56,56,56,56,56,56,56,56,56,56,56,56,56,56,56,56,56,56,56,56,56,56,56,56,56,56,56,56,56,56,56,56,56,56,56,56,56,56,56,56,56,56,56,56,56,56,56,56,56,56,56,56,56,56,56,56,56,56,56,56,56,56,56,56,56,56,56,56,56,56,56,56,56,56,56,56,56,56,56,56,56,56,56,56,56,56,56,56,56,56,56,56,56,56,56,56,56,56,56,56,56,56,56,56,56,56,56,56,56,56,56,56,56,56,56,56,56,56,56,56,56,56,56,56,56,56,56,56,56,56,56,56,56,56,56,56,56,56,56,56,56,56,56,56,56,56,56,56,56,56,56,56,56,56,56,56,56,56,56,56,56,56,56,56,56,56,56,56,56,56,56,56,56,56,56,56,56,56,56,56,56,56,56,56,56,56,56,56,56,56,56,56,56,56,56,56,56,56,56,56,56,56,56,56,56,56,56,56,56,56,56,56,56,56,56,56,56,56,56,56,56,56,56,56,56,56,56,56,56,56,56,56,56,56,56,56,56,56,56,56,56,56,56,56,56,56,56,56,56,56,56,56,56,56,56,56,56,56,56,56,56,56,56,56,56,56,56,56,56,56,56,56,56,56,56,56,56,56,56,56,56,56,56,56,56,56,56,56,56,56,56,56,56,56,56,56,56,56,56,56,56,56,56,56,56,56,56,56,56,56,56,56,56,56,56,56,56,56,56,56,56,56,56,56,56,56,56,56,56,56,56,56,56,56,56,56,56,56,56,56,56,56,56,56,56,56,56,56,56,56,56,56,56,56,56,56,56,56,56,56,56,56,56,56,56,56,56,56,56,56,56,56,56,56,56,56,56,56,56,56,56,56,56,56,56,56,56,56,56,56,56,56,56,56,56,56,56,56,56,56,56,56,56,56,56,56,56,56,56,56,56,56,56,56,56,56,56,56,56,56,56,56,56,56,56,56,56,56,56,56,56,56,56,56,56,56,56,56,56,56,56,56,56,56,56,56,56,56,56,56,56,56,56,56,56,56,56,56,56,56,56,56,56,56,56,56,56,56,56,56,56,56,56,56,56,56,56,56,56,56,56,56,56,56,56,56,56,56,56,56,56,56,56,56,56,56,56,56,56,56,56,56,56,56,56,56,56,56,56,56,56,56,56,56,56,56,56,56,56,56,56,56,56,56,56,56,56,56,56,56,56,56,56,56,56,56,56,56,56,56,56,56,56,56,56,56,56,56,56,56,56,56,56,56,56,56,56,56,56,56,56,56,56,56,56,56,56,56,56,56,56,56,56,56,56,56,56,56,56,56,56,56,56,56,56,56,56,56,56,56,56,56,56,56,56,56,56,56,56,56,56,56,56,56,56,56,56,56,56,56,56,56,56,56,56,56,56,56,56,56,56,56,56,56,56,56,56,56,56,56,56,56,56,56,56,56,56,56,56,56,56,56,56,56,56,56,56,56,56,56,56,56,56,56,56,56,56,56,56,56,56,56,56,56,56,56,56,56,56,56,56,56,56,56,56,56,56,56,56,56,56,56,56,56,56,56,56,56,56,56,56,56,56,56,56,56,56,56,56,56,56,56,56,56,56,56,56,56,56,56,56,56,56,56,56,56,56,56,56,56,56,56,56,56,56,56,56,56,56,56,56,56,56,56,56,56,56,56,56,56,56,56,56,56,56,56,56,56,56,56,56,56,56,56,56,56,56,56,56,56,56,56,56,56,56,56,56,56,56,56,56,56,56,56,56,56,56,56,56,56,56,56,56,56,56,56,56,56,56,56,56,56,56,56,56,56,56,56,56,56,56,56,56,56,56,56,56,56,56,56,56,56,56,56,56,56,56,56,56,56,56,56,56,56,56,56,56,56,56,56,56,56,56,56,56,56,56,56,56,56,56,56,56,56,56,56,56,56,56,56,56,56,56,56,56,56,56,56,56,56,56,56,56,56,56,56,56,56,56,56,56,56,56,56,56,56,56,56,56,56,56,56,56,56,56,56,56,56,56,56,56,56,56,56,56,56,56,56,56,56,56,56,56,56,56,56,56,56,56,56,56,56,56,56,56,56,56,56,56,56,56,56,56,56,56,56,56,56,56,56,56,56,56,56,56,56,56,56,56,56,56,56,56,56,56,56,56,56,56,56,56,56,56,56,56,56,56,56,56,56,56,56,56,56,56,56,56,56,56,56,56,56,56,56,56,56,56,56,56,56,56,56,56,56,56,56,56,56,56,56,56,56,56,56,56,56,56,56,56,56,56,56,56,56,56,56,56,56,56,56,56,56,56,56,56,56,56,56,56,56,56,56,56,56,56,56,56,56,56,56,56,56,56,56,56,56,56,56,56,56,56,56,56,56,56,56,56,56,56,56,56,56,56,56,56,56,56,56,56,56,56,56,56,56,56,56,56,56,56,56,56,56,56,56,56,56,56,56,56,56,56,56,56,56,56,56,56,56,56,56,56,56,56,56,56,56,56,56,56,56,56,56,56,56,56,56,56,56,56,56,56,56,56,56,56,56,56,56,56,56,56,56,56,56,56,56,56,56,56,56,56,56,56,56,56,56,56,56,56,56,56,56,56,56,56,56,56,56,56,56,56,56,56,56,56,56,56,56,56,56,56,56,56,56,56,56,56,56,56,56,56,56,56,56,56,56,56,56,56,56,56,56,56,56,56,56,56,56,56,56,56,56,56,56,56,56,56,56,56,56,56,56,56,56,56,56,56,56,56,56,56,56,56,56,56,56,56,56,56,56,56,56,56,56,56,56,56,56,56,56,56,56,56,56,56,56,56,56,56,56,56,56,56,56,56,56,56,56,56,56,56,56,56,56,56,56,56,56,56,56,56,56,56,56,56,56,56,56,56,56,56,56,56,56,56,56,56,56,56,56,56,56,56,56,56,56,56,56,56,56,56,56,56,56,56,56,56,56,56,56,56,56,56,56,56,56,56,56,56,56,56,56,56,56,56,56,56,56,56,56,56,56,56,56,56,56,56,56,56,56,56,56,56,56,56,56,56,56,56,56,56,56,56,56,56,56,56,56,56,56,56,56,56,56,56,56,56,56,56,56,56,56,56,56,56,56,56,56,56,56,56,56,56,56,56,56,56,56,56,56,56,56,56,56,56,56,56,56,56,56,56,56,56,56,56,56,56,56,56,56,56,56,56,56,56,56,56,56,56,56,56,56,56,56,56,56,56,56,56,56,56,56,56,56,56,56,56,56,56,56,56,56,56,56,56,56,56,56,56,56,56,56,56,56,56,56,56,56,56,56,56,56,56,56,56,56,56,56,56,56,56,56,56,56,56,56,56,56,56,56,56,56,56,56,56,56,56,56,56,56,56,56,56,56,56,56,56,56,56,56,56,56,56,56,56,56,56,56,56,56,56,56,56,56,56,56,56,56,56,56,56,56,56,56,56,56,56,56,56,56,56,56,56,56,56,56,56,56,56,56,56,56,56,56,56,56,56,56,56,56,56,56,56,56,56,56,56,56,56,56,56,56,56,56,56,56,56,56,56,56,56,56,56,56,56,56,56,56,56,56,56,56,56,56,56,56,56,56,56,56,56,56,56,56,56,56,56,56,56,56,56,56,56,56,56,56,56,56,56,56,56,56,56,56,56,56,56,56,56,56,56,56,56,56,56,56,56,56,56,56,56,56,56,56,56,56,56,56,56,56,56,56,56,56,56,56,56,56,56,56,56,56,56,56,56,56,56,56,56,56,56,56,56,56,56,56,56,56,56,56,56,56,56,56,56,56,56,56,56,56,56,56,56,56,56,56,56,56,56,56,56,56,56,56,56,56,56,56,56,56,56,56,56,56,56,56,56,56,56,56,56,56,56,56,56,56,56,56,56,56,56,56,56,56,56,56,56,56,56,56,56,56,56,56,56,56,56,56,56,56,56,56,56,56,56,56,56,56,56,56,56,56,56,56,56,56,56,56,56,56,56,56,56,56,56,56,56,56,56,56,56,56,56,56,56,56,56,56,56,56,56,56,56,56,56,56,56,56,56,56,56,56,56,56,56,56,56,56,56,56,56,56,56,56,56,56,56,56,56,56,56,56,56,56,56,56,56,56,56,56,56,56,56,56,56,56,56,56,56,56,56,56,56,56,56,56,56,56,56,56,56,56,56,56,56,56,56,56,56,56,56,56,56,56,56,56,56,56,56,56,56,56,56,56,56,56,56,56,56,56,56,56,56,56,56,56,56,56,56,56,56,56,56,56,56,56,56,56,56,56,56,56,56,56,56,56,56,56,56,56,56,56,56,56,56,56,56,56,56,56,56,56,56,56,56,56,56,56,56,56,56,56,56,56,56,56,56,56,56,56,56,56,56,56,56,56,56,56,56,56,56,56,56,56,56,56,56,56,56,56,56,56,56,56,56,56,56,56,56,56,56,56,56,56,56,56,56,56,56,56,56,56,56,56,56,56,56,56,56,56,56,56,56,56,56,56,56,56,56,56,56,56,56,56,56,56,56,56,56,56,56,56,56,56,56,56,56,56,56,56,56,56,56,56,56,56,56,56,56,56,56,56,56,56,56,56,56,56,56,56,56,56,56,56,56,56,56,56,56,56,56,56,56,56,56,56,56,56,56,56,56,56,56,56,56,56,56,56,56,56,56,56,56,56,56,56,56,56,56,56,56,56,56,56,56,56,56,56,56,56,56,56,56,56,56,56,56,56,56,56,56,56,56,56,56,56,56,56,56,56,56,56,56,56,56,56,56,56,56,56,56,56,56,56,56,56,56,56,56,56,56,56,56,56,56,56,56,56,56,56,56,56,56,56,56,56,56,56,56,56,56,56,56,56,56,56,56,56,56,56,56,56,56,56,56,56,56,56,56,56,56,56,56,56,56,56,56,56,56,56,56,56,56,56,56,56,56,56,56,56,56,56,56,56,56,56,56,56,56,56,56,56,56,56,56,56,56,56,56,56,56,56,56,56,56,56,56,56,56,56,56,56,56,56,56,56,56,56,56,56,56,56,56,56,56,56,56,56,56,56,56,56,56,56,56,56,56,56,56,56,56,56,56,56,56,56,56,56,56,56,56,56,56,56,56,56,56,56,56,56,56,56,56,56,56,56,56,56,56,56,56,56,56,56,56,56,56,56,56,56,56,56,56,56,56,56,56,56,56,56,56,56,56,56,56,56,56,56,56,56,56,56,56,56,56,56,56,56,56,56,56,56,56,56,56,56,56,56,56,56,56,56,56,56,56,56,56,56,56,56,56,56,56,56,56,56,56,56,56,56,56,56,56,56,56,56,56,56,56,56,56,56,56,56,56,56,56,56,56,56,56,56,56,56,56,56,56,56,56,56,56,56,56,56,56,56,56,56,56,56,56,56,56,56,56,56,56,56,56,56,56,56,56,56,56,56,56,56,56,56,56,56,56,56,56,56,56,56,56,56,56,56,56,56,56,56,56,56,56,56,56,56,56,56,56,56,56,56,56,56,56,56,56,56,56,56,56,56,56,56,56,56,56,56,56,56,56,56,56,56,56,56,56,56,56,56,56,56,56,56,56,56,56,56,56,56,56,56,56,56,56,56,56,56,56,56,56,56,56,56,56,56,56,56,56,56,56,56,56,56,56,56,56,56,56,56,56,56,56,56,56,56,56,56,56,56,56,56,56,56,56,56,56,56,56,56,56,56,56,56,56,56,56,56,56,56,56,56,56,56,56,56,56,56,56,56,56,56,56,56,56,56,56,56,56,56,56,56,56,56,56,56,56,56,56,56,56,56,56,56,56,56,56,56,56,56,56,56,56,56,56,56,56,56,56,56,56,56,56,56,56,56,56,56,56,56,56,56,56,56,56,56,56,56,56,56,56,56,56,56,56,56,56,56,56,56,56,56,56,56,56,56,56,56,56,56,56,56,56,56,56,56,56,56,56,56,56,56,56,56,56,56,56,56,56,56,56,56,56,56,56,56,56,56,56,56,56,56,56,56,56,56,56,56,56,56,56,56,56,56,56,56,56,56,56,56,56,56,56,56,56,56,56,56,56,56,56,56,56,56,56,56,56,56,56,56,56,56,56,56,56,56,56,56,56,56,56,56,56,56,56,56,56,56,56,56,56,56,56,56,56,56,56,56,56,56,56,56,56,56,56,56,56,56,56,56,56,56,56,56,56,56,56,56,56,56,56,56,56,56,56,56,56,56,56,56,56,56,56,56,56,56,56,56,56,56,56,56,56,56,56,56,56,56,56,56,56,56,56,56,56,56,56,56,56,56,56,56,56,56,56,56,56,56,56,56,56,56,56,56,56,56,56,56,56,56,56,56,56,56,56,56,56,56,56,56,56,56,56,56,56,56,56,56,56,56,56,56,56,56,56,56,56,56,56,56,56,56,56,56,56,56,56,56,56,56,56,56,56,56,56,56,56,56,56,56,56,56,56,56,56,56,56,56,56,56,56,56,56,56,56,56,56,56,56,56,56,56,56,56,56,56,56,56,56,56,56,56,56,56,56,56,56,56,56,56,56,56,56,56,56,56,56,56,56,56,56,56,56,56,56,56,56,56,56,56,56,56,56,56,56,56,56,56,56,56,56,56,56,56,56,56,56,56,56,56,56,56,56,56,56,56,56,56,56,56,56,56,56,56,56,56,56,56,56,56,56,56,56,56,56,56,56,56,56,56,56,56,56,56,56,56,56,56,56,56,56,56,56,56,56,56,56,56,56,56,56,56,56,56,56,56,56,56,56,56,56,56,56,56,56,56,56,56,56,56,56,56,56,56,56,56,56,56,56,56,56,56,56,56,56,56,56,56,56,56,56,56,56,56,56,56,56,56,56,56,56,56,56,56,56,56,56,56,56,56,56,56,56,56,56,56,56,56,56,56,56,56,56,56,56,56,56,56,56,56,56,56,56,56,56,56,56,56,56,56,56,56,56,56,56,56,56,56,56,56,56,56,56,56,56,56,56,56,56,56,56,56,56,56,56,56,56,56,56,56,56,56,56,56,56,56,56,56,56,56,56,56,56,56,56,56,56,56,56,56,56,56,56,56,56,56,56,56,56,56,56,56,56,56,56,56,56,56,56,56,56,56,56,56,56,56,56,56,56,56,56,56,56,56,56,56,56,56,56,56,56,56,56,56,56,56,56,56,56,56,56,56,56,56,56,56,56,56,56,56,56,56,56,56,56,56,56,56,56,56,56,56,56,56,56,56,56,56,56,56,56,56,56,56,56,56,56,56,56,56,56,56,56,56,56,56,56,56,56,56,56,56,56,56,56,56,56,56,56,56,56,56,56,56,56,56,56,56,56,56,56,56,56,56,56,56,56,56,56,56,56,56,56,56,56,56,56,56,56,56,56,56,56,56,56,56,56,56,56,56,56,56,56,56,56,56,56,56,56,56,56,56,56,56,56,56,56,56,56,56,56,56,56,56,56,56,56,56,56,56,56,56,56,56,56,56,56,56,56,56,56,56,56,56,56,56,56,56,56,56,56,56,56,56,56,56,56,56,56,56,56,56,56,56,56,56,56,56,56,56,56,56,56,56,56,56,56,56,56,56,56,56,56,56,56,56,56,56,56,56,56,56,56,56,56,56,56,56,56,56,56,56,56,56,56,56,56,56,56,56,56,56,56,56,56,56,56,56,56,56,56,56,56,56,56,56,56,56,56,56,56,56,56,56,56,56,56,56,56,56,56,56,56,56,56,56,56,56,56,56,56,56,56,56,56,56,56,56,56,56,56,56,56,56,56,56,56,56,56,56,56,56,56,56,56,56,56,56,56,56,56,56,56,56,56,56,56,56,56,56,56,56,56,56,56,56,56,56,56,56,56,56,56,56,56,56,56,56,56,56,56,56,56,56,56,56,56,56,56,56,56,56,56,56,56,56,56,56,56,56,56,56,56,56,56,56,56,56,56,56,56,56,56,56,56,56,56,56,56,56,56,56,56,56,56,56,56,56,56,56,56,56,56,56,56,56,56,56,56,56,56,56,56,56,56,56,56,56,56,56,56,56,56,56,56,56,56,56,56,56,56,56,56,56,56,56,56,56,56,56,56,56,56,56,56,56,56,56,56,56,56,56,56,56,56,56,56,56,56,56,56,56,56,56,56,56,56,56,56,56,56,56])"
   ]
  },
  {
   "cell_type": "code",
   "execution_count": null,
   "metadata": {
    "collapsed": true
   },
   "outputs": [],
   "source": [
    "class Solution(object):\n",
    "    def nextGreaterElements(self, nums):\n",
    "        next_greater = [-1]*len(nums)\n",
    "        \n",
    "        for i in range(len(nums)-1, -1, -1):\n",
    "            if i == len(nums)-1:\n",
    "                next_greater[i] = len(nums)\n",
    "            else:\n",
    "                j = i+1\n",
    "                flag = True\n",
    "                while nums[j] <= nums[i]:\n",
    "                    j = next_greater[j]\n",
    "                    if j == len(nums):\n",
    "                        flag = False\n",
    "                        break\n",
    "                \n",
    "                if flag:\n",
    "                    next_greater[i] = j\n",
    "                else:\n",
    "                    next_greater[i] = len(nums)\n",
    "        \n",
    "        out = []\n",
    "        for i in range(len(nums)):\n",
    "            if next_greater[i] < len(nums):\n",
    "                out.append(nums[next_greater[i]])\n",
    "            else:\n",
    "                if i != 0:\n",
    "                    j = 0\n",
    "                    flag = True\n",
    "                    while nums[j] <= nums[i]:\n",
    "                        j = next_greater[j]\n",
    "                        if j == len(nums):\n",
    "                            flag = False\n",
    "                            break\n",
    "                    if flag:\n",
    "                        out.append(nums[j])\n",
    "                    else:\n",
    "                        out.append(-1)\n",
    "                else:\n",
    "                    out.append(-1)\n",
    "        return out"
   ]
  },
  {
   "cell_type": "code",
   "execution_count": null,
   "metadata": {
    "collapsed": false
   },
   "outputs": [],
   "source": [
    "sol = Solution()\n",
    "sol.nextGreaterElements([4])"
   ]
  },
  {
   "cell_type": "code",
   "execution_count": null,
   "metadata": {
    "collapsed": true
   },
   "outputs": [],
   "source": [
    "class Solution(object):\n",
    "    def asteroidCollision(self, asteroids):\n",
    "        stack = []\n",
    "        for i in range(len(asteroids)):\n",
    "            if asteroids[i] < 0:\n",
    "                q = None\n",
    "                \n",
    "                while len(stack) > 0 and stack[-1] > 0:\n",
    "                    p = stack.pop()\n",
    "                    if abs(p) != abs(asteroids[i]):\n",
    "                        q = p if abs(p) > abs(asteroids[i]) else asteroids[i]\n",
    "                        if len(stack) == 0 or q > 0 or (stack[-1] < 0 and q < 0):\n",
    "                            stack.append(q)\n",
    "                            break\n",
    "                    else:\n",
    "                        q = -float(\"Inf\")\n",
    "                        break\n",
    "                \n",
    "                if q is None:\n",
    "                    stack.append(asteroids[i])\n",
    "            else:\n",
    "                stack.append(asteroids[i])\n",
    "                    \n",
    "        return stack"
   ]
  },
  {
   "cell_type": "code",
   "execution_count": null,
   "metadata": {
    "collapsed": false
   },
   "outputs": [],
   "source": [
    "sol = Solution()\n",
    "sol.asteroidCollision([-2,-2,2,-1])"
   ]
  },
  {
   "cell_type": "code",
   "execution_count": null,
   "metadata": {
    "collapsed": false
   },
   "outputs": [],
   "source": [
    "class Solution(object):\n",
    "    def decodeAtIndex(self, S, K):\n",
    "        stack = []\n",
    "        curr = ''\n",
    "        curr_mult = 0\n",
    "        \n",
    "        for i in range(len(S)):\n",
    "            if S[i].isdigit():\n",
    "                if curr != '' or len(stack) > 0:\n",
    "                    if curr == '':\n",
    "                        stack.append((curr_mult + len(curr), int(S[i]), stack[-1][2]))\n",
    "                    else:\n",
    "                        stack.append((curr_mult + len(curr), int(S[i]), curr))\n",
    "                    curr_mult = (curr_mult + len(curr))*int(S[i])\n",
    "                    \n",
    "                    if curr_mult >= K:\n",
    "                        break\n",
    "                    curr = ''\n",
    "            else:\n",
    "                curr += S[i]\n",
    "        \n",
    "        if curr_mult < K:\n",
    "            stack.append((curr_mult + len(curr), 1, curr))\n",
    "            \n",
    "        print stack\n",
    "        \n",
    "        if stack[-1][0]*stack[-1][1] < K:\n",
    "            return ''\n",
    "        \n",
    "        g = K\n",
    "        p = stack[-1]\n",
    "        while len(stack) > 0 and stack[-1][0]*stack[-1][1] >= g:\n",
    "            p = stack.pop()\n",
    "            g = g % p[0] if g % p[0] != 0 else p[0]\n",
    "            print g, stack\n",
    "        \n",
    "        k = g % (stack[-1][0]*stack[-1][1]) if len(stack) > 0 else g\n",
    "        print p, k\n",
    "        return p[2][k-1]"
   ]
  },
  {
   "cell_type": "code",
   "execution_count": null,
   "metadata": {
    "collapsed": false
   },
   "outputs": [],
   "source": [
    "sol = Solution()\n",
    "sol.decodeAtIndex(\"h5xk8ar9s222v93y22w2\", 311373)"
   ]
  },
  {
   "cell_type": "code",
   "execution_count": null,
   "metadata": {
    "collapsed": false
   },
   "outputs": [],
   "source": [
    "class Solution(object):\n",
    "    def validateStackSequences(self, pushed, popped):\n",
    "        stack = []\n",
    "        i, j = 0, 0\n",
    "        while i < len(pushed) and j < len(popped):\n",
    "            if len(stack) > 0 and popped[j] == stack[-1]:\n",
    "                stack.pop()\n",
    "                j += 1\n",
    "            else:\n",
    "                stack.append(pushed[i])\n",
    "                i += 1\n",
    "        \n",
    "        while len(stack) > 0 and stack[-1] == popped[j]:\n",
    "            stack.pop()\n",
    "            j += 1\n",
    "            \n",
    "        return len(stack) == 0"
   ]
  },
  {
   "cell_type": "code",
   "execution_count": null,
   "metadata": {
    "collapsed": false
   },
   "outputs": [],
   "source": [
    "sol = Solution()\n",
    "sol.validateStackSequences([1,2], [1,2])"
   ]
  },
  {
   "cell_type": "code",
   "execution_count": null,
   "metadata": {
    "collapsed": true
   },
   "outputs": [],
   "source": [
    "class Solution(object):\n",
    "    def removeDuplicates(self, s, k):\n",
    "        stack = []\n",
    "        for i in range(len(s)):\n",
    "            if len(stack) > 0 and s[i] == stack[-1][0]:\n",
    "                stack[-1][1] += 1\n",
    "                if stack[-1][1] == k:\n",
    "                    stack.pop()\n",
    "            else:\n",
    "                stack.append([s[i], 1])\n",
    "                \n",
    "        out = ''\n",
    "        for x, y in stack:\n",
    "            out += x*y\n",
    "        return out"
   ]
  },
  {
   "cell_type": "code",
   "execution_count": null,
   "metadata": {
    "collapsed": false
   },
   "outputs": [],
   "source": [
    "sol = Solution()\n",
    "sol.removeDuplicates(\"pbbcggttciiippooaais\", 1)"
   ]
  },
  {
   "cell_type": "code",
   "execution_count": null,
   "metadata": {
    "collapsed": true
   },
   "outputs": [],
   "source": [
    "class Solution(object):\n",
    "    def isValid(self, S):\n",
    "        stack = []\n",
    "        for i in range(len(S)):\n",
    "            if len(stack) >= 2 and S[i] == 'c' and stack[-2] == 'a' and stack[-1] == 'b':\n",
    "                stack.pop()\n",
    "                stack.pop()\n",
    "            else:\n",
    "                stack.append(S[i])\n",
    "                \n",
    "        return len(stack) == 0"
   ]
  },
  {
   "cell_type": "code",
   "execution_count": null,
   "metadata": {
    "collapsed": false
   },
   "outputs": [],
   "source": [
    "sol = Solution()\n",
    "sol.isValid(\"abc\")"
   ]
  },
  {
   "cell_type": "code",
   "execution_count": null,
   "metadata": {
    "collapsed": false
   },
   "outputs": [],
   "source": [
    "from scipy.special import factorial\n",
    "\n",
    "def get_counts(N, K):\n",
    "    cache = [[0]*(K+1) for i in range(N+1)]\n",
    "\n",
    "    for i in range(1, N+1):\n",
    "        for j in range(i, K+1):\n",
    "            if i == 1:\n",
    "                cache[i][j] = 1\n",
    "            elif i == j:\n",
    "                cache[i][j] = int(factorial(i, exact=True))\n",
    "            else:\n",
    "                cache[i][j] = i*(cache[i][j-1] + cache[i-1][j-1])\n",
    "\n",
    "    return cache\n",
    "\n",
    "N, M = 4, 20\n",
    "cache = get_counts(N, M)\n",
    "\n",
    "s = 0\n",
    "for i in range(N, M+1):\n",
    "    s += i*N*cache[N-1][i-1]/float(N**i)\n",
    "\n",
    "print s\n",
    "    \n",
    "s1 = 0\n",
    "for i in range(1, N+1):\n",
    "    s1 += 1.0/i\n",
    "    \n",
    "s1 *= N\n",
    "\n",
    "print s1"
   ]
  },
  {
   "cell_type": "code",
   "execution_count": null,
   "metadata": {
    "collapsed": false
   },
   "outputs": [],
   "source": [
    "cache[4][10]"
   ]
  },
  {
   "cell_type": "code",
   "execution_count": null,
   "metadata": {
    "collapsed": false
   },
   "outputs": [],
   "source": [
    "s"
   ]
  },
  {
   "cell_type": "code",
   "execution_count": null,
   "metadata": {
    "collapsed": false
   },
   "outputs": [],
   "source": [
    "s1"
   ]
  },
  {
   "cell_type": "code",
   "execution_count": null,
   "metadata": {
    "collapsed": false
   },
   "outputs": [],
   "source": [
    "3**5-3*2**5+3"
   ]
  },
  {
   "cell_type": "code",
   "execution_count": null,
   "metadata": {
    "collapsed": false
   },
   "outputs": [],
   "source": [
    "from scipy.special import comb\n",
    "\n",
    "N, K = 4, 10\n",
    "s, j = 0, 0\n",
    "for i in range(N, 0, -1):\n",
    "    s += (-1)**j*int(comb(N, i, exact=True))*i**K\n",
    "    j += 1"
   ]
  },
  {
   "cell_type": "code",
   "execution_count": null,
   "metadata": {
    "collapsed": false
   },
   "outputs": [],
   "source": [
    "s"
   ]
  },
  {
   "cell_type": "code",
   "execution_count": null,
   "metadata": {
    "collapsed": false
   },
   "outputs": [],
   "source": [
    "from scipy.special import comb\n",
    "\n",
    "def distinct(K, N):\n",
    "    s, j = 0, 0\n",
    "    for i in range(K, 0, -1):\n",
    "        s += (-1)**j*int(comb(K, K-i, exact=True))*i**N\n",
    "        j += 1\n",
    "    return s\n",
    "\n",
    "N = 10\n",
    "expectation = 0\n",
    "for i in range(1, N+1):\n",
    "    expectation += i*distinct(i, N)*int(comb(N, i, exact=True))/float(N**N)\n",
    "\n",
    "print expectation\n",
    "\n",
    "print N*(1.0-(float(N-1)/N)**N)"
   ]
  },
  {
   "cell_type": "code",
   "execution_count": null,
   "metadata": {
    "collapsed": true
   },
   "outputs": [],
   "source": [
    "s = 0\n",
    "for i in range(38, 76):\n",
    "    s += int(comb(75, i, exact=True))*0.25**i*0.75**(75-i)"
   ]
  },
  {
   "cell_type": "code",
   "execution_count": null,
   "metadata": {
    "collapsed": false
   },
   "outputs": [],
   "source": [
    "s"
   ]
  },
  {
   "cell_type": "code",
   "execution_count": null,
   "metadata": {
    "collapsed": false
   },
   "outputs": [],
   "source": [
    "s = 0\n",
    "for i in range(1, 33):\n",
    "    s += i*int(comb(32, i, exact=True))"
   ]
  },
  {
   "cell_type": "code",
   "execution_count": null,
   "metadata": {
    "collapsed": false
   },
   "outputs": [],
   "source": [
    "s/float(2**32)"
   ]
  },
  {
   "cell_type": "code",
   "execution_count": null,
   "metadata": {
    "collapsed": false
   },
   "outputs": [],
   "source": [
    "class Solution(object):\n",
    "    def add_elem(self, i, left, right, stack, visited):\n",
    "        if (left, right, i) not in visited:\n",
    "            stack.append([left, right, i])\n",
    "            visited.add((left, right, i))\n",
    "            \n",
    "    def checkValidString(self, s):\n",
    "        stack = []\n",
    "        visited = set()\n",
    "        \n",
    "        while True:\n",
    "            if len(stack) > 0:\n",
    "                left, right, i = stack.pop()\n",
    "            else:\n",
    "                left, right, i = 0, 0, -1\n",
    "            \n",
    "            if i == len(s)-1:\n",
    "                if left == right:\n",
    "                    return True\n",
    "            \n",
    "            j = i+1\n",
    "            if j < len(s) and left >= right:\n",
    "                if s[j] == '(':\n",
    "                    self.add_elem(j, left+1, right, stack, visited)\n",
    "                    \n",
    "                elif s[j] == ')':\n",
    "                    self.add_elem(j, left, right+1, stack, visited)\n",
    "                    \n",
    "                else:\n",
    "                    self.add_elem(j, left+1, right, stack, visited)\n",
    "                        \n",
    "                    if left == right:\n",
    "                        self.add_elem(j, left, right, stack, visited)\n",
    "\n",
    "                    if left > right:\n",
    "                        self.add_elem(j, left, right+1, stack, visited)\n",
    "                        self.add_elem(j, left, right, stack, visited)\n",
    "                            \n",
    "            if len(stack) == 0:\n",
    "                break\n",
    "                \n",
    "        return False"
   ]
  },
  {
   "cell_type": "code",
   "execution_count": null,
   "metadata": {
    "collapsed": false
   },
   "outputs": [],
   "source": [
    "sol = Solution()\n",
    "sol.checkValidString(\"((((()(()()()*()(((((*)()*(**(())))))(())()())(((())())())))))))(((((())*)))()))(()((*()*(*)))(*)()\")"
   ]
  },
  {
   "cell_type": "code",
   "execution_count": null,
   "metadata": {
    "collapsed": true
   },
   "outputs": [],
   "source": [
    "class Solution(object):\n",
    "    def nextGreaterElement(self, n):\n",
    "        s = str(n)\n",
    "        \n",
    "        prev_smaller = [-1]*len(s)\n",
    "        next_greater = [-1]*len(s)\n",
    "        \n",
    "        for i in range(1, len(s)):\n",
    "            j = i-1\n",
    "            flag = True\n",
    "            while int(s[j]) >= int(s[i]):\n",
    "                j = prev_smaller[j]\n",
    "                if j == -1:\n",
    "                    flag = False\n",
    "                    break\n",
    "            \n",
    "            if flag:\n",
    "                prev_smaller[i] = j\n",
    "                next_greater[j] = i\n",
    "        \n",
    "        for i in range(len(s)-2, -1, -1):\n",
    "            if next_greater[i] == -1 and next_greater[i+1] != -1 and int(s[next_greater[i+1]]) > int(s[i]):\n",
    "                next_greater[i] = next_greater[i+1]\n",
    "        \n",
    "        j = len(s)\n",
    "        \n",
    "        for i in range(len(s)-2, -1, -1):\n",
    "            if next_greater[i] != -1:\n",
    "                j = next_greater[i]\n",
    "                break\n",
    "        \n",
    "        if j == len(s):\n",
    "            return -1\n",
    "        \n",
    "        w = s[i:j] + s[j+1:]\n",
    "        w = sorted(w)\n",
    "        \n",
    "        s = s[:i] + s[j] + ''.join(w)\n",
    "        return int(s)"
   ]
  },
  {
   "cell_type": "code",
   "execution_count": null,
   "metadata": {
    "collapsed": false
   },
   "outputs": [],
   "source": [
    "sol = Solution()\n",
    "sol.nextGreaterElement(1999999999)"
   ]
  },
  {
   "cell_type": "code",
   "execution_count": null,
   "metadata": {
    "collapsed": false
   },
   "outputs": [],
   "source": [
    "class Solution(object):\n",
    "    def is_subseq(self, s1, s2):\n",
    "        stack = list(s1)\n",
    "        for i in range(len(s2)-1, -1, -1):\n",
    "            if s2[i] == stack[-1]:\n",
    "                stack.pop()\n",
    "                if len(stack) == 0:\n",
    "                    return True\n",
    "        return False\n",
    "    \n",
    "    def findLUSlength(self, strs):\n",
    "        str_cnts = {}\n",
    "        for x in strs:\n",
    "            if x not in str_cnts:\n",
    "                str_cnts[x] = 0\n",
    "            str_cnts[x] += 1\n",
    "\n",
    "        strs = list(set(strs))\n",
    "        strs = sorted(strs, key=lambda x:-len(x))\n",
    "        \n",
    "        curr_set = set()\n",
    "        \n",
    "        for i in range(len(strs)):\n",
    "            if str_cnts[strs[i]] == 1:\n",
    "                if len(curr_set) == 0:\n",
    "                    return len(strs[i])\n",
    "                \n",
    "                flag = True\n",
    "                for x in curr_set:\n",
    "                    if self.is_subseq(strs[i], x):\n",
    "                        flag = False\n",
    "                        break\n",
    "                if flag:\n",
    "                    return len(strs[i])\n",
    "                \n",
    "            curr_set.add(strs[i])\n",
    "                \n",
    "        return -1"
   ]
  },
  {
   "cell_type": "code",
   "execution_count": null,
   "metadata": {
    "collapsed": false
   },
   "outputs": [],
   "source": [
    "sol = Solution()\n",
    "sol.findLUSlength([\"aabbcc\", \"aabbcc\", \"abcd\"])"
   ]
  },
  {
   "cell_type": "code",
   "execution_count": null,
   "metadata": {
    "collapsed": false
   },
   "outputs": [],
   "source": [
    "[(K, 4), ('(', -1), (O, 1), (N, 1), ('(', -1), (S, 1), (O, 3), (')', 2), (')', 2)]"
   ]
  },
  {
   "cell_type": "code",
   "execution_count": null,
   "metadata": {
    "collapsed": false
   },
   "outputs": [],
   "source": [
    "class Solution(object):\n",
    "    def countOfAtoms(self, formula):\n",
    "        curr_chem, curr_num = '', 0\n",
    "        stack = []\n",
    "        chem_cnts = {}\n",
    "        \n",
    "        i = 0\n",
    "        while i < len(formula):\n",
    "#             print i, formula[i], stack\n",
    "            \n",
    "            if 65 <= ord(formula[i]) <= 90:\n",
    "                if len(curr_chem) > 0:\n",
    "                    if curr_num == 0:\n",
    "                        stack.append((curr_chem, 1))\n",
    "                    else:\n",
    "                        stack.append((curr_chem, curr_num))\n",
    "                    \n",
    "                curr_chem = formula[i]\n",
    "                curr_num = 0\n",
    "                \n",
    "            elif 97 <= ord(formula[i]) <= 122:\n",
    "                curr_chem += formula[i]\n",
    "            \n",
    "            if formula[i].isdigit():\n",
    "                curr_num = 10*curr_num + int(formula[i])\n",
    "            \n",
    "            if formula[i] == '(':\n",
    "                if len(curr_chem) > 0:\n",
    "                    if curr_num == 0:\n",
    "                        stack.append((curr_chem, 1))\n",
    "                    else:\n",
    "                        stack.append((curr_chem, curr_num))\n",
    "                        \n",
    "                stack.append(('(', -1))\n",
    "                curr_chem = ''\n",
    "                curr_num = 0\n",
    "            \n",
    "            elif formula[i] == ')':\n",
    "                if len(curr_chem) > 0:\n",
    "                    if curr_num == 0:\n",
    "                        stack.append((curr_chem, 1))\n",
    "                    else:\n",
    "                        stack.append((curr_chem, curr_num))\n",
    "                \n",
    "                j = i+1\n",
    "                x = 0\n",
    "                while j < len(formula) and formula[j].isdigit():\n",
    "                    x = 10*x + int(formula[j])\n",
    "                    j += 1\n",
    "                    \n",
    "                i = j-1\n",
    "                new_stack = []\n",
    "                while len(stack) > 0 and stack[-1][0] != '(':\n",
    "                    a, b = stack.pop()\n",
    "                    new_stack.append((a, b*x))\n",
    "                \n",
    "                if len(stack) > 0 and stack[-1][0] == '(':\n",
    "                    stack.pop()\n",
    "                    stack += new_stack[::-1]\n",
    "                \n",
    "                curr_chem = ''\n",
    "                curr_num = 0\n",
    "                    \n",
    "            i += 1\n",
    "        \n",
    "        if len(curr_chem) > 0:\n",
    "            if curr_num == 0:\n",
    "                stack.append((curr_chem, 1))\n",
    "            else:\n",
    "                stack.append((curr_chem, curr_num))\n",
    "                \n",
    "        for i in range(len(stack)):\n",
    "            if stack[i][0] not in chem_cnts:\n",
    "                chem_cnts[stack[i][0]] = 0\n",
    "            chem_cnts[stack[i][0]] += stack[i][1]\n",
    "        \n",
    "        stack = [(x, y) for x, y in chem_cnts.items()]\n",
    "        stack = sorted(stack, key=lambda k:k[0])\n",
    "        \n",
    "        out = ''\n",
    "        for x, y in stack:\n",
    "            if y > 1:\n",
    "                out += x+str(y)\n",
    "            else:\n",
    "                out += x\n",
    "        \n",
    "        return out"
   ]
  },
  {
   "cell_type": "code",
   "execution_count": null,
   "metadata": {
    "collapsed": false
   },
   "outputs": [],
   "source": [
    "sol = Solution()\n",
    "sol.countOfAtoms(\"(NB3)33\")"
   ]
  },
  {
   "cell_type": "code",
   "execution_count": null,
   "metadata": {
    "collapsed": true
   },
   "outputs": [],
   "source": [
    "class Solution(object):\n",
    "    def longestPrefix(self, s):\n",
    "        prime = (2**148+1)/17\n",
    "        h1, h2 = 0, 0\n",
    "        \n",
    "        i, j = 0, len(s)-1\n",
    "        p = 1\n",
    "        largest = -1\n",
    "        \n",
    "        while i < len(s)-1:\n",
    "            h1 = 10*h1 + ord(s[i])\n",
    "            h2 = ord(s[j])*p + h2\n",
    "            p = (p*10) % prime\n",
    "            \n",
    "            h1 = h1 % prime\n",
    "            h2 = h2 % prime\n",
    "            \n",
    "            if h1 == h2:\n",
    "                largest = i\n",
    "            \n",
    "            i += 1\n",
    "            j -= 1\n",
    "        \n",
    "        if largest == -1:\n",
    "            return ''\n",
    "        \n",
    "        return s[:(largest+1)]"
   ]
  },
  {
   "cell_type": "code",
   "execution_count": null,
   "metadata": {
    "collapsed": false
   },
   "outputs": [],
   "source": [
    "sol = Solution()\n",
    "sol.longestPrefix(\"level\")"
   ]
  },
  {
   "cell_type": "code",
   "execution_count": null,
   "metadata": {
    "collapsed": true
   },
   "outputs": [],
   "source": [
    "class Solution(object):\n",
    "    def dfs(self, slices, start, end, m, cache):\n",
    "        if m == 1:\n",
    "            return max(slices[start:end+1])\n",
    "        \n",
    "        if end-start+1 < 3:\n",
    "            return 0\n",
    "        \n",
    "        a = self.dfs(slices, start+1, end, m, cache) if (start+1, end, m) not in cache else cache[(start+1, end, m)]\n",
    "        \n",
    "        new_end = end-1 if start == 0 else end\n",
    "        b = self.dfs(slices, start+2, new_end, m-1, cache) if (start+2, new_end, m-1) not in cache else cache[(start+2, new_end, m-1)]\n",
    "        \n",
    "        out = max(a, slices[start]+b)\n",
    "        cache[(start, end, m)] = out\n",
    "        \n",
    "        return out\n",
    "    \n",
    "    def maxSizeSlices(self, slices):\n",
    "        return self.dfs(slices, 0, len(slices)-1, len(slices)/3, {})"
   ]
  },
  {
   "cell_type": "code",
   "execution_count": null,
   "metadata": {
    "collapsed": false
   },
   "outputs": [],
   "source": [
    "sol = Solution()\n",
    "sol.maxSizeSlices([9,3,6,4,2,1,1,6,3,6,10,9,4,10,10,10,10,10,7,10,4])"
   ]
  },
  {
   "cell_type": "code",
   "execution_count": null,
   "metadata": {
    "collapsed": true
   },
   "outputs": [],
   "source": [
    "class Solution(object):\n",
    "    def maxNumberOfFamilies(self, n, reservedSeats):\n",
    "        row_seats = {}\n",
    "        for x, y in reservedSeats:\n",
    "            if x not in row_seats:\n",
    "                row_seats[x] = []\n",
    "            row_seats[x].append(y)\n",
    "        \n",
    "        cnt = 0\n",
    "        v = [(2, 5), (6, 9), (4, 7)]\n",
    "        \n",
    "        for x, occupied in row_seats.items():\n",
    "            u = [0, 0, 0]\n",
    "            for y in occupied:\n",
    "                for i in range(len(v)):\n",
    "                    q = v[i]\n",
    "                    if q[0] <= y <= q[1]:\n",
    "                        u[i] = 1\n",
    "            \n",
    "            if sum(u) == 3:\n",
    "                cnt += 2\n",
    "            elif sum(u) > 0:\n",
    "                cnt += 1\n",
    "        \n",
    "        return 2*n-cnt"
   ]
  },
  {
   "cell_type": "code",
   "execution_count": null,
   "metadata": {
    "collapsed": false
   },
   "outputs": [],
   "source": [
    "sol = Solution()\n",
    "sol.maxNumberOfFamilies(4, [[4,3],[1,4],[4,6],[1,7]])"
   ]
  },
  {
   "cell_type": "code",
   "execution_count": null,
   "metadata": {
    "collapsed": true
   },
   "outputs": [],
   "source": [
    "2,4,9,24,2,1,10\n",
    "\n",
    "2,4,9,2,24,1,10\n",
    "\n",
    "2+5+7+22+23+9"
   ]
  },
  {
   "cell_type": "code",
   "execution_count": null,
   "metadata": {
    "collapsed": false
   },
   "outputs": [],
   "source": [
    "2+5+7+22+23+9"
   ]
  },
  {
   "cell_type": "code",
   "execution_count": null,
   "metadata": {
    "collapsed": false
   },
   "outputs": [],
   "source": [
    "2+5+15+22+1+9"
   ]
  },
  {
   "cell_type": "code",
   "execution_count": null,
   "metadata": {
    "collapsed": false
   },
   "outputs": [],
   "source": [
    "class Solution(object):\n",
    "    def get_value(self, i, curr_val, arr, p):\n",
    "        x = p[i+2] if i+2 < len(arr) else [-1, len(arr)]\n",
    "\n",
    "        j = x[1]-1\n",
    "        b = abs(arr[i-1]-arr[i]) if i-1 >= 0 else 0\n",
    "        c = abs(arr[j]-arr[j+1]) if 0 <= j < len(arr) and 0 <= j+1 < len(arr) else 0\n",
    "        d = abs(arr[i-1]-arr[j]) if i-1 >= 0 and 0 <= j < len(arr) else 0\n",
    "        e = abs(arr[i]-arr[j+1]) if 0 <= j+1 < len(arr) else 0\n",
    "\n",
    "        new_val = curr_val+d+e-(b+c)\n",
    "        return new_val\n",
    "        \n",
    "    def maxValueAfterReverse(self, arr):\n",
    "        if len(arr) == 1:\n",
    "            return arr[0]\n",
    "        \n",
    "        curr_val = 0\n",
    "\n",
    "        for i in range(1, len(arr)):\n",
    "            curr_val += abs(arr[i]-arr[i-1])\n",
    "            \n",
    "        p, q, r, s, t, u = [0]*len(arr), [0]*len(arr), [0]*len(arr), [0]*len(arr), [0]*len(arr), [0]*len(arr)\n",
    "        \n",
    "        for i in reversed(range(len(arr))):\n",
    "            x = -abs(arr[i]-arr[i-1])\n",
    "            \n",
    "            if i == len(arr)-1:\n",
    "                p[i] = [x-arr[i]-arr[i-1], i]\n",
    "                q[i] = [x-arr[i]+arr[i-1], i]\n",
    "                r[i] = [x+arr[i]-arr[i-1], i]\n",
    "                s[i] = [x+arr[i]+arr[i-1], i]\n",
    "                t[i] = [x-arr[i], i]\n",
    "                u[i] = [x+arr[i], i]\n",
    "                \n",
    "            else:\n",
    "                p[i] = [x-arr[i]-arr[i-1], i] if i-1 >= 0 and x-arr[i]-arr[i-1] > p[i+1][0] else p[i+1][:]\n",
    "                q[i] = [x-arr[i]+arr[i-1], i] if i-1 >= 0 and x-arr[i]+arr[i-1] > q[i+1][0] else q[i+1][:]\n",
    "                r[i] = [x+arr[i]-arr[i-1], i] if i-1 >= 0 and x+arr[i]-arr[i-1] > r[i+1][0] else r[i+1][:]\n",
    "                s[i] = [x+arr[i]+arr[i-1], i] if i-1 >= 0 and x+arr[i]+arr[i-1] > s[i+1][0] else s[i+1][:]\n",
    "                t[i] = [x-arr[i], i] if i-1 >= 0 and x-arr[i] > t[i+1][0] else t[i+1][:]\n",
    "                u[i] = [x+arr[i], i] if i-1 >= 0 and x+arr[i] > u[i+1][0] else u[i+1][:]\n",
    "        \n",
    "        max_val = curr_val\n",
    "\n",
    "        for i in range(len(arr)):\n",
    "            a = abs(arr[i]-arr[i-1]) if i-1 >= 0 else 0\n",
    "            d = abs(arr[len(arr)-1]-arr[i-1]) if i-1 >= 0 else 0\n",
    "            \n",
    "            new_val = curr_val+d-a\n",
    "            max_val = max(max_val, new_val)\n",
    "            \n",
    "            v = [self.get_value(i, curr_val, arr, p), self.get_value(i, curr_val, arr, q), \n",
    "                 self.get_value(i, curr_val, arr, r), self.get_value(i, curr_val, arr, s), \n",
    "                 self.get_value(i, curr_val, arr, t), self.get_value(i, curr_val, arr, u)]\n",
    "            \n",
    "            max_val = max(max_val, max(v))\n",
    "\n",
    "        return max_val"
   ]
  },
  {
   "cell_type": "code",
   "execution_count": null,
   "metadata": {
    "collapsed": true
   },
   "outputs": [],
   "source": [
    "class Solution1(object):\n",
    "    def maxValueAfterReverse(self, arr):\n",
    "        if len(arr) == 1:\n",
    "            return arr[0]\n",
    "        \n",
    "        curr_val = 0\n",
    "\n",
    "        for i in range(1, len(arr)):\n",
    "            curr_val += abs(arr[i]-arr[i-1])\n",
    "\n",
    "        max_val, best_indices = curr_val, None\n",
    "\n",
    "        for i in range(len(arr)-1):\n",
    "            for j in range(i+1, len(arr)):\n",
    "                b = abs(arr[i-1]-arr[i]) if i-1 >= 0 else 0\n",
    "                c = abs(arr[j]-arr[j+1]) if j+1 < len(arr) else 0\n",
    "                d = abs(arr[i-1]-arr[j]) if i-1 >= 0 else 0\n",
    "                e = abs(arr[i]-arr[j+1]) if j+1 < len(arr) else 0\n",
    "\n",
    "                new_val = curr_val+d+e-(b+c)\n",
    "                \n",
    "                if new_val > max_val:\n",
    "                    max_val = new_val\n",
    "                    best_indices = (i, j)\n",
    "\n",
    "#         print best_indices\n",
    "        return max_val"
   ]
  },
  {
   "cell_type": "code",
   "execution_count": null,
   "metadata": {
    "collapsed": false
   },
   "outputs": [],
   "source": [
    "sol = Solution()\n",
    "sol.maxValueAfterReverse([-48429,-16735,62606,36507,-27276,-54708,-46589,32195,-41633,11908,-3955,-38102,-7771,-91896,-28279,-48233,-35154,-46019,-40791,10154,17377,-4623,20437,75928,23660,-84884,4747,-81678,-9780,-83745,17400,-65628,-74214,55487,52426,43978,-23648,-83766,46000,-96913,30436,23404,-24362,52822,-57853,6101,85336,26567,40538,98509,50229,88348,-2972,36754,-4384,35648,-70668,-86666,6030,-46963,-51591,92571,-24770,-50120,21347,-51700,-12928,-98838,-60797,-98324,27617,-22781,-47522,92294,-88472,-34055,84811,-8496,94251,-3789,-24059,-11299,-10047,58495,-84272,-28044,-47911,63583,-45595,89036,-80425,-28643,-67860,71656,38031,-7376,-33779,-23151,85912,45784,26585,43397,12053,-76719,-35394,-78260,65080,36639,-77679,2295,-16645,11707,-17177,-55053,79830,71164,-23223,-38465,61360,-96449,-2945,24992,-57779,24790,63860,-81723,-37303,51844,-17597,-51261,47529,20607,61472,-33734,32497,39512,-99477,78725,-77910,78995,-77993,-78522,72324,37594,-28074,75848,-68735,39556,-7372,-58106,-3319,-14752,87219,-57537,-41183,-230,16635,30739,-17192,77882,-89199,60145,-49196,59982,-87452,89797,10724,42834,45466,60315,-23499,18551,48691,-6906,-44487,76023,93274,91680,18927,-15926,54325,80693,-87271,47588,32080,8679,-80382,84633,77720,90161,-77649,-79711,-21922,-33817,98921,-75913,-76528,-60271,82275,-77087,8681,74626,29001,-17210,49227,4653,83738,71395,-17350,25270,-7069,-82546,60396,-36352,-1780,-10354,34572,-48840,4086,-65713,18795,54892,-18340,-9367,-58071,-94674,-44945,-85352,70414,7134,9144,43228,-30127,-88494,70904,-67917,-62763,55691,-73167,69081,12218,-22427,-18044,-79114,-14807,-8975,22727,21359,-37081,801,-12762,-6864,54331,77923,95777,-63926,9964,-53024,-90541,38010,12032,-28482,88728,-55825,59974,-47073,-10792,72290,-65260,-86285,43782,-87551,12264,-67735,-65721,16970,83166,81093,-49825,38468,2699,34633,-44587,-79050,9947,-9440,-91282,-77863,-64112,64359,-84801,66706,-48999,2208,-11001,17083,11054,40221,96401,-53563,90754,-13943,54055,-3132,-94101,11271,-90067,46402,36879,87415,-99692,13277,13649,-99153,32078,-17331,-33823,-54455,56453,98060,-97691,49943,88528,90316,-53735,-56910,-94642,34563,-93911,-83516,66942,85670,25211,92980,44439,-84197,-4667,-11802,-47708,-45898,-61970,-73443,3755,21076,61392,-32774,70333,-61764,19153,-60426,2697,20230,-71131,-9562,-7927,17884,-86468,-26198,32775,-75833,17920,-96949,-82827,92487,-75585,-60003,13831,75922,-30428,37076,-89838,18532,12611,34969,-75387,-6628,26688,43099,-87655,-20046,63001,-32356,-23268,-26086,30469,-31736,-89089,-22067,-47668,-5810,-5802,9443,-40167,-8444,99769,27621,-52457,93489,82756,-3899,89401,35228,-53771,-83306,-95918,-12662,70450,-14915,-24987,62506,-8990,67047,77701,-44565,29574,69996,94789,6910,-25580,39251,-96321,23560,32174,68879,36854,-6770,78710,42449,49393,90413,10416,89315,69003,15872,-89564,-35705,50017,76320,-65719,14437,34766,25780,-18381,36784,24187,-30316,-77733,15790,-88594,-47486,95547,82322,-90887,-54428,97654,2939,78629,-32769,96039,-64006,55004,-92786,76887,-1886,85336,-64526,-63065,-99363,-74069,-88943,-83211,65135,85214,84119,-13729,12713,-81502,81477,61983,65483,35033,-50339,23257,62702,-15701,70590,74381,72611,42765,-63757,27262,51547,76508,-68628,29952,30800,-60731,2571,13727,15638,86677,11503,74980,-115,33456,-84363,-70574,19558,-89850,85036,99422,57529,-28689,-64422,-78191,50252,-91077,84105,-75218,69071,43158,14852,59914,47803,-4869,-82994,-72330,-11207,-31185,-22446,55085,96812,-16908,72608,-34469,-32705,10804,40398,-79459,-17521,-82743,76053,2855,18224,-70396,-92035,-99705,-49271,-49248,3127,-313,-21722,60702,-61865,12166,-83372,89992,-67966,59024,-74741,-64370,-27299,-2981,94382,39659,45462,61809,39497,-31878,-24385,99337,78263,-83315,12994,82992,74006,63068,63040,41079,-64620,31933,68341,-52506,-73010,-89450,5937,23742,-6295,-68224,-92477,-70814,-84310,-97516,-95719,41708,-41555,69716,-75704,-1031,-13052,-57759,1440,96102,69953,62736,-21203,75504,66913,-93581,-48853,63449,48969,13084,-48428,71397,28892,-54069,47964,73055,-41104,-26030,51738,38608,99367,8252,-11945,-16628,-64314,58975,-85108,7093,-85672,18780,33802,45781,11184,-96808,-15872,-99665,33588,-23917,-78926,22056,76953,-62122,51678,11759,69510,30829,58318,-38830,-33839,-87314,3782,-73615,99044,39862,-82828,41982,-19017,-67890,-70951,-24604,-59810,-78215,65379,-44893,9507,-84587,44507,-96037,-74465,37274,64632,70695,-47480,48574,-46730,67507,-91266,71486,63839,-782,-23251,-96447,64584,-66481,-6058,45339,-97007,-62030,29836,11441,-93285,-98123,-59532,-90465,84799,80419,25345,-7883,-94377,14023,2097,-10144,-25908,54416,-10009,-53197,37582,-41185,97763,-3471,-72214,4238,-27641,-51742,65908,-12985,58308,-83568,89261,-46740,56634,-57713,13724,-39763,-3448,-24326,55449,11876,-58636,-67045,80569,31016,80318,31531,-66732,11649,54972,88683,35289,-92917,-1564,-65339,97797,89046,-50894,45141,-98057,-6222,-49337,-79238,-9359,-47151,51289,-26984,89103,33365,-93434,63374,75019,61321,-91271,629,47668,70156,44525,77496,38221,-86554,7796,-81615,-37543,57975,-98247,-26241,-1529,-32935,32929,-86528,-87965,19919,-38762,-14454,-39957,-65061,97212,13221,-27214,87944,-51905,-31611,-83824,21392,-62586,40684,81213,98368,-89691,-40494,43822,-94450,23142,9503,-97637,-53234,90582,-28714,-131,-58336,-87169,-3678,-82564,25436,-66932,-60101,43951,-72893,56629,56659,-9664,-62896,-2769,89636,82720,6750,53705,-14353,24116,-3482,-41909,-76610,69852,23215,20552,-60238,-45188,74299,89763,-19239,-15634,-48101,42237,5346,-37474,69902,-83969,-92531,30008,75330,51878,16511,-84014,88490,-88479,-83142,76072,-58402,85833,-53247,-63488,-12233,-26970,-83354,7145,-2411,-2770,-9901,-58233,17533,50398,63222,28384,55033,-7804,-77718,-49590,74467,-93865,77834,-25982,41636,-70554,-2551,41351,-83793,-90774,-99528,19458,-80186,26828,37432,-77937,-86554,27749,33669,57140,83208,-65605,18302,9899,-78536,67969,-79947,-18261,69237,-38282,8991,-91820,-45199,77866,93148,97160,42529,83062,98102,57099,17972,-80764,84730,-10461,-36833,99289,-80108,12370,-66954,91550,93560,56743,-7120,19728,28736,-60414,-90441,15893,-32804,36925,-14691,6503,-87681,2220,-16829,65907,82174,55455,25379,76964,44805,-36575,85199,-50465,82121,-11362,39405,21197,-38581,-10383,-89505,-50421,64089,19983,27951,48491,92801,61365,-84839,53520,-17270,35260,43706,53825,47727,-99450,-83028,44693,25884,-52223,-32998,49553,-59605,9832,75664,-2054,93117,20305,-47085,-5916,-82971,92683,-49985,91564,70065,42895,-42062,-25651,49947,-93655,91342,37966])"
   ]
  },
  {
   "cell_type": "code",
   "execution_count": null,
   "metadata": {
    "collapsed": false
   },
   "outputs": [],
   "source": [
    "y x   a b\n",
    "\n",
    "b < x\n",
    "x-b+abs(a-y)-abs(y-x)-abs(a-b)\n",
    "\n",
    "b < x\n",
    "x   a b\n",
    "\n",
    "x-b-abs(a-b)\n",
    "\n",
    "-abs(a-b)-b\n",
    "\n",
    "a > y\n",
    "\n",
    "z-b+abs(a-y)-abs(a-b)\n",
    "\n",
    "a > y\n",
    "z-b+a-abs(a-b) = z-(b-a+abs(a-b))\n",
    "a < y\n",
    "z-b+y-a-abs(a-b) = z-(b+a+abs(a-b))\n",
    "\n",
    "\n",
    "b > x\n",
    "b-x+abs(a-y)-abs(y-x)-abs(a-b)\n",
    "\n",
    "b+a-abs(a-b)\n",
    "b-a-abs(a-b)\n",
    "\n",
    "-abs(a-b)-b+a\n",
    "-abs(a-b)-b-a\n",
    "-abs(a-b)+b+a\n",
    "-abs(a-b)+b-a\n",
    "\n",
    "\n",
    "abs(a-b)-b-a\n",
    "abs(a-b)-b+a\n",
    "abs(a-b)+b-a\n",
    "abs(a-b)+b+a\n",
    "\n",
    "78 + 95 - 17\n",
    "78 - 95 - 17\n",
    "\n",
    "73 + 64 - 9\n",
    "73 - 64 - 9\n",
    "\n",
    "70 + 67 - 3\n",
    "70 - 67 - 3\n",
    "\n",
    "67 + 51 - 16\n",
    "67 - 51 - 16\n",
    "\n",
    "\n",
    "b-a+abs(a-b)\n",
    "b+a+abs(a-b)\n",
    "\n",
    "70 - 67 + 3\n",
    "70 + 67 + 3\n",
    "\n",
    "67 - 51 + 16\n",
    "67 + 51 + 16"
   ]
  },
  {
   "cell_type": "code",
   "execution_count": null,
   "metadata": {
    "collapsed": false
   },
   "outputs": [],
   "source": [
    "sol = Solution1()\n",
    "sol.maxValueAfterReverse([3, 84, 42, 49, 97, 40, 71, 54, 39, 75])"
   ]
  },
  {
   "cell_type": "code",
   "execution_count": null,
   "metadata": {
    "collapsed": false
   },
   "outputs": [],
   "source": [
    "import numpy as np\n",
    "sol = Solution()\n",
    "sol1 = Solution1()\n",
    "\n",
    "for i in range(1000):\n",
    "    n = 10\n",
    "    c = np.random.randint(1, 100, n)\n",
    "    a = sol.maxValueAfterReverse(c)\n",
    "    b = sol1.maxValueAfterReverse(c)\n",
    "    if a != b:\n",
    "        print c.tolist()\n",
    "        print a\n",
    "        print b \n",
    "        print"
   ]
  },
  {
   "cell_type": "code",
   "execution_count": null,
   "metadata": {
    "collapsed": true
   },
   "outputs": [],
   "source": [
    "import heapq\n",
    "\n",
    "class Solution(object):\n",
    "    def largestValsFromLabels(self, values, labels, num_wanted, use_limit):\n",
    "        heap = [(-values[i], labels[i]) for i in range(len(labels))]\n",
    "        heapq.heapify(heap)\n",
    "        \n",
    "        label_cnts, cnts = {}, 0\n",
    "        sums = 0\n",
    "        \n",
    "        while len(heap) > 0:\n",
    "            v, l = heapq.heappop(heap)\n",
    "            v = -v\n",
    "            print v, l\n",
    "            if l not in label_cnts or label_cnts[l] < use_limit:\n",
    "                sums += v\n",
    "                if l not in label_cnts:\n",
    "                    label_cnts[l] = 0\n",
    "                label_cnts[l] += 1\n",
    "                cnts += 1\n",
    "                \n",
    "                if cnts == num_wanted:\n",
    "                    return sums\n",
    "        return sums"
   ]
  },
  {
   "cell_type": "code",
   "execution_count": null,
   "metadata": {
    "collapsed": false
   },
   "outputs": [],
   "source": [
    "sol = Solution()\n",
    "sol.largestValsFromLabels([2,6,1,2,6], [2,2,2,1,1], 1, 1)"
   ]
  },
  {
   "cell_type": "code",
   "execution_count": null,
   "metadata": {
    "collapsed": true
   },
   "outputs": [],
   "source": [
    "class Solution(object):\n",
    "    def dfs(self, A, B, cache):\n",
    "        if A == 0:\n",
    "            return 'b'*B\n",
    "        \n",
    "        if B == 0:\n",
    "            return 'a'*A\n",
    "        \n",
    "        if A > B:\n",
    "            x = 'aab' + self.dfs(A-2, B-1, cache) if (A-2, B-1) not in cache else cache[(A-2, B-1)]\n",
    "        elif A < B:\n",
    "            x = 'bba' + self.dfs(A-1, B-2, cache) if (A-1, B-2) not in cache else cache[(A-1, B-2)]\n",
    "        else:\n",
    "            x = 'ab' + self.dfs(A-1, B-1, cache) if (A-1, B-1) not in cache else cache[(A-1, B-1)]\n",
    "            \n",
    "        cache[(A, B)] = x\n",
    "        \n",
    "        return x\n",
    "        \n",
    "    def strWithout3a3b(self, A, B):\n",
    "        return self.dfs(A, B, {})"
   ]
  },
  {
   "cell_type": "code",
   "execution_count": null,
   "metadata": {
    "collapsed": false
   },
   "outputs": [],
   "source": [
    "sol = Solution()\n",
    "sol.strWithout3a3b(0, 2)"
   ]
  },
  {
   "cell_type": "code",
   "execution_count": null,
   "metadata": {
    "collapsed": true
   },
   "outputs": [],
   "source": [
    "class Solution(object):\n",
    "    def minDeletionSize(self, A):\n",
    "        cnts = 0\n",
    "        col = 0\n",
    "        \n",
    "        while col < len(A[0]):\n",
    "            flag = True\n",
    "            g = [A[0][:col+1]]\n",
    "            \n",
    "            for j in range(1, len(A)):\n",
    "                g += [A[j][:col+1]]\n",
    "                if A[j][:col+1] < A[j-1][:col+1]:\n",
    "                    flag = False\n",
    "                    break\n",
    "                    \n",
    "            if flag and len(set(g)) == len(g):\n",
    "                break\n",
    "            \n",
    "            if flag is False:\n",
    "                cnts += 1\n",
    "                for i in range(len(A)):\n",
    "                    A[i] = A[i][:col] + A[i][col+1:]\n",
    "                \n",
    "            else:\n",
    "                col += 1\n",
    "            \n",
    "        return cnts"
   ]
  },
  {
   "cell_type": "code",
   "execution_count": null,
   "metadata": {
    "collapsed": false
   },
   "outputs": [],
   "source": [
    "sol = Solution()\n",
    "sol.minDeletionSize([\"zyx\",\n",
    "                     \"wvu\",\n",
    "                     \"tsr\"])"
   ]
  },
  {
   "cell_type": "code",
   "execution_count": null,
   "metadata": {
    "collapsed": true
   },
   "outputs": [],
   "source": [
    "class Solution(object):\n",
    "    def bagOfTokensScore(self, tokens, P):\n",
    "        if len(tokens) == 0 or P < min(tokens):\n",
    "            return 0\n",
    "        \n",
    "        tokens = sorted(tokens)\n",
    "        curr_power = P\n",
    "        curr_tokens = 0\n",
    "        max_tokens = 0\n",
    "        \n",
    "        while len(tokens) > 0:\n",
    "            while len(tokens) > 0 and curr_power < tokens[0] and curr_tokens > 0:\n",
    "                curr_tokens -= 1\n",
    "                curr_power += tokens.pop()\n",
    "                \n",
    "            if len(tokens) > 0:\n",
    "                g = tokens.pop(0)\n",
    "                curr_tokens += 1\n",
    "                max_tokens = max(max_tokens, curr_tokens)\n",
    "                curr_power = curr_power-g\n",
    "            else:\n",
    "                break\n",
    "            \n",
    "        return max_tokens"
   ]
  },
  {
   "cell_type": "code",
   "execution_count": null,
   "metadata": {
    "collapsed": false
   },
   "outputs": [],
   "source": [
    "sol = Solution()\n",
    "sol.bagOfTokensScore([87,24,32], 87)"
   ]
  },
  {
   "cell_type": "code",
   "execution_count": null,
   "metadata": {
    "collapsed": true
   },
   "outputs": [],
   "source": [
    "class Solution(object):\n",
    "    def advantageCount(self, A, B):\n",
    "        heap1 = [(-A[i], i) for i in range(len(A))]\n",
    "        heap2 = [(-B[i], i) for i in range(len(B))]\n",
    "        \n",
    "        heapq.heapify(heap1)\n",
    "        heapq.heapify(heap2)\n",
    "        \n",
    "        pos = [i for i in range(len(A))]\n",
    "        pos_map = {i:i for i in range(len(A))}\n",
    "        \n",
    "        while len(heap2) > 0:\n",
    "            v, i = heapq.heappop(heap2)\n",
    "            v = -v\n",
    "            \n",
    "            if len(heap1) > 0 and -heap1[0][0] > v:\n",
    "                u, j = heapq.heappop(heap1)\n",
    "                j = pos_map[j]\n",
    "                \n",
    "                temp = A[i]\n",
    "                A[i] = A[j]\n",
    "                A[j] = temp\n",
    "                \n",
    "                temp = pos[i]\n",
    "                pos[i] = pos[j]\n",
    "                pos[j] = temp\n",
    "                \n",
    "                pos_map[pos[i]] = i\n",
    "                pos_map[pos[j]] = j\n",
    "            \n",
    "        return A"
   ]
  },
  {
   "cell_type": "code",
   "execution_count": null,
   "metadata": {
    "collapsed": false
   },
   "outputs": [],
   "source": [
    "sol = Solution()\n",
    "sol.advantageCount([2,0,4,1,2], \n",
    "                   [1,3,0,0,2])"
   ]
  },
  {
   "cell_type": "code",
   "execution_count": null,
   "metadata": {
    "collapsed": true
   },
   "outputs": [],
   "source": [
    "class Solution(object):\n",
    "    def increase(self, N):\n",
    "        if len(N) == 1:\n",
    "            return N[0]\n",
    "        \n",
    "        a = self.increase(N[1:])\n",
    "        \n",
    "        if int(N[0]) <= int(a[0]):\n",
    "            return N[0] + a\n",
    "        else:\n",
    "            return str(int(N[0])-1) + '9'*len(a)\n",
    "        \n",
    "    def monotoneIncreasingDigits(self, N):\n",
    "        return int(self.increase(str(N)))"
   ]
  },
  {
   "cell_type": "code",
   "execution_count": null,
   "metadata": {
    "collapsed": false
   },
   "outputs": [],
   "source": [
    "sol = Solution()\n",
    "sol.monotoneIncreasingDigits(21)"
   ]
  },
  {
   "cell_type": "code",
   "execution_count": null,
   "metadata": {
    "collapsed": true
   },
   "outputs": [],
   "source": [
    "class Solution(object):\n",
    "    def bsearch(self, arr, k):\n",
    "        left, right = 0, len(arr)-1\n",
    "        last_true = -1\n",
    "        while left <= right:\n",
    "            mid = int((left+right)/2)\n",
    "            if arr[mid] >= k:\n",
    "                last_true = mid\n",
    "                right = mid-1\n",
    "            else:\n",
    "                left = mid+1\n",
    "        return last_true\n",
    "    \n",
    "    def intersectionSizeTwo(self, intervals):\n",
    "        intervals = sorted(intervals, key=lambda k:(k[1], k[0]))\n",
    "        curr = range(intervals[0][1]-1, intervals[0][1]+1)\n",
    "        \n",
    "        for i in range(1, len(intervals)):\n",
    "            j = self.bsearch(curr, intervals[i][0])\n",
    "            if j == len(curr)-1:\n",
    "                if curr[-1] == intervals[i][1]:\n",
    "                    curr[-1] = intervals[i][1]-1\n",
    "                curr.append(intervals[i][1])\n",
    "            if j == -1:\n",
    "                curr.append(intervals[i][1]-1)\n",
    "                curr.append(intervals[i][1])\n",
    "                \n",
    "        return len(curr)"
   ]
  },
  {
   "cell_type": "code",
   "execution_count": null,
   "metadata": {
    "collapsed": false
   },
   "outputs": [],
   "source": [
    "sol = Solution()\n",
    "sol.intersectionSizeTwo([[1, 2], [2, 8], [5, 8], [6, 8], [10,20], [15,21]])"
   ]
  },
  {
   "cell_type": "code",
   "execution_count": null,
   "metadata": {
    "collapsed": true
   },
   "outputs": [],
   "source": [
    "class Solution(object):\n",
    "    def reconstructQueue(self, people):\n",
    "        people = sorted(people, key=lambda k:(k[0], -k[1]))\n",
    "        out = []\n",
    "        for i in range(len(people)-1, -1, -1):\n",
    "            if len(out) == 0:\n",
    "                out = [people[i]]\n",
    "            else:\n",
    "                h = people[i][1]\n",
    "                out = out[:h] + [people[i]] + out[h:]\n",
    "            \n",
    "        return out"
   ]
  },
  {
   "cell_type": "code",
   "execution_count": null,
   "metadata": {
    "collapsed": false
   },
   "outputs": [],
   "source": [
    "sol = Solution()\n",
    "sol.reconstructQueue([[7,0], [4,4], [7,1], [5,0], [6,1], [5,2]])"
   ]
  },
  {
   "cell_type": "code",
   "execution_count": null,
   "metadata": {
    "collapsed": true
   },
   "outputs": [],
   "source": [
    "class Solution(object):\n",
    "    def eraseOverlapIntervals(self, intervals):\n",
    "        intervals = sorted(intervals, key=lambda k:(k[1], k[0]))\n",
    "        cnt = 0\n",
    "        curr = 0\n",
    "        for i in range(1, len(intervals)):\n",
    "            if intervals[i][0] < intervals[curr][1]:\n",
    "                cnt += 1\n",
    "            else:\n",
    "                curr = i\n",
    "        return cnt"
   ]
  },
  {
   "cell_type": "code",
   "execution_count": null,
   "metadata": {
    "collapsed": false
   },
   "outputs": [],
   "source": [
    "sol = Solution()\n",
    "sol.eraseOverlapIntervals([[1,2],[2,3]])"
   ]
  },
  {
   "cell_type": "code",
   "execution_count": null,
   "metadata": {
    "collapsed": true
   },
   "outputs": [],
   "source": [
    "class Solution(object):\n",
    "    def findMinArrowShots(self, points):\n",
    "        points = sorted(points, key=lambda k:(k[1], k[0]))\n",
    "        \n",
    "        curr = points[0]\n",
    "        cnt = 0\n",
    "        for i in range(1, len(points)):\n",
    "            if points[i][0] <= curr[1]:\n",
    "                curr = [max(curr[0], points[i][0]), min(curr[1], points[i][1])]\n",
    "            else:\n",
    "                cnt += 1\n",
    "                curr = points[i]\n",
    "        \n",
    "        return cnt+1"
   ]
  },
  {
   "cell_type": "code",
   "execution_count": null,
   "metadata": {
    "collapsed": false
   },
   "outputs": [],
   "source": [
    "sol = Solution()\n",
    "sol.findMinArrowShots([[1,2],[2,3],[3,4],[4,5]])"
   ]
  },
  {
   "cell_type": "code",
   "execution_count": null,
   "metadata": {
    "collapsed": true
   },
   "outputs": [],
   "source": [
    "class Solution(object):\n",
    "    def subarraySum(self, nums, k):\n",
    "        sum_pos = {}\n",
    "        sum_pos[0] = 1\n",
    "        \n",
    "        curr_sum = 0\n",
    "        cnts = 0\n",
    "        for i in range(len(nums)-1, -1, -1):\n",
    "            curr_sum += nums[i]\n",
    "            \n",
    "            if curr_sum-k in sum_pos:\n",
    "                cnts += sum_pos[curr_sum-k]\n",
    "            \n",
    "            if curr_sum not in sum_pos:\n",
    "                sum_pos[curr_sum] = 0\n",
    "            sum_pos[curr_sum] += 1\n",
    "        \n",
    "        return cnts"
   ]
  },
  {
   "cell_type": "code",
   "execution_count": null,
   "metadata": {
    "collapsed": false
   },
   "outputs": [],
   "source": [
    "sol = Solution()\n",
    "sol.subarraySum([1], 1)"
   ]
  },
  {
   "cell_type": "code",
   "execution_count": null,
   "metadata": {
    "collapsed": true
   },
   "outputs": [],
   "source": [
    "import collections\n",
    "\n",
    "class Solution(object):\n",
    "    def minSubArrayLen(self, s, nums):\n",
    "        if len(nums) == 0:\n",
    "            return 0\n",
    "        \n",
    "        queue = collections.deque([])\n",
    "        queue_sum = 0\n",
    "        \n",
    "        min_length = float(\"Inf\")\n",
    "        \n",
    "        for i in range(len(nums)-1, -1, -1):\n",
    "            while len(queue) > 0 and queue_sum >= s:\n",
    "                min_length = min(min_length, len(queue))\n",
    "                queue_sum -= queue.popleft()\n",
    "            \n",
    "            queue.append(nums[i])\n",
    "            queue_sum += nums[i]\n",
    "        \n",
    "        while len(queue) > 0 and queue_sum >= s:\n",
    "            min_length = min(min_length, len(queue))\n",
    "            queue_sum -= queue.popleft()\n",
    "                \n",
    "        return min_length if min_length != float(\"Inf\") else 0"
   ]
  },
  {
   "cell_type": "code",
   "execution_count": null,
   "metadata": {
    "collapsed": false
   },
   "outputs": [],
   "source": [
    "sol = Solution()\n",
    "sol.minSubArrayLen(15, [5,1,3,5,10,7,4,9,2,8])"
   ]
  },
  {
   "cell_type": "code",
   "execution_count": null,
   "metadata": {
    "collapsed": false
   },
   "outputs": [],
   "source": [
    "class Solution(object):\n",
    "    def majorityElement(self, nums):\n",
    "        n = len(nums)\n",
    "        m = n/3 + 1\n",
    "        \n",
    "        curr = {}\n",
    "        heap = []\n",
    "        \n",
    "        for i in range(0, len(nums), 3):\n",
    "            curr = {}\n",
    "            for j in range(i, min(i+3, len(nums))):\n",
    "                if nums[j] not in curr:\n",
    "                    curr[nums[j]] = 0\n",
    "                curr[nums[j]] += 1\n",
    "            \n",
    "            for x, y in curr.items():\n",
    "                if len(heap) < 3:\n",
    "                    if len(heap) == 0:\n",
    "                        heapq.heappush(heap, (y, x))\n",
    "                    else:\n",
    "                        new_heap = []\n",
    "                        flag = False\n",
    "                        while len(heap) > 0:\n",
    "                            p, q = heapq.heappop(heap)\n",
    "                            if q == x:\n",
    "                                flag = True\n",
    "                                new_heap.append((y+p, q))\n",
    "                            else:\n",
    "                                new_heap.append((p, q))\n",
    "                        \n",
    "                        heap = new_heap[:]\n",
    "                        heapq.heapify(heap)\n",
    "                        \n",
    "                        if flag is False:\n",
    "                            heapq.heappush(heap, (y, x))\n",
    "                else:\n",
    "                    new_heap = []\n",
    "                    flag = False\n",
    "                    while len(heap) > 0:\n",
    "                        p, q = heapq.heappop(heap)\n",
    "                        if q == x:\n",
    "                            flag = True\n",
    "                            new_heap.append((y+p, q))\n",
    "                        else:\n",
    "                            new_heap.append((p, q))\n",
    "\n",
    "                    heap = new_heap[:]\n",
    "                    heapq.heapify(heap)\n",
    "                    \n",
    "                    if flag is False and heap[0][0] < m:\n",
    "                        heapq.heappop(heap)\n",
    "                        heapq.heappush(heap, (y, x))\n",
    "        \n",
    "        if len(heap) == 3:\n",
    "            heapq.heappop(heap)\n",
    "        \n",
    "        out = []\n",
    "        while len(heap) > 0:\n",
    "            p, q = heapq.heappop(heap)\n",
    "            a = 0\n",
    "            for i in range(len(nums)):\n",
    "                if nums[i] == q:\n",
    "                    a += 1\n",
    "                    \n",
    "            if a >= m:\n",
    "                out.append(q)\n",
    "                \n",
    "        return out"
   ]
  },
  {
   "cell_type": "code",
   "execution_count": null,
   "metadata": {
    "collapsed": false
   },
   "outputs": [],
   "source": [
    "sol = Solution()\n",
    "sol.majorityElement([1,2,2,3,2,1,1,3])"
   ]
  },
  {
   "cell_type": "code",
   "execution_count": null,
   "metadata": {
    "collapsed": true
   },
   "outputs": [],
   "source": []
  },
  {
   "cell_type": "code",
   "execution_count": null,
   "metadata": {
    "collapsed": false
   },
   "outputs": [],
   "source": [
    "class Solution(object):\n",
    "    def canCompleteCircuit(self, gas, cost):\n",
    "        n = len(gas)\n",
    "        \n",
    "        heap = [(-(gas[i]-cost[i]), i, i) for i in range(n)]\n",
    "        cache = {i:gas[i]-cost[i] for i in range(n)}\n",
    "        \n",
    "        while len(heap) > 0:\n",
    "            u, start, i = heapq.heappop(heap)\n",
    "            u = -u\n",
    "            \n",
    "            if i == (start-1)%n and u >= 0:\n",
    "                return start\n",
    "            \n",
    "            j = (i+1)%n\n",
    "            v = u + gas[j] - cost[j]\n",
    "            \n",
    "            if j not in cache or cache[j] < v:\n",
    "                heapq.heappush(heap, (-v, start, j))\n",
    "                cache[j] = v\n",
    "                \n",
    "        return -1"
   ]
  },
  {
   "cell_type": "code",
   "execution_count": null,
   "metadata": {
    "collapsed": false
   },
   "outputs": [],
   "source": [
    "sol = Solution()\n",
    "sol.canCompleteCircuit([3], [2])"
   ]
  },
  {
   "cell_type": "code",
   "execution_count": null,
   "metadata": {
    "collapsed": false
   },
   "outputs": [],
   "source": [
    "10**8*(16+1000+16+16)/float(1024**3)"
   ]
  },
  {
   "cell_type": "code",
   "execution_count": null,
   "metadata": {
    "collapsed": false
   },
   "outputs": [],
   "source": [
    "10**4*(16+100*16+500*16)/float(1024**2)"
   ]
  },
  {
   "cell_type": "code",
   "execution_count": null,
   "metadata": {
    "collapsed": false
   },
   "outputs": [],
   "source": [
    "10**7*4*1024/float(1024**3)"
   ]
  },
  {
   "cell_type": "code",
   "execution_count": null,
   "metadata": {
    "collapsed": false
   },
   "outputs": [],
   "source": [
    "447 + 223 + 9 + 1.1 + 380"
   ]
  },
  {
   "cell_type": "code",
   "execution_count": null,
   "metadata": {
    "collapsed": true
   },
   "outputs": [],
   "source": [
    "class Solution(object):\n",
    "    def numTeams(self, rating):\n",
    "        if len(rating) < 3:\n",
    "            return 0\n",
    "        \n",
    "        cache1, cache2 = [0]*len(rating), [0]*len(rating)\n",
    "        \n",
    "        for k in range(1, 4):\n",
    "            for i in range(len(rating)):\n",
    "                if k == 1:\n",
    "                    cache1[i] = 1\n",
    "                    cache2[i] = 1\n",
    "                else:\n",
    "                    cache1[i] = 0\n",
    "                    cache2[i] = 0\n",
    "                    \n",
    "                    if i+1 < len(rating)-k+2:\n",
    "                        for j in range(i+1, len(rating)-k+2):\n",
    "                            if rating[j] > rating[i]:\n",
    "                                cache1[i] += cache1[j]\n",
    "                                \n",
    "                            if rating[j] < rating[i]:\n",
    "                                cache2[i] += cache2[j]\n",
    "                                \n",
    "        return sum([cache1[i]+cache2[i] for i in range(len(rating))])"
   ]
  },
  {
   "cell_type": "code",
   "execution_count": null,
   "metadata": {
    "collapsed": false
   },
   "outputs": [],
   "source": [
    "sol = Solution()\n",
    "sol.numTeams([1, 2, 3, 4])"
   ]
  },
  {
   "cell_type": "code",
   "execution_count": null,
   "metadata": {
    "collapsed": true
   },
   "outputs": [],
   "source": [
    "class Solution(object):\n",
    "    def traverse(self, grid, i, j, queue, valid, visited):\n",
    "        if 0 <= i < len(grid) and 0 <= j < len(grid[0]) and grid[i][j] in valid and (i, j) not in visited:\n",
    "            queue.append((i, j))\n",
    "            visited.add((i, j))\n",
    "        \n",
    "    def hasValidPath(self, grid):\n",
    "        queue = collections.deque([(0, 0)])\n",
    "        visited = set([0, 0])\n",
    "        \n",
    "        while len(queue) > 0:\n",
    "            i, j = queue.popleft()\n",
    "            \n",
    "            if (i, j) == (len(grid)-1, len(grid[0])-1):\n",
    "                return True\n",
    "            \n",
    "            if grid[i][j] == 1:\n",
    "                self.traverse(grid, i, j-1, queue, set([1, 4, 6]), visited)\n",
    "                self.traverse(grid, i, j+1, queue, set([1, 3, 5]), visited)\n",
    "\n",
    "            elif grid[i][j] == 2:\n",
    "                self.traverse(grid, i-1, j, queue, set([2, 3, 4]), visited)\n",
    "                self.traverse(grid, i+1, j, queue, set([2, 5, 6]), visited)\n",
    "\n",
    "            elif grid[i][j] == 3:\n",
    "                self.traverse(grid, i, j-1, queue, set([1, 4, 6]), visited)\n",
    "                self.traverse(grid, i+1, j, queue, set([2, 5, 6]), visited)\n",
    "\n",
    "            elif grid[i][j] == 4:\n",
    "                self.traverse(grid, i, j+1, queue, set([1, 3, 5]), visited)\n",
    "                self.traverse(grid, i+1, j, queue, set([2, 5, 6]), visited)\n",
    "\n",
    "            elif grid[i][j] == 5:\n",
    "                self.traverse(grid, i, j-1, queue, set([1, 4, 6]), visited)\n",
    "                self.traverse(grid, i-1, j, queue, set([2, 3, 4]), visited)\n",
    "\n",
    "            else:\n",
    "                self.traverse(grid, i, j+1, queue, set([1, 3, 5]), visited)\n",
    "                self.traverse(grid, i-1, j, queue, set([2, 3, 4]), visited)\n",
    "            \n",
    "        return False"
   ]
  },
  {
   "cell_type": "code",
   "execution_count": null,
   "metadata": {
    "collapsed": false
   },
   "outputs": [],
   "source": [
    "sol = Solution()\n",
    "sol.hasValidPath([[2,4,3],[6,5,2]])"
   ]
  },
  {
   "cell_type": "code",
   "execution_count": 60,
   "metadata": {
    "collapsed": false
   },
   "outputs": [],
   "source": [
    "class Solution(object):\n",
    "    def dfs(self, s, evil, last_path, cache):\n",
    "        m = 10**9 + 7\n",
    "        \n",
    "        if last_path == evil:\n",
    "            return 0\n",
    "            \n",
    "        if len(s) == 0:\n",
    "            return 1\n",
    "        \n",
    "        q = last_path\n",
    "        \n",
    "        if len(last_path) == len(evil):\n",
    "            last_path = last_path[1:]\n",
    "        \n",
    "        while evil[:len(last_path)] != last_path:\n",
    "            last_path = last_path[1:]\n",
    "            \n",
    "        new_last_path = last_path + s[0]\n",
    "        a = self.dfs(s[1:], evil, new_last_path, cache) if (s[1:], new_last_path) not in cache else cache[(s[1:], new_last_path)]\n",
    "            \n",
    "        out = a\n",
    "            \n",
    "        p = 'a'*(len(s)-1)\n",
    "        \n",
    "        i, j = 0, len(last_path)-1\n",
    "        pos1, pos2 = -1, len(last_path) \n",
    "        \n",
    "        prefix, suffix = '', ''\n",
    "        \n",
    "        while i < len(last_path)-1:\n",
    "            prefix += last_path[i]\n",
    "            suffix = last_path[j] + suffix\n",
    "            \n",
    "            if prefix == suffix:\n",
    "                pos1, pos2 = i+1, j\n",
    "            \n",
    "            i += 1\n",
    "            j -= 1\n",
    "        \n",
    "        u = evil[len(last_path)]\n",
    "        \n",
    "        g = 0\n",
    "        \n",
    "        if pos1 != -1 and pos1 < len(last_path):\n",
    "            x = last_path[pos1]\n",
    "            if x != u and x != evil[0] and ord(s[0])+1 <= ord(x) <= 122:\n",
    "                g += 1\n",
    "                new_last_path = last_path[pos2:] + x\n",
    "                b = self.dfs(p, evil, new_last_path, cache) if (p, new_last_path) not in cache else cache[(p, new_last_path)]\n",
    "                out += b\n",
    "                \n",
    "        if evil[0] != u and ord(s[0])+1 <= ord(evil[0]) <= 122:\n",
    "            g += 1\n",
    "            new_last_path = evil[0]\n",
    "            b = self.dfs(p, evil, new_last_path, cache) if (p, new_last_path) not in cache else cache[(p, new_last_path)]\n",
    "            out += b\n",
    "        \n",
    "        if ord(s[0])+1 <= ord(u) <= 122:\n",
    "            g += 1\n",
    "            new_last_path = last_path + u\n",
    "            b = self.dfs(p, evil, new_last_path, cache) if (p, new_last_path) not in cache else cache[(p, new_last_path)]\n",
    "            out += b\n",
    "            \n",
    "        b = self.dfs(p, evil, '', cache) if (p, '') not in cache else cache[(p, '')]\n",
    "        out += (ord('z')-ord(s[0])-g)*b\n",
    "        \n",
    "        cache[(s, q)] = out % m\n",
    "        return out\n",
    "    \n",
    "    def findGoodStrings(self, n, s1, s2, evil):\n",
    "        m = 10**9 + 7\n",
    "        \n",
    "        if s1 >= s2:\n",
    "            return 0\n",
    "        \n",
    "        a = self.dfs(s1, evil, '', {})\n",
    "        b = self.dfs(s2, evil, '', {})\n",
    "        \n",
    "        if evil in s2:\n",
    "            return (a-b) % m\n",
    "        else:\n",
    "            return (a-b+1) % m"
   ]
  },
  {
   "cell_type": "code",
   "execution_count": 61,
   "metadata": {
    "collapsed": false
   },
   "outputs": [
    {
     "data": {
      "text/plain": [
       "180247234"
      ]
     },
     "execution_count": 61,
     "metadata": {},
     "output_type": "execute_result"
    }
   ],
   "source": [
    "sol = Solution()\n",
    "sol.findGoodStrings(82, \n",
    "                    \"wmewbuccqppkzsparroslxlhurcygebszspstofgokekfxqhwoqjqqsgvvknwqforlbxdmofossspjyfiy\", \n",
    "                    \"xophxhxbqswqfwmmxxfsblowvjolfolkfpahbuqmdifeztjrnorftjzjeadmuxtoogcdrempqbgomlytfa\", \n",
    "                    \"bzvcrhokokxdmbxoinokqdfmrntxpqekelet\")"
   ]
  },
  {
   "cell_type": "code",
   "execution_count": null,
   "metadata": {
    "collapsed": true
   },
   "outputs": [],
   "source": [
    "class Solution(object):\n",
    "    def bsearch(self, citations, k):\n",
    "        left, right = 0, len(citations)-1\n",
    "        last_true = -1\n",
    "        \n",
    "        while left <= right:\n",
    "            mid = int((left+right)/2)\n",
    "            if citations[mid] >= k:\n",
    "                last_true = mid\n",
    "                right = mid-1\n",
    "            else:\n",
    "                left = mid+1\n",
    "        return last_true\n",
    "    \n",
    "    def hIndex(self, citations):\n",
    "        if len(citations) == 0:\n",
    "            return 0\n",
    "        \n",
    "        citations = sorted(citations)\n",
    "        \n",
    "        left, right = 0, max(citations)\n",
    "        last_true = 0\n",
    "        \n",
    "        while left <= right:\n",
    "            mid = int((left+right)/2)\n",
    "            k = self.bsearch(citations, mid)\n",
    "            \n",
    "            if len(citations)-k >= mid:\n",
    "                last_true = mid\n",
    "                left = mid+1\n",
    "            else:\n",
    "                right = mid-1\n",
    "                \n",
    "        return last_true"
   ]
  },
  {
   "cell_type": "code",
   "execution_count": null,
   "metadata": {
    "collapsed": false
   },
   "outputs": [],
   "source": [
    "sol = Solution()\n",
    "sol.hIndex([5])"
   ]
  },
  {
   "cell_type": "code",
   "execution_count": null,
   "metadata": {
    "collapsed": true
   },
   "outputs": [],
   "source": [
    "class Solution(object):\n",
    "    def bsearch(self, arr, k):\n",
    "        left, right = 0, len(arr)-1\n",
    "        last_true = -1\n",
    "        \n",
    "        while left <= right:\n",
    "            mid = int((left+right)/2)\n",
    "            if arr[mid][0] >= k:\n",
    "                last_true = mid\n",
    "                right = mid-1\n",
    "            else:\n",
    "                left = mid+1\n",
    "                \n",
    "        return last_true\n",
    "        \n",
    "    def maxWidthRamp(self, A):\n",
    "        curr_arr = []\n",
    "        max_width = 0\n",
    "        for i in range(len(A)-1, -1, -1):\n",
    "            if len(curr_arr) == 0:\n",
    "                curr_arr.append((A[i], i))\n",
    "            else:\n",
    "                if A[i] > curr_arr[-1][0]:\n",
    "                    curr_arr.append((A[i], i))\n",
    "                else:\n",
    "                    k = self.bsearch(curr_arr, A[i])\n",
    "                    max_width = max(max_width, curr_arr[k][1]-i)\n",
    "                    \n",
    "        return max_width"
   ]
  },
  {
   "cell_type": "code",
   "execution_count": null,
   "metadata": {
    "collapsed": false
   },
   "outputs": [],
   "source": [
    "sol = Solution()\n",
    "sol.maxWidthRamp([6,0,8,2,1,5])"
   ]
  },
  {
   "cell_type": "code",
   "execution_count": null,
   "metadata": {
    "collapsed": true
   },
   "outputs": [],
   "source": [
    "class Solution(object):\n",
    "    def canReorderDoubled(self, A):\n",
    "        if len(A) == 0:\n",
    "            return False\n",
    "        \n",
    "        if sum(A) % 3 != 0:\n",
    "            return False\n",
    "        \n",
    "        A = sorted([abs(x) for x in A])\n",
    "        \n",
    "        start, end = 0, 0\n",
    "        visited = set()\n",
    "        \n",
    "        cnt = 0\n",
    "        while end < len(A):\n",
    "            if start in visited:\n",
    "                start += 1\n",
    "            else:\n",
    "                if A[end] == 2*A[start] and start < end:\n",
    "                    start += 1\n",
    "                    cnt += 1\n",
    "                    visited.add(end)\n",
    "                    \n",
    "                end += 1\n",
    "                \n",
    "        return cnt == len(A)/2"
   ]
  },
  {
   "cell_type": "code",
   "execution_count": null,
   "metadata": {
    "collapsed": false
   },
   "outputs": [],
   "source": [
    "sol = Solution()\n",
    "sol.canReorderDoubled([0,0])"
   ]
  },
  {
   "cell_type": "code",
   "execution_count": null,
   "metadata": {
    "collapsed": true
   },
   "outputs": [],
   "source": [
    "class Solution(object):\n",
    "    def maxSubarraySumCircular(self, A):\n",
    "        n = len(A)\n",
    "        max_sum = -float(\"Inf\")\n",
    "        \n",
    "        max_prefix_sum = [0]*len(A)\n",
    "        curr_sum = 0\n",
    "        for i in range(len(A)):\n",
    "            curr_sum += A[i]\n",
    "            max_prefix_sum[i] = max(max_prefix_sum[i-1], curr_sum)\n",
    "        \n",
    "        curr_sum = 0\n",
    "        i = 0\n",
    "        while i < len(A):\n",
    "            curr_sum += A[i]\n",
    "            max_sum = max(max_sum, curr_sum)\n",
    "            if curr_sum < 0:\n",
    "                curr_sum = 0\n",
    "            i += 1\n",
    "        \n",
    "        i = len(A)-1\n",
    "        curr_sum = 0\n",
    "        while i > 0:\n",
    "            curr_sum += A[i]\n",
    "            max_sum = max(max_sum, curr_sum+max_prefix_sum[i-1])\n",
    "            i -= 1\n",
    "            \n",
    "        return max_sum"
   ]
  },
  {
   "cell_type": "code",
   "execution_count": null,
   "metadata": {
    "collapsed": false
   },
   "outputs": [],
   "source": [
    "sol = Solution()\n",
    "sol.maxSubarraySumCircular([-2,-3,-1])"
   ]
  },
  {
   "cell_type": "code",
   "execution_count": null,
   "metadata": {
    "collapsed": true
   },
   "outputs": [],
   "source": [
    "class Solution(object):\n",
    "    def minFlipsMonoIncr(self, S):\n",
    "        num_ones = [0]*len(S)\n",
    "        for i in range(len(S)-1, -1, -1):\n",
    "            if i == len(S)-1:\n",
    "                num_ones[i] = 1 if S[i] == '1' else 0\n",
    "            else:\n",
    "                num_ones[i] = num_ones[i+1] + 1 if S[i] == '1' else num_ones[i+1]\n",
    "        \n",
    "        num_zeros = 0\n",
    "        min_flips = len(S)-num_ones[0]\n",
    "        \n",
    "        for i in range(len(S)):\n",
    "            num_zeros += 1 if S[i] == '0' else 0\n",
    "            \n",
    "            if i < len(S)-1:\n",
    "                a = i+1-num_zeros\n",
    "                b = len(S)-i-1-num_ones[i+1]\n",
    "\n",
    "                min_flips = min(min_flips, a+b)\n",
    "        \n",
    "        min_flips = min(min_flips, len(S)-num_zeros)\n",
    "        \n",
    "        return min_flips\n",
    "        "
   ]
  },
  {
   "cell_type": "code",
   "execution_count": null,
   "metadata": {
    "collapsed": false
   },
   "outputs": [],
   "source": [
    "sol = Solution()\n",
    "sol.minFlipsMonoIncr(\"00011000\")"
   ]
  },
  {
   "cell_type": "code",
   "execution_count": null,
   "metadata": {
    "collapsed": true
   },
   "outputs": [],
   "source": [
    "class Solution(object):\n",
    "    def pancakeSort(self, A):\n",
    "        out = []\n",
    "        \n",
    "        curr = 1\n",
    "        while True:\n",
    "            flag = True\n",
    "            for i in range(1, len(A)):\n",
    "                if A[i] < A[i-1]:\n",
    "                    flag = False\n",
    "                    break\n",
    "            \n",
    "            if flag:\n",
    "                break\n",
    "                \n",
    "            i = A.index(curr)\n",
    "            j = A.index(curr+1)\n",
    "            \n",
    "            if i == 0:\n",
    "                A[:j] = A[:j][::-1]\n",
    "                if j > i+1:\n",
    "                    out.append(j)\n",
    "                \n",
    "                curr += 1\n",
    "                \n",
    "            else:\n",
    "                A[:i+1] = A[:i+1][::-1]\n",
    "                out.append(i+1)\n",
    "        \n",
    "        return out"
   ]
  },
  {
   "cell_type": "code",
   "execution_count": null,
   "metadata": {
    "collapsed": false
   },
   "outputs": [],
   "source": [
    "sol = Solution()\n",
    "sol.pancakeSort([1,2,4,3])"
   ]
  },
  {
   "cell_type": "code",
   "execution_count": null,
   "metadata": {
    "collapsed": true
   },
   "outputs": [],
   "source": [
    "class Solution(object):\n",
    "    def numSubarrayBoundedMax(self, A, L, R):\n",
    "        start, end = 0, 0\n",
    "        temp = []\n",
    "        while end < len(A):\n",
    "            if A[end] > R:\n",
    "                temp.append((start, end-1))\n",
    "                start, end = end+1, end+1\n",
    "            else:\n",
    "                end += 1\n",
    "        \n",
    "        temp.append((start, end-1))\n",
    "        \n",
    "        cnt = 0\n",
    "        for x, y in temp:\n",
    "            curr_valid_pos = y+1\n",
    "            \n",
    "            for i in range(y, x-1, -1):\n",
    "                if L <= A[i] <= R:\n",
    "                    curr_valid_pos = i\n",
    "                    cnt += y-i+1\n",
    "                else:\n",
    "                    cnt += y-curr_valid_pos+1\n",
    "        return cnt"
   ]
  },
  {
   "cell_type": "code",
   "execution_count": null,
   "metadata": {
    "collapsed": false
   },
   "outputs": [],
   "source": [
    "sol = Solution()\n",
    "sol.numSubarrayBoundedMax([3], 3, 5)"
   ]
  },
  {
   "cell_type": "code",
   "execution_count": null,
   "metadata": {
    "collapsed": true
   },
   "outputs": [],
   "source": [
    "class Solution(object):\n",
    "    def maximumSwap(self, num):\n",
    "        num = list(str(num))\n",
    "        max_suffix = [0]*len(num)\n",
    "        \n",
    "        for i in range(len(num)-1, -1, -1):\n",
    "            if i == len(num)-1:\n",
    "                max_suffix[i] = [int(num[i]), i]\n",
    "            else:\n",
    "                if int(num[i]) > max_suffix[i+1][0]:\n",
    "                    max_suffix[i] = [int(num[i]), i]\n",
    "                else:\n",
    "                    max_suffix[i] = max_suffix[i+1][:]\n",
    "                \n",
    "        for i in range(len(num)):\n",
    "            a, j = max_suffix[i]\n",
    "            if a > int(num[i]):\n",
    "                temp = num[i]\n",
    "                num[i] = num[j]\n",
    "                num[j] = temp\n",
    "                break\n",
    "        \n",
    "        return int(''.join(num))"
   ]
  },
  {
   "cell_type": "code",
   "execution_count": null,
   "metadata": {
    "collapsed": false
   },
   "outputs": [],
   "source": [
    "sol = Solution()\n",
    "sol.maximumSwap(0)"
   ]
  },
  {
   "cell_type": "code",
   "execution_count": null,
   "metadata": {
    "collapsed": true
   },
   "outputs": [],
   "source": [
    "class Solution(object):\n",
    "    def bsearch(self, arr, k):\n",
    "        left, right = 0, len(arr)-1\n",
    "        last_true = -1\n",
    "        while left <= right:\n",
    "            mid = int((left+right)/2)\n",
    "            if arr[mid] >= k:\n",
    "                last_true = mid\n",
    "                right = mid-1\n",
    "            else:\n",
    "                left = mid+1\n",
    "        return arr[last_true] if last_true != -1 else -1\n",
    "    \n",
    "    def is_subseq(self, char_pos, P):\n",
    "        curr_pos = 0\n",
    "        for i in range(len(P)):\n",
    "            j = self.bsearch(char_pos[P[i]], curr_pos) if P[i] in char_pos else -1\n",
    "            if j == -1:\n",
    "                return False\n",
    "            curr_pos = j+1\n",
    "        return True\n",
    "    \n",
    "    def numMatchingSubseq(self, S, words):\n",
    "        char_pos = {}\n",
    "        for i in range(len(S)):\n",
    "            if S[i] not in char_pos:\n",
    "                char_pos[S[i]] = []\n",
    "            char_pos[S[i]].append(i)\n",
    "        \n",
    "        cnt = 0\n",
    "        for word in words:\n",
    "            if self.is_subseq(char_pos, word):\n",
    "                cnt += 1\n",
    "        \n",
    "        return cnt"
   ]
  },
  {
   "cell_type": "code",
   "execution_count": null,
   "metadata": {
    "collapsed": false
   },
   "outputs": [],
   "source": [
    "sol = Solution()\n",
    "sol.numMatchingSubseq(\"abcde\", [\"a\", \"bb\", \"acd\", \"ace\", \"abcde\"])"
   ]
  },
  {
   "cell_type": "code",
   "execution_count": null,
   "metadata": {
    "collapsed": true
   },
   "outputs": [],
   "source": [
    "class Solution(object):\n",
    "    def shiftingLetters(self, S, shifts):\n",
    "        suffix_sums = [0]*len(shifts)\n",
    "        \n",
    "        for i in range(len(shifts)-1, -1, -1):\n",
    "            if i == len(shifts)-1:\n",
    "                suffix_sums[i] = shifts[i]\n",
    "            else:\n",
    "                suffix_sums[i] = suffix_sums[i+1] + shifts[i]\n",
    "        \n",
    "        out = ''\n",
    "        for i in range(len(S)):\n",
    "            out += chr(97 + (ord(S[i])-ord('a')+suffix_sums[i]) % 26)\n",
    "        \n",
    "        return out"
   ]
  },
  {
   "cell_type": "code",
   "execution_count": null,
   "metadata": {
    "collapsed": false
   },
   "outputs": [],
   "source": [
    "sol = Solution()\n",
    "sol.shiftingLetters(\"qwu\", [3,5,9])"
   ]
  },
  {
   "cell_type": "code",
   "execution_count": null,
   "metadata": {
    "collapsed": false
   },
   "outputs": [],
   "source": [
    "class Solution(object):\n",
    "    def groupAnagrams(self, strs):\n",
    "        out = [(''.join(sorted(strs[i])), i) for i in range(len(strs))]\n",
    "        out = sorted(out, key=lambda k:k[0])\n",
    "        \n",
    "        res = []\n",
    "        curr = [strs[out[0][1]]]\n",
    "        \n",
    "        for i in range(1, len(out)):\n",
    "            if out[i][0] != out[i-1][0]:\n",
    "                res.append(curr)\n",
    "                curr = [strs[out[i][1]]]\n",
    "            else:\n",
    "                curr += [strs[out[i][1]]]\n",
    "        \n",
    "        res.append(curr)\n",
    "        return res"
   ]
  },
  {
   "cell_type": "code",
   "execution_count": null,
   "metadata": {
    "collapsed": false
   },
   "outputs": [],
   "source": [
    "sol = Solution()\n",
    "sol.groupAnagrams([\"eat\", \"tea\", \"tan\", \"ate\", \"nat\", \"bat\"])"
   ]
  },
  {
   "cell_type": "code",
   "execution_count": null,
   "metadata": {
    "collapsed": true
   },
   "outputs": [],
   "source": [
    "class Solution(object):\n",
    "    def minDistance(self, word1, word2):\n",
    "        if len(word1) == 0 and len(word2) == 0:\n",
    "            return 0\n",
    "        elif len(word1) == 0:\n",
    "            return len(word2)\n",
    "        elif len(word2) == 0:\n",
    "            return len(word1)\n",
    "        else:\n",
    "            cache = [[0]*len(word2) for i in range(len(word1))]\n",
    "\n",
    "            for i in range(len(word1)):\n",
    "                for j in range(len(word2)):\n",
    "                    if i == 0 and j == 0:\n",
    "                        cache[i][j] = 0 if word1[i] == word2[j] else 2\n",
    "\n",
    "                    elif i == 0:\n",
    "                        cache[i][j] = j if word1[i] == word2[j] else 1 + cache[i][j-1]\n",
    "\n",
    "                    elif j == 0:\n",
    "                        cache[i][j] = i if word1[i] == word2[j] else 1 + cache[i-1][j]\n",
    "\n",
    "                    else:\n",
    "                        cache[i][j] = cache[i-1][j-1] if word1[i] == word2[j] else 1 + min(cache[i][j-1], cache[i-1][j])\n",
    "\n",
    "            return cache[len(word1)-1][len(word2)-1]"
   ]
  },
  {
   "cell_type": "code",
   "execution_count": null,
   "metadata": {
    "collapsed": false
   },
   "outputs": [],
   "source": [
    "sol = Solution()\n",
    "sol.minDistance(\"sea\", \"eat\")"
   ]
  },
  {
   "cell_type": "code",
   "execution_count": null,
   "metadata": {
    "collapsed": false
   },
   "outputs": [],
   "source": [
    "from scipy.special import comb\n",
    "comb(5, 2, exact=True)"
   ]
  },
  {
   "cell_type": "code",
   "execution_count": null,
   "metadata": {
    "collapsed": true
   },
   "outputs": [],
   "source": [
    "class Solution(object):\n",
    "    def num_combs(self, cnts, s, k, cache):\n",
    "        if cnts[s] > 0:\n",
    "            if k == 1:\n",
    "                return 1\n",
    "            \n",
    "            h = 0\n",
    "            new_cnts = cnts[:]\n",
    "            new_cnts[s] -= 1\n",
    "            \n",
    "            for i in range(len(new_cnts)):\n",
    "                h += self.num_combs(new_cnts, i, k-1, cache) if (i, k-1, tuple(new_cnts)) not in cache else cache[(i, k-1, tuple(new_cnts))]\n",
    "            \n",
    "            cache[(s, k, tuple(cnts))] = h\n",
    "            return h\n",
    "        else:\n",
    "            return 0\n",
    "    \n",
    "    def numTilePossibilities(self, tiles):\n",
    "        n = len(tiles)\n",
    "        \n",
    "        cnts = [0]*26\n",
    "        for x in tiles:\n",
    "            cnts[ord(x)-ord('A')] += 1\n",
    "            \n",
    "        h = 0\n",
    "        cache = {}\n",
    "        \n",
    "        for length in range(1, n+1):\n",
    "            for i in range(len(cnts)):\n",
    "                h += self.num_combs(cnts, i, length, cache)\n",
    "                \n",
    "        return h"
   ]
  },
  {
   "cell_type": "code",
   "execution_count": null,
   "metadata": {
    "collapsed": false
   },
   "outputs": [],
   "source": [
    "sol = Solution()\n",
    "sol.numTilePossibilities(\"A\")"
   ]
  },
  {
   "cell_type": "code",
   "execution_count": null,
   "metadata": {
    "collapsed": true
   },
   "outputs": [],
   "source": [
    "class Solution(object):\n",
    "    def sequentialDigits(self, low, high):\n",
    "        out = []\n",
    "        for d in range(1, 10):\n",
    "            curr = d\n",
    "            i = d\n",
    "            while curr <= high:\n",
    "                if curr >= low:\n",
    "                    out.append(curr)\n",
    "                if i+1 >= 10:\n",
    "                    break\n",
    "                curr = 10*curr + i+1\n",
    "                i += 1\n",
    "        return sorted(out)"
   ]
  },
  {
   "cell_type": "code",
   "execution_count": null,
   "metadata": {
    "collapsed": false
   },
   "outputs": [],
   "source": [
    "sol = Solution()\n",
    "sol.sequentialDigits(10, 100)"
   ]
  },
  {
   "cell_type": "code",
   "execution_count": null,
   "metadata": {
    "collapsed": true
   },
   "outputs": [],
   "source": [
    "class Solution(object):\n",
    "    def combinations(self, digits, mmap, i):\n",
    "        if i == len(digits)-1:\n",
    "            return mmap[digits[i]]\n",
    "        \n",
    "        a = self.combinations(digits, mmap, i+1)\n",
    "        out = []\n",
    "        for x in mmap[digits[i]]:\n",
    "            for y in a:\n",
    "                out.append(x + y)\n",
    "        return out\n",
    "            \n",
    "    def letterCombinations(self, digits):\n",
    "        mmap = {\"2\":[\"a\", \"b\", \"c\"], \n",
    "                \"3\":[\"d\", \"e\", \"f\"], \n",
    "                \"4\":[\"g\", \"h\", \"i\"], \n",
    "                \"5\":[\"j\", \"k\", \"l\"], \n",
    "                \"6\":[\"m\", \"n\", \"o\"], \n",
    "                \"7\":[\"p\", \"q\", \"r\", \"s\"], \n",
    "                \"8\":[\"t\", \"u\", \"v\"], \n",
    "                \"9\":[\"w\", \"x\", \"y\", \"z\"]}\n",
    "        \n",
    "        return self.combinations(digits, mmap, 0)"
   ]
  },
  {
   "cell_type": "code",
   "execution_count": null,
   "metadata": {
    "collapsed": false
   },
   "outputs": [],
   "source": [
    "class Solution(object):\n",
    "    def generate(self, left, right, cache):\n",
    "        if left == 0 and right > 0:\n",
    "            return [')'*right]\n",
    "        \n",
    "        if left < right:\n",
    "            a = self.generate(left-1, right, cache) if (left-1, right) not in cache else cache[((left-1, right))]\n",
    "            b = self.generate(left, right-1, cache) if (left, right-1) not in cache else cache[((left, right-1))]\n",
    "            \n",
    "            c = []\n",
    "            for x in a:\n",
    "                c.append('(' + x)\n",
    "            \n",
    "            for x in b:\n",
    "                c.append(')' + x)\n",
    "        \n",
    "        elif left == right:\n",
    "            a = self.generate(left-1, right, cache) if (left-1, right) not in cache else cache[((left-1, right))]\n",
    "            \n",
    "            c = []\n",
    "            for x in a:\n",
    "                c.append('(' + x)\n",
    "        \n",
    "        else:\n",
    "            c = []\n",
    "        \n",
    "        cache[(left, right)] = c\n",
    "        return c\n",
    "    \n",
    "    def generateParenthesis(self, n):\n",
    "        return self.generate(n, n, {})"
   ]
  },
  {
   "cell_type": "code",
   "execution_count": null,
   "metadata": {
    "collapsed": false
   },
   "outputs": [],
   "source": [
    "sol = Solution()\n",
    "sol.generateParenthesis(5)"
   ]
  },
  {
   "cell_type": "code",
   "execution_count": null,
   "metadata": {
    "collapsed": true
   },
   "outputs": [],
   "source": [
    "class Solution(object):\n",
    "    def num_combs(self, cnts, s, k):\n",
    "        if s in cnts and cnts[s] > 0:\n",
    "            if k == 1:\n",
    "                return [[s]]\n",
    "            \n",
    "            h = []\n",
    "            new_cnts = dict(cnts)\n",
    "            new_cnts[s] -= 1\n",
    "            \n",
    "            for x, y in cnts.items():\n",
    "                a = self.num_combs(new_cnts, x, k-1)\n",
    "                for z in a:\n",
    "                    h.append([s] + z)\n",
    "                    \n",
    "            return h\n",
    "        else:\n",
    "            return []\n",
    "        \n",
    "    def permuteUnique(self, nums):\n",
    "        n = len(nums)\n",
    "        \n",
    "        if n == 0:\n",
    "            return []\n",
    "        \n",
    "        cnts = {}\n",
    "        for x in nums:\n",
    "            if x not in cnts:\n",
    "                cnts[x] = 0\n",
    "            cnts[x] += 1\n",
    "            \n",
    "        h = []\n",
    "        \n",
    "        for x, y in cnts.items():\n",
    "            h += self.num_combs(cnts, x, n)\n",
    "                \n",
    "        return h"
   ]
  },
  {
   "cell_type": "code",
   "execution_count": null,
   "metadata": {
    "collapsed": false
   },
   "outputs": [],
   "source": [
    "sol = Solution()\n",
    "sol.permuteUnique([])"
   ]
  },
  {
   "cell_type": "code",
   "execution_count": 65,
   "metadata": {
    "collapsed": true
   },
   "outputs": [],
   "source": [
    "class Solution(object):\n",
    "    def maxSatisfaction(self, satisfaction):\n",
    "        if len(satisfaction) == 0:\n",
    "            return 0\n",
    "        \n",
    "        satisfaction = sorted(satisfaction)\n",
    "        max_sat, curr_sum, curr_sat = 0, 0, 0\n",
    "        \n",
    "        for i in range(len(satisfaction)-1, -1, -1):\n",
    "            sat = curr_sat + curr_sum + satisfaction[i]\n",
    "            max_sat = max(max_sat, sat)\n",
    "            curr_sat = sat\n",
    "            curr_sum += satisfaction[i]\n",
    "            \n",
    "        return max_sat"
   ]
  },
  {
   "cell_type": "code",
   "execution_count": 69,
   "metadata": {
    "collapsed": false
   },
   "outputs": [
    {
     "data": {
      "text/plain": [
       "14"
      ]
     },
     "execution_count": 69,
     "metadata": {},
     "output_type": "execute_result"
    }
   ],
   "source": [
    "sol = Solution()\n",
    "sol.maxSatisfaction([-1,-8,0,5,-9])"
   ]
  },
  {
   "cell_type": "code",
   "execution_count": 85,
   "metadata": {
    "collapsed": true
   },
   "outputs": [],
   "source": [
    "class Solution(object):\n",
    "    def can_win(self, stoneValue, i, cache):\n",
    "        if i == len(stoneValue):\n",
    "            return 0, 0\n",
    "        \n",
    "        if i == len(stoneValue)-1:\n",
    "            return stoneValue[i], 0\n",
    "        \n",
    "        curr_sum = 0\n",
    "        new_a, new_b = float(\"Inf\"), float(\"Inf\")\n",
    "        \n",
    "        for j in range(i, min(i+3, len(stoneValue))):\n",
    "            curr_sum += stoneValue[j]\n",
    "            a, b = self.can_win(stoneValue, j+1, cache) if j+1 not in cache else cache[j+1]\n",
    "            \n",
    "            if a < new_b:\n",
    "                new_a, new_b = curr_sum+b, a\n",
    "        \n",
    "        cache[i] = (new_a, new_b)\n",
    "        \n",
    "        return new_a, new_b\n",
    "            \n",
    "    def stoneGameIII(self, stoneValue):\n",
    "        a, b = self.can_win(stoneValue, 0, {})\n",
    "        \n",
    "        if a > b:\n",
    "            return \"Alice\"\n",
    "        elif a < b:\n",
    "            return \"Bob\"\n",
    "        return \"Tie\""
   ]
  },
  {
   "cell_type": "code",
   "execution_count": 95,
   "metadata": {
    "collapsed": false
   },
   "outputs": [
    {
     "name": "stdout",
     "output_type": "stream",
     "text": [
      "9 5\n"
     ]
    },
    {
     "data": {
      "text/plain": [
       "'Alice'"
      ]
     },
     "execution_count": 95,
     "metadata": {},
     "output_type": "execute_result"
    }
   ],
   "source": [
    "sol = Solution()\n",
    "sol.stoneGameIII([1,3,5,5])"
   ]
  },
  {
   "cell_type": "code",
   "execution_count": 804,
   "metadata": {
    "collapsed": false
   },
   "outputs": [],
   "source": [
    "import heapq\n",
    "\n",
    "class Solution(object):\n",
    "    def tilingRectangle(self, n, m):\n",
    "        heap = [(0, [], 0, 0, 0, [])]\n",
    "        cache = {}\n",
    "        min_steps = float(\"Inf\")\n",
    "        \n",
    "        while len(heap) > 0:\n",
    "            p, B, x, y, steps, nd_heap = heapq.heappop(heap)\n",
    "            p = -p\n",
    "            \n",
    "            if p == n*m:\n",
    "                min_steps = min(min_steps, steps)\n",
    "                \n",
    "            elif steps < min_steps and steps <= max(n, m):\n",
    "                flag = True\n",
    "                                \n",
    "                for u, v, w in B:\n",
    "                    if u <= x <= u+w-1 and v <= y <= v+w-1:\n",
    "                        flag = False\n",
    "                        break\n",
    "                \n",
    "                if 0 <= x < n and 0 <= y < m and flag:\n",
    "                    for k in range(1, min(n, m)+1):\n",
    "                        if x+k <= n and y+k <= m:\n",
    "                            flag = True\n",
    "                            \n",
    "                            for u, v, w in B:\n",
    "                                if u+w-1 < x or v+w-1 < y or x+k-1 < u or y+k-1 < v:\n",
    "                                    flag = True\n",
    "                                else:\n",
    "                                    flag = False\n",
    "                                    break\n",
    "\n",
    "                            if flag:\n",
    "                                nd_heap_new = nd_heap[:]\n",
    "                                heapq.heappush(nd_heap_new, (m*(x+k)+y, x+k, y))\n",
    "\n",
    "                                heapq.heappush(heap, (-(p+k**2), B + [(x, y, k)], x, y+k, steps+1, nd_heap_new))\n",
    "                else:\n",
    "                    if len(nd_heap) > 0:\n",
    "                        _, x, y = heapq.heappop(nd_heap)\n",
    "                        heapq.heappush(heap, (-p, B, x, y, steps, nd_heap))\n",
    "                        \n",
    "        return min_steps"
   ]
  },
  {
   "cell_type": "code",
   "execution_count": 806,
   "metadata": {
    "collapsed": false
   },
   "outputs": [
    {
     "name": "stdout",
     "output_type": "stream",
     "text": [
      "7\n"
     ]
    }
   ],
   "source": [
    "sol = Solution()\n",
    "n, m = 12, 13\n",
    "print sol.tilingRectangle(n, m)"
   ]
  },
  {
   "cell_type": "code",
   "execution_count": 335,
   "metadata": {
    "collapsed": true
   },
   "outputs": [],
   "source": [
    "class Solution(object):\n",
    "    def canConstruct(self, s, k):\n",
    "        if k > len(s):\n",
    "            return False\n",
    "        \n",
    "        counts = [0]*26\n",
    "        for x in s:\n",
    "            counts[ord(x)-ord('a')] += 1\n",
    "        \n",
    "        d = sum([x % 2 == 1 for x in counts])\n",
    "        \n",
    "        if d == 0:\n",
    "            return True\n",
    "        \n",
    "        return d <= k <= len(s)"
   ]
  },
  {
   "cell_type": "code",
   "execution_count": 336,
   "metadata": {
    "collapsed": false
   },
   "outputs": [
    {
     "name": "stdout",
     "output_type": "stream",
     "text": [
      "[0, 2, 0, 2, 0, 0, 0, 2, 0, 0, 0, 0, 0, 0, 0, 0, 0, 0, 2, 0, 2, 0, 0, 0, 0, 0]\n"
     ]
    },
    {
     "data": {
      "text/plain": [
       "True"
      ]
     },
     "execution_count": 336,
     "metadata": {},
     "output_type": "execute_result"
    }
   ],
   "source": [
    "sol = Solution()\n",
    "sol.canConstruct(\"ushbddbhsu\", 13)"
   ]
  },
  {
   "cell_type": "code",
   "execution_count": 785,
   "metadata": {
    "collapsed": true
   },
   "outputs": [],
   "source": [
    "class Solution(object):\n",
    "    def dfs(self, board, possibilities, u, row_taken, col_taken, grid_taken):\n",
    "        i, j = u/9, u % 9\n",
    "        r, c = i/3, j/3\n",
    "        \n",
    "        if (i, j) == (8, 8):\n",
    "            rem = possibilities[i][j]-row_taken[i]-col_taken[j]-grid_taken[r][c]\n",
    "            \n",
    "            if len(rem) > 0:\n",
    "                board[i][j] = list(rem)[0]\n",
    "                return True\n",
    "            \n",
    "            return False\n",
    "            \n",
    "        rem = possibilities[i][j]-row_taken[i]-col_taken[j]-grid_taken[r][c]\n",
    "        \n",
    "        if len(rem) > 0:\n",
    "            for x in rem:\n",
    "                new_row_taken = [set(z) for z in row_taken]\n",
    "                new_row_taken[i].add(x)\n",
    "\n",
    "                new_col_taken = [set(z) for z in col_taken]\n",
    "                new_col_taken[j].add(x)\n",
    "\n",
    "                new_grid_taken = [[set(grid_taken[p][q]) for q in range(3)] for p in range(3)]\n",
    "                new_grid_taken[r][c].add(x)\n",
    "\n",
    "                a = self.dfs(board, possibilities, u+1, new_row_taken, new_col_taken, new_grid_taken)\n",
    "                \n",
    "                if a:\n",
    "                    board[i][j] = x\n",
    "                    return True\n",
    "            \n",
    "        return False\n",
    "        \n",
    "        \n",
    "    def solveSudoku(self, board):\n",
    "        row_set, col_set = [], []\n",
    "        grid = [[0]*3 for i in range(3)]\n",
    "        \n",
    "        for i in range(3):\n",
    "            for j in range(3):\n",
    "                grid[i][j] = set()\n",
    "        \n",
    "        for i in range(9):\n",
    "            d, e = set(), set()\n",
    "            for j in range(9):\n",
    "                if board[i][j] != '.':\n",
    "                    d.add(board[i][j])\n",
    "                    \n",
    "                if board[j][i] != '.':\n",
    "                    e.add(board[j][i])\n",
    "                    \n",
    "                r, c = i/3, j/3\n",
    "                \n",
    "                if board[i][j] != '.':\n",
    "                    if grid[r][c] == 0:\n",
    "                        grid[r][c] = set()\n",
    "                    grid[r][c].add(board[i][j])\n",
    "                    \n",
    "            row_set.append(d)\n",
    "            col_set.append(e)\n",
    "        \n",
    "        f = set([str(x) for x in range(1, 10)])\n",
    "        possibilities = [[0]*9 for i in range(9)]\n",
    "        \n",
    "        for i in range(9):\n",
    "            for j in range(9):\n",
    "                if board[i][j] == '.':\n",
    "                    r, c = i/3, j/3\n",
    "                    possibilities[i][j] = f-row_set[i]-col_set[j]-grid[r][c]\n",
    "                else:\n",
    "                    possibilities[i][j] = set([board[i][j]])\n",
    "                    \n",
    "        row_taken = [0]*9\n",
    "        for i in range(9):\n",
    "            row_taken[i] = set()\n",
    "        \n",
    "        col_taken = [0]*9\n",
    "        for i in range(9):\n",
    "            col_taken[i] = set()\n",
    "        \n",
    "        grid_taken = [[0]*3 for i in range(3)]\n",
    "        \n",
    "        for i in range(3):\n",
    "            for j in range(3):\n",
    "                grid_taken[i][j] = set()\n",
    "                \n",
    "        self.dfs(board, possibilities, 0, row_taken, col_taken, grid_taken)\n",
    "        \n",
    "        return board"
   ]
  },
  {
   "cell_type": "code",
   "execution_count": 787,
   "metadata": {
    "collapsed": false
   },
   "outputs": [
    {
     "data": {
      "text/plain": [
       "[['5', '1', '9', '7', '4', '8', '6', '3', '2'],\n",
       " ['7', '8', '3', '6', '5', '2', '4', '1', '9'],\n",
       " ['4', '2', '6', '1', '3', '9', '8', '7', '5'],\n",
       " ['3', '5', '7', '9', '8', '6', '2', '4', '1'],\n",
       " ['2', '6', '4', '3', '1', '7', '5', '9', '8'],\n",
       " ['1', '9', '8', '5', '2', '4', '3', '6', '7'],\n",
       " ['9', '7', '5', '8', '6', '3', '1', '2', '4'],\n",
       " ['8', '3', '2', '4', '9', '1', '7', '5', '6'],\n",
       " ['6', '4', '1', '2', '7', '5', '9', '8', '3']]"
      ]
     },
     "execution_count": 787,
     "metadata": {},
     "output_type": "execute_result"
    }
   ],
   "source": [
    "sol = Solution()\n",
    "sol.solveSudoku([[\".\",\".\",\"9\",\"7\",\"4\",\"8\",\".\",\".\",\".\"],\n",
    "                 [\"7\",\".\",\".\",\".\",\".\",\".\",\".\",\".\",\".\"],\n",
    "                 [\".\",\"2\",\".\",\"1\",\".\",\"9\",\".\",\".\",\".\"],\n",
    "                 [\".\",\".\",\"7\",\".\",\".\",\".\",\"2\",\"4\",\".\"],\n",
    "                 [\".\",\"6\",\"4\",\".\",\"1\",\".\",\"5\",\"9\",\".\"],\n",
    "                 [\".\",\"9\",\"8\",\".\",\".\",\".\",\"3\",\".\",\".\"],\n",
    "                 [\".\",\".\",\".\",\"8\",\".\",\"3\",\".\",\"2\",\".\"],\n",
    "                 [\".\",\".\",\".\",\".\",\".\",\".\",\".\",\".\",\"6\"],\n",
    "                 [\".\",\".\",\".\",\"2\",\"7\",\"5\",\"9\",\".\",\".\"]])"
   ]
  },
  {
   "cell_type": "code",
   "execution_count": 798,
   "metadata": {
    "collapsed": true
   },
   "outputs": [],
   "source": [
    "class Solution(object):\n",
    "    def dfs(self, n, i, col_taken, diag_taken):\n",
    "        res = []\n",
    "        for j in range(n):\n",
    "            flag = True\n",
    "            for x, y in diag_taken:\n",
    "                if i+j == x+y or i-j == x-y:\n",
    "                    flag = False\n",
    "                    break\n",
    "                    \n",
    "            if j not in col_taken and flag:\n",
    "                new_col_taken = set(col_taken)\n",
    "                new_col_taken.add(j)\n",
    "                \n",
    "                new_diag_taken = set(diag_taken)\n",
    "                new_diag_taken.add((i, j))\n",
    "                \n",
    "                if i == n-1:\n",
    "                    out = [['.']*n for k in range(n)]\n",
    "                    out[i][j] = 'Q'\n",
    "                    res.append(out)\n",
    "                    \n",
    "                else:\n",
    "                    out = self.dfs(n, i+1, new_col_taken, new_diag_taken)\n",
    "                    \n",
    "                    if len(out) > 0:\n",
    "                        for x in out:\n",
    "                            x[i][j] = 'Q'\n",
    "                            res.append(x)\n",
    "        return res\n",
    "        \n",
    "    def solveNQueens(self, n):\n",
    "        out = self.dfs(n, 0, set(), set())\n",
    "        for i in range(len(out)):\n",
    "            for j in range(n):\n",
    "                out[i][j] = ''.join(out[i][j])\n",
    "        return out"
   ]
  },
  {
   "cell_type": "code",
   "execution_count": 799,
   "metadata": {
    "collapsed": false
   },
   "outputs": [
    {
     "data": {
      "text/plain": [
       "[['.Q..', '...Q', 'Q...', '..Q.'], ['..Q.', 'Q...', '...Q', '.Q..']]"
      ]
     },
     "execution_count": 799,
     "metadata": {},
     "output_type": "execute_result"
    }
   ],
   "source": [
    "sol = Solution()\n",
    "sol.solveNQueens(4)"
   ]
  },
  {
   "cell_type": "code",
   "execution_count": 801,
   "metadata": {
    "collapsed": true
   },
   "outputs": [],
   "source": [
    "class Solution(object):\n",
    "    def dfs(self, n, i, col_taken, diag_taken):\n",
    "        res = 0\n",
    "        \n",
    "        for j in range(n):\n",
    "            flag = True\n",
    "            for x, y in diag_taken:\n",
    "                if i+j == x+y or i-j == x-y:\n",
    "                    flag = False\n",
    "                    break\n",
    "                    \n",
    "            if j not in col_taken and flag:\n",
    "                new_col_taken = set(col_taken)\n",
    "                new_col_taken.add(j)\n",
    "                \n",
    "                new_diag_taken = set(diag_taken)\n",
    "                new_diag_taken.add((i, j))\n",
    "                \n",
    "                res += self.dfs(n, i+1, new_col_taken, new_diag_taken) if i < n-1 else 1\n",
    "                \n",
    "        return res\n",
    "    \n",
    "    def totalNQueens(self, n):\n",
    "        return self.dfs(n, 0, set(), set())"
   ]
  },
  {
   "cell_type": "code",
   "execution_count": 803,
   "metadata": {
    "collapsed": false
   },
   "outputs": [
    {
     "data": {
      "text/plain": [
       "10"
      ]
     },
     "execution_count": 803,
     "metadata": {},
     "output_type": "execute_result"
    }
   ],
   "source": [
    "sol = Solution()\n",
    "sol.totalNQueens(5)"
   ]
  },
  {
   "cell_type": "code",
   "execution_count": 24,
   "metadata": {
    "collapsed": false
   },
   "outputs": [
    {
     "name": "stdout",
     "output_type": "stream",
     "text": [
      "\n"
     ]
    }
   ],
   "source": [
    "class Solution(object):\n",
    "    def numSteps(self, s):\n",
    "        s = list([int(x) for x in s])\n",
    "        one_cnts = sum([x == 1 for x in s])\n",
    "        \n",
    "        steps = 0\n",
    "        while one_cnts > 1 or s[-1] != 1:\n",
    "            steps += 1\n",
    "            \n",
    "            if s[-1] == 1:\n",
    "                carry = 1\n",
    "                for i in range(len(s)-1, -1, -1):\n",
    "                    a = s[i]\n",
    "                    s[i] = s[i] ^ carry\n",
    "                    carry = a & carry\n",
    "                    one_cnts += s[i]-a\n",
    "                    \n",
    "                    if carry == 0:\n",
    "                        break\n",
    "                        \n",
    "                if carry == 1:\n",
    "                    s = [1] + s\n",
    "            else:\n",
    "                s = [0] + s[:len(s)-1]\n",
    "        \n",
    "        return steps"
   ]
  },
  {
   "cell_type": "code",
   "execution_count": 25,
   "metadata": {
    "collapsed": false
   },
   "outputs": [
    {
     "name": "stdout",
     "output_type": "stream",
     "text": [
      "[1, 0, 0, 0] 0\n",
      "[0, 1, 0, 0] 0\n",
      "[0, 0, 1, 0] 0\n",
      "[0, 0, 0, 1] 0\n"
     ]
    },
    {
     "data": {
      "text/plain": [
       "4"
      ]
     },
     "execution_count": 25,
     "metadata": {},
     "output_type": "execute_result"
    }
   ],
   "source": [
    "sol = Solution()\n",
    "sol.numSteps(\"111\")"
   ]
  },
  {
   "cell_type": "code",
   "execution_count": 51,
   "metadata": {
    "collapsed": true
   },
   "outputs": [],
   "source": [
    "import heapq\n",
    "\n",
    "class Solution(object):\n",
    "    def merge(self, intervals):\n",
    "        if len(intervals) == 0:\n",
    "            return []\n",
    "        \n",
    "        if len(intervals) == 1:\n",
    "            return intervals\n",
    "        \n",
    "        intervals = sorted(intervals, key=lambda k:k[1])\n",
    "        \n",
    "        heap = [(-intervals[0][1], intervals[0][0])]\n",
    "        \n",
    "        for i in range(1, len(intervals)):\n",
    "            curr = intervals[i]\n",
    "            while len(heap) > 0 and curr[0] <= -heap[0][0]:\n",
    "                a, b = heapq.heappop(heap)\n",
    "                curr = [min(curr[0], b), max(curr[1], -a)]\n",
    "            \n",
    "            heapq.heappush(heap, (-curr[1], curr[0]))\n",
    "            \n",
    "        out = [[b, -a] for a, b in heap]\n",
    "        return out"
   ]
  },
  {
   "cell_type": "code",
   "execution_count": 52,
   "metadata": {
    "collapsed": false
   },
   "outputs": [
    {
     "data": {
      "text/plain": [
       "[[1, 4]]"
      ]
     },
     "execution_count": 52,
     "metadata": {},
     "output_type": "execute_result"
    }
   ],
   "source": [
    "sol = Solution()\n",
    "sol.merge([[1,4],[2,3]])"
   ]
  },
  {
   "cell_type": "code",
   "execution_count": 122,
   "metadata": {
    "collapsed": false
   },
   "outputs": [],
   "source": [
    "class Solution(object):\n",
    "    def circularArrayLoop(self, nums):\n",
    "        n = len(nums)\n",
    "        ignored = set()\n",
    "        \n",
    "        for i in range(len(nums)-1, -1, -1):\n",
    "            if i not in ignored:\n",
    "                j, sgn = i, 1 if nums[i] > 0 else -1\n",
    "                visited = set()\n",
    "\n",
    "                while j not in ignored and ((sgn == 1 and nums[j] > 0) or (sgn == -1 and nums[j] < 0)):\n",
    "                    visited.add(j)\n",
    "                    \n",
    "                    k = (j + nums[j]) % n\n",
    "                    if k == j:\n",
    "                        break\n",
    "\n",
    "                    j = k\n",
    "\n",
    "                    if j in visited:\n",
    "                        return True\n",
    "                    \n",
    "                ignored.update(visited)\n",
    "                \n",
    "        return False"
   ]
  },
  {
   "cell_type": "code",
   "execution_count": 123,
   "metadata": {
    "collapsed": false
   },
   "outputs": [
    {
     "data": {
      "text/plain": [
       "False"
      ]
     },
     "execution_count": 123,
     "metadata": {},
     "output_type": "execute_result"
    }
   ],
   "source": [
    "sol = Solution()\n",
    "sol.circularArrayLoop([2,-1,1,-2,-2])"
   ]
  },
  {
   "cell_type": "code",
   "execution_count": null,
   "metadata": {
    "collapsed": true
   },
   "outputs": [],
   "source": [
    "[1,2,3,4,5]"
   ]
  }
 ],
 "metadata": {
  "kernelspec": {
   "display_name": "Python 2",
   "language": "python",
   "name": "python2"
  },
  "language_info": {
   "codemirror_mode": {
    "name": "ipython",
    "version": 2
   },
   "file_extension": ".py",
   "mimetype": "text/x-python",
   "name": "python",
   "nbconvert_exporter": "python",
   "pygments_lexer": "ipython2",
   "version": "2.7.15"
  }
 },
 "nbformat": 4,
 "nbformat_minor": 2
}
