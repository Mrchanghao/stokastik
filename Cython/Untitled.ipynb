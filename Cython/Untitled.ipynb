{
 "cells": [
  {
   "cell_type": "code",
   "execution_count": null,
   "metadata": {},
   "outputs": [],
   "source": [
    "from sieve_cython import sieve\n",
    "%timeit sieve(100000)"
   ]
  },
  {
   "cell_type": "code",
   "execution_count": null,
   "metadata": {},
   "outputs": [],
   "source": [
    "from sieve import sieve\n",
    "%timeit sieve(100000)"
   ]
  },
  {
   "cell_type": "code",
   "execution_count": null,
   "metadata": {},
   "outputs": [],
   "source": [
    "import numpy as np\n",
    "n = 100\n",
    "test_mat = np.random.rand(n,n)"
   ]
  },
  {
   "cell_type": "code",
   "execution_count": null,
   "metadata": {},
   "outputs": [],
   "source": [
    "test_mat"
   ]
  },
  {
   "cell_type": "code",
   "execution_count": null,
   "metadata": {},
   "outputs": [],
   "source": [
    "from floyd_warshall import floydWarshall\n",
    "%timeit floydWarshall(test_mat, n)"
   ]
  },
  {
   "cell_type": "code",
   "execution_count": null,
   "metadata": {},
   "outputs": [],
   "source": [
    "n = 1000\n",
    "test_mat = np.random.randint(2, size=(n, n))"
   ]
  },
  {
   "cell_type": "code",
   "execution_count": null,
   "metadata": {},
   "outputs": [],
   "source": [
    "from bfs import bfs\n",
    "%timeit bfs(test_mat, 0, n-1, n)"
   ]
  },
  {
   "cell_type": "code",
   "execution_count": null,
   "metadata": {},
   "outputs": [],
   "source": [
    "import numpy as np\n",
    "\n",
    "class Node(object):\n",
    "    def __init__(self, val):\n",
    "        self.val = val\n",
    "        self.prev, self.next = None, None\n",
    "        \n",
    "def get_linked_list(n):\n",
    "    arr = [1]*(n+1)\n",
    "    arr[0], arr[1] = 0, 0\n",
    "    \n",
    "    node_ref, curr_node = dict(), None\n",
    "    \n",
    "    for i in range(2, len(arr)):\n",
    "        if i == 2:\n",
    "            node = Node((arr[i], i))\n",
    "        else:\n",
    "            node = Node((arr[i], i))\n",
    "            curr_node.next = node\n",
    "            node.prev = curr_node\n",
    "            \n",
    "        curr_node = node\n",
    "        node_ref[i] = curr_node\n",
    "    \n",
    "    return node_ref\n",
    "\n",
    "def sieve(n, node_ref):\n",
    "    sqrt_n, curr_node = int(np.sqrt(n)), node_ref[2]\n",
    "    \n",
    "    while curr_node is not None and curr_node.val[1] <= sqrt_n:\n",
    "        i = curr_node.val[1]\n",
    "        j = i**2\n",
    "        while j <= n:\n",
    "            if j in node_ref and node_ref[j] is not None:\n",
    "                del_node = node_ref[j]\n",
    "\n",
    "                if del_node.prev is not None:\n",
    "                    del_node.prev.next = del_node.next\n",
    "                if del_node.next is not None:\n",
    "                    del_node.next.prev = del_node.prev\n",
    "                node_ref.pop(j)\n",
    "            j += i\n",
    "            \n",
    "        curr_node = curr_node.next\n",
    "\n",
    "    primes = [key for key in node_ref]\n",
    "    return primes"
   ]
  },
  {
   "cell_type": "code",
   "execution_count": null,
   "metadata": {},
   "outputs": [],
   "source": [
    "n = 5000000\n",
    "node_ref = get_linked_list(n)\n",
    "%timeit sieve(n, node_ref)"
   ]
  },
  {
   "cell_type": "code",
   "execution_count": null,
   "metadata": {},
   "outputs": [],
   "source": [
    "import math\n",
    "\n",
    "def sieve(n):\n",
    "    arr = [1]*(n+1)\n",
    "    arr[0], arr[1] = 0, 0\n",
    "\n",
    "    sqrt_n = int(math.sqrt(n))\n",
    "    for i in range(2, sqrt_n+1):\n",
    "        if arr[i] == 1:\n",
    "            j = i**2\n",
    "            while j <= n:\n",
    "                arr[j] = 0\n",
    "                j += i\n",
    "\n",
    "    primes = []\n",
    "    for i in range(2, n+1): \n",
    "        if arr[i] == 1:\n",
    "            primes.append(i)\n",
    "\n",
    "    return primes"
   ]
  },
  {
   "cell_type": "code",
   "execution_count": null,
   "metadata": {},
   "outputs": [],
   "source": [
    "print sieve(100)"
   ]
  },
  {
   "cell_type": "code",
   "execution_count": null,
   "metadata": {},
   "outputs": [],
   "source": [
    "6.05/0.527"
   ]
  },
  {
   "cell_type": "code",
   "execution_count": null,
   "metadata": {},
   "outputs": [],
   "source": [
    "4.28/0.368"
   ]
  },
  {
   "cell_type": "code",
   "execution_count": null,
   "metadata": {},
   "outputs": [],
   "source": []
  }
 ],
 "metadata": {
  "kernelspec": {
   "display_name": "Python 2",
   "language": "python",
   "name": "python2"
  },
  "language_info": {
   "codemirror_mode": {
    "name": "ipython",
    "version": 2
   },
   "file_extension": ".py",
   "mimetype": "text/x-python",
   "name": "python",
   "nbconvert_exporter": "python",
   "pygments_lexer": "ipython2",
   "version": "2.7.15"
  }
 },
 "nbformat": 4,
 "nbformat_minor": 2
}
